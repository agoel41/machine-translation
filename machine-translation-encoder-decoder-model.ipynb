{
 "cells": [
  {
   "cell_type": "markdown",
   "metadata": {},
   "source": [
    "## Machine translation using encoder-decoder Sequence to Sequence Architecture\n",
    "\n",
    "This notebook demonstrate the machine translation from english to hindi language using encoder-decoder architecture. Though the same model can be used for translating input into any other language"
   ]
  },
  {
   "cell_type": "markdown",
   "metadata": {},
   "source": [
    "### Pre-requisites\n",
    "\n",
    "- Download the data: http://www.manythings.org/anki/\n",
    "- Download the word vectors: http://nlp.stanford.edu/data/glove.6B.zip"
   ]
  },
  {
   "cell_type": "code",
   "execution_count": 5,
   "metadata": {},
   "outputs": [],
   "source": [
    "import os, sys\n",
    "import random\n",
    "from keras.models import Model\n",
    "from keras.layers import Input, LSTM, GRU, Dense, Embedding\n",
    "from keras.preprocessing.text import Tokenizer\n",
    "from keras.preprocessing.sequence import pad_sequences\n",
    "from keras.utils import to_categorical\n",
    "import numpy as np\n",
    "import matplotlib.pyplot as plt\n",
    "import keras.backend as K"
   ]
  },
  {
   "cell_type": "code",
   "execution_count": 6,
   "metadata": {},
   "outputs": [],
   "source": [
    "np.random.seed(4)\n",
    "random.seed(7)"
   ]
  },
  {
   "cell_type": "code",
   "execution_count": 2,
   "metadata": {},
   "outputs": [
    {
     "name": "stderr",
     "output_type": "stream",
     "text": [
      "WARNING: Logging before flag parsing goes to stderr.\n",
      "W0923 14:22:27.485065 139655258724160 deprecation_wrapper.py:119] From /home/agoel/anaconda3/envs/ML/lib/python3.7/site-packages/keras/backend/tensorflow_backend.py:174: The name tf.get_default_session is deprecated. Please use tf.compat.v1.get_default_session instead.\n",
      "\n",
      "W0923 14:22:27.486927 139655258724160 deprecation_wrapper.py:119] From /home/agoel/anaconda3/envs/ML/lib/python3.7/site-packages/keras/backend/tensorflow_backend.py:181: The name tf.ConfigProto is deprecated. Please use tf.compat.v1.ConfigProto instead.\n",
      "\n",
      "W0923 14:22:27.487947 139655258724160 deprecation_wrapper.py:119] From /home/agoel/anaconda3/envs/ML/lib/python3.7/site-packages/keras/backend/tensorflow_backend.py:186: The name tf.Session is deprecated. Please use tf.compat.v1.Session instead.\n",
      "\n",
      "W0923 14:22:27.525207 139655258724160 deprecation_wrapper.py:119] From /home/agoel/anaconda3/envs/ML/lib/python3.7/site-packages/keras/backend/tensorflow_backend.py:190: The name tf.global_variables is deprecated. Please use tf.compat.v1.global_variables instead.\n",
      "\n"
     ]
    }
   ],
   "source": [
    "if len(K.tensorflow_backend._get_available_gpus()) > 0:\n",
    "    from keras.layers import CuDNNLSTM as LSTM\n",
    "    from keras.layers import CuDNNGRU as GRU"
   ]
  },
  {
   "cell_type": "code",
   "execution_count": 3,
   "metadata": {},
   "outputs": [],
   "source": [
    "# Configuration\n",
    "\n",
    "BATCH_SIZE=64              # Batch size for training.\n",
    "EPOCHS = 50                # Number of epochs to train for.\n",
    "LATENT_DIM = 256           # Latent dimensionality of the encoding space.\n",
    "NUM_SAMPLES = 10000        # Number of samples to train on\n",
    "MAX_SEQUENCE_LENGTH = 100\n",
    "MAX_NUM_WORDS = 20000\n",
    "EMBEDDING_DIM = 100"
   ]
  },
  {
   "cell_type": "code",
   "execution_count": 4,
   "metadata": {},
   "outputs": [],
   "source": [
    "# Where we will store the data\n",
    "input_texts = []          # sentence in original language\n",
    "target_texts = []         # sentence in target language\n",
    "target_texts_inputs = []  # sentence in target language offset by 1"
   ]
  },
  {
   "cell_type": "markdown",
   "metadata": {},
   "source": [
    "### Prepare training data"
   ]
  },
  {
   "cell_type": "code",
   "execution_count": 5,
   "metadata": {},
   "outputs": [
    {
     "name": "stdout",
     "output_type": "stream",
     "text": [
      "Number of samples: 2808\n"
     ]
    }
   ],
   "source": [
    "t = 0\n",
    "for line in open('data/hin-eng/hin.txt'):\n",
    "    # only keep a limited number of samples.\n",
    "    t += 1\n",
    "    if t > NUM_SAMPLES:\n",
    "        break\n",
    "        \n",
    "    # input and target are separated by tab\n",
    "    if '\\t' not in line:\n",
    "        continue\n",
    "        \n",
    "    # split up the input and translation\n",
    "    input_text, translation = line.rstrip().split('\\t')\n",
    "    \n",
    "    # make the target input and output using teacher forcing\n",
    "    target_text = translation + ' <eos>'\n",
    "    target_text_input = '<sos> ' + translation\n",
    "    \n",
    "    input_texts.append(input_text)\n",
    "    target_texts.append(target_text)\n",
    "    target_texts_inputs.append(target_text_input)\n",
    "    \n",
    "print(\"Number of samples:\", len(input_texts))"
   ]
  },
  {
   "cell_type": "markdown",
   "metadata": {},
   "source": [
    "### Tokenize the inputs (Convert the sentences (string) into integers)"
   ]
  },
  {
   "cell_type": "code",
   "execution_count": 6,
   "metadata": {},
   "outputs": [],
   "source": [
    "tokenizer_inputs = Tokenizer(num_words = MAX_NUM_WORDS)\n",
    "tokenizer_inputs.fit_on_texts(input_texts)\n",
    "input_sequences = tokenizer_inputs.texts_to_sequences(input_texts)"
   ]
  },
  {
   "cell_type": "markdown",
   "metadata": {},
   "source": [
    "### Word to integer mapping for input text"
   ]
  },
  {
   "cell_type": "code",
   "execution_count": 7,
   "metadata": {},
   "outputs": [
    {
     "name": "stdout",
     "output_type": "stream",
     "text": [
      "Found 2388 unique input tokens.\n",
      "i: 2\n",
      "to: 3\n",
      "you: 4\n",
      "is: 5\n",
      "a: 6\n",
      "he: 7\n",
      "of: 8\n",
      "in: 9\n",
      "my: 10\n"
     ]
    }
   ],
   "source": [
    "# # get the word to index/integer mapping for input language\n",
    "word2idx_inputs = tokenizer_inputs.word_index\n",
    "print('Found {} unique input tokens.'.format(len(word2idx_inputs)))\n",
    "\n",
    "for x in list(word2idx_inputs)[1:10]:\n",
    "    print('{}: {}'.format(x, word2idx_inputs[x]))"
   ]
  },
  {
   "cell_type": "code",
   "execution_count": 8,
   "metadata": {},
   "outputs": [
    {
     "name": "stdout",
     "output_type": "stream",
     "text": [
      "max_len_input: 22\n"
     ]
    }
   ],
   "source": [
    "# Determine maximum length input sequence\n",
    "max_len_input = max(len(s) for s in input_sequences)\n",
    "\n",
    "print('max_len_input:', max_len_input)"
   ]
  },
  {
   "cell_type": "markdown",
   "metadata": {},
   "source": [
    "### Tokenize the output (Convert the sentences (string) into integers)"
   ]
  },
  {
   "cell_type": "code",
   "execution_count": 9,
   "metadata": {},
   "outputs": [],
   "source": [
    "# We don't filter out special characters, otherwise <eos> and <sos> won't appear.\n",
    "tokenizer_outputs = Tokenizer(num_words=MAX_NUM_WORDS, filters='')\n",
    "# This is an inefficient way as we are tokenizing it on the same data (target_texts and target_texts_input)\n",
    "# just offset by <sos> and <eos>word2idx_outputs\n",
    "tokenizer_outputs.fit_on_texts(target_texts + target_texts_inputs)\n",
    "\n",
    "target_sequences = tokenizer_outputs.texts_to_sequences(target_texts)\n",
    "target_sequences_input = tokenizer_outputs.texts_to_sequences(target_texts_inputs)"
   ]
  },
  {
   "cell_type": "markdown",
   "metadata": {},
   "source": [
    "### Word to integer mapping for output texts"
   ]
  },
  {
   "cell_type": "code",
   "execution_count": 10,
   "metadata": {},
   "outputs": [
    {
     "name": "stdout",
     "output_type": "stream",
     "text": [
      "Found 3138 unique output tokens.\n",
      "<sos>: 2\n",
      "है।: 3\n",
      "में: 4\n",
      "नहीं: 5\n",
      "मैं: 6\n",
      "वह: 7\n",
      "से: 8\n",
      "के: 9\n",
      "मुझे: 10\n"
     ]
    }
   ],
   "source": [
    "# get the word to index mapping for output/translated language\n",
    "word2idx_outputs = tokenizer_outputs.word_index\n",
    "print('Found %s unique output tokens.' %len(word2idx_outputs))\n",
    "\n",
    "for x in list(word2idx_outputs)[1:10]:\n",
    "    print('{}: {}'.format(x, word2idx_outputs[x]))"
   ]
  },
  {
   "cell_type": "code",
   "execution_count": 11,
   "metadata": {},
   "outputs": [
    {
     "name": "stdout",
     "output_type": "stream",
     "text": [
      "num_words_output: 3139\n",
      "Maximum length of target/translated text is: 26\n"
     ]
    }
   ],
   "source": [
    "# store number of output words for later. remember to add 1 since indexing starts at 1\n",
    "num_words_output = len(word2idx_outputs) + 1\n",
    "print('num_words_output:', num_words_output)\n",
    "\n",
    "# determine the maximum length output sequence\n",
    "max_len_target = max(len(s) for s in target_sequences)\n",
    "print ('Maximum length of target/translated text is:', max_len_target)"
   ]
  },
  {
   "cell_type": "markdown",
   "metadata": {},
   "source": [
    "### Pad Sequences"
   ]
  },
  {
   "cell_type": "code",
   "execution_count": 12,
   "metadata": {
    "scrolled": true
   },
   "outputs": [
    {
     "name": "stdout",
     "output_type": "stream",
     "text": [
      "encoder_inputs.shape: (2808, 22)\n",
      "encoder_inputs[0]: [   0    0    0    0    0    0    0    0    0    0    0    0    0    0\n",
      "    0    0    0    0    0    0    0 1274]\n"
     ]
    }
   ],
   "source": [
    "encoder_inputs = pad_sequences(input_sequences, maxlen=max_len_input)\n",
    "print('encoder_inputs.shape:', encoder_inputs.shape)\n",
    "print('encoder_inputs[0]:', encoder_inputs[0])"
   ]
  },
  {
   "cell_type": "code",
   "execution_count": 13,
   "metadata": {},
   "outputs": [
    {
     "name": "stdout",
     "output_type": "stream",
     "text": [
      "decoder_inputs.shape: (2808, 26)\n",
      "decoder_inputs[0]: [   2 1486    0    0    0    0    0    0    0    0    0    0    0    0\n",
      "    0    0    0    0    0    0    0    0    0    0    0    0]\n"
     ]
    }
   ],
   "source": [
    "decoder_inputs = pad_sequences(target_sequences_input, maxlen=max_len_target, padding='post')\n",
    "# 26 is the maximum length of the sentence in the translated data in the training set\n",
    "print('decoder_inputs.shape:', decoder_inputs.shape)\n",
    "print('decoder_inputs[0]:', decoder_inputs[0])"
   ]
  },
  {
   "cell_type": "code",
   "execution_count": 14,
   "metadata": {},
   "outputs": [
    {
     "name": "stdout",
     "output_type": "stream",
     "text": [
      "decoder_targets.shape: (2808, 26)\n",
      "decoder_targets[0]: [1486    1    0    0    0    0    0    0    0    0    0    0    0    0\n",
      "    0    0    0    0    0    0    0    0    0    0    0    0]\n"
     ]
    }
   ],
   "source": [
    "decoder_targets = pad_sequences(target_sequences, maxlen=max_len_target, padding='post')\n",
    "print('decoder_targets.shape:', decoder_targets.shape)\n",
    "print('decoder_targets[0]:', decoder_targets[0])"
   ]
  },
  {
   "cell_type": "markdown",
   "metadata": {},
   "source": [
    "### Load pre-trained word vectors - Embeddings"
   ]
  },
  {
   "cell_type": "code",
   "execution_count": 15,
   "metadata": {},
   "outputs": [
    {
     "name": "stdout",
     "output_type": "stream",
     "text": [
      "Loading word vectors\n",
      "Found 400000 word vectors.\n",
      "Embedding dimensions:  (100,)\n"
     ]
    }
   ],
   "source": [
    "print('Loading word vectors')\n",
    "word2vec = {}\n",
    "# Load word vector of 100 dimensions.\n",
    "with open (os.path.join('Embeddings/glove.6B/glove.6B.%sd.txt' %EMBEDDING_DIM)) as f:\n",
    "    for line in f:\n",
    "        # split at spaces\n",
    "        values = line.split()\n",
    "        word = values[0]\n",
    "        #np.asarray Converts the input to an array.\n",
    "        vec = np.asarray(values[1:], dtype='float32')\n",
    "        word2vec[word] = vec\n",
    "        \n",
    "print('Found %s word vectors.' %len(word2vec))\n",
    "print('Embedding dimensions: ', word2vec['the'].shape)"
   ]
  },
  {
   "cell_type": "markdown",
   "metadata": {},
   "source": [
    "### Prepare Embedding matrix"
   ]
  },
  {
   "cell_type": "code",
   "execution_count": 16,
   "metadata": {},
   "outputs": [
    {
     "name": "stdout",
     "output_type": "stream",
     "text": [
      "Filling pre-trained embeddings\n",
      "num_words: 2389\n",
      "Shape of Embeddings matrix:  (2389, 100)\n"
     ]
    }
   ],
   "source": [
    "print('Filling pre-trained embeddings')\n",
    "# MAX_NUM_WORDS = 20000\n",
    "num_words = min(MAX_NUM_WORDS, len(word2idx_inputs) + 1)\n",
    "embedding_matrix = np.zeros((num_words, EMBEDDING_DIM))\n",
    "for word, i in word2idx_inputs.items():\n",
    "    if i < MAX_NUM_WORDS:\n",
    "        embedding_vector = word2vec.get(word)\n",
    "        if embedding_vector is not None:\n",
    "            # words not foun20000d in the embedding index will all be zero\n",
    "            embedding_matrix[i] = embedding_vector\n",
    "\n",
    "print('num_words:', num_words)\n",
    "# 2389 words each of 100 dimensions\n",
    "print('Shape of Embeddings matrix: ', embedding_matrix.shape)"
   ]
  },
  {
   "cell_type": "markdown",
   "metadata": {},
   "source": [
    "### Embedding layer"
   ]
  },
  {
   "cell_type": "code",
   "execution_count": 17,
   "metadata": {},
   "outputs": [
    {
     "name": "stderr",
     "output_type": "stream",
     "text": [
      "W0923 14:22:37.504813 139655258724160 deprecation_wrapper.py:119] From /home/agoel/anaconda3/envs/ML/lib/python3.7/site-packages/keras/backend/tensorflow_backend.py:74: The name tf.get_default_graph is deprecated. Please use tf.compat.v1.get_default_graph instead.\n",
      "\n"
     ]
    }
   ],
   "source": [
    "embedding_layer = Embedding(num_words, \n",
    "                           EMBEDDING_DIM,\n",
    "                           weights = [embedding_matrix],\n",
    "                           input_length = max_len_input,\n",
    "                           #trainable=true\n",
    "                           )"
   ]
  },
  {
   "cell_type": "code",
   "execution_count": 18,
   "metadata": {},
   "outputs": [],
   "source": [
    "# create targets, since we cannot use sparse\n",
    "# categorical cross entropy when we have sequences\n",
    "decoder_targets_one_hot = np.zeros(\n",
    "  (\n",
    "    len(input_texts),\n",
    "    max_len_target,\n",
    "    num_words_output\n",
    "  ),\n",
    "  dtype='float32'\n",
    ")\n",
    "\n",
    "# assign the values\n",
    "for i, d in enumerate(decoder_targets):\n",
    "    for t, word in enumerate(d):\n",
    "        decoder_targets_one_hot[i, t, word] = 1"
   ]
  },
  {
   "cell_type": "markdown",
   "metadata": {},
   "source": [
    "### Build Encoder-decoder LSTM model"
   ]
  },
  {
   "cell_type": "code",
   "execution_count": 19,
   "metadata": {},
   "outputs": [
    {
     "name": "stderr",
     "output_type": "stream",
     "text": [
      "W0923 14:22:37.862059 139655258724160 deprecation.py:506] From /home/agoel/anaconda3/envs/ML/lib/python3.7/site-packages/keras/backend/tensorflow_backend.py:3445: calling dropout (from tensorflow.python.ops.nn_ops) with keep_prob is deprecated and will be removed in a future version.\n",
      "Instructions for updating:\n",
      "Please use `rate` instead of `keep_prob`. Rate should be set to `rate = 1 - keep_prob`.\n"
     ]
    },
    {
     "name": "stdout",
     "output_type": "stream",
     "text": [
      "num_words_output: 3139\n"
     ]
    }
   ],
   "source": [
    "encoder_inputs_placeholder = Input(shape=(max_len_input, ))\n",
    "x = embedding_layer(encoder_inputs_placeholder)\n",
    "\n",
    "encoder_lstm = LSTM(\n",
    "    LATENT_DIM,\n",
    "    return_state=True,\n",
    "    dropout=0.5\n",
    ")\n",
    "\n",
    "encoder_outputs, h, c = encoder_lstm(x)\n",
    "\n",
    "# keep only the states to pass into decoder\n",
    "encoder_states = [h,c]\n",
    "\n",
    "# setup the decoder, using [h,c] as initial state\n",
    "decoder_inputs_placeholder = Input(shape=(max_len_target, ))\n",
    "\n",
    "# this word embedding will not use pre-trained vectors although we could\n",
    "decoder_embedding_layer = Embedding(num_words_output, LATENT_DIM)\n",
    "decoder_inputs_x = decoder_embedding_layer(decoder_inputs_placeholder)\n",
    "\n",
    "decoder_lstm = LSTM(\n",
    "        LATENT_DIM, \n",
    "        return_sequences=True,\n",
    "        return_state=True,\n",
    "        dropout = 0.5\n",
    "    )\n",
    "\n",
    "decoder_outputs, _, _ = decoder_lstm(\n",
    "                          decoder_inputs_x,\n",
    "                          initial_state=encoder_states\n",
    "                        )\n",
    "\n",
    "print('num_words_output:', num_words_output)\n",
    "\n",
    "# Final dense layers\n",
    "decoder_dense  = Dense(num_words_output, activation='softmax')\n",
    "decoder_outputs = decoder_dense(decoder_outputs)\n",
    "\n",
    "# Create the model object\n",
    "model = Model([encoder_inputs_placeholder, decoder_inputs_placeholder], decoder_outputs)"
   ]
  },
  {
   "cell_type": "markdown",
   "metadata": {},
   "source": [
    "### Compile the model"
   ]
  },
  {
   "cell_type": "code",
   "execution_count": 20,
   "metadata": {},
   "outputs": [
    {
     "name": "stderr",
     "output_type": "stream",
     "text": [
      "W0923 14:22:38.487737 139655258724160 deprecation_wrapper.py:119] From /home/agoel/anaconda3/envs/ML/lib/python3.7/site-packages/keras/optimizers.py:790: The name tf.train.Optimizer is deprecated. Please use tf.compat.v1.train.Optimizer instead.\n",
      "\n"
     ]
    }
   ],
   "source": [
    "model.compile(\n",
    "        optimizer = 'rmsprop',\n",
    "        loss='categorical_crossentropy',\n",
    "        metrics=['acc'])"
   ]
  },
  {
   "cell_type": "markdown",
   "metadata": {},
   "source": [
    "### Training Model"
   ]
  },
  {
   "cell_type": "code",
   "execution_count": 21,
   "metadata": {},
   "outputs": [
    {
     "name": "stderr",
     "output_type": "stream",
     "text": [
      "W0923 14:22:38.656349 139655258724160 deprecation.py:323] From /home/agoel/anaconda3/envs/ML/lib/python3.7/site-packages/tensorflow/python/ops/math_grad.py:1250: add_dispatch_support.<locals>.wrapper (from tensorflow.python.ops.array_ops) is deprecated and will be removed in a future version.\n",
      "Instructions for updating:\n",
      "Use tf.where in 2.0, which has the same broadcast rule as np.where\n"
     ]
    },
    {
     "name": "stdout",
     "output_type": "stream",
     "text": [
      "Train on 2246 samples, validate on 562 samples\n",
      "Epoch 1/50\n",
      "2246/2246 [==============================] - 21s 9ms/step - loss: 2.4546 - acc: 0.7150 - val_loss: 3.2479 - val_acc: 0.5836\n",
      "Epoch 2/50\n",
      "2246/2246 [==============================] - 18s 8ms/step - loss: 1.5856 - acc: 0.7523 - val_loss: 2.7497 - val_acc: 0.6035\n",
      "Epoch 3/50\n",
      "2246/2246 [==============================] - 16s 7ms/step - loss: 1.4770 - acc: 0.7736 - val_loss: 2.6739 - val_acc: 0.6241\n",
      "Epoch 4/50\n",
      "2246/2246 [==============================] - 19s 8ms/step - loss: 1.4082 - acc: 0.7789 - val_loss: 2.7149 - val_acc: 0.6297\n",
      "Epoch 5/50\n",
      "2246/2246 [==============================] - 15s 7ms/step - loss: 1.3517 - acc: 0.7842 - val_loss: 2.6219 - val_acc: 0.6354\n",
      "Epoch 6/50\n",
      "2246/2246 [==============================] - 16s 7ms/step - loss: 1.3011 - acc: 0.7887 - val_loss: 2.6831 - val_acc: 0.6369\n",
      "Epoch 7/50\n",
      "2246/2246 [==============================] - 15s 7ms/step - loss: 1.2544 - acc: 0.7926 - val_loss: 2.6633 - val_acc: 0.6410\n",
      "Epoch 8/50\n",
      "2246/2246 [==============================] - 15s 7ms/step - loss: 1.2131 - acc: 0.7956 - val_loss: 2.6317 - val_acc: 0.6430\n",
      "Epoch 9/50\n",
      "2246/2246 [==============================] - 15s 7ms/step - loss: 1.1737 - acc: 0.7987 - val_loss: 2.5767 - val_acc: 0.6380\n",
      "Epoch 10/50\n",
      "2246/2246 [==============================] - 15s 7ms/step - loss: 1.1379 - acc: 0.8009 - val_loss: 2.6269 - val_acc: 0.6406\n",
      "Epoch 11/50\n",
      "2246/2246 [==============================] - 15s 7ms/step - loss: 1.1034 - acc: 0.8033 - val_loss: 2.5288 - val_acc: 0.6465\n",
      "Epoch 12/50\n",
      "2246/2246 [==============================] - 14s 6ms/step - loss: 1.0684 - acc: 0.8065 - val_loss: 2.5430 - val_acc: 0.6443\n",
      "Epoch 13/50\n",
      "2246/2246 [==============================] - 15s 6ms/step - loss: 1.0360 - acc: 0.8092 - val_loss: 2.5696 - val_acc: 0.6422\n",
      "Epoch 14/50\n",
      "2246/2246 [==============================] - 15s 7ms/step - loss: 1.0026 - acc: 0.8124 - val_loss: 2.5210 - val_acc: 0.6491\n",
      "Epoch 15/50\n",
      "2246/2246 [==============================] - 15s 7ms/step - loss: 0.9730 - acc: 0.8160 - val_loss: 2.5895 - val_acc: 0.6465\n",
      "Epoch 16/50\n",
      "2246/2246 [==============================] - 17s 8ms/step - loss: 0.9415 - acc: 0.8189 - val_loss: 2.5733 - val_acc: 0.6492\n",
      "Epoch 17/50\n",
      "2246/2246 [==============================] - 17s 7ms/step - loss: 0.9113 - acc: 0.8224 - val_loss: 2.5295 - val_acc: 0.6504\n",
      "Epoch 18/50\n",
      "2246/2246 [==============================] - 16s 7ms/step - loss: 0.8796 - acc: 0.8257 - val_loss: 2.5488 - val_acc: 0.6505\n",
      "Epoch 19/50\n",
      "2246/2246 [==============================] - 15s 7ms/step - loss: 0.8510 - acc: 0.8290 - val_loss: 2.5638 - val_acc: 0.6528\n",
      "Epoch 20/50\n",
      "2246/2246 [==============================] - 15s 7ms/step - loss: 0.8204 - acc: 0.8332 - val_loss: 2.5331 - val_acc: 0.6543\n",
      "Epoch 21/50\n",
      "2246/2246 [==============================] - 15s 7ms/step - loss: 0.7926 - acc: 0.8362 - val_loss: 2.5726 - val_acc: 0.6530\n",
      "Epoch 22/50\n",
      "2246/2246 [==============================] - 15s 7ms/step - loss: 0.7646 - acc: 0.8403 - val_loss: 2.5488 - val_acc: 0.6558\n",
      "Epoch 23/50\n",
      "2246/2246 [==============================] - 15s 7ms/step - loss: 0.7381 - acc: 0.8446 - val_loss: 2.5848 - val_acc: 0.6567\n",
      "Epoch 24/50\n",
      "2246/2246 [==============================] - 15s 7ms/step - loss: 0.7111 - acc: 0.8491 - val_loss: 2.5367 - val_acc: 0.6554\n",
      "Epoch 25/50\n",
      "2246/2246 [==============================] - 15s 7ms/step - loss: 0.6840 - acc: 0.8540 - val_loss: 2.5483 - val_acc: 0.6571\n",
      "Epoch 26/50\n",
      "2246/2246 [==============================] - 15s 7ms/step - loss: 0.6573 - acc: 0.8588 - val_loss: 2.5848 - val_acc: 0.6572\n",
      "Epoch 27/50\n",
      "2246/2246 [==============================] - 15s 7ms/step - loss: 0.6337 - acc: 0.8634 - val_loss: 2.5710 - val_acc: 0.6588\n",
      "Epoch 28/50\n",
      "2246/2246 [==============================] - 15s 7ms/step - loss: 0.6088 - acc: 0.8674 - val_loss: 2.5928 - val_acc: 0.6572\n",
      "Epoch 29/50\n",
      "2246/2246 [==============================] - 15s 7ms/step - loss: 0.5850 - acc: 0.8731 - val_loss: 2.6037 - val_acc: 0.6570\n",
      "Epoch 30/50\n",
      "2246/2246 [==============================] - 15s 7ms/step - loss: 0.5608 - acc: 0.8785 - val_loss: 2.5570 - val_acc: 0.6585\n",
      "Epoch 31/50\n",
      "2246/2246 [==============================] - 15s 7ms/step - loss: 0.5389 - acc: 0.8822 - val_loss: 2.5763 - val_acc: 0.6585\n",
      "Epoch 32/50\n",
      "2246/2246 [==============================] - 15s 7ms/step - loss: 0.5167 - acc: 0.8872 - val_loss: 2.5784 - val_acc: 0.6601\n",
      "Epoch 33/50\n",
      "2246/2246 [==============================] - 15s 7ms/step - loss: 0.4955 - acc: 0.8930 - val_loss: 2.6086 - val_acc: 0.6589\n",
      "Epoch 34/50\n",
      "2246/2246 [==============================] - 15s 7ms/step - loss: 0.4736 - acc: 0.8981 - val_loss: 2.6120 - val_acc: 0.6602\n",
      "Epoch 35/50\n",
      "2246/2246 [==============================] - 14s 6ms/step - loss: 0.4533 - acc: 0.9026 - val_loss: 2.6046 - val_acc: 0.6598\n",
      "Epoch 36/50\n",
      "2246/2246 [==============================] - 15s 7ms/step - loss: 0.4329 - acc: 0.9073 - val_loss: 2.6032 - val_acc: 0.6602\n",
      "Epoch 37/50\n",
      "2246/2246 [==============================] - 15s 7ms/step - loss: 0.4143 - acc: 0.9122 - val_loss: 2.6478 - val_acc: 0.6599\n",
      "Epoch 38/50\n",
      "2246/2246 [==============================] - 15s 7ms/step - loss: 0.3946 - acc: 0.9172 - val_loss: 2.6367 - val_acc: 0.6603\n",
      "Epoch 39/50\n",
      "2246/2246 [==============================] - 15s 7ms/step - loss: 0.3777 - acc: 0.9217 - val_loss: 2.6119 - val_acc: 0.6604\n",
      "Epoch 40/50\n",
      "2246/2246 [==============================] - 15s 7ms/step - loss: 0.3582 - acc: 0.9273 - val_loss: 2.6425 - val_acc: 0.6629\n",
      "Epoch 41/50\n",
      "2246/2246 [==============================] - 15s 6ms/step - loss: 0.3435 - acc: 0.9298 - val_loss: 2.6468 - val_acc: 0.6606\n",
      "Epoch 42/50\n",
      "2246/2246 [==============================] - 15s 7ms/step - loss: 0.3263 - acc: 0.9346 - val_loss: 2.6328 - val_acc: 0.6608\n",
      "Epoch 43/50\n",
      "2246/2246 [==============================] - 15s 6ms/step - loss: 0.3108 - acc: 0.9374 - val_loss: 2.6577 - val_acc: 0.6618\n",
      "Epoch 44/50\n",
      "2246/2246 [==============================] - 15s 7ms/step - loss: 0.2958 - acc: 0.9409 - val_loss: 2.6849 - val_acc: 0.6590\n",
      "Epoch 45/50\n",
      "2246/2246 [==============================] - 15s 7ms/step - loss: 0.2824 - acc: 0.9449 - val_loss: 2.6777 - val_acc: 0.6619\n",
      "Epoch 46/50\n",
      "2246/2246 [==============================] - 16s 7ms/step - loss: 0.2683 - acc: 0.9480 - val_loss: 2.6811 - val_acc: 0.6617\n",
      "Epoch 47/50\n",
      "2246/2246 [==============================] - 16s 7ms/step - loss: 0.2534 - acc: 0.9521 - val_loss: 2.6792 - val_acc: 0.6601\n",
      "Epoch 48/50\n",
      "2246/2246 [==============================] - 17s 7ms/step - loss: 0.2426 - acc: 0.9538 - val_loss: 2.7268 - val_acc: 0.6612\n",
      "Epoch 49/50\n",
      "2246/2246 [==============================] - 15s 7ms/step - loss: 0.2300 - acc: 0.9564 - val_loss: 2.7155 - val_acc: 0.6610\n",
      "Epoch 50/50\n",
      "2246/2246 [==============================] - 15s 7ms/step - loss: 0.2188 - acc: 0.9594 - val_loss: 2.7201 - val_acc: 0.6619\n"
     ]
    }
   ],
   "source": [
    "history = model.fit(\n",
    "    [encoder_inputs, decoder_inputs], decoder_targets_one_hot,\n",
    "    batch_size=BATCH_SIZE,\n",
    "    epochs=EPOCHS,\n",
    "    validation_split=0.2\n",
    ")"
   ]
  },
  {
   "cell_type": "markdown",
   "metadata": {},
   "source": [
    "### Visualize accuracy and loss curves"
   ]
  },
  {
   "cell_type": "code",
   "execution_count": 22,
   "metadata": {},
   "outputs": [
    {
     "data": {
      "image/png": "[encoded data removed]",
      "text/plain": [
       "<Figure size 432x288 with 1 Axes>"
      ]
     },
     "metadata": {
      "needs_background": "light"
     },
     "output_type": "display_data"
    },
    {
     "data": {
      "image/png": "[encoded data removed]",
      "text/plain": [
       "<Figure size 432x288 with 1 Axes>"
      ]
     },
     "metadata": {
      "needs_background": "light"
     },
     "output_type": "display_data"
    },
    {
     "data": {
      "text/plain": [
       "<Figure size 432x288 with 0 Axes>"
      ]
     },
     "metadata": {},
     "output_type": "display_data"
    }
   ],
   "source": [
    "acc = history.history['acc']\n",
    "val_acc = history.history['val_acc']\n",
    "loss = history.history['loss']\n",
    "val_loss = history.history['val_loss']\n",
    "\n",
    "epochs = range(len(acc))\n",
    "\n",
    "plt.plot(epochs, acc, 'ro', label='Training acc')\n",
    "plt.plot(epochs, val_acc, 'b', label='Validation acc')\n",
    "plt.xlabel('epochs')\n",
    "plt.ylabel('accuracy')\n",
    "plt.legend()\n",
    "plt.savefig('static/acc_machine_translation_lstm.png')\n",
    "plt.show()\n",
    "plt.clf()\n",
    "\n",
    "plt.plot(epochs, loss, 'ro', label='Training loss')\n",
    "plt.plot(epochs, val_loss, 'b', label='Validation loss')\n",
    "plt.xlabel('epochs')\n",
    "plt.ylabel('loss')\n",
    "plt.legend()\n",
    "plt.savefig('static/loss_machine_translation_lstm.png')\n",
    "plt.show()\n",
    "plt.clf()"
   ]
  },
  {
   "cell_type": "markdown",
   "metadata": {},
   "source": [
    "### Make predictions"
   ]
  },
  {
   "cell_type": "code",
   "execution_count": 23,
   "metadata": {},
   "outputs": [],
   "source": [
    "# create another model that can take in the RNN state and previous word as input and accept a T=1 sequence.\n",
    "\n",
    "# The encoder will be stand-alone\n",
    "# From this we will get our initial decoder hidden state\n",
    "encoder_model = Model(encoder_inputs_placeholder, encoder_states)\n",
    "\n",
    "decoder_state_input_h = Input(shape=(LATENT_DIM,))\n",
    "decoder_state_input_c = Input(shape=(LATENT_DIM,))\n",
    "decoder_states_inputs = [decoder_state_input_h, decoder_state_input_c]\n",
    "# decoder_states_inputs = [decoder_state_input_h] # gru\n",
    "\n",
    "decoder_inputs_single = Input(shape=(1,))\n",
    "decoder_inputs_single_x = decoder_embedding_layer(decoder_inputs_single)\n",
    "\n",
    "# this time, we want to keep the states too, to be output\n",
    "# by our sampling model\n",
    "decoder_outputs, h, c = decoder_lstm(\n",
    "  decoder_inputs_single_x,\n",
    "  initial_state=decoder_states_inputs\n",
    ")\n",
    "# decoder_outputs, state_h = decoder_lstm(\n",
    "#   decoder_inputs_single_x,\n",
    "#   initial_state=decoder_states_inputs\n",
    "# ) #gru\n",
    "decoder_states = [h, c]\n",
    "# decoder_states = [h] # gru\n",
    "decoder_outputs = decoder_dense(decoder_outputs)\n",
    "\n",
    "# The sampling model\n",
    "# inputs: y(t-1), h(t-1), c(t-1)\n",
    "# outputs: y(t), h(t), c(t)\n",
    "decoder_model = Model(\n",
    "  [decoder_inputs_single] + decoder_states_inputs, \n",
    "  [decoder_outputs] + decoder_states\n",
    ")\n",
    "\n",
    "# map indexes back into real words\n",
    "# so we can view the results\n",
    "idx2word_eng = {v:k for k, v in word2idx_inputs.items()}\n",
    "idx2word_trans = {v:k for k, v in word2idx_outputs.items()}"
   ]
  },
  {
   "cell_type": "code",
   "execution_count": 24,
   "metadata": {},
   "outputs": [],
   "source": [
    "def decode_sequence(input_seq):\n",
    "  # Encode the input as state vectors.\n",
    "  states_value = encoder_model.predict(input_seq)\n",
    "\n",
    "  # Generate empty target sequence of length 1.\n",
    "  target_seq = np.zeros((1, 1))\n",
    "\n",
    "  # Populate the first character of target sequence with the start character.\n",
    "  # NOTE: tokenizer lower-cases all words\n",
    "  target_seq[0, 0] = word2idx_outputs['<sos>']\n",
    "\n",
    "  # if we get this we break\n",
    "  eos = word2idx_outputs['<eos>']\n",
    "\n",
    "  # Create the translation\n",
    "  output_sentence = []\n",
    "  for _ in range(max_len_target):\n",
    "    output_tokens, h, c = decoder_model.predict(\n",
    "      [target_seq] + states_value\n",
    "    )\n",
    "    # output_tokens, h = decoder_model.predict(\n",
    "    #     [target_seq] + states_value\n",
    "    # ) # gru\n",
    "\n",
    "    # Get next word\n",
    "    idx = np.argmax(output_tokens[0, 0, :])\n",
    "\n",
    "    # End sentence of EOS\n",
    "    if eos == idx:\n",
    "      break\n",
    "\n",
    "    word = ''\n",
    "    if idx > 0:\n",
    "      word = idx2word_trans[idx]\n",
    "      output_sentence.append(word)\n",
    "\n",
    "    # Update the decoder input\n",
    "    # which is just the word just generated\n",
    "    target_seq[0, 0] = idx\n",
    "\n",
    "    # Update states\n",
    "    states_value = [h, c]\n",
    "    # states_value = [h] # gru\n",
    "\n",
    "  return ' '.join(output_sentence)\n"
   ]
  },
  {
   "cell_type": "code",
   "execution_count": 25,
   "metadata": {},
   "outputs": [
    {
     "name": "stdout",
     "output_type": "stream",
     "text": [
      "-\n",
      "Input: You may use my pen.\n",
      "Translation: मेरे ख़याल का इस्तेमाल करना चाहिए।\n",
      "Continue? [Y/n]Y\n",
      "-\n",
      "Input: Time goes by quickly.\n",
      "Translation: समय तेज़ी से बीतता है।\n",
      "Continue? [Y/n]Y\n",
      "-\n",
      "Input: I never dreamed that you would lose.\n",
      "Translation: मुझे नहीं पता कि वह आएगी कि नहीं।\n",
      "Continue? [Y/n]Y\n",
      "-\n",
      "Input: I will ask him about it tomorrow, then.\n",
      "Translation: मैं उससे उससे उससे उससे उससे मिलना नहीं चाहता हूँ।\n",
      "Continue? [Y/n]Y\n",
      "-\n",
      "Input: What is in this box?\n",
      "Translation: इस डब्बे में क्या है?\n",
      "Continue? [Y/n]Y\n",
      "-\n",
      "Input: This word comes from Greek.\n",
      "Translation: यह शब्द ग्रीक से आता है।\n",
      "Continue? [Y/n]Y\n",
      "-\n",
      "Input: I am convinced that he did nothing wrong.\n",
      "Translation: मुझे नहीं पता कि वह पता कि वह क्या पता है।\n",
      "Continue? [Y/n]n\n"
     ]
    }
   ],
   "source": [
    "while True:\n",
    "  # Do some test translations\n",
    "  i = np.random.choice(len(input_texts))\n",
    "  input_seq = encoder_inputs[i:i+1]\n",
    "  translation = decode_sequence(input_seq)\n",
    "  print('-')\n",
    "  print('Input:', input_texts[i])\n",
    "  print('Translation:', translation)\n",
    "\n",
    "  ans = input(\"Continue? [Y/n]\")\n",
    "  if ans and ans.lower().startswith('n'):\n",
    "    break"
   ]
  }
 ],
 "metadata": {
  "kernelspec": {
   "display_name": "Python 3",
   "language": "python",
   "name": "python3"
  },
  "language_info": {
   "codemirror_mode": {
    "name": "ipython",
    "version": 3
   },
   "file_extension": ".py",
   "mimetype": "text/x-python",
   "name": "python",
   "nbconvert_exporter": "python",
   "pygments_lexer": "ipython3",
   "version": "3.7.3"
  }
 },
 "nbformat": 4,
 "nbformat_minor": 2
}
