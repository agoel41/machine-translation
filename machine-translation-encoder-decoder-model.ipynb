{
 "cells": [
  {
   "cell_type": "markdown",
   "metadata": {},
   "source": [
    "## Machine translation using encoder-decoder Seqwuence to Sequence Architecture"
   ]
  },
  {
   "cell_type": "markdown",
   "metadata": {},
   "source": [
    "### Pre-requisites\n",
    "\n",
    "- Download the data: http://www.manythings.org/anki/\n",
    "- Download the word vectors: http://nlp.stanford.edu/data/glove.6B.zip"
   ]
  },
  {
   "cell_type": "code",
   "execution_count": 1,
   "metadata": {},
   "outputs": [
    {
     "name": "stderr",
     "output_type": "stream",
     "text": [
      "Using TensorFlow backend.\n"
     ]
    }
   ],
   "source": [
    "import os, sys\n",
    "from keras.models import Model\n",
    "from keras.layers import Input, LSTM, GRU, Dense, Embedding\n",
    "from keras.preprocessing.text import Tokenizer\n",
    "from keras.preprocessing.sequence import pad_sequences\n",
    "from keras.utils import to_categorical\n",
    "import numpy as np\n",
    "import matplotlib.pyplot as plt\n",
    "import keras.backend as K"
   ]
  },
  {
   "cell_type": "code",
   "execution_count": 2,
   "metadata": {},
   "outputs": [
    {
     "name": "stderr",
     "output_type": "stream",
     "text": [
      "WARNING: Logging before flag parsing goes to stderr.\n",
      "W0923 13:44:57.305853 139879995160384 deprecation_wrapper.py:119] From /home/agoel/anaconda3/envs/ML/lib/python3.7/site-packages/keras/backend/tensorflow_backend.py:174: The name tf.get_default_session is deprecated. Please use tf.compat.v1.get_default_session instead.\n",
      "\n",
      "W0923 13:44:57.306972 139879995160384 deprecation_wrapper.py:119] From /home/agoel/anaconda3/envs/ML/lib/python3.7/site-packages/keras/backend/tensorflow_backend.py:181: The name tf.ConfigProto is deprecated. Please use tf.compat.v1.ConfigProto instead.\n",
      "\n",
      "W0923 13:44:57.307799 139879995160384 deprecation_wrapper.py:119] From /home/agoel/anaconda3/envs/ML/lib/python3.7/site-packages/keras/backend/tensorflow_backend.py:186: The name tf.Session is deprecated. Please use tf.compat.v1.Session instead.\n",
      "\n",
      "W0923 13:44:57.330935 139879995160384 deprecation_wrapper.py:119] From /home/agoel/anaconda3/envs/ML/lib/python3.7/site-packages/keras/backend/tensorflow_backend.py:190: The name tf.global_variables is deprecated. Please use tf.compat.v1.global_variables instead.\n",
      "\n"
     ]
    }
   ],
   "source": [
    "if len(K.tensorflow_backend._get_available_gpus()) > 0:\n",
    "    from keras.layers import CuDNNLSTM as LSTM\n",
    "    from keras.layers import CuDNNGRU as GRU"
   ]
  },
  {
   "cell_type": "code",
   "execution_count": 3,
   "metadata": {},
   "outputs": [],
   "source": [
    "# Configuration\n",
    "\n",
    "BATCH_SIZE=64             # Batch size for training.\n",
    "EPOCHS = 4                # Number of epochs to train for.\n",
    "LATENT_DIM = 256          # Latent dimensionality of the encoding space.\n",
    "NUM_SAMPLES = 10000       # Number of samples to train on\n",
    "MAX_SEQUENCE_LENGTH = 100\n",
    "MAX_NUM_WORDS = 20000\n",
    "EMBEDDING_DIM = 100"
   ]
  },
  {
   "cell_type": "code",
   "execution_count": 4,
   "metadata": {},
   "outputs": [],
   "source": [
    "# Where we will store the data\n",
    "input_texts = []          # sentence in original language\n",
    "target_texts = []         # sentence in target language\n",
    "target_texts_inputs = []  # sentence in target language offset by 1"
   ]
  },
  {
   "cell_type": "markdown",
   "metadata": {},
   "source": [
    "### Prepare training data"
   ]
  },
  {
   "cell_type": "code",
   "execution_count": 5,
   "metadata": {},
   "outputs": [
    {
     "name": "stdout",
     "output_type": "stream",
     "text": [
      "Number of samples: 2808\n"
     ]
    }
   ],
   "source": [
    "t = 0\n",
    "for line in open('data/hin-eng/hin.txt'):\n",
    "    # only keep a limited number of samples.\n",
    "    t += 1\n",
    "    if t > NUM_SAMPLES:\n",
    "        break\n",
    "        \n",
    "    # input and target are separated by tab\n",
    "    if '\\t' not in line:\n",
    "        continue\n",
    "        \n",
    "    # split up the input and translation\n",
    "    input_text, translation = line.rstrip().split('\\t')\n",
    "    \n",
    "    # make the target input and output using teacher forcing\n",
    "    target_text = translation + '<eos>'\n",
    "    target_text_input = '<sos>' + translation\n",
    "    \n",
    "    input_texts.append(input_text)\n",
    "    target_texts.append(target_text)\n",
    "    target_texts_inputs.append(target_text_input)\n",
    "    \n",
    "print(\"Number of samples:\", len(input_texts))"
   ]
  },
  {
   "cell_type": "markdown",
   "metadata": {},
   "source": [
    "### Tokenize the inputs (Convert the sentences (string) into integers)"
   ]
  },
  {
   "cell_type": "code",
   "execution_count": 6,
   "metadata": {},
   "outputs": [],
   "source": [
    "tokenizer_inputs = Tokenizer(num_words = MAX_NUM_WORDS)\n",
    "tokenizer_inputs.fit_on_texts(input_texts)\n",
    "input_sequences = tokenizer_inputs.texts_to_sequences(input_texts)"
   ]
  },
  {
   "cell_type": "markdown",
   "metadata": {},
   "source": [
    "### Word to integer mapping for input text"
   ]
  },
  {
   "cell_type": "code",
   "execution_count": 7,
   "metadata": {},
   "outputs": [
    {
     "name": "stdout",
     "output_type": "stream",
     "text": [
      "Found 2388 unique input tokens.\n",
      "{'the': 1, 'i': 2, 'to': 3, 'you': 4, 'is': 5, 'a': 6, 'he': 7, 'of': 8, 'in': 9, 'my': 10, 'it': 11, 'me': 12, 'this': 13, 'have': 14, 'she': 15, 'for': 16, 'was': 17, 'are': 18, 'do': 19, 'that': 20, 'his': 21, 'your': 22, 'we': 23, 'will': 24, 'on': 25, 'what': 26, \"don't\": 27, 'at': 28, 'him': 29, 'her': 30, 'not': 31, 'like': 32, 'go': 33, 'with': 34, 'be': 35, 'how': 36, 'and': 37, \"i'm\": 38, 'can': 39, 'time': 40, 'has': 41, 'there': 42, 'know': 43, 'all': 44, 'up': 45, 'they': 46, 'come': 47, 'very': 48, 'as': 49, 'had': 50, 'please': 51, 'from': 52, 'want': 53, \"it's\": 54, 'here': 55, 'by': 56, 'out': 57, 'am': 58, 'when': 59, 'did': 60, 'no': 61, 'been': 62, 'get': 63, \"can't\": 64, 'take': 65, 'going': 66, 'an': 67, 'father': 68, 'book': 69, 'if': 70, 'about': 71, 'one': 72, 'india': 73, 'were': 74, 'money': 75, 'would': 76, 'tom': 77, 'day': 78, 'long': 79, 'two': 80, 'tomorrow': 81, 'today': 82, 'where': 83, 'but': 84, 'must': 85, 'make': 86, 'help': 87, \"i'll\": 88, 'us': 89, 'back': 90, 'man': 91, 'live': 92, 'see': 93, 'english': 94, 'good': 95, 'our': 96, 'who': 97, 'home': 98, 'car': 99, 'now': 100, 'work': 101, 'these': 102, 'yesterday': 103, 'too': 104, \"didn't\": 105, 'should': 106, 'so': 107, 'room': 108, 'made': 109, 'many': 110, 'speak': 111, 'never': 112, 'house': 113, 'last': 114, 'every': 115, 'mother': 116, 'went': 117, 'more': 118, 'than': 119, 'much': 120, 'off': 121, 'some': 122, 'nothing': 123, 'again': 124, 'dog': 125, 'think': 126, 'old': 127, 'tell': 128, 'could': 129, 'always': 130, 'people': 131, 'got': 132, 'well': 133, 'down': 134, 'may': 135, 'door': 136, 'them': 137, 'any': 138, 'let': 139, 'call': 140, 'turn': 141, 'train': 142, \"i've\": 143, 'children': 144, 'give': 145, 'put': 146, 'why': 147, 'into': 148, 'school': 149, 'before': 150, 'doctor': 151, 'leave': 152, 'lot': 153, 'next': 154, 'teacher': 155, 'say': 156, 'or': 157, 'tired': 158, 'new': 159, 'happy': 160, 'night': 161, 'ten': 162, 'water': 163, 'away': 164, 'left': 165, 'open': 166, 'read': 167, 'saw': 168, 'believe': 169, 'use': 170, 'keep': 171, 'because': 172, 'their': 173, \"let's\": 174, 'answer': 175, 'once': 176, 'year': 177, 'hard': 178, \"isn't\": 179, 'problem': 180, 'job': 181, 'true': 182, 'does': 183, 'soon': 184, 'few': 185, 'mary': 186, 'years': 187, 'way': 188, 'seen': 189, 'letter': 190, 'both': 191, 'big': 192, 'drive': 193, 'birthday': 194, 'feel': 195, \"that's\": 196, 'cut': 197, 'met': 198, 'watch': 199, 'books': 200, 'tea': 201, \"couldn't\": 202, 'without': 203, 'cannot': 204, 'japan': 205, 'morning': 206, \"what's\": 207, 'came': 208, 'wrong': 209, 'understand': 210, 'everyone': 211, 'yet': 212, 'doing': 213, 'girl': 214, 'other': 215, 'such': 216, 'three': 217, 'afraid': 218, 'times': 219, 'month': 220, 'world': 221, 'love': 222, 'try': 223, \"he's\": 224, 'bed': 225, 'around': 226, 'likes': 227, 'really': 228, 'right': 229, 'after': 230, 'friends': 231, 'lost': 232, 'bought': 233, 'tried': 234, \"i'd\": 235, 'play': 236, 'gave': 237, 'little': 238, 'river': 239, 'five': 240, 'six': 241, 'able': 242, \"won't\": 243, 'said': 244, 'took': 245, 'coming': 246, 'buy': 247, 'stay': 248, 'early': 249, 'running': 250, 'first': 251, 'meet': 252, 'already': 253, 'news': 254, 'wanted': 255, 'box': 256, 'caught': 257, 'looked': 258, 'shoes': 259, 'while': 260, 'week': 261, 'comes': 262, 'station': 263, \"o'clock\": 264, 'own': 265, 'baby': 266, 'better': 267, 'ever': 268, 'between': 269, 'medicine': 270, 'looking': 271, 'usually': 272, 'brother': 273, 'smoking': 274, 'days': 275, 'something': 276, 'fun': 277, 'broke': 278, 'cold': 279, 'knows': 280, 'drink': 281, 'fish': 282, 'study': 283, 'dinner': 284, 'friend': 285, 'eyes': 286, 'bad': 287, 'abroad': 288, 'married': 289, 'small': 290, 'felt': 291, 'ask': 292, 'city': 293, 'health': 294, 'mind': 295, 'just': 296, 'easy': 297, 'walk': 298, 'coffee': 299, 'difficult': 300, 'almost': 301, \"doesn't\": 302, 'used': 303, 'accident': 304, 'sit': 305, 'boy': 306, 'busy': 307, 'town': 308, \"you're\": 309, 'ill': 310, 'stop': 311, 'mine': 312, 'person': 313, 'hurry': 314, 'name': 315, 'sister': 316, 'life': 317, 'poor': 318, 'died': 319, 'ran': 320, 'party': 321, 'asked': 322, 'happened': 323, 'hair': 324, 'told': 325, 'found': 326, 'mistakes': 327, 'enough': 328, 'forget': 329, 'tv': 330, 'wait': 331, 'large': 332, 'eight': 333, 'america': 334, 'afternoon': 335, 'others': 336, 'london': 337, 'talking': 338, 'rain': 339, 'hours': 340, 'parents': 341, 'possible': 342, 'saying': 343, 'forgot': 344, 'fly': 345, 'done': 346, 'fire': 347, 'swim': 348, 'french': 349, 'flowers': 350, \"we're\": 351, 'clean': 352, 'music': 353, 'heard': 354, 'noise': 355, 'crying': 356, 'nice': 357, 'boys': 358, 'talk': 359, 'sure': 360, 'which': 361, 'questions': 362, 'reading': 363, 'write': 364, 'language': 365, 'became': 366, 'each': 367, 'question': 368, 'country': 369, 'king': 370, 'another': 371, 'bus': 372, 'beautiful': 373, 'die': 374, 'someone': 375, 'food': 376, 'police': 377, 'desk': 378, 'sorry': 379, 'things': 380, 'bicycle': 381, 'eat': 382, 'care': 383, 'idea': 384, 'slowly': 385, 'instead': 386, 'written': 387, \"you'll\": 388, 'weather': 389, 'child': 390, 'behind': 391, 'since': 392, 'through': 393, 'difference': 394, 'birds': 395, 'excuse': 396, 'move': 397, 'nobody': 398, 'sick': 399, 'bring': 400, 'free': 401, 'son': 402, 'only': 403, 'look': 404, 'ready': 405, 'story': 406, 'anything': 407, \"haven't\": 408, 'along': 409, 'works': 410, 'address': 411, 'born': 412, 'later': 413, 'yours': 414, 'family': 415, \"she's\": 416, 'power': 417, 'everybody': 418, 'called': 419, 'lives': 420, 'rich': 421, 'kept': 422, 'need': 423, 'waiting': 424, 'sunday': 425, 'rumor': 426, 'size': 427, 'visit': 428, 'alone': 429, 'wherever': 430, 'thing': 431, 'business': 432, 'often': 433, 'playing': 434, 'wish': 435, 'makes': 436, 'tennis': 437, 'homework': 438, 'wife': 439, 'apples': 440, 'learn': 441, 'window': 442, 'picture': 443, 'watching': 444, 'class': 445, 'interesting': 446, 'raining': 447, 'spoken': 448, 'clothes': 449, 'telephone': 450, 'capital': 451, 'anxious': 452, 'find': 453, 'hear': 454, 'finished': 455, 'village': 456, 'longer': 457, 'whether': 458, 'pay': 459, 'hungry': 460, 'dogs': 461, 'phone': 462, 'hot': 463, 'summer': 464, 'bag': 465, 'wash': 466, \"we'll\": 467, 'run': 468, 'guitar': 469, \"where's\": 470, 'began': 471, 'cried': 472, 'getting': 473, 'hands': 474, 'blue': 475, 'matter': 476, 'sleep': 477, 'closed': 478, 'those': 479, 'still': 480, 'television': 481, 'worked': 482, 'looks': 483, 'expensive': 484, 'against': 485, 'war': 486, 'seems': 487, 'taking': 488, 'plan': 489, 'apple': 490, 'quickly': 491, 'dress': 492, 'return': 493, 'disappointed': 494, 'yourself': 495, 'reap': 496, 'sow': 497, 'anyone': 498, 'lose': 499, 'japanese': 500, 'begins': 501, 'arrive': 502, 'easily': 503, 'decided': 504, 'sky': 505, 'fell': 506, 'studying': 507, 'late': 508, 'sugar': 509, 'rains': 510, 'then': 511, 'minutes': 512, 'air': 513, 'canada': 514, 'larger': 515, 'interested': 516, 'standing': 517, 'movie': 518, 'changing': 519, 'suddenly': 520, 'europe': 521, 'cup': 522, 'number': 523, 'office': 524, 'meeting': 525, 'set': 526, 'wants': 527, 'grandmother': 528, 'hobby': 529, 'population': 530, 'ship': 531, 'across': 532, 'kind': 533, 'men': 534, 'plane': 535, 'china': 536, 'finish': 537, 'making': 538, 'whoever': 539, 'hand': 540, 'being': 541, 'mountain': 542, 'hospital': 543, 'languages': 544, 'advice': 545, 'bit': 546, 'machine': 547, 'known': 548, 'necessary': 549, 'different': 550, 'arrested': 551, 'england': 552, 'jump': 553, 'laughed': 554, 'sing': 555, \"who's\": 556, 'stood': 557, 'strong': 558, 'cake': 559, 'attend': 560, 'fat': 561, 'history': 562, 'god': 563, 'over': 564, 'cooked': 565, 'black': 566, 'beauty': 567, 'talks': 568, 'remember': 569, 'april': 570, 'key': 571, 'age': 572, 'whose': 573, 'bank': 574, 'sight': 575, 'truth': 576, 'earth': 577, 'hope': 578, 'mistake': 579, 'dark': 580, 'snow': 581, 'started': 582, 'taxi': 583, 'baseball': 584, 'shirt': 585, 'airport': 586, 'angry': 587, 'agree': 588, 'red': 589, 'broken': 590, 'secret': 591, 'eggs': 592, 'policeman': 593, 'horse': 594, 'swimming': 595, 'close': 596, 'lake': 597, 'knew': 598, 'learned': 599, 'empty': 600, 'woman': 601, 'prefer': 602, 'myself': 603, 'quit': 604, 'rather': 605, '3': 606, 'light': 607, 'milk': 608, 'abandoned': 609, 'tends': 610, 'present': 611, 'chair': 612, 'show': 613, \"hasn't\": 614, 'face': 615, 'four': 616, 'table': 617, \"shouldn't\": 618, 'garden': 619, 'novel': 620, 'stand': 621, 'explain': 622, 'bath': 623, 'tokyo': 624, '5': 625, 'cars': 626, 'rest': 627, 'dollars': 628, 'might': 629, 'shade': 630, '10': 631, 'cats': 632, \"aren't\": 633, 'believes': 634, 'best': 635, 'arrived': 636, 'hardly': 637, 'brought': 638, 'famous': 639, 'great': 640, 'head': 641, 'promise': 642, 'sentences': 643, 'france': 644, 'dream': 645, 'outside': 646, 'speaking': 647, 'africa': 648, 'become': 649, 'result': 650, 'most': 651, 'trip': 652, 'future': 653, 'students': 654, 'surprised': 655, 'sisters': 656, 'sun': 657, 'bigger': 658, 'having': 659, 'paris': 660, 'trouble': 661, 'pictures': 662, 'older': 663, 'stayed': 664, 'doubt': 665, 'covered': 666, 'ordered': 667, 'whole': 668, 'together': 669, 'street': 670, \"there's\": 671, \"wouldn't\": 672, 'uncle': 673, 'amateur': 674, 'cricket': 675, 'player': 676, 'bridge': 677, 'leaving': 678, 'government': 679, 'pass': 680, 'responsible': 681, 'bored': 682, 'wonderful': 683, 'follow': 684, 'shout': 685, 'cat': 686, 'map': 687, 'feet': 688, 'hat': 689, 'husband': 690, 'cook': 691, 'kites': 692, 'teach': 693, 'join': 694, 'rice': 695, 'legs': 696, 'speaks': 697, 'near': 698, 'bird': 699, 'walking': 700, 'turned': 701, 'listen': 702, 'student': 703, 'stolen': 704, 'radio': 705, 'yes': 706, 'admit': 707, 'women': 708, 'sort': 709, 'tall': 710, 'smiled': 711, 'crow': 712, 'win': 713, 'wine': 714, 'working': 715, 'pulled': 716, 'clear': 717, 'trees': 718, 'tax': 719, 'worry': 720, 'success': 721, 'succeed': 722, 'eating': 723, 'meant': 724, 'joke': 725, 'glasses': 726, 'eleven': 727, 'goes': 728, 'accepted': 729, 'offer': 730, 'daughter': 731, 'correct': 732, 'eye': 733, 'ball': 734, 'lived': 735, 'animal': 736, 'fast': 737, 'foot': 738, 'fever': 739, 'wake': 740, '7': 741, 'nine': 742, 'thinking': 743, 'absent': 744, '30': 745, 'shall': 746, 'piano': 747, 'heart': 748, 'showed': 749, 'oil': 750, 'smooth': 751, 'plenty': 752, 'memory': 753, \"you've\": 754, 'glass': 755, 'park': 756, 'arrogant': 757, 'accused': 758, 'important': 759, 'brothers': 760, 'under': 761, 'cancer': 762, 'half': 763, 'anymore': 764, 'forest': 765, 'harder': 766, 'rooms': 767, 'road': 768, 'satisfied': 769, 'neighbors': 770, 'plays': 771, 'burning': 772, 'death': 773, 'sleeping': 774, 'account': 775, 'sold': 776, 'travel': 777, 'towel': 778, 'add': 779, 'm': 780, 'herself': 781, 'thank': 782, 'cry': 783, 'twenty': 784, 'protect': 785, 'favorite': 786, 'smoke': 787, 'officer': 788, 'whatever': 789, 'opinions': 790, 'miles': 791, 'boss': 792, 'place': 793, 'feed': 794, 'word': 795, 'voted': 796, 'order': 797, 'bread': 798, 'explained': 799, 'rule': 800, 'osaka': 801, 'waste': 802, 'voice': 803, 'saved': 804, 'danger': 805, 'store': 806, 'meals': 807, 'words': 808, 'tickets': 809, 'speech': 810, 'game': 811, 'advise': 812, 'pleased': 813, 'allow': 814, 'happen': 815, 'pain': 816, 'italy': 817, 'tree': 818, 'fact': 819, 'butter': 820, 'advantage': 821, 'monday': 822, 'movies': 823, 'traffic': 824, 'mail': 825, 'pieces': 826, 'favor': 827, 'flying': 828, 'kite': 829, 'dangerous': 830, 'due': 831, 'illness': 832, 'interpret': 833, 'poem': 834, 'pick': 835, 'borrow': 836, 'subject': 837, 'lie': 838, 'helped': 839, 'tonight': 840, 'wedding': 841, 'fresh': 842, 'promote': 843, 'buried': 844, 'heat': 845, 'until': 846, 'dictionary': 847, 'trust': 848, 'rules': 849, 'ashamed': 850, 'strange': 851, 'wrote': 852, 'temples': 853, 'fifty': 854, 'end': 855, 'starts': 856, 'extent': 857, 'wind': 858, 'leaves': 859, 'computer': 860, 'short': 861, 'prize': 862, 'thief': 863, 'delhi': 864, 'speed': 865, 'breakfast': 866, 'case': 867, 'living': 868, 'depends': 869, 'teaching': 870, 'destroyed': 871, 'catch': 872, 'chance': 873, 'according': 874, 'front': 875, 'company': 876, 'advised': 877, 'college': 878, 'its': 879, 'passed': 880, 'weeks': 881, 'lights': 882, 'workers': 883, 'museum': 884, 'library': 885, 'answers': 886, 'seven': 887, 'test': 888, 'ought': 889, 'till': 890, 'couple': 891, 'except': 892, 'largest': 893, 'feeling': 894, 'spent': 895, 'teresa': 896, 'hello': 897, 'cheers': 898, 'ok': 899, 'perfect': 900, 'welcome': 901, 'fine': 902, 'math': 903, 'shot': 904, 'touch': 905, 'atheist': 906, 'congratulations': 907, 'miss': 908, 'reads': 909, 'arabic': 910, 'rude': 911, 'lucky': 912, 'cafe': 913, 'fair': 914, 'fault': 915, 'lack': 916, 'top': 917, 'oranges': 918, 'sign': 919, 'betrayed': 920, 'build': 921, 'nests': 922, 'studied': 923, 'headache': 924, 'loved': 925, 'happiness': 926, 'beach': 927, 'throw': 928, 'breathed': 929, 'deeply': 930, 'simple': 931, 'cousin': 932, 'waited': 933, 'pretty': 934, 'guy': 935, 'enjoyed': 936, 'kids': 937, 'vase': 938, 'pen': 939, 'gym': 940, 'state': 941, 'taste': 942, 'continued': 943, 'eaten': 944, 'ticket': 945, 'green': 946, 'forgive': 947, 'pencil': 948, 'sea': 949, 'consciousness': 950, 'decision': 951, 'shut': 952, 'wore': 953, 'haunted': 954, 'sheets': 955, 'burst': 956, 'feels': 957, 'silk': 958, 'hens': 959, 'bell': 960, 'climbed': 961, 'stairs': 962, 'sharp': 963, 'race': 964, 'boston': 965, 'start': 966, 'swollen': 967, 'hated': 968, 'stubborn': 969, 'nearby': 970, 'missed': 971, 'shouted': 972, \"what're\": 973, 'elevator': 974, 'song': 975, 'earns': 976, 'knocked': 977, 'robbed': 978, 'physics': 979, 'wonder': 980, 'stomach': 981, 'york': 982, 'wears': 983, 'ceased': 984, 'glad': 985, 'lion': 986, 'chairs': 987, 'tuesday': 988, 'passport': 989, 'soccer': 990, 'dozen': 991, 'dressed': 992, 'white': 993, 'whichever': 994, 'applies': 995, 'wood': 996, 'cheese': 997, 'thirty': 998, 'fond': 999, 'gun': 1000, 'murder': 1001, 'seat': 1002, 'further': 1003, 'cups': 1004, 'iron': 1005, 'gold': 1006, 'healthy': 1007, 'successful': 1008, 'gathered': 1009, 'amount': 1010, 'import': 1011, 'fairies': 1012, 'moment': 1013, 'taught': 1014, 'walked': 1015, 'witnessed': 1016, 'steal': 1017, 'lately': 1018, 'manager': 1019, 'stopped': 1020, 'hates': 1021, 'bags': 1022, 'missing': 1023, '8': 1024, 'plants': 1025, 'prisoner': 1026, \"father's\": 1027, 'independence': 1028, 'pond': 1029, 'coal': 1030, 'koala': 1031, 'visited': 1032, 'kyoto': 1033, 'says': 1034, 'pencils': 1035, 'cover': 1036, 'sat': 1037, 'mouse': 1038, 'dead': 1039, 'alive': 1040, 'hit': 1041, 'mud': 1042, 'season': 1043, 'celebrated': 1044, 'candidate': 1045, \"we've\": 1046, 'pride': 1047, 'complaining': 1048, 'somewhere': 1049, 'western': 1050, 'german': 1051, 'august': 1052, 'accompanied': 1053, 'useful': 1054, 'spanish': 1055, 'mexico': 1056, 'yen': 1057, 'loves': 1058, 'low': 1059, 'allowed': 1060, 'hundred': 1061, 'real': 1062, 'diamond': 1063, 'brush': 1064, 'teeth': 1065, 'roses': 1066, 'degree': 1067, 'followed': 1068, 'tracks': 1069, 'science': 1070, 'farm': 1071, '00': 1072, 'young': 1073, 'grown': 1074, 'rome': 1075, 'monkey': 1076, 'increasing': 1077, 'send': 1078, \"should've\": 1079, 'taken': 1080, 'rotten': 1081, 'spread': 1082, 'youth': 1083, 'jam': 1084, 'jobs': 1085, 'thought': 1086, 'patient': 1087, 'bound': 1088, 'contains': 1089, \"sister's\": 1090, 'undone': 1091, 'slow': 1092, 'australia': 1093, 'absence': 1094, 'bet': 1095, 'pounds': 1096, 'meal': 1097, 'suitcase': 1098, 'distance': 1099, 'roof': 1100, 'dust': 1101, 'itself': 1102, 'crash': 1103, 'shop': 1104, 'supper': 1105, 'author': 1106, 'listened': 1107, 'struck': 1108, \"world's\": 1109, 'even': 1110, 'everything': 1111, 'vegetables': 1112, 'graveyard': 1113, 'rainy': 1114, 'vain': 1115, 'sinking': 1116, 'high': 1117, 'cross': 1118, 'newspapers': 1119, 'dance': 1120, 'count': 1121, 'stingy': 1122, 'paper': 1123, 'killed': 1124, 'single': 1125, 'lazy': 1126, 'consists': 1127, 'past': 1128, 'reproached': 1129, 'rang': 1130, 'scolded': 1131, 'rid': 1132, 'habit': 1133, 'gets': 1134, 'nerves': 1135, 'hid': 1136, 'among': 1137, 'realized': 1138, 'program': 1139, 'arrogance': 1140, 'fortune': 1141, 'point': 1142, 'proved': 1143, 'laid': 1144, 'prevented': 1145, 'murders': 1146, 'willing': 1147, 'observe': 1148, 'limit': 1149, 'market': 1150, 'tolerate': 1151, 'statement': 1152, 'art': 1153, 'friday': 1154, 'learning': 1155, 'foreign': 1156, 'nowadays': 1157, 'overseas': 1158, 'insecure': 1159, 'animals': 1160, 'asleep': 1161, 'pocket': 1162, 'jungle': 1163, 'storm': 1164, 'proud': 1165, 'themselves': 1166, 'worse': 1167, 'sudden': 1168, 'toilet': 1169, 'sentence': 1170, 'pet': 1171, 'spend': 1172, 'dreamed': 1173, 'twice': 1174, 'vary': 1175, 'stars': 1176, 'law': 1177, 'far': 1178, 'scattered': 1179, 'talked': 1180, 'less': 1181, 'answering': 1182, 'corner': 1183, 'opportunity': 1184, 'current': 1185, 'income': 1186, 'fit': 1187, 'occurred': 1188, 'imitate': 1189, 'education': 1190, 'ride': 1191, 'staying': 1192, 'months': 1193, 'fall': 1194, 'received': 1195, 'wearing': 1196, 'inside': 1197, 'sometimes': 1198, 'hesitation': 1199, 'convinced': 1200, 'doll': 1201, 'gentleman': 1202, 'absolute': 1203, 'shows': 1204, 'common': 1205, 'environment': 1206, 'club': 1207, 'examination': 1208, 'reduce': 1209, 'invited': 1210, 'confident': 1211, 'writing': 1212, 'letters': 1213, 'recognize': 1214, 'caused': 1215, 'earthquake': 1216, 'failed': 1217, 'jumped': 1218, 'locked': 1219, 'conditioner': 1220, 'situation': 1221, '6': 1222, 'himself': 1223, 'precious': 1224, 'least': 1225, 'injured': 1226, 'during': 1227, 'stole': 1228, 'disappointment': 1229, 'cost': 1230, 'respected': 1231, 'tears': 1232, 'supposed': 1233, 'impossible': 1234, 'opinion': 1235, 'lying': 1236, 'certain': 1237, 'misunderstanding': 1238, 'fight': 1239, 'instant': 1240, 'ago': 1241, 'lots': 1242, 'gained': 1243, 'reason': 1244, 'thousands': 1245, 'taiwan': 1246, 'strike': 1247, 'president': 1248, 'sent': 1249, 'translate': 1250, 'quality': 1251, 'seventeen': 1252, 'sad': 1253, 'cities': 1254, 'gut': 1255, 'regard': 1256, 'names': 1257, 'careful': 1258, 'backs': 1259, 'selfish': 1260, 'thinks': 1261, 'feelings': 1262, 'committee': 1263, 'exam': 1264, 'investigate': 1265, 'reach': 1266, 'takes': 1267, 'safety': 1268, 'affected': 1269, 'promised': 1270, 'realize': 1271, 'value': 1272, 'calcutta': 1273, 'wow': 1274, 'awesome': 1275, 'goodbye': 1276, 'full': 1277, 'fantastic': 1278, 'fainted': 1279, 'fear': 1280, 'definitely': 1281, 'burns': 1282, 'easter': 1283, 'starving': 1284, 'snowing': 1285, 'unbelievable': 1286, 'dies': 1287, 'bloom': 1288, 'quick': 1289, 'aloud': 1290, 'bent': 1291, 'beard': 1292, 'actor': 1293, 'needs': 1294, 'kidding': 1295, 'guys': 1296, 'absurd': 1297, 'nauseous': 1298, 'assaulted': 1299, 'anybody': 1300, \"nobody's\": 1301, 'mouth': 1302, \"power's\": 1303, 'startled': 1304, 'climb': 1305, 'potatoes': 1306, 'faces': 1307, 'thirsty': 1308, 'bar': 1309, 'deceive': 1310, 'employs': 1311, 'maid': 1312, 'traitor': 1313, 'sleepy': 1314, 'truly': 1315, 'starting': 1316, \"one's\": 1317, 'rotates': 1318, 'pie': 1319, 'stones': 1320, 'gone': 1321, 'nuts': 1322, '1960': 1323, '1979': 1324, 'handle': 1325, 'toyota': 1326, 'leaped': 1327, 'joy': 1328, 'happily': 1329, 'annoys': 1330, 'batter': 1331, 'flew': 1332, \"mary's\": 1333, 'skating': 1334, 'pumpkin': 1335, 'begin': 1336, 'wheel': 1337, 'lonely': 1338, \"he'll\": 1339, 'singing': 1340, 'hate': 1341, 'risks': 1342, 'marry': 1343, 'ink': 1344, 'tiger': 1345, 'skies': 1346, 'winter': 1347, 'saver': 1348, 'envied': 1349, 'lent': 1350, \"how's\": 1351, 'stranger': 1352, 'counting': 1353, 'expect': 1354, 'vomiting': 1355, 'stomachache': 1356, 'problems': 1357, 'finger': 1358, 'allergic': 1359, 'ringing': 1360, 'charge': 1361, 'victory': 1362, 'lincoln': 1363, '1865': 1364, 'specialty': 1365, 'ablaze': 1366, 'damp': 1367, 'pipe': 1368, 'hers': 1369, 'zoo': 1370, 'contain': 1371, 'prove': 1372, 'camera': 1373, 'lay': 1374, 'rung': 1375, 'deals': 1376, 'furniture': 1377, 'shooter': 1378, 'sixty': 1379, 'sang': 1380, 'dear': 1381, 'won': 1382, 'writes': 1383, 'beautifully': 1384, 'grateful': 1385, 'dove': 1386, 'servant': 1387, 'liked': 1388, 'biology': 1389, 'korea': 1390, 'tiny': 1391, 'toy': 1392, 'deep': 1393, 'disturbing': 1394, 'rested': 1395, 'nonsense': 1396, 'fox': 1397, 'wild': 1398, 'rabbit': 1399, 'ears': 1400, 'color': 1401, 'temper': 1402, 'slap': 1403, 'salary': 1404, 'daughters': 1405, 'tore': 1406, 'apart': 1407, 'understands': 1408, 'pity': 1409, 'cage': 1410, 'seem': 1411, \"wasn't\": 1412, 'fired': 1413, 'bloody': 1414, 'growling': 1415, 'gentle': 1416, 'wealthy': 1417, 'prattles': 1418, 'weird': 1419, 'gate': 1420, 'knife': 1421, 'sooner': 1422, 'thin': 1423, 'tame': 1424, 'engine': 1425, 'temperature': 1426, 'stuttering': 1427, 'spoil': 1428, 'alcohol': 1429, 'sand': 1430, 'catches': 1431, 'colds': 1432, 'smelling': 1433, 'soup': 1434, 'theft': 1435, 'throwing': 1436, 'dentist': 1437, 'drinking': 1438, 'beer': 1439, '12': 1440, 'concern': 1441, 'example': 1442, 'debts': 1443, 'flames': 1444, 'adopted': 1445, 'orphan': 1446, 'plus': 1447, 'round': 1448, 'nationality': 1449, 'pours': 1450, 'travels': 1451, 'choose': 1452, 'ambulance': 1453, 'envelope': 1454, 'leveled': 1455, 'dissatisfied': 1456, 'kilo': 1457, 'beg': 1458, 'differ': 1459, 'jacket': 1460, 'subway': 1461, 'condition': 1462, 'knocking': 1463, 'coughing': 1464, 'refund': 1465, 'page': 1466, 'introduce': 1467, 'obstinate': 1468, 'refused': 1469, 'notice': 1470, 'pulse': 1471, \"food's\": 1472, 'committed': 1473, 'includes': 1474, 'narrow': 1475, 'lacks': 1476, 'courage': 1477, 'line': 1478, 'b': 1479, 'sale': 1480, 'arrest': 1481, 'hammered': 1482, 'hesitated': 1483, 'sentenced': 1484, 'quota': 1485, 'bowls': 1486, 'hunger': 1487, 'drove': 1488, 'farther': 1489, 'glimpse': 1490, 'fixed': 1491, 'facebook': 1492, \"barber's\": 1493, 'smog': 1494, 'causes': 1495, 'snakes': 1496, 'poisonous': 1497, 'enemy': 1498, 'haze': 1499, 'enveloped': 1500, 'abused': 1501, 'released': 1502, 'families': 1503, 'painted': 1504, 'appeared': 1505, 'appointment': 1506, 'fail': 1507, 'watering': 1508, 'greeks': 1509, 'engaged': 1510, 'occasionally': 1511, 'worthless': 1512, 'honesty': 1513, 'policy': 1514, 'usual': 1515, 'decline': 1516, 'john': 1517, 'june': 1518, '4': 1519, '1974': 1520, 'bum': 1521, 'same': 1522, 'aunt': 1523, \"'yes'\": 1524, 'arms': 1525, 'bride': 1526, 'tastes': 1527, 'bitter': 1528, 'clung': 1529, 'exciting': 1530, 'paint': 1531, 'dried': 1532, 'drinkable': 1533, 'monsoon': 1534, 'greek': 1535, 'complete': 1536, 'figured': 1537, 'hurt': 1538, 'soft': 1539, 'drinks': 1540, 'breathe': 1541, 'digging': 1542, 'grave': 1543, 'prefers': 1544, 'repeated': 1545, 'treats': 1546, 'slave': 1547, '21st': 1548, 'cleaned': 1549, 'cycling': 1550, 'crossing': 1551, '1977': 1552, 'insert': 1553, 'metal': 1554, 'million': 1555, 'sheer': 1556, 'expenses': 1557, 'spa': 1558, 'jeans': 1559, 'shrank': 1560, 'also': 1561, 'answered': 1562, 'else': 1563, 'offered': 1564, 'declined': 1565, 'invitation': 1566, 'dialed': 1567, 'purse': 1568, 'bun': 1569, 'soldiers': 1570, 'silent': 1571, 'socks': 1572, 'houses': 1573, 'burned': 1574, 'smelled': 1575, 'tobacco': 1576, 'teachers': 1577, 'ourselves': 1578, 'south': 1579, 'terminal': 1580, 'tidy': 1581, 'chinese': 1582, 'underlined': 1583, 'lean': 1584, 'wall': 1585, 'football': 1586, 'changed': 1587, 'schools': 1588, 'eats': 1589, 'lunch': 1590, 'cafeteria': 1591, 'ear': 1592, 'shirts': 1593, 'washed': 1594, 'wishes': 1595, 'smell': 1596, 'bottles': 1597, \"deer's\": 1598, 'informed': 1599, 'mentioned': 1600, 'dozens': 1601, 'catching': 1602, '11': 1603, 'appears': 1604, 'honest': 1605, 'fate': 1606, 'arguing': 1607, 'collecting': 1608, 'coins': 1609, 'notebook': 1610, 'seicho': 1611, 'matumoto': 1612, '1992': 1613, 'beating': 1614, 'bush': 1615, 'widely': 1616, 'begun': 1617, 'decay': 1618, 'pole': 1619, 'cliff': 1620, 'vertical': 1621, 'crushed': 1622, 'enemies': 1623, 'sail': 1624, 'bombay': 1625, 'resolved': 1626, \"rodica's\": 1627, 'fifth': 1628, 'island': 1629, 'concealed': 1630, 'accustomed': 1631, \"boy's\": 1632, 'costly': 1633, 'purchases': 1634, 'toward': 1635, 'within': 1636, 'disturbed': 1637, 'bear': 1638, 'sundays': 1639, 'reasonable': 1640, 'basketball': 1641, 'escaped': 1642, 'dreams': 1643, 'withered': 1644, 'governed': 1645, 'finland': 1646, 'consider': 1647, 'intelligent': 1648, 'solve': 1649, 'mile': 1650, 'team': 1651, 'ours': 1652, '20': 1653, 'dad': 1654, 'shaving': 1655, 'bathroom': 1656, 'cheaper': 1657, 'fighting': 1658, 'settle': 1659, 'attention': 1660, 'walks': 1661, 'behavior': 1662, 'odd': 1663, 'bone': 1664, 'keys': 1665, 'wallet': 1666, 'motioned': 1667, 'folder': 1668, 'worrying': 1669, 'politics': 1670, 'louder': 1671, 'remove': 1672, 'tries': 1673, 'pack': 1674, 'appearing': 1675, 'warned': 1676, 'string': 1677, 'occurs': 1678, 'frequently': 1679, 'raised': 1680, 'cloud': 1681, 'deer': 1682, 'barking': 1683, 'moves': 1684, 'investigation': 1685, 'hunting': 1686, 'lions': 1687, '200': 1688, 'carried': 1689, 'leather': 1690, 'goods': 1691, 'towels': 1692, '15': 1693, 'church': 1694, 'sixteenth': 1695, 'peace': 1696, 'dine': 1697, 'owe': 1698, 'apology': 1699, 'owner': 1700, 'solved': 1701, 'exports': 1702, 'wool': 1703, 'peasant': 1704, 'stuff': 1705, 'gonna': 1706, 'heavily': 1707, 'properly': 1708, 'perhaps': 1709, 'gazed': 1710, 'apartment': 1711, 'clock': 1712, 'discussing': 1713, 'crows': 1714, 'unless': 1715, 'ocean': 1716, 'hurried': 1717, 'boat': 1718, 'baggage': 1719, 'blame': 1720, 'wipe': 1721, 'conform': 1722, 'similar': 1723, 'rope': 1724, 'thrown': 1725, 'plans': 1726, 'detail': 1727, 'pressed': 1728, 'prompt': 1729, 'reply': 1730, 'bullet': 1731, 'weighed': 1732, 'stone': 1733, 'grandfather': 1734, 'housework': 1735, 'task': 1736, 'sin': 1737, 'anywhere': 1738, 'asking': 1739, 'visiting': 1740, 'oh': 1741, 'gas': 1742, 'billion': 1743, 'quite': 1744, 'accidental': 1745, 'pardon': 1746, 'raise': 1747, 'funds': 1748, 'gladly': 1749, 'proposal': 1750, 'younger': 1751, 'remained': 1752, 'stamps': 1753, 'stripped': 1754, 'conference': 1755, 'aware': 1756, 'shooting': 1757, 'noon': 1758, 'several': 1759, 'flat': 1760, 'planted': 1761, 'cave': 1762, 'tie': 1763, 'suit': 1764, 'hotel': 1765, \"beatles'\": 1766, 'chat': 1767, 'squirrel': 1768, 'branches': 1769, 'fallen': 1770, 'coincidentally': 1771, 'elephants': 1772, 'asia': 1773, 'neither': 1774, 'sadness': 1775, 'smile': 1776, 'pigeons': 1777, 'experiment': 1778, 'cash': 1779, 'fool': 1780, 'ability': 1781, 'adjust': 1782, 'message': 1783, 'ignore': 1784, 'neat': 1785, 'piece': 1786, 'prided': 1787, 'accompany': 1788, 'fewer': 1789, 'rarely': 1790, 'harm': 1791, 'someday': 1792, 'p': 1793, 'exactly': 1794, 'parallel': 1795, 'besides': 1796, 'shared': 1797, 'profit': 1798, 'elephant': 1799, 'dislike': 1800, 'bern': 1801, 'switzerland': 1802, 'classmates': 1803, 'comfort': 1804, 'faults': 1805, 'reverse': 1806, 'neighborhood': 1807, 'sense': 1808, 'rebellion': 1809, 'faster': 1810, 'rescued': 1811, 'sandwiches': 1812, 'remain': 1813, 'naughty': 1814, 'haste': 1815, 'repair': 1816, 'group': 1817, 'actress': 1818, 'dishes': 1819, 'germany': 1820, 'safe': 1821, 'wings': 1822, 'golf': 1823, 'cleared': 1824, 'ghosts': 1825, 'preparing': 1826, 'planting': 1827, 'profession': 1828, 'cradle': 1829, 'holding': 1830, 'hole': 1831, 'deprived': 1832, 'mystery': 1833, 'remains': 1834, 'unsolved': 1835, 'discussed': 1836, 'clever': 1837, 'newspaper': 1838, 'matters': 1839, 'land': 1840, 'moon': 1841, 'eager': 1842, 'wooden': 1843, 'buildings': 1844, 'opening': 1845, 'loyalty': 1846, 'century': 1847, 'laugh': 1848, 'extend': 1849, 'helps': 1850, 'russian': 1851, 'seemed': 1852, 'ignorance': 1853, 'stuck': 1854, 'oxford': 1855, 'university': 1856, 'cemetery': 1857, 'jogging': 1858, 'innocent': 1859, 'complains': 1860, 'daytime': 1861, 'ninth': 1862, 'completely': 1863, 'unfounded': 1864, 'approached': 1865, 'equal': 1866, 'hour': 1867, 'match': 1868, 'brown': 1869, 'agreement': 1870, 'managed': 1871, 'genuine': 1872, 'runs': 1873, 'valley': 1874, 'thick': 1875, 'mist': 1876, 'countryside': 1877, 'quitting': 1878, 'buddhism': 1879, 'beginnings': 1880, 'classical': 1881, 'bones': 1882, 'leg': 1883, 'impatient': 1884, 'gently': 1885, 'shoulder': 1886, 'grows': 1887, 'wiped': 1888, 'sweat': 1889, 'forehead': 1890, 'follows': 1891, 'scale': 1892, 'amazed': 1893, 'scared': 1894, 'anchorage': 1895, 'ache': 1896, 'imagine': 1897, 'earlier': 1898, 'complained': 1899, 'rudeness': 1900, 'prepared': 1901, 'pretending': 1902, \"tom's\": 1903, 'fifteen': 1904, 'dug': 1905, 'treasure': 1906, 'attended': 1907, 'exhibited': 1908, 'remorse': 1909, 'crime': 1910, 'failure': 1911, 'board': 1912, 'childhood': 1913, 'mohan': 1914, 'acquainted': 1915, 'sofa': 1916, 'veracity': 1917, 'unicycle': 1918, 'regret': 1919, 'umbrella': 1920, 'phrase': 1921, 'mom': 1922, 'keeps': 1923, 'peacefully': 1924, 'sickness': 1925, 'sound': 1926, 'beast': 1927, 'patrolling': 1928, 'trying': 1929, 'persuade': 1930, 'charged': 1931, 'directions': 1932, 'cloth': 1933, 'silky': 1934, 'driven': 1935, 'electricity': 1936, 'unused': 1937, 'pink': 1938, 'remote': 1939, 'control': 1940, 'embezzled': 1941, 'employees': 1942, 'stories': 1943, 'cooking': 1944, 'fully': 1945, 'innocence': 1946, 'american': 1947, 'literature': 1948, 'obliged': 1949, 'youngster': 1950, 'pair': 1951, 'scissors': 1952, 'debt': 1953, 'drop': 1954, 'consented': 1955, 'suffers': 1956, 'headaches': 1957, 'miracle': 1958, 'save': 1959, 'reminds': 1960, 'pianist': 1961, 'scar': 1962, 'cheek': 1963, 'completed': 1964, 'proverb': 1965, 'turning': 1966, 'volume': 1967, 'nerve': 1968, 'results': 1969, 'excellent': 1970, 'cows': 1971, 'sacred': 1972, 'entered': 1973, 'hardships': 1974, 'price': 1975, 'wares': 1976, 'poet': 1977, 'destined': 1978, 'adding': 1979, 'salt': 1980, 'concert': 1981, 'pronounce': 1982, 'angels': 1983, \"you'd\": 1984, 'straight': 1985, 'matches': 1986, 'everywhere': 1987, 'forward': 1988, 'named': 1989, 'rainbow': 1990, 'burglar': 1991, 'satisfying': 1992, 'spoiled': 1993, 'prison': 1994, 'film': 1995, 'punished': 1996, 'break': 1997, 'spit': 1998, 'identify': 1999, 'recognized': 2000, 'defeated': 2001, 'opponent': 2002, 'election': 2003, 'expectations': 2004, 'release': 2005, 'prisoners': 2006, 'rely': 2007, 'watched': 2008, 'beginning': 2009, 'materials': 2010, 'acquaintance': 2011, 'woods': 2012, 'strangers': 2013, 'countries': 2014, 'heavy': 2015, 'bakery': 2016, 'cute': 2017, 'lady': 2018, 'granddaughter': 2019, 'calls': 2020, 'drastic': 2021, 'measures': 2022, 'penalty': 2023, 'continent': 2024, 'cured': 2025, 'discovered': 2026, 'brave': 2027, 'act': 2028, 'pickpocketing': 2029, 'breath': 2030, 'operate': 2031, 'erase': 2032, 'wondering': 2033, 'definite': 2034, 'carelessness': 2035, 'qutub': 2036, 'minar': 2037, 'fort': 2038, 'farmer': 2039, 'toudaiji': 2040, 'spending': 2041, 'hokkaido': 2042, 'blanket': 2043, 'growing': 2044, 'poorer': 2045, 'obvious': 2046, 'main': 2047, 'object': 2048, 'chose': 2049, 'climate': 2050, 'congratulate': 2051, 'engagement': 2052, 'possession': 2053, 'respect': 2054, 'vocabulary': 2055, 'amend': 2056, 'constitution': 2057, 'holiday': 2058, 'hold': 2059, 'carries': 2060, 'seeds': 2061, 'distances': 2062, 'clouds': 2063, 'furnished': 2064, 'originally': 2065, 'journey': 2066, 'investigated': 2067, 'angles': 2068, 'photocopier': 2069, \"what'll\": 2070, 'requires': 2071, 'madman': 2072, 'accountable': 2073, 'actions': 2074, 'rubber': 2075, 'bounces': 2076, 'elastic': 2077, 'part': 2078, 'british': 2079, 'citizen': 2080, 'becoming': 2081, 'artist': 2082, 'closing': 2083, 'spends': 2084, 'entirely': 2085, 'heap': 2086, 'theater': 2087, 'woke': 2088, 'middle': 2089, 'reforming': 2090, 'male': 2091, 'peacock': 2092, 'colorful': 2093, 'tail': 2094, 'feathers': 2095, 'leading': 2096, 'cursed': 2097, 'finding': 2098, 'waking': 2099, 'opposite': 2100, 'seats': 2101, 'occur': 2102, 'windows': 2103, 'copyrighted': 2104, 'sources': 2105, 'balance': 2106, 'allowances': 2107, 'oppose': 2108, 'whom': 2109, 'pouring': 2110, 'lift': 2111, 'mt': 2112, 'everest': 2113, 'highest': 2114, 'peak': 2115, 'poured': 2116, 'washing': 2117, 'enter': 2118, 'classroom': 2119, 'careless': 2120, 'driving': 2121, 'factory': 2122, 'cease': 2123, 'operations': 2124, 'alarm': 2125, 'throughout': 2126, 'observed': 2127, 'eventually': 2128, 'fined': 2129, '000': 2130, 'illegal': 2131, 'parking': 2132, 'distinguish': 2133, 'granted': 2134, 'wins': 2135, 'receive': 2136, 'gives': 2137, 'innumerable': 2138, 'contact': 2139, 'alphabet': 2140, 'hang': 2141, 'given': 2142, 'biggest': 2143, 'source': 2144, 'inspiration': 2145, 'hesitate': 2146, 'drug': 2147, 'smuggler': 2148, 'fortunate': 2149, 'loving': 2150, 'presents': 2151, 'switch': 2152, 'member': 2153, 'commit': 2154, 'suicide': 2155, 'upon': 2156, 'weekend': 2157, 'waist': 2158, 'britain': 2159, '1947': 2160, 'located': 2161, 'towns': 2162, 'grapes': 2163, 'sour': 2164, 'booted': 2165, 'foreigners': 2166, 'customers': 2167, 'products': 2168, \"we'd\": 2169, 'independent': 2170, 'softer': 2171, 'report': 2172, 'resting': 2173, 'elected': 2174, 'frankly': 2175, 'reminded': 2176, 'parcel': 2177, 'phrases': 2178, 'ease': 2179, 'searching': 2180, 'exist': 2181, 'immediately': 2182, 'private': 2183, 'acquaintances': 2184, 'reform': 2185, 'laws': 2186, 'above': 2187, 'sixth': 2188, 'floor': 2189, 'superior': 2190, 'popular': 2191, 'exchange': 2192, 'sweater': 2193, 'u': 2194, 's': 2195, 'contracted': 2196, 'malaria': 2197, 'property': 2198, 'slept': 2199, 'thames': 2200, 'distributed': 2201, 'returning': 2202, \"weren't\": 2203, 'swear': 2204, 'decide': 2205, 'freedom': 2206, 'objected': 2207, 'removing': 2208, 'chatting': 2209, 'seventh': 2210, 'noisy': 2211, 'encouraged': 2212, 'fulfill': 2213, 'ambitions': 2214, 'constantly': 2215, 'forgetting': 2216, \"people's\": 2217, 'seldom': 2218, 'theory': 2219, 'comprehend': 2220, 'surprise': 2221, 'emergency': 2222, 'polluted': 2223, 'atmosphere': 2224, 'reached': 2225, 'international': 2226, 'trade': 2227, 'vital': 2228, 'economies': 2229, 'richest': 2230, 'bat': 2231, 'balls': 2232, 'protection': 2233, 'kindness': 2234, 'carefully': 2235, 'dropped': 2236, 'photograph': 2237, 'developed': 2238, 'arrange': 2239, 'motorbike': 2240, 'helmet': 2241, 'dirty': 2242, 'repairing': 2243, 'industry': 2244, 'majority': 2245, 'bill': 2246, 'aids': 2247, 'horrifyingly': 2248, 'parts': 2249, 'shower': 2250, 'drenched': 2251, 'skin': 2252, 'lakes': 2253, 'biwa': 2254, 'beforehand': 2255, 'maybe': 2256, 'unhappy': 2257, 'intend': 2258, 'kill': 2259, 'huge': 2260, 'snake': 2261, 'murdered': 2262, 'entrance': 2263, 'communicate': 2264, 'patience': 2265, 'succeeded': 2266, 'chain': 2267, 'bite': 2268, 'ventured': 2269, 'swallow': 2270, 'tablets': 2271, 'awake': 2272, 'taj': 2273, 'mahal': 2274, 'wonders': 2275, 'voyage': 2276, 'obtained': 2277, 'yield': 2278, 'percent': 2279, 'investment': 2280, 'pollute': 2281, 'conduct': 2282, 'columbus': 2283, 'argued': 2284, 'west': 2285, '1600s': 2286, 'introduced': 2287, 'barely': 2288, 'afford': 2289, 'essential': 2290, 'command': 2291, 'mumbai': 2292, 'indian': 2293, 'maharashtra': 2294, 'fishing': 2295, '100': 2296, 'intends': 2297, 'devote': 2298, 'curing': 2299, 'wear': 2300, 'greatest': 2301, 'economic': 2302, 'powers': 2303, 'fifteenth': 2304, 'calculation': 2305, 'although': 2306, 'twins': 2307, 'interests': 2308, 'paid': 2309, 'dues': 2310, 'deliberately': 2311, 'ignored': 2312, 'seeing': 2313, 'authorities': 2314, 'hiding': 2315, 'facts': 2316, 'public': 2317, 'opened': 2318, 'smelt': 2319, 'imitation': 2320, 'diamonds': 2321, 'sets': 2322, 'destination': 2323, 'blowing': 2324, 'horn': 2325, 'demanded': 2326, 'copies': 2327, 'sheep': 2328, 'field': 2329, 'higher': 2330, 'wars': 2331, 'fisherman': 2332, 'exaggerated': 2333, 'corruption': 2334, 'toes': 2335, 'sticking': 2336, 'cleaning': 2337, 'prepare': 2338, 'resembles': 2339, 'appearance': 2340, 'character': 2341, 'incident': 2342, 'electric': 2343, 'companies': 2344, 'seeking': 2345, 'staring': 2346, 'ceiling': 2347, 'handful': 2348, 'peanuts': 2349, 'firm': 2350, 'bankruptcy': 2351, 'below': 2352, 'access': 2353, 'acknowledgement': 2354, 'services': 2355, 'twin': 2356, 'girls': 2357, 'alike': 2358, 'practice': 2359, 'laying': 2360, 'thieves': 2361, 'drawers': 2362, 'search': 2363, \"driver's\": 2364, 'license': 2365, 'eighteen': 2366, 'catholic': 2367, 'nun': 2368, 'george': 2369, 'washington': 2370, 'unites': 2371, 'states': 2372, '1951': 2373, 'supermarket': 2374, 'daily': 2375, 'passengers': 2376, 'nearest': 2377, 'democracy': 2378, 'worst': 2379, 'form': 2380, 'kid': 2381, 'touching': 2382, 'bugs': 2383, 'bother': 2384, 'translation': 2385, 'translating': 2386, 'translations': 2387, 'influence': 2388}\n"
     ]
    }
   ],
   "source": [
    "# # get the word to index/integer mapping for input language\n",
    "word2idx_inputs = tokenizer_inputs.word_index\n",
    "print('Found %s unique input tokens.' %len(word2idx_inputs))\n",
    "print(word2idx_inputs)"
   ]
  },
  {
   "cell_type": "code",
   "execution_count": 8,
   "metadata": {},
   "outputs": [
    {
     "name": "stdout",
     "output_type": "stream",
     "text": [
      "max_len_input: 22\n"
     ]
    }
   ],
   "source": [
    "# Determine maximum length input sequence\n",
    "max_len_input = max(len(s) for s in input_sequences)\n",
    "\n",
    "print('max_len_input:', max_len_input)"
   ]
  },
  {
   "cell_type": "markdown",
   "metadata": {},
   "source": [
    "### Tokenize the output (Convert the sentences (string) into integers)"
   ]
  },
  {
   "cell_type": "code",
   "execution_count": 9,
   "metadata": {},
   "outputs": [],
   "source": [
    "# We don't filter out special characters, otherwise <eos> and <sos> won't appear.\n",
    "tokenizer_outputs = Tokenizer(num_words=MAX_NUM_WORDS, filters='')\n",
    "# This is an inefficient way as we are tokenizing it on the same data (target_texts and target_texts_input)\n",
    "# just offset by <sos> and <eos>word2idx_outputs\n",
    "tokenizer_outputs.fit_on_texts(target_texts + target_texts_inputs)\n",
    "\n",
    "target_sequences = tokenizer_outputs.texts_to_sequences(target_texts)\n",
    "target_sequences_input = tokenizer_outputs.texts_to_sequences(target_texts_inputs)"
   ]
  },
  {
   "cell_type": "markdown",
   "metadata": {},
   "source": [
    "### Word to integer mapping for output texts"
   ]
  },
  {
   "cell_type": "code",
   "execution_count": 10,
   "metadata": {},
   "outputs": [
    {
     "name": "stdout",
     "output_type": "stream",
     "text": [
      "Found 4095 unique output tokens.\n",
      "{'में': 1, 'नहीं': 2, 'है।': 3, 'है।<eos>': 4, 'से': 5, 'के': 6, 'को': 7, 'वह': 8, 'मैं': 9, 'की': 10, 'मुझे': 11, 'का': 12, 'बहुत': 13, 'पर': 14, 'हो': 15, '<sos>मैं': 16, 'एक': 17, '<sos>वह': 18, 'कर': 19, 'लिए': 20, 'है': 21, 'हैं।': 22, 'कि': 23, 'हैं।<eos>': 24, '<sos>मुझे': 25, 'क्या': 26, 'यह': 27, 'तुम': 28, 'और': 29, 'भी': 30, 'उसने': 31, 'मेरे': 32, 'अपने': 33, 'हूँ।<eos>': 34, 'हूँ।': 35, 'रहा': 36, 'ने': 37, 'उसे': 38, '<sos>उसने': 39, 'था।<eos>': 40, 'था।': 41, 'तो': 42, 'पास': 43, 'क्या?<eos>': 44, 'क्या?': 45, 'इस': 46, 'करने': 47, 'ही': 48, 'काम': 49, 'अपनी': 50, 'मेरी': 51, 'कल': 52, 'है?': 53, 'कोई': 54, 'है?<eos>': 55, 'करना': 56, '<sos>तुम': 57, 'घर': 58, 'साथ': 59, 'समय': 60, 'सकते': 61, 'गया': 62, 'बात': 63, 'उसके': 64, 'रही': 65, 'पता': 66, 'मैंने': 67, 'उस': 68, '<sos>यह': 69, 'तुम्हारे': 70, 'उसकी': 71, 'तुम्हें': 72, 'बजे': 73, 'तक': 74, 'हैं': 75, 'मेरा': 76, 'किताब': 77, 'लगता': 78, 'पसंद': 79, 'हम': 80, 'अच्छा': 81, 'रहे': 82, 'था': 83, 'कुछ': 84, 'अभी': 85, '<sos>मैंने': 86, 'सकता': 87, 'मत': 88, 'आ': 89, 'यहाँ': 90, '<sos>मेरे': 91, 'करता': 92, 'हुई': 93, 'आज': 94, 'गया।': 95, 'अपना': 96, 'मुझसे': 97, 'पैसे': 98, 'होता': 99, 'गया।<eos>': 100, 'जाने': 101, 'उससे': 102, 'न': 103, 'मदद': 104, 'हुए': 105, '<sos>क्या': 106, 'गाड़ी': 107, 'ज़्यादा': 108, 'साल': 109, 'करते': 110, 'कहाँ': 111, 'भारत': 112, 'कभी': 113, 'दो': 114, 'हुआ': 115, '<sos>हम': 116, 'उसको': 117, 'होती': 118, 'पहले': 119, 'आप': 120, 'सारे': 121, 'जो': 122, 'थी।<eos>': 123, 'जाना': 124, 'तुम्हे': 125, 'थी।': 126, 'हूँ': 127, 'टॉम': 128, 'जा': 129, 'आदमी': 130, 'अंग्रेज़ी': 131, 'देर': 132, 'उसका': 133, 'किया': 134, 'बार': 135, 'दिन': 136, 'है,': 137, 'बड़ा': 138, 'गए': 139, 'वापस': 140, 'बारे': 141, 'किसी': 142, 'बाहर': 143, 'हो?<eos>': 144, 'जाता': 145, 'बंद': 146, 'हो?': 147, '<sos>इस': 148, 'आपको': 149, 'तरह': 150, 'हमेशा': 151, '<sos>मेरी': 152, 'चाहिए।<eos>': 153, 'चाहिए।': 154, 'फ़ोन': 155, 'चाहता': 156, 'छोड़': 157, 'बारिश': 158, 'लोगों': 159, 'जल्दी': 160, 'लोग': 161, 'कितने': 162, 'खाना': 163, 'दिया।<eos>': 164, 'दिया।': 165, 'ठीक': 166, 'तुमसे': 167, 'हैं?<eos>': 168, 'सब': 169, 'रात': 170, 'थे।<eos>': 171, 'हैं?': 172, 'थे।': 173, 'जवाब': 174, 'वहाँ': 175, 'वे': 176, 'दस': 177, 'आता': 178, 'कैसे': 179, 'चला': 180, 'खुश': 181, 'चल': 182, 'दिया': 183, 'किया।<eos>': 184, 'बच्चे': 185, 'किया।': 186, 'खतम': 187, 'मौसम': 188, 'तुम्हारी': 189, 'हर': 190, 'क्यों': 191, 'अच्छी': 192, 'तीन': 193, 'होने': 194, 'हो।': 195, '<sos>उसे': 196, '<sos>आप': 197, 'स्कूल': 198, 'जब': 199, 'करती': 200, 'अब': 201, 'हो।<eos>': 202, 'शुरू': 203, 'देखा': 204, 'सबसे': 205, '<sos>तुम्हे': 206, 'हमारे': 207, 'ये': 208, 'पानी': 209, 'पापा': 210, 'कोशिश': 211, 'अच्छे': 212, 'गई': 213, 'होगा।<eos>': 214, 'दोस्त': 215, 'कम': 216, 'करनी': 217, 'या': 218, 'चिट्ठी': 219, 'होगा।': 220, 'मुश्किल': 221, 'माँ': 222, 'ट्रेन': 223, '<sos>वे': 224, 'ले': 225, 'कुत्ता': 226, 'फिरसे': 227, 'रहता': 228, 'भाई': 229, 'मन': 230, 'लड़की': 231, 'सारी': 232, 'थोड़ी': 233, 'जाती': 234, 'चाहते': 235, 'बिना': 236, 'थोड़ा': 237, 'सुबह': 238, 'थक': 239, 'डॉक्टर': 240, 'कमरे': 241, 'पाँच': 242, 'अगर': 243, '<sos>तुम्हारे': 244, 'दोनो': 245, 'यकीन': 246, 'तुमने': 247, 'नौकरी': 248, 'कब': 249, 'पिता': 250, '<sos>उसको': 251, '<sos>उसकी': 252, 'जन्मदिन': 253, 'हमे': 254, 'छः': 255, 'गई।<eos>': 256, 'प्यार': 257, 'शहर': 258, 'पढ़': 259, 'वाला': 260, 'रोज़': 261, 'बस': 262, 'नाम': 263, 'लिया': 264, 'हमारी': 265, 'किताबें': 266, 'सच': 267, 'हफ़्ते': 268, 'नदी': 269, 'वाले': 270, 'महीने': 271, 'खाने': 272, 'वजह': 273, 'गई।': 274, '<sos>तुम्हें': 275, '<sos>उस': 276, 'बाद': 277, 'चाय': 278, 'चुका': 279, 'आने': 280, 'आपकी': 281, 'साफ़': 282, 'ज़रूरत': 283, 'आवाज़': 284, 'तुम्हारा': 285, 'विदेश': 286, 'पूरी': 287, 'रहते': 288, 'बड़े': 289, 'शादी': 290, 'दे': 291, 'उन्होंने': 292, 'हमने': 293, 'होते': 294, 'देख': 295, 'आमतौर': 296, 'सिगरेट': 297, 'अगले': 298, 'सभी': 299, 'दी।<eos>': 300, 'मुझपर': 301, 'इनसान': 302, 'पिताजी': 303, 'टीवी': 304, 'कमरा': 305, 'करो।': 306, '<sos>मेरा': 307, 'दी।': 308, '<sos>अगर': 309, 'सकता।<eos>': 310, 'सोच': 311, 'तैयार': 312, 'उम्र': 313, 'मिलने': 314, 'पीछे': 315, 'इंतेज़ार': 316, 'जानता': 317, 'इस्तेमाल': 318, 'चलाना': 319, 'खो': 320, 'मिलना': 321, 'टीचर': 322, 'सेव': 323, 'कपड़े': 324, 'पिछले': 325, 'काफ़ी': 326, 'कितनी': 327, 'लगा': 328, 'समझ': 329, 'जापान': 330, 'देना': 331, 'फ़ायदा': 332, 'था,': 333, 'सकता।': 334, '<sos>उसके': 335, '<sos>हमने': 336, 'करो।<eos>': 337, 'कौन': 338, 'चीज़': 339, 'लड़के': 340, 'थे': 341, 'कहा': 342, 'इतना': 343, 'आपके': 344, 'मेज़': 345, 'बच्चों': 346, 'देखा।': 347, '<sos>आज': 348, 'भूल': 349, 'लगी': 350, 'ग़लत': 351, 'लग': 352, 'हाथ': 353, 'गए।<eos>': 354, 'आसान': 355, 'दरवाज़े': 356, 'जूते': 357, 'एक-दूसरे': 358, 'आदत': 359, 'पीना': 360, 'दोपहर': 361, 'दिनों': 362, 'क्योंकि': 363, '<sos>टॉम': 364, 'गए।': 365, '<sos>कल': 366, 'आग': 367, 'देखा।<eos>': 368, 'सही': 369, 'इन': 370, 'उनके': 371, 'अंदर': 372, 'दो।<eos>': 373, 'पैसों': 374, 'याद': 375, 'बन': 376, 'बहन': 377, 'भरोसा': 378, 'स्टेशन': 379, 'उनकी': 380, 'कॉफ़ी': 381, 'लगभग': 382, 'सवाल': 383, 'अक्सर': 384, 'मिल': 385, 'खबर': 386, 'दवाई': 387, 'सो': 388, 'साईकल': 389, 'फ़र्क': 390, 'लगती': 391, 'अकेले': 392, 'सलाह': 393, 'बता': 394, 'गाँव': 395, 'दो।': 396, '<sos>तुम्हारी': 397, '<sos>तुमने': 398, '<sos>उन्होंने': 399, 'कैसा': 400, 'कुत्ते': 401, 'आराम': 402, 'मज़ाक': 403, 'खुशी': 404, 'कितना': 405, 'लिया।<eos>': 406, 'घड़ी': 407, 'लिया।': 408, '<sos>जब': 409, 'माफ़': 410, 'तैरना': 411, 'बीमार': 412, 'देखने': 413, 'संगीत': 414, 'पढ़ाई': 415, 'नहीं।<eos>': 416, 'आया': 417, 'करी': 418, 'मुलाकात': 419, 'ग़लती': 420, 'चालू': 421, 'विश्वास': 422, 'लम्बा': 423, 'जैसा': 424, 'ख़याल': 425, 'पार्टी': 426, 'रखना': 427, 'बाल': 428, 'तेज़': 429, 'पुराने': 430, 'मर': 431, 'ढूँढ': 432, 'सैर': 433, 'चाह्ता': 434, 'सफ़र': 435, 'तस्वीर': 436, 'बीच': 437, 'धीरे': 438, 'होगा': 439, 'लिखी': 440, 'देने': 441, 'जाकर': 442, 'चाहिए': 443, 'दुनिया': 444, '<sos>यहाँ': 445, 'नहीं।': 446, 'भूख': 447, 'मौत': 448, 'शायद': 449, 'डब्बे': 450, 'पुलिस': 451, 'जहाँ': 452, 'छोटी': 453, 'करी।<eos>': 454, 'समस्या': 455, 'नई': 456, 'लंदन': 457, 'अचानक': 458, 'कहना': 459, 'बर्दाश्त': 460, '<sos>हमारे': 461, '<sos>एक': 462, '<sos>ये': 463, '<sos>हमे': 464, '<sos>मुझसे': 465, 'करी।': 466, 'निकल': 467, 'आपका': 468, 'आपसे': 469, 'कृपया': 470, 'कहानी': 471, 'दर्द': 472, 'विद्यार्थी': 473, 'चोरी': 474, 'आँखें': 475, 'सकती': 476, 'उन': 477, 'पैदा': 478, 'परिवार': 479, 'सुंदर': 480, 'आती': 481, 'थी': 482, 'करके': 483, 'कीजिएगा,': 484, 'जाएगा।<eos>': 485, 'देखना': 486, 'लगाकर': 487, 'बताया': 488, 'काट': 489, 'मिला': 490, 'बज': 491, 'अफ़वाह': 492, 'नाप': 493, 'ज़िन्दगी': 494, 'जानवर': 495, 'भाग': 496, 'खाली': 497, 'सात': 498, 'देश': 499, 'आसानी': 500, 'डर': 501, 'टेनिस': 502, 'दोनों': 503, 'अध्यापक': 504, 'पीने': 505, 'जाते': 506, 'आना': 507, 'खिड़की': 508, 'दुर्घटना': 509, 'पूरे': 510, 'वादा': 511, 'बजाय': 512, 'सड़क': 513, 'बोली': 514, 'बड़ी': 515, 'भाषा': 516, 'राजधानी': 517, 'रहना': 518, 'जैसे': 519, 'जल्द-से-जल्द': 520, 'ज़िम्मेदार': 521, 'अंतर': 522, 'मशीन': 523, 'हैं,': 524, 'जाएगा।': 525, 'बिस्तर': 526, 'शोर': 527, 'जितना': 528, 'हुआ।<eos>': 529, 'बुरी': 530, 'गर्मी': 531, 'पेड़': 532, 'रविवार': 533, 'उन्हें': 534, 'होमवर्क': 535, 'फ़िल्म': 536, 'इसके': 537, 'इतने': 538, 'हुआ।': 539, 'वैसा': 540, 'लगते': 541, 'दरवाज़ा': 542, 'मछलियाँ': 543, 'खरीदना': 544, 'पैर': 545, 'ज़रूरी': 546, 'सुनाई': 547, 'गिटार': 548, 'पतंग': 549, 'बारी': 550, 'फिर': 551, 'रहें': 552, 'खराब': 553, 'सच्चाई': 554, 'जानते': 555, 'रहती': 556, 'किसने': 557, 'सा': 558, 'छोटा': 559, 'चुके': 560, 'कौनसा': 561, 'अमीर': 562, 'पढ़ना': 563, 'जान': 564, 'बना': 565, 'कामयाब': 566, 'सहमत': 567, 'पीठ': 568, 'फ़ैसला': 569, 'रंग': 570, 'चुकी': 571, 'अफ़सर': 572, 'मिला।<eos>': 573, 'गरीब': 574, 'कम-से-कम': 575, 'लम्बी': 576, 'पूरा': 577, 'ऐसी': 578, 'औरत': 579, 'बजाना': 580, 'वाली': 581, 'अजीब': 582, 'पहुँच': 583, 'बोल': 584, 'खेलना': 585, 'राजा': 586, 'खड़े': 587, 'जंगल': 588, 'बीमारी': 589, 'किस': 590, 'आठ': 591, 'आए': 592, 'सीखना': 593, 'डॉलर': 594, 'उठा': 595, 'दिलचस्पी': 596, 'मम्मी': 597, 'बुराई': 598, 'हो,': 599, 'क्लास': 600, 'दिलचस्प': 601, 'रुक': 602, 'केवल': 603, 'बोलना': 604, 'नम्बर': 605, 'दूर': 606, 'सुनकर': 607, 'शौक': 608, 'रहने': 609, 'विषय': 610, 'करो': 611, 'स्वास्थ्य': 612, 'पढ़ने': 613, 'लिख': 614, 'अलग': 615, 'देखभाल': 616, 'छोटे': 617, 'पा': 618, 'तब': 619, '<sos>माफ़': 620, 'मिला।': 621, '<sos>भारत': 622, 'जाओ।<eos>': 623, 'आया।<eos>': 624, 'फूल': 625, 'इसे': 626, 'हमारा': 627, 'गरम': 628, 'हुई।<eos>': 629, 'आसमान': 630, 'हमें': 631, 'निराश': 632, 'हमको': 633, 'विज्ञान': 634, 'झील': 635, 'ग़लतियाँ': 636, 'ना?<eos>': 637, 'हवा': 638, 'ऐसा': 639, 'असली': 640, 'जितनी': 641, 'पहाड़': 642, 'अम्रीका': 643, 'बच्चा': 644, 'जाओ।': 645, '<sos>उसका': 646, 'आया।': 647, '<sos>अपने': 648, 'हुई।': 649, 'ना?': 650, 'पेट': 651, 'कीजिए।<eos>': 652, 'खड़ा': 653, 'कैसी': 654, 'फ़्रानसीसी': 655, 'गिर': 656, 'मुफ़्त': 657, 'उड़': 658, 'कमी': 659, 'बस्ता': 660, 'आई': 661, 'पहनी': 662, 'लम्बे': 663, 'अप्रैल': 664, 'चाबी': 665, 'बैंक': 666, 'पड़ी।<eos>': 667, 'सवालों': 668, 'महसूस': 669, 'दिखने': 670, 'जीत': 671, 'खा': 672, '।<eos>': 673, 'खुला': 674, 'ड्रेस': 675, 'ओर': 676, 'सकते।<eos>': 677, 'राज़': 678, 'प्रस्ताव': 679, 'स्वीकार': 680, 'होंगे।<eos>': 681, 'नफ़रत': 682, 'परेशान': 683, 'भला': 684, 'गाना': 685, 'अपने-आप': 686, 'खुद': 687, 'मेहनत': 688, 'तरफ़': 689, 'उसपर': 690, 'सकती।<eos>': 691, 'सके': 692, 'इससे': 693, 'लेना-देना': 694, 'कुरसी': 695, 'चीनी': 696, 'खोल': 697, 'संतुष्ट': 698, 'उपन्यास': 699, 'कप': 700, 'सोने': 701, 'सेहत': 702, 'पत्नी': 703, 'मिनट': 704, 'लेने': 705, 'कठिन': 706, 'अटैची': 707, 'रो': 708, 'पसंदीता': 709, 'बदलने': 710, 'मील': 711, 'बिलकुल': 712, 'मे': 713, 'शब्द': 714, 'वाक्य': 715, 'हिसाब': 716, 'घंटे': 717, 'आखिरकार': 718, 'यूरोप': 719, 'नियम': 720, 'पार': 721, 'सपना': 722, 'सौ': 723, 'नगर': 724, 'होतीं': 725, 'हमसे': 726, 'चाहती': 727, 'टिकटें': 728, 'बेटे': 729, 'पकड़': 730, 'हद': 731, 'जहाज़': 732, 'रवाना': 733, 'इरादा': 734, 'होगी।<eos>': 735, 'लिखा': 736, 'बहनें': 737, 'बेचैन': 738, 'ढूँढने': 739, 'सुन': 740, 'पहली': 741, 'सामान': 742, 'पैरिस': 743, 'कई': 744, 'ख़रीद': 745, 'दोस्तों': 746, 'रह': 747, 'सामने': 748, 'क्रिकेट': 749, 'शौकिया': 750, 'खिलाड़ी': 751, 'ब्रिज': 752, 'देते': 753, 'अनुवाद': 754, 'परीक्षा': 755, 'कीजिए।': 756, '<sos>कृपया': 757, 'पड़ी।': 758, '<sos>आपको': 759, '<sos>हमारी': 760, '।': 761, 'सकते।': 762, 'होंगे।': 763, 'सकती।': 764, 'होगी।': 765, 'चलो': 766, 'करूँगा।<eos>': 767, 'है!<eos>': 768, 'था?<eos>': 769, 'नीचे': 770, 'लड़का': 771, 'इतिहास': 772, 'भगवान': 773, 'मूँह': 774, 'बिजली': 775, 'ऊपर': 776, 'ली।<eos>': 777, 'जंग': 778, 'चिंता': 779, 'योजना': 780, 'मछली': 781, 'लाल': 782, 'सारा': 783, 'पड़ेगी।<eos>': 784, 'कहीं': 785, 'जापानी': 786, 'दूध': 787, 'टोक्यो': 788, 'कनाडा': 789, 'सका।<eos>': 790, 'अमेरिका': 791, 'अफ़्रीका': 792, 'इसलिए': 793, 'बेहतर': 794, 'चीन': 795, 'कर्मचारियों': 796, '<sos>बहुत': 797, 'करूँगा।': 798, 'है!': 799, '<sos>कोई': 800, 'था?': 801, '<sos>कुछ': 802, 'ली।': 803, '<sos>हमें': 804, 'पड़ेगी।': 805, '<sos>डॉक्टर': 806, 'सका।': 807, 'भर': 808, 'बोर': 809, 'मालूम': 810, 'गाते': 811, 'तू': 812, 'केक': 813, 'समझता': 814, 'मान': 815, 'व्यस्थ': 816, 'सकतीं': 817, 'नक्शा': 818, 'गोली': 819, 'हूँ?<eos>': 820, 'थे?<eos>': 821, 'टोपी': 822, 'पति': 823, 'उल्टी': 824, 'नसीब': 825, 'रोना': 826, 'सिखा': 827, 'चावल': 828, 'बोलता': 829, 'कौनसी': 830, 'नीली': 831, 'शादीशुदा': 832, 'आएगा।<eos>': 833, 'महंगा': 834, 'महंगी': 835, 'तोड़': 836, 'पुरानी': 837, 'लेना': 838, 'बताने': 839, 'जाए।<eos>': 840, 'बेसबॉल': 841, 'लिखना': 842, 'कमीज़': 843, 'टैक्स': 844, 'पेनसिल': 845, 'बोलते': 846, 'समुंदर': 847, 'कामयाबी': 848, 'गुस्सा': 849, 'उधार': 850, 'होना': 851, 'प्रतीक्षा': 852, 'ग्यारह': 853, 'दीजिए।<eos>': 854, 'पहने': 855, 'लगतीं': 856, 'तेज़ी': 857, 'जाओगे': 858, 'रख': 859, 'अंडे': 860, 'व्यापार': 861, 'घोड़े': 862, 'छलाँग': 863, 'बैठ': 864, 'छूट': 865, '\"मैं': 866, 'लेता': 867, 'बुखार': 868, 'उठता': 869, 'ठंडा': 870, 'पियानो': 871, 'तेल': 872, 'बत्ती': 873, 'उतना': 874, 'इलज़ाम': 875, 'गिलास': 876, 'काश': 877, 'बजने': 878, 'डब्बा': 879, 'चार': 880, 'जी': 881, 'मुलाक़ात': 882, 'टैक्सी': 883, 'ध्यान': 884, 'इनकार': 885, 'कीमत': 886, 'किनारे': 887, 'सज़ा': 888, 'गाड़ियाँ': 889, 'दिखाई': 890, 'मुसीबत': 891, 'देखकर': 892, 'छाया': 893, 'साढ़े-आठ': 894, 'बनी': 895, 'रोने': 896, 'बीस': 897, 'रक्षा': 898, 'जगह': 899, 'भूलना।<eos>': 900, 'फूलों': 901, 'खाते': 902, 'छोड़ने': 903, 'बॉस': 904, 'सर': 905, 'चोट': 906, 'बर्ताव': 907, 'बर्बादी': 908, 'धीमी': 909, 'बचा': 910, 'मना': 911, 'खेलने': 912, 'दुकान': 913, 'दफ़्तर': 914, 'साफ़-सुथरा': 915, 'भाषण': 916, 'खेल': 917, 'खूबसूरत': 918, 'नतीजे': 919, 'नानी': 920, 'अलावा': 921, 'सी': 922, 'चीज़ें': 923, 'सोमवार': 924, 'घंटों': 925, 'सपने': 926, 'डाक': 927, 'मानते': 928, 'सोते': 929, 'खड़ी': 930, 'कविता': 931, 'निकालते': 932, 'सूरज': 933, 'बातचीत': 934, 'विश्व': 935, 'मानो,': 936, 'कब्रिस्तान': 937, 'स्टॉप': 938, 'देता': 939, 'अखबार': 940, 'पालन': 941, 'रूप': 942, 'उत्तर': 943, 'शर्म': 944, 'पचास': 945, 'तस्वीरें': 946, 'कम्प्यूटर': 947, 'इतनी': 948, 'चोर': 949, 'दिल्ली': 950, 'मीटिंग': 951, 'चलती': 952, 'उठते': 953, 'वसीयत': 954, 'जानना': 955, 'हैरान': 956, 'जेब': 957, 'पकड़ा': 958, 'मौके': 959, 'बुलाया': 960, 'आते': 961, 'मुताबिक': 962, 'कॉलेज': 963, 'कभी-कभी': 964, 'जाया': 965, 'लायक': 966, 'पाया': 967, 'राज़ी': 968, 'एक-दो': 969, 'पहचानता': 970, 'पहचान': 971, 'बूढ़ा': 972, 'जिसे': 973, 'दिख': 974, 'रास्ते': 975, 'पुस्तकालय': 976, 'माता-पिता': 977, 'सरकार': 978, 'जिससे': 979, 'सोचता': 980, 'पड़ता': 981, 'टेरेसा': 982, '<sos>तू': 983, 'हूँ?': 984, 'थे?': 985, '<sos>अपना': 986, 'आएगा।': 987, '<sos>तुम्हारा': 988, 'जाए।': 989, '<sos>दरवाज़े': 990, 'दीजिए।': 991, '<sos>काश': 992, 'भूलना।': 993, '<sos>अंग्रेज़ी': 994, '<sos>जो': 995, '<sos>जापान': 996, 'ठंड': 997, 'नया': 998, 'आओ।<eos>': 999, 'मुबारक': 1000, 'हो!<eos>': 1001, 'बरफ़': 1002, 'लो।<eos>': 1003, 'बिल्ली': 1004, 'आऊँगा।<eos>': 1005, 'पागल': 1006, 'रेडियो': 1007, 'i<eos>': 1008, 'शराब': 1009, 'पड़ेगा।<eos>': 1010, 'ज़ुकाम': 1011, 'उनका': 1012, 'गेंद': 1013, 'उनको': 1014, 'जैसी': 1015, 'चहिए।<eos>': 1016, 'नौ': 1017, 'जाऊँगा।<eos>': 1018, 'निर्णय': 1019, 'फ़ुटबॉल': 1020, 'लकड़ी': 1021, 'कैंसर': 1022, 'लगाया।<eos>': 1023, 'अगली': 1024, 'ओसाका': 1025, 'मानो': 1026, 'खेत': 1027, 'जाएगी।<eos>': 1028, 'इटली': 1029, 'जनसंख्या': 1030, 'मक्खन': 1031, 'उनसे': 1032, 'पत्र': 1033, 'आजकल': 1034, 'तुमको': 1035, 'विमान': 1036, 'ऐसे': 1037, 'जल्दबाज़ी': 1038, 'अस्पताल': 1039, 'पाया।<eos>': 1040, 'चाहे': 1041, 'कहने': 1042, 'बत्तियाँ': 1043, 'इंग्लैंड': 1044, '<sos>चलो': 1045, 'आओ।': 1046, 'हो!': 1047, 'लो।': 1048, '<sos>जल्दी': 1049, 'आऊँगा।': 1050, '<sos>मुश्किल': 1051, 'i': 1052, '<sos>बच्चे': 1053, 'पड़ेगा।': 1054, '<sos>अपनी': 1055, '<sos>जहाँ': 1056, 'चहिए।': 1057, 'जाऊँगा।': 1058, '<sos>स्कूल': 1059, '<sos>टीवी': 1060, '<sos>इन': 1061, 'लगाया।': 1062, '<sos>खाना': 1063, '<sos>किसी': 1064, 'जाएगी।': 1065, 'पाया।': 1066, 'नहीं?<eos>': 1067, 'मज़े': 1068, 'पंछी': 1069, 'बेहोश': 1070, 'मत।<eos>': 1071, 'पीछा': 1072, 'तैर': 1073, 'ताकतवर': 1074, 'गणित': 1075, 'पता।<eos>': 1076, 'दोबारा': 1077, 'नए': 1078, 'दाढ़ी': 1079, 'रहूँगा।<eos>': 1080, 'करता।<eos>': 1081, 'हों': 1082, 'चुकीं': 1083, 'भागते': 1084, 'अरबी': 1085, 'दौड़ने': 1086, 'काला': 1087, 'कैफ़े': 1088, 'हसीना': 1089, 'बक-बक': 1090, 'चढ़': 1091, 'लो,': 1092, 'आस-पड़ोस': 1093, 'मिलकर': 1094, 'हस्ताक्षर': 1095, 'धोखा': 1096, 'चिड़िया': 1097, 'घोसले': 1098, 'लगा।<eos>': 1099, 'नींद': 1100, 'सिरदर्द': 1101, 'तट': 1102, 'कहां': 1103, 'गहरी': 1104, 'साँस': 1105, 'मानता': 1106, 'औरतों': 1107, 'रातभर': 1108, 'मिलेंगे।<eos>': 1109, 'रेलगाड़ी': 1110, 'कौआ': 1111, 'चली': 1112, 'सच्ची': 1113, 'बनाया': 1114, 'कलम': 1115, 'जिमखाने': 1116, 'पड़ोस': 1117, 'हालत': 1118, 'स्वाद': 1119, 'खरीदी।<eos>': 1120, 'समझा': 1121, 'चाहूँगा।<eos>': 1122, 'रही।<eos>': 1123, 'हरे': 1124, 'वही': 1125, 'आओगे': 1126, 'रहतीं': 1127, 'बहाना': 1128, 'की।<eos>': 1129, 'तुमपर': 1130, 'भूत': 1131, 'लिपटा': 1132, 'रेशम': 1133, 'टूटी': 1134, 'साबित': 1135, 'पैसा': 1136, 'निशाना': 1137, 'बरस': 1138, 'आभारी': 1139, 'आता।<eos>': 1140, 'बॉस्टन': 1141, 'दौड़': 1142, 'बेटी': 1143, 'सूज': 1144, 'अकेला': 1145, 'डालना': 1146, 'घुसाना': 1147, 'घुसा': 1148, 'ज़िद्दी': 1149, 'बताओ': 1150, 'लगाई।<eos>': 1151, 'चलना': 1152, 'आएँगे': 1153, 'करो,': 1154, 'कान': 1155, 'मजबूर': 1156, 'चुरा': 1157, 'सोकर': 1158, 'अनुपस्थित': 1159, 'साढ़े': 1160, 'काले': 1161, 'पहनती': 1162, 'नर्म': 1163, 'दिल': 1164, 'समाप्त': 1165, 'मुड़कर': 1166, 'पालतू': 1167, 'छूने': 1168, 'जाएँगे': 1169, 'याददाश्त': 1170, 'मंगलवार': 1171, 'पासपोर्ट': 1172, 'पार्क': 1173, 'लगाया': 1174, 'थोड़े': 1175, 'दूँगा।<eos>': 1176, 'दर्जन': 1177, 'सफ़ेद': 1178, 'हुएँ': 1179, 'आई।<eos>': 1180, 'लागु': 1181, 'कर्ज़': 1182, 'सुन्दर': 1183, 'जरूरी': 1184, 'एक-साथ': 1185, 'छुट्टी': 1186, 'चाहिए?<eos>': 1187, 'बगीचा': 1188, 'शौकीन': 1189, 'बंदूक': 1190, 'कत्ल': 1191, 'किलो': 1192, 'पढ़ा': 1193, 'रास्ता': 1194, 'आयात': 1195, 'कौनसे': 1196, 'पढ़ते': 1197, 'गिरफ़्तार': 1198, 'परियों': 1199, 'पड़ोसियों': 1200, 'डरता': 1201, 'जल': 1202, 'दी': 1203, 'आँखों': 1204, 'खरीदी': 1205, 'खाता': 1206, 'हाल': 1207, 'बेच': 1208, 'मैनेजर': 1209, 'चाह्ती': 1210, 'तौलिया': 1211, 'चुकें': 1212, 'मिलते': 1213, 'पूछ': 1214, 'बीवी': 1215, 'सांप': 1216, 'छा': 1217, 'रिहा': 1218, 'स्वतंत्रता': 1219, 'दुःखी': 1220, 'तालाब': 1221, 'आस-पास': 1222, 'कोयले': 1223, 'आकर': 1224, 'सगाई': 1225, 'कभी-कभार': 1226, 'राय': 1227, 'बेकार': 1228, 'मुकाबले': 1229, 'मर्ज़ी': 1230, 'ज़िन्दा': 1231, 'मज़ेदार': 1232, 'वर्षा': 1233, 'समान': 1234, 'मशहूर': 1235, 'हँस': 1236, 'कीचड़': 1237, 'रखा': 1238, 'उम्मीदवार': 1239, 'अभिमान': 1240, 'सुनते': 1241, 'दोगे': 1242, 'शिकायत': 1243, 'गलत': 1244, 'हित': 1245, 'अच्छाई': 1246, 'पश्चिमी': 1247, 'खेलता': 1248, 'जर्मन': 1249, 'पढ़ी': 1250, 'अगस्त': 1251, 'चलने': 1252, 'सन': 1253, 'स्पैनिश': 1254, 'अरब': 1255, 'येन': 1256, 'सरासर': 1257, 'हिला': 1258, 'खतरे': 1259, 'हीरा': 1260, 'दाँतों': 1261, 'शब्दों': 1262, 'अंग्रेजी': 1263, 'गुलाब': 1264, 'बनने': 1265, 'बदबू': 1266, 'करतें': 1267, 'बहस': 1268, 'धीरे-धीरे': 1269, 'रोम': 1270, 'बढ़': 1271, 'उतर': 1272, '(रात': 1273, 'बुलाना': 1274, 'चहिए': 1275, 'बैठा': 1276, 'ब्रेड': 1277, 'चलें': 1278, 'नहीँ': 1279, 'दूसरे': 1280, 'नहाता': 1281, 'फँस': 1282, 'जाऊँगी।<eos>': 1283, 'भविष्य': 1284, 'चौंक': 1285, 'करोगे?<eos>': 1286, 'हैं?\"': 1287, 'पूछने': 1288, 'पड़': 1289, 'खतरनाक': 1290, 'मतलब': 1291, 'व्यक्ति': 1292, 'उतार': 1293, 'लेट': 1294, 'शानदार': 1295, 'भोजन': 1296, 'ली': 1297, 'छत': 1298, 'धूल': 1299, 'जारी': 1300, 'नज़र': 1301, 'लेखक': 1302, 'माँगनी': 1303, 'लेनी': 1304, 'ख़त्म': 1305, 'सब्ज़ियाँ': 1306, 'बरी': 1307, 'किसान': 1308, 'लगाए': 1309, 'आशा': 1310, 'भारी': 1311, 'मुझको': 1312, 'बुरे': 1313, 'देखते': 1314, 'हल्के': 1315, 'डूबते': 1316, 'ऊँचा': 1317, 'नियमों': 1318, 'चलतें': 1319, 'कंजूस': 1320, 'मारा': 1321, 'होकर': 1322, 'आलसी': 1323, 'कॉल': 1324, 'मंदिरों': 1325, 'कष्ट': 1326, 'डाँट': 1327, 'जचती': 1328, 'गप': 1329, 'देनी': 1330, 'उपयोग': 1331, 'कार्यक्रम': 1332, 'गया,': 1333, 'दुख': 1334, 'छिपा': 1335, 'भाषाएँ': 1336, 'बनना': 1337, 'तैरकर': 1338, 'नाज़': 1339, 'टाईम': 1340, 'उड़ान': 1341, 'हुईं': 1342, 'सीखने': 1343, 'गति': 1344, 'नाश्ता': 1345, 'फ़िल्में': 1346, 'तोड़ी': 1347, 'पक्का': 1348, 'जीना': 1349, 'गलतियों': 1350, 'जायदाद': 1351, 'बाज़ार': 1352, 'बयान': 1353, 'सीखी': 1354, 'आर्ट': 1355, 'पंख': 1356, 'निर्भर': 1357, 'अभी-अभी': 1358, 'तैयारी': 1359, 'पढ़ाना': 1360, 'नष्ट': 1361, 'प्रश्न': 1362, 'जानने': 1363, 'छोड़ना': 1364, 'सालों': 1365, 'शतक': 1366, 'बच्चें': 1367, 'कह': 1368, 'टॉयलेट': 1369, 'सोचा': 1370, 'दादी': 1371, 'कम्पनी': 1372, 'शिक़ायत': 1373, 'बेटा': 1374, 'सलह': 1375, 'पत्तियों': 1376, 'यहाँ-वहाँ': 1377, 'सुनने': 1378, 'वाक्यों': 1379, 'मौका': 1380, 'पड़ी': 1381, 'दिमाग़': 1382, 'नकल': 1383, 'पछतावा': 1384, 'शिक्षा': 1385, 'जान-पहचान': 1386, 'महीनों': 1387, 'सीख': 1388, 'पाल-पोस': 1389, 'जाए,': 1390, 'उलटी': 1391, 'हिचकिचाहट': 1392, 'बनाने': 1393, 'हफ़्तों': 1394, 'गुड़िया': 1395, 'रहीं': 1396, 'एकदम': 1397, 'भाषाओं': 1398, 'पर्यावरण': 1399, 'आम': 1400, 'कहावत': 1401, 'क्लब': 1402, 'न्योता': 1403, 'डाल': 1404, 'चिट्ठियाँ': 1405, 'पहलू': 1406, 'हिरासत': 1407, 'समझने': 1408, 'आगे': 1409, 'भूकम्प': 1410, 'उतारे': 1411, 'अंत': 1412, 'उठाने': 1413, 'इलाज': 1414, 'कीमती': 1415, 'संपत्ति': 1416, 'विदेशी': 1417, 'चाह्ते': 1418, 'बातें': 1419, 'ऐक्सीडेंट': 1420, 'लापरवाही': 1421, 'चुराने': 1422, 'निराशा': 1423, 'रोकने': 1424, 'उठना': 1425, 'पहुँचना': 1426, 'नामुमकिन': 1427, 'खर्च': 1428, 'बदल': 1429, 'टेस्ट': 1430, 'खिलाफ़': 1431, 'पर्वत': 1432, 'छोड़े': 1433, 'खोलते': 1434, 'ग़लतफ़ैमी': 1435, 'सम्पर्क': 1436, 'हस्पताल': 1437, 'जिसके': 1438, 'उनपर': 1439, 'थे,': 1440, 'आज़ादी': 1441, 'हड़ताल': 1442, 'भेजा': 1443, 'सत्रह': 1444, 'दुखी': 1445, 'खयाल': 1446, 'आएगा,': 1447, 'शहरों': 1448, 'हिफ़ाज़त': 1449, 'उतारने': 1450, 'बढ़ाने': 1451, 'तहकीकात': 1452, 'होता,': 1453, 'राज्य': 1454, 'बाकी': 1455, 'हालांकि': 1456, 'जिसपर': 1457, 'उनमें': 1458, 'पहचानते': 1459, 'थी,': 1460, 'कलकत्ता': 1461, 'नहीं?': 1462, '<sos>आपका': 1463, '<sos>मज़े': 1464, 'मत।': 1465, 'पता।': 1466, 'रहूँगा।': 1467, 'करता।': 1468, '<sos>सब': 1469, '<sos>अब': 1470, '<sos>गाड़ी': 1471, 'लगा।': 1472, 'मिलेंगे।': 1473, 'खरीदी।': 1474, 'चाहूँगा।': 1475, 'रही।': 1476, 'की।': 1477, 'आता।': 1478, '<sos>उनकी': 1479, 'लगाई।': 1480, '<sos>ऐसी': 1481, '<sos>हो': 1482, 'दूँगा।': 1483, 'आई।': 1484, 'चाहिए?': 1485, '<sos>हर': 1486, '<sos>राजा': 1487, '<sos>उन': 1488, 'जाऊँगी।': 1489, 'करोगे?': 1490, '<sos>दुनिया': 1491, 'समझे': 1492, 'मौज': 1493, 'किसको': 1494, 'बैठिए।<eos>': 1495, 'हार': 1496, 'धोओ।<eos>': 1497, 'चिड़ियाँ': 1498, 'किसकी': 1499, 'पक्षी': 1500, 'उम्मीद': 1501, 'पत्थर': 1502, 'वो': 1503, 'टिकट': 1504, 'हवाई': 1505, 'आए?<eos>': 1506, 'नाराज़': 1507, '?<eos>': 1508, 'मोटी': 1509, 'घंटी': 1510, 'इसको': 1511, 'लिफ़्ट': 1512, 'हूँ\"<eos>': 1513, 'बोलो।<eos>': 1514, 'खटखटाया।<eos>': 1515, 'डाला।<eos>': 1516, 'भौतिक': 1517, 'शेर': 1518, 'बारह': 1519, 'हुआ?<eos>': 1520, 'होती।<eos>': 1521, 'तोहफ़े': 1522, 'धन्यवाद।<eos>': 1523, 'क़ैदी': 1524, 'पड़ा।<eos>': 1525, 'ग्रीक': 1526, 'क्योटो': 1527, 'पड़ता।<eos>': 1528, 'देखो': 1529, 'लिए।<eos>': 1530, 'धूम्रपान': 1531, 'शांति': 1532, 'हिरण': 1533, 'बंदर': 1534, 'आबादी': 1535, 'घटना': 1536, 'उठाया।<eos>': 1537, 'जाता।<eos>': 1538, 'होनी': 1539, 'कारोबार': 1540, 'रहा।<eos>': 1541, 'कहा।<eos>': 1542, 'शक': 1543, 'उन्हे': 1544, 'सितारे': 1545, 'क़ानून': 1546, 'देगी।<eos>': 1547, 'बोलने': 1548, 'ख़रीदो': 1549, 'एसी': 1550, 'म्युज़ियम': 1551, 'थीं।<eos>': 1552, 'इंग्लैड': 1553, 'हज़ारों': 1554, 'परसों': 1555, 'विष्व': 1556, 'समिति': 1557, 'जुड़वा': 1558, 'करें।': 1559, '<sos>और': 1560, '<sos>बैठिए।': 1561, '<sos>बरफ़': 1562, '<sos>इसे': 1563, '<sos>हमारा': 1564, '<sos>कमरे': 1565, 'धोओ।': 1566, '<sos>कितने': 1567, '<sos>बिजली': 1568, '<sos>अभी': 1569, '<sos>वो': 1570, '<sos>आसमान': 1571, 'आए?': 1572, '<sos>घर': 1573, '<sos>पानी': 1574, '?': 1575, '<sos>इसको': 1576, '<sos>सारे': 1577, 'हूँ\"': 1578, 'बोलो।': 1579, 'खटखटाया।': 1580, 'डाला।': 1581, '<sos>पता': 1582, '<sos>जितना': 1583, '<sos>उन्हें': 1584, '<sos>दो': 1585, '<sos>दस': 1586, 'हुआ?': 1587, '<sos>कनाडा': 1588, '<sos>आपके': 1589, 'होती।': 1590, 'धन्यवाद।': 1591, '<sos>लंदन': 1592, 'पड़ा।': 1593, '<sos>ऐसा': 1594, '<sos>पापा': 1595, 'पड़ता।': 1596, '<sos>कहा': 1597, '<sos>मेज़': 1598, '<sos>सभी': 1599, '<sos>मानो': 1600, 'लिए।': 1601, '<sos>ट्रेन': 1602, 'उठाया।': 1603, 'जाता।': 1604, '<sos>जंग': 1605, '<sos>उनके': 1606, 'रहा।': 1607, '<sos>विमान': 1608, '<sos>चीन': 1609, 'कहा।': 1610, '<sos>बच्चों': 1611, '<sos>वहाँ': 1612, '<sos>आजकल': 1613, '<sos>बच्चा': 1614, '<sos>हवा': 1615, '<sos>माँ': 1616, '<sos>पुलिस': 1617, 'देगी।': 1618, 'थीं।': 1619, 'जाओ!<eos>': 1620, 'स्वागत': 1621, 'करना।<eos>': 1622, 'उड़ते': 1623, 'लेकिन': 1624, 'दीवालिया': 1625, 'शाबाश!<eos>': 1626, 'किसे': 1627, 'जलाती': 1628, 'अंगर': 1629, 'हिल': 1630, 'मरा': 1631, 'जाना।<eos>': 1632, 'खिलते': 1633, 'ट्राए': 1634, 'खोलो।<eos>': 1635, 'आईए।<eos>': 1636, 'थी?<eos>': 1637, 'सहायता': 1638, 'छूना': 1639, 'वर्ष': 1640, 'अभिनेता': 1641, 'अनीश्वरवादी': 1642, 'चाल': 1643, 'करेंगे।<eos>': 1644, 'थके-हारे': 1645, 'पे': 1646, 'सको': 1647, 'आना।<eos>': 1648, 'बदतमीज़': 1649, 'हमला': 1650, 'रसोइया': 1651, 'बावर्ची': 1652, 'आसपास': 1653, 'बोलती': 1654, 'गलती': 1655, 'डरा': 1656, 'आओ': 1657, 'बैठो।<eos>': 1658, 'संत्रे': 1659, 'नारंगी': 1660, 'जानता।<eos>': 1661, 'प्यास': 1662, 'आँखे': 1663, 'बनातें': 1664, 'बनातीं': 1665, 'रहेंगे।<eos>': 1666, 'थें': 1667, 'धोका': 1668, 'चिल्लाने': 1669, 'नौकरानी': 1670, 'रखता': 1671, 'पड़ा': 1672, 'देशद्रोही': 1673, 'जाचुका': 1674, 'सिर': 1675, 'सुनता': 1676, 'दौड़ते': 1677, 'सच्चा': 1678, 'गईं': 1679, 'करो!<eos>': 1680, 'गाने': 1681, 'बताओ।<eos>': 1682, 'घूमती': 1683, 'प्रयत्न': 1684, 'खुशखबर': 1685, 'समुद्र': 1686, 'पाय': 1687, 'बनाई': 1688, 'बिज़ी': 1689, 'सोये': 1690, 'छोड़ो।<eos>': 1691, 'अकल': 1692, 'घास': 1693, 'चरने': 1694, 'रोया': 1695, 'रोया।<eos>': 1696, 'साधा': 1697, 'ज़रूर': 1698, 'चचेरा': 1699, 'ममेरा': 1700, 'होता!<eos>': 1701, 'सुनी।<eos>': 1702, '१९६०': 1703, '१९७९': 1704, 'देखता': 1705, 'दिखता': 1706, 'गिरनी': 1707, 'गो': 1708, 'मजेदार': 1709, 'संभालने': 1710, 'चलते': 1711, 'टोयोटा': 1712, 'उछल': 1713, 'मुस्कुराया।<eos>': 1714, 'चिढ़': 1715, 'आऊट': 1716, 'ख़िलाफ़': 1717, 'युद्ध': 1718, 'विरोध': 1719, 'स्केटिंग': 1720, 'मज़ा': 1721, 'कद्दू': 1722, 'गए?<eos>': 1723, 'गुलदान': 1724, 'दिया?<eos>': 1725, 'टेक्सी': 1726, 'अकेलापन': 1727, 'थका-हारा': 1728, 'जल्द': 1729, 'पढ़': 1730, 'गाता': 1731, 'पूछना': 1732, 'जोखिम': 1733, 'खाया': 1734, 'लाता': 1735, 'खेलतें': 1736, 'स्याही': 1737, 'होगा?<eos>': 1738, 'खींची।<eos>': 1739, 'बाघ': 1740, 'जिसकी': 1741, 'सम्भाल': 1742, 'भरना': 1743, 'अड्डा': 1744, 'क्षमा': 1745, 'जलन': 1746, 'दीं।<eos>': 1747, 'अजनबी': 1748, 'आपत्ती': 1749, 'तकलीफ': 1750, 'ऊँगली': 1751, 'बेहोशी': 1752, 'तौर': 1753, 'समझकर': 1754, 'बोला': 1755, 'एलर्जी': 1756, 'चश्मा': 1757, 'चश्मे': 1758, 'लेजाने': 1759, '१८६५': 1760, 'ख़ासियत': 1761, 'गीलीं': 1762, 'पाइप': 1763, 'फट': 1764, 'मेरीं': 1765, 'ज़ू': 1766, 'बीतता': 1767, 'वार': 1768, 'लौट': 1769, 'आओगे?<eos>': 1770, 'मोटा': 1771, 'कैमरा': 1772, 'मुर्गियाँ': 1773, 'देतीं': 1774, 'पुलिसवाला': 1775, 'सीड़ियों': 1776, 'फ़र्निचर': 1777, 'थोड़े-बहुत': 1778, 'पैसेवाला': 1779, 'साठ': 1780, 'प्रतियोगिता': 1781, 'लिखता': 1782, 'ढंग': 1783, 'डुबकी': 1784, 'नौकर': 1785, 'जीव': 1786, 'हड़बड़ी': 1787, 'कोरिया': 1788, 'मैरी': 1789, 'समझो।<eos>': 1790, 'आँख': 1791, 'रखदो।<eos>': 1792, 'मांगी।<eos>': 1793, 'नन्हा': 1794, 'खिलौना': 1795, 'खरीद': 1796, 'बकवास': 1797, 'आएगा': 1798, 'वैसी': 1799, 'बोओगे,': 1800, 'है?\"': 1801, 'जंगली': 1802, 'माँगो।<eos>': 1803, 'थप्पड़': 1804, 'शुरु': 1805, 'जीतीं': 1806, 'कमा': 1807, 'बेटियाँ': 1808, 'फाड़': 1809, 'दया': 1810, 'पिंजरा': 1811, 'गस्सा': 1812, 'दिलाया।<eos>': 1813, 'निकाला': 1814, 'ब्लडी': 1815, 'हवाईअड्डे': 1816, 'गुड़गुड़ा': 1817, 'यॉर्क': 1818, 'छूटता': 1819, 'सफ़ाई': 1820, 'करूँ': 1821, 'जानती': 1822, 'पैसेवाली': 1823, 'पैसेवाले': 1824, 'पकाया': 1825, 'पका': 1826, 'चाकू': 1827, 'करती।<eos>': 1828, 'प्रसन्न': 1829, 'पतली': 1830, 'इंजन': 1831, 'बैठते': 1832, 'खुलता': 1833, 'रोकना': 1834, 'कुरसियाँ': 1835, 'देखतें': 1836, 'बूंद': 1837, 'भूलना': 1838, 'रेत': 1839, 'सूप': 1840, 'सूँघ': 1841, 'घमण्डी': 1842, 'अहंकारी': 1843, 'अभिमानी': 1844, 'दंत': 1845, 'चिकित्सक': 1846, 'तोहफ़ा': 1847, 'बीयर': 1848, 'यही': 1849, 'टांगें': 1850, 'लम्बीं': 1851, 'उदाहरण': 1852, 'अनाथ': 1853, 'गोद': 1854, 'आमने-सामने': 1855, 'डरते': 1856, 'इसीलिए': 1857, 'मोड़ो।<eos>': 1858, 'गोल': 1859, 'डालते': 1860, 'किसलिए': 1861, 'राष्ट्रीयता': 1862, 'ज़बरदस्त': 1863, 'करदोगे': 1864, 'फैलती': 1865, 'बनता': 1866, 'ऐमब्यूलेंस': 1867, 'साथतानी': 1868, 'तीस': 1869, 'लिफ़ाफ़े': 1870, 'काटकर': 1871, 'होता।<eos>': 1872, 'किजिए,': 1873, 'बगैर': 1874, 'सहन': 1875, 'जैकेट': 1876, 'मेट्रो': 1877, 'लेकर': 1878, 'खटखटाने': 1879, 'खाँसी': 1880, 'समझाउँगा।<eos>': 1881, 'नहाने': 1882, 'पहला': 1883, 'पृष्ठ': 1884, 'लोहा': 1885, 'सख्त': 1886, 'बाप': 1887, 'रोते': 1888, 'नब्ज़': 1889, 'शामिल': 1890, 'पतला': 1891, 'जाएँगे।<eos>': 1892, 'बहादुरी': 1893, 'लाईन': 1894, 'लगकर': 1895, 'b': 1896, 'पाँचगुना': 1897, 'सस्ते': 1898, 'बिक': 1899, 'अमरीका': 1900, 'ज़ोर': 1901, 'सबका': 1902, 'उड़ाता': 1903, 'बजाता': 1904, 'चश्मदीद': 1905, 'गवाह': 1906, 'कोटे': 1907, 'पहुंच': 1908, 'कटोरियाँ': 1909, 'झलक': 1910, 'फ़ेसबुक': 1911, 'नाई': 1912, 'मरने': 1913, 'पल्ले': 1914, 'लाती': 1915, 'छाँओं': 1916, 'जोड़ना': 1917, 'चंद': 1918, 'दाहिना': 1919, 'बिल्लियों': 1920, 'ग़ायब': 1921, 'दिखाई।<eos>': 1922, 'पेड़-पौधों': 1923, 'ज़हरीले': 1924, 'पाएगा।<eos>': 1925, 'धुंध': 1926, 'ताकत': 1927, 'दुरुपयोग': 1928, 'सेब': 1929, 'दिवस': 1930, 'रोक': 1931, 'बसे': 1932, 'पोत': 1933, 'नसीबवाला': 1934, 'किया?<eos>': 1935, 'करवाना': 1936, 'बनाओगे': 1937, 'आपत्ति': 1938, 'होगी?<eos>': 1939, 'तुरंत': 1940, 'अपौइंटमेंट': 1941, 'क्वाला': 1942, 'माँगे।<eos>': 1943, 'कहता': 1944, 'सर्वोत्तम': 1945, 'नीति': 1946, 'कहे,': 1947, 'पेनसिलें': 1948, 'खरीदीं।<eos>': 1949, 'चलता': 1950, 'कहें': 1951, 'अस्वीकार': 1952, 'जॉन': 1953, '४': 1954, 'जून,': 1955, '१९७४': 1956, 'निकम्मा': 1957, 'बूढ़े': 1958, 'तलाश': 1959, 'मुसलाधार': 1960, 'बुआ-जी': 1961, '\"हाँ\"': 1962, 'खिलाना': 1963, 'हाथ-पैर': 1964, 'लेटी': 1965, 'खेलती': 1966, 'सुझाव': 1967, 'कड़वा': 1968, 'जूतों': 1969, 'रोमांचक': 1970, 'सूखा': 1971, 'पिया': 1972, 'ऋतु': 1973, 'करदो,': 1974, 'हँसे।<eos>': 1975, 'मनाया।<eos>': 1976, 'निभाना': 1977, 'सम्पूर्ण': 1978, 'औरडर': 1979, 'ब्रॅड': 1980, 'चौबीस': 1981, 'उड़ना': 1982, 'कोक-शोक': 1983, 'फ़्रान्स': 1984, 'सांस': 1985, 'पाता': 1986, 'समझाया।<eos>': 1987, 'क़ब्र': 1988, 'खोद': 1989, 'ग़ुलाम': 1990, 'वहां': 1991, 'इक्कीस': 1992, 'निकला': 1993, 'सायकल': 1994, 'जन्म': 1995, '१९७७': 1996, 'उपयोगी': 1997, 'धातु': 1998, 'मेक्सिको': 1999, 'खर्चे': 2000, 'स्पा': 2001, 'जीन्स': 2002, 'पैंट': 2003, 'धुलाई': 2004, 'सिकुड़': 2005, 'इच्छा': 2006, 'प्रकट': 2007, 'हल्की': 2008, 'आमंत्रण': 2009, 'पर्स': 2010, 'बालों': 2011, 'जूड़े': 2012, 'बाँधती': 2013, 'रहो।<eos>': 2014, 'मोज़े': 2015, 'जलकर': 2016, 'राख': 2017, 'साहब,': 2018, 'दूरी': 2019, 'कालीं': 2020, 'तम्बाकू': 2021, 'महक': 2022, 'खुली': 2023, 'मकान': 2024, 'लेते': 2025, 'डालकर': 2026, 'पीते': 2027, 'पड़ोसी': 2028, 'टर्मिनल': 2029, 'बैठना': 2030, 'चाहेंगे?<eos>': 2031, 'ब्रश': 2032, 'बचीं': 2033, 'दीवार': 2034, 'खिल': 2035, 'बदला': 2036, 'जीने': 2037, 'कैनटीन': 2038, 'लन्च': 2039, 'कमीज़ें': 2040, 'धुलवानीं': 2041, 'अभिलाषा': 2042, 'बोतलें': 2043, 'पैरों': 2044, 'निशानों': 2045, 'बताया।<eos>': 2046, 'दसियों': 2047, 'ईमानदार': 2048, 'मरना': 2049, 'भाग्य': 2050, 'रहो,': 2051, 'आएँ': 2052, 'बोलतीं': 2053, 'इकट्ठा': 2054, 'कौपी': 2055, 'मात्सुमोतो': 2056, 'निधन': 2057, '१९९२': 2058, 'सीधे-सीधे': 2059, 'उगाई': 2060, 'सड़ने': 2061, 'खम्बे': 2062, 'भिड़': 2063, 'सीधी': 2064, 'दुश्मनों': 2065, 'कुचल': 2066, 'बमबई': 2067, 'पटरी': 2068, 'त्याग': 2069, 'रोडिका': 2070, 'पाँचवी': 2071, 'प्रेमपूर्वक': 2072, 'का)': 2073, 'खाएँगे': 2074, 'देखनी': 2075, 'मम्मी-पापा': 2076, 'द्वीप': 2077, 'सड़': 2078, 'करा': 2079, 'जवान': 2080, 'जवानी': 2081, 'न्यूयॉर्क': 2082, 'कबसे': 2083, 'किता': 2084, 'कीजिएगा': 2085, 'तो।<eos>': 2086, 'आएगी': 2087, 'विचार': 2088, 'युक्तियुक्त': 2089, 'ज्यादा': 2090, 'बास्\\u200dकेटबॉल': 2091, 'सुलाना': 2092, 'ट्राफ़िक': 2093, 'जाम': 2094, 'ट्रैफ़िक': 2095, 'जैम': 2096, 'देखे': 2097, 'डरती': 2098, 'चीज़': 2099, 'मिनटों': 2100, 'मुरझा': 2101, 'हुकूमत': 2102, 'आखरी': 2103, 'फ़िनलैंड': 2104, 'टूट': 2105, 'चूर-चूर': 2106, 'समझदार': 2107, 'सुलझाना': 2108, 'चौड़ी': 2109, 'दीदी': 2110, 'अनहोनी': 2111, 'दल': 2112, '|<eos>': 2113, '\"तीन': 2114, 'हैं\"<eos>': 2115, 'मंदी': 2116, 'बाथरूम': 2117, 'से?<eos>': 2118, 'सस्ता': 2119, 'हल': 2120, 'उड़ाना': 2121, 'आखें': 2122, 'गोरे': 2123, 'कोआले': 2124, 'अर्थ': 2125, 'अँडे': 2126, 'पाऊंड': 2127, 'बाज़ी': 2128, 'वैसे': 2129, 'चाबियों': 2130, 'बटुए': 2131, 'इशारा': 2132, 'फ़ोल्डर': 2133, 'दयालु': 2134, 'राजनीति': 2135, 'ऊँची': 2136, 'आज़माती': 2137, 'पैक': 2138, 'चेतावनी': 2139, 'बैठी': 2140, 'उड़ा': 2141, 'भौंकता': 2142, 'परिक्रमा': 2143, 'शेरों': 2144, 'शिकार': 2145, 'निकले।<eos>': 2146, 'जानें': 2147, 'लें': 2148, 'चमड़े': 2149, 'उत्पाद': 2150, 'बेचती': 2151, 'पंद्राह': 2152, 'तौलिये': 2153, 'चर्च': 2154, 'सोलहवा': 2155, 'तत्पर': 2156, 'कीजिए': 2157, 'माफ़ी': 2158, 'आइडिया': 2159, 'आदर-सम्मान': 2160, 'मालिक': 2161, 'ऊन': 2162, 'मात्रा': 2163, 'निर्यात': 2164, 'वैश्विक': 2165, 'समझते': 2166, 'सब-कुछ': 2167, 'ताज़ी': 2168, 'दफ़नाया': 2169, 'उठाती': 2170, 'बदले': 2171, 'घड़ी': 2172, 'ख़राब': 2173, 'विख्यात': 2174, 'घूरकर': 2175, 'उठकर': 2176, 'फ़्लैट': 2177, 'वक्त': 2178, 'ख़तरनाक': 2179, 'कहते': 2180, 'अटक': 2181, 'निकली।<eos>': 2182, 'कुछ-न-कुछ': 2183, 'कूद': 2184, 'कौवे': 2185, 'चढ़ते': 2186, 'नाव': 2187, 'तौलिए': 2188, 'नाचना': 2189, 'चाहोगी': 2190, 'डान्स': 2191, 'हैं।\"': 2192, '\"हाँ,': 2193, 'फेंक': 2194, 'भाई-बहन': 2195, 'विस्तृत': 2196, 'कटवाता': 2197, 'पढ़ता': 2198, 'रखकर': 2199, 'नाना': 2200, 'कामकाज': 2201, 'ख़तम': 2202, 'नहा': 2203, 'प्रेम': 2204, 'झूठ': 2205, 'बुरा': 2206, 'जहां': 2207, 'माँगने': 2208, 'दवाईयों': 2209, 'करवाया।<eos>': 2210, 'नहीं!': 2211, 'पेट्रोल': 2212, 'कक्षा': 2213, 'जुटाने': 2214, 'बेची': 2215, 'जातीं': 2216, 'चोटी': 2217, 'चपटी': 2218, 'गुफ़ा': 2219, 'टाई': 2220, 'सूट': 2221, 'होटल': 2222, 'छूटते': 2223, 'होगे?<eos>': 2224, 'लेंगे': 2225, 'बीटल्स': 2226, 'गा': 2227, 'मारने': 2228, 'झिलता': 2229, 'गिलहरी': 2230, 'डालियों': 2231, 'छुपी': 2232, 'सारी-की-सारी': 2233, 'पत्तियाँ': 2234, 'से,': 2235, 'हाथी': 2236, 'एशिया': 2237, 'मुस्कुराहट': 2238, 'प्रयोगों': 2239, 'कबूतरों': 2240, 'घंटो': 2241, 'अक्खड़पन': 2242, 'झेला': 2243, 'मूर्ख': 2244, 'योग्यता': 2245, 'खुशकिसमत': 2246, 'सफ़ल': 2247, 'प्रथम': 2248, 'पुरस्कार': 2249, 'संदेश': 2250, 'अनदेखा': 2251, 'सुंदरता': 2252, 'मुर्गियों': 2253, 'दियें': 2254, 'कपड़ो': 2255, 'हानि': 2256, 'बर्फ़': 2257, 'बिछी': 2258, 'महिलाये': 2259, 'क़त्ल': 2260, 'हत्याएँ': 2261, 'मुनाफ़े': 2262, 'सीमा': 2263, 'सप्ताह': 2264, 'लगीं': 2265, 'चाहेंगे': 2266, 'पढ़ो': 2267, 'रखनी': 2268, 'स्विजरलैंड': 2269, 'सकतें': 2270, 'सुनी': 2271, 'सहपाठियों': 2272, 'बनाना': 2273, 'बताए': 2274, 'उलटा': 2275, 'बनाए': 2276, 'केस': 2277, 'खाया।<eos>': 2278, 'सही-ग़लत': 2279, 'विद्रोह': 2280, 'भागता': 2281, 'पहुँचने': 2282, 'सैंडविच': 2283, 'बचे': 2284, 'नटखट': 2285, 'लगता।<eos>': 2286, 'उतनी': 2287, 'सीढ़ियों': 2288, 'ग्रुप': 2289, 'संबंध': 2290, 'सुना': 2291, 'मश्हूर': 2292, 'अभिनेत्री': 2293, 'बर्तन': 2294, 'धोने': 2295, 'किताबों': 2296, 'जर्मनी': 2297, 'खरीदकर': 2298, 'मंगवाया': 2299, 'बजा': 2300, 'सुरक्षित': 2301, 'लौटने': 2302, 'करूँगा': 2303, 'उड़कर': 2304, 'शनिवार': 2305, 'गौल्फ़': 2306, 'लगना': 2307, 'भूत-प्रेत': 2308, 'दूसरा': 2309, 'पूछा': 2310, 'डाँवाडोल': 2311, 'असुरक्षित': 2312, 'बगीचे': 2313, 'लेना।<eos>': 2314, 'पेशा': 2315, 'पालनी': 2316, 'फ़ुट': 2317, 'चौड़ा': 2318, 'ताक़त': 2319, 'छीन': 2320, 'रहस्य': 2321, 'तूफ़ान': 2322, 'तबाह': 2323, 'सरल': 2324, 'अकलमंद': 2325, 'चाँद': 2326, 'लेनीं': 2327, 'इमारतों': 2328, 'वफ़ादारी': 2329, 'लिहाज': 2330, 'उठाना': 2331, 'गवा': 2332, 'फ़्रेंच': 2333, 'ख़तरे': 2334, 'स्वयं': 2335, 'रूसी': 2336, 'अज्ञान': 2337, 'आशंका': 2338, 'टूटे': 2339, 'टुकड़ों': 2340, 'तरीके': 2341, 'खींज': 2342, 'ऑक्सफ़र्ड': 2343, 'विश्वविद्यालय': 2344, 'जानवरों': 2345, 'खर्चना': 2346, 'जाओगे।<eos>': 2347, 'लौटकर': 2348, 'निर्दोष': 2349, 'ज़िंदा': 2350, 'दिखते': 2351, 'नौवे': 2352, 'बेबुनयाद': 2353, 'चूहे': 2354, 'मनुष्य': 2355, 'बिखेर': 2356, 'मंदिर': 2357, 'ब्राऊन': 2358, 'पाए।<eos>': 2359, 'नाश्ते': 2360, 'बहती': 2361, 'गहरा': 2362, 'कोहरा': 2363, 'धर्म': 2364, 'पनीर': 2365, 'बनते': 2366, 'शास्त्रीय': 2367, 'ला': 2368, 'हड्डी': 2369, 'बेसब्री': 2370, 'फटाफट': 2371, 'कंधे': 2372, 'रखा।<eos>': 2373, 'मिलेगा।<eos>': 2374, 'माथे': 2375, 'पसीना': 2376, 'माईने': 2377, 'पैमाने': 2378, 'डालने': 2379, 'बताओ,': 2380, 'रफ़तार': 2381, 'युरोप': 2382, 'कमाई': 2383, 'वर्तमान': 2384, 'आमदनी': 2385, 'टाइम': 2386, 'में)': 2387, 'असभ्यता': 2388, 'सोना': 2389, '१५': 2390, 'ख़ज़ाना': 2391, 'मुड़ो': 2392, 'चिंतित': 2393, 'किसके': 2394, 'बच्ची': 2395, 'आयडिया': 2396, 'एहसान': 2397, 'घरवालों': 2398, 'कमाता': 2399, 'जुर्म': 2400, 'चलाने': 2401, 'नाकामयाबी': 2402, 'ख़रीदीं': 2403, 'मोहन': 2404, 'परिचित': 2405, 'होगी': 2406, 'सोफ़ा': 2407, 'शक़': 2408, 'युनिसायकल': 2409, 'खरीदने': 2410, 'पिछली': 2411, 'छाते': 2412, 'द्वार': 2413, 'शब्दकोश': 2414, 'वाक्यांश': 2415, 'उड़ाने': 2416, 'चादर': 2417, 'रखती': 2418, 'अंकल': 2419, 'मामा': 2420, 'चाचा': 2421, 'ताऊजी': 2422, 'बसीं।<eos>': 2423, 'पालने': 2424, 'मुर्झाई': 2425, 'गिरते': 2426, 'लगे,': 2427, 'वाईन': 2428, 'चखकर': 2429, 'पीछे-पीछे': 2430, 'खिलाने': 2431, 'पहरा': 2432, 'गुंजाईश': 2433, 'मनाने': 2434, 'दिशाओं': 2435, 'फैले': 2436, 'कपड़ा': 2437, 'रेशमी': 2438, 'गला': 2439, 'भागे': 2440, 'जिनका': 2441, 'पिंक': 2442, 'ऑर्डर': 2443, 'नीले': 2444, 'कोशीश': 2445, 'की,': 2446, 'रिमोट': 2447, 'टी-शर्ट': 2448, 'दफ़तर': 2449, 'गबन': 2450, 'निभता': 2451, 'हे': 2452, 'कहानियाँ': 2453, 'सुनाया': 2454, 'बेगुनाह': 2455, 'अम्रीकी': 2456, 'साहित्य': 2457, 'कैंचियों': 2458, 'लगाऊँगा': 2459, 'दिवाई': 2460, 'हूँगा': 2461, 'आईएगा।<eos>': 2462, 'चमत्कार': 2463, 'दिलाती': 2464, 'कहा:': 2465, 'महाशय': 2466, 'जाने-माने': 2467, 'पियानिस्ट': 2468, 'झूठी': 2469, 'गाल': 2470, 'निशान': 2471, 'हल्का': 2472, 'समानताएं': 2473, 'भाषाएं': 2474, 'कटाने': 2475, 'जुर्रत': 2476, 'इगज़ैम': 2477, 'रिज़ल्ट': 2478, 'गाय': 2479, 'पूज्य': 2480, 'सहने': 2481, 'पड़े': 2482, 'कीमतें': 2483, 'करनीं': 2484, 'महान': 2485, 'कवि': 2486, 'बल्कि': 2487, 'पांव': 2488, 'लतपत': 2489, 'नमक': 2490, 'कॉनसर्ट': 2491, 'अक्खड़पन': 2492, 'फ़रिश्तों': 2493, 'ग़रीबी': 2494, 'ढल': 2495, 'सीधे': 2496, 'एक-समान': 2497, 'सका': 2498, '\"क्यों\"': 2499, '\"कैसे\"': 2500, 'पूछते': 2501, 'छोड़नी': 2502, 'मिलती': 2503, 'इन्द्रधनुष': 2504, 'जेल': 2505, 'देखी': 2506, 'खिसक': 2507, 'कानून': 2508, 'तोड़ोगे': 2509, 'सुशील': 2510, 'थूकेगा': 2511, 'चुनाव': 2512, 'विरोधी': 2513, 'हरा': 2514, 'उम्मीदों': 2515, 'लगादी।<eos>': 2516, 'क़ैदियों': 2517, 'आदेश': 2518, 'तोह्फ़ा': 2519, 'पुकारते': 2520, 'अच्छेपन': 2521, 'भूलूँगा।<eos>': 2522, 'ख़रीदने': 2523, 'अजनबियों': 2524, 'मिली।<eos>': 2525, 'ढूँढना': 2526, 'देशों': 2527, 'जागे': 2528, 'क्यूट': 2529, 'शुक्रवार': 2530, 'पोती': 2531, 'परिस्थिति': 2532, 'कठोर': 2533, 'कदम': 2534, 'कहा,': 2535, '\"बस': 2536, 'हटा': 2537, 'ड्राईव': 2538, 'लेजाओगे': 2539, '\"चित': 2540, 'पट': 2541, 'मेरी\"': 2542, 'अंधेर': 2543, 'महाद्वीप': 2544, 'भेज': 2545, 'बहादुर': 2546, 'काटते': 2547, 'ताज़ा': 2548, 'जाएगी': 2549, 'तभी': 2550, 'चीनी-वाला': 2551, 'खानी': 2552, 'भुला': 2553, 'यहीं': 2554, 'लूँ': 2555, 'जाएगा,': 2556, 'चलें,': 2557, 'अलग-अलग': 2558, 'प्रसिद्ध': 2559, 'सड़े': 2560, 'बिल्लियाँ': 2561, 'मीनार': 2562, 'किला': 2563, 'तोदाइजी': 2564, 'बरबाद': 2565, 'ऐनक': 2566, 'होक्काईदो': 2567, 'कंबल': 2568, 'ढक': 2569, 'उद्देश्य': 2570, 'परिस्तिथि': 2571, 'बदतर': 2572, 'नीला': 2573, 'दौरान': 2574, 'एकसमान': 2575, 'आदमियों': 2576, 'जिसने': 2577, 'दिक्कत': 2578, 'मर्यादा': 2579, 'संविधान': 2580, 'सुधारना': 2581, 'ताला': 2582, 'आँसुओं': 2583, 'बीजों': 2584, 'दूर-दूर': 2585, 'लेजाती': 2586, 'बादल': 2587, 'प्लैन': 2588, 'मामले': 2589, 'छानबीन': 2590, 'कागज़': 2591, 'किये-धरे': 2592, 'ठहराया': 2593, 'उछलती': 2594, 'लचीली': 2595, 'हिस्से': 2596, 'नागरिक': 2597, 'कलाकार': 2598, 'लिखेगा,': 2599, 'भेजी': 2600, 'रहोगे': 2601, 'समझाना': 2602, 'पहुँचें': 2603, 'देखा,': 2604, 'चिल्ला': 2605, 'अखबारों': 2606, 'ढेर': 2607, 'सिनेमा': 2608, 'हॉल': 2609, 'आधी': 2610, 'खुल': 2611, 'सुधारने': 2612, 'पूंछ': 2613, 'रंग-बिरंगी': 2614, 'पकड़कर': 2615, 'पकड़ने': 2616, 'गाली': 2617, 'और-भी-और': 2618, 'पी': 2619, 'विलोम': 2620, 'सीटें': 2621, 'डालोगे': 2622, 'भुजाना': 2623, 'खिड़कियाँ': 2624, 'सोत्रों': 2625, 'संतुलन': 2626, 'सोचना': 2627, 'जातें': 2628, 'शाम': 2629, 'पहुँचते': 2630, 'दबाकर': 2631, 'पहुँचाने': 2632, 'शिखर': 2633, 'नें': 2634, 'रखे': 2635, 'कपों': 2636, 'वॉशिंग': 2637, 'खराबी': 2638, 'घुसते': 2639, 'उतारा': 2640, 'दहशत': 2641, 'फैला': 2642, 'हज़ार': 2643, 'जुर्माना': 2644, 'रेस': 2645, 'जीतेगा': 2646, 'ईनाम': 2647, 'उसी': 2648, 'मगर': 2649, 'झगड़ा': 2650, 'लड़ाई': 2651, 'क-ख-ग-ध': 2652, 'सिखाए': 2653, 'टाँगा': 2654, 'बड़े': 2655, 'प्रेरणा': 2656, 'स्रोत': 2657, 'तस्कर': 2658, 'अड्डे': 2659, 'गिरफ्तार': 2660, 'पहुँचा,': 2661, 'वालो': 2662, 'माँ-बाप': 2663, 'करोगे': 2664, 'होंगीं': 2665, 'चाहिए,': 2666, 'लड़कों': 2667, 'बास्केटबॉल': 2668, 'लौटाना': 2669, 'सदस्य': 2670, 'आत्महत्या': 2671, 'कमर': 2672, 'ब्रिटेन': 2673, '१९४७': 2674, 'प्राप्त': 2675, 'दिए': 2676, 'कारण': 2677, 'समझना': 2678, 'नगरों': 2679, 'स्थित': 2680, 'सोचने': 2681, 'अंगूर': 2682, 'खट्टे': 2683, 'खाए': 2684, 'निकाल': 2685, 'बैक': 2686, 'ग्राहक': 2687, 'प्रॉडक्ट्स': 2688, 'दिखाना': 2689, 'ताईवान': 2690, 'रिपोर्ट': 2691, 'सौंप': 2692, 'क्या?\"': 2693, '\"लगता': 2694, 'प्रेसीडेंट': 2695, 'चुना': 2696, 'बोलूँ': 2697, 'पार्सल': 2698, 'सम्मान': 2699, 'दोस्ती': 2700, 'अड़ियल': 2701, 'वाक्यांशों': 2702, 'रटना': 2703, 'फ़्रांसीसी': 2704, 'बोलनी': 2705, 'जिसका': 2706, 'अस्तित्व': 2707, 'तुरन्त': 2708, 'अनिवार्य': 2709, 'सुधार': 2710, 'पक्ष': 2711, 'छटी': 2712, 'मंज़िल': 2713, 'लोकप्रिय': 2714, 'स्वेटर': 2715, 'देंगे': 2716, 'मिले': 2717, 'लिखकर': 2718, 'मलेरिया': 2719, 'यात्रा': 2720, 'कड़वी': 2721, 'थेम्स': 2722, 'ज़रूरतमंदों': 2723, 'बाँट': 2724, 'लौटाने': 2725, 'जल्द-बाज़ी': 2726, 'करेंगे': 2727, 'कसम': 2728, 'जाएं': 2729, 'जाएं।<eos>': 2730, 'उत्तीर्ण': 2731, 'दोपहरभर': 2732, 'सातवाँ': 2733, 'अभिलाषाओं': 2734, 'बढ़ावा': 2735, 'भूलती': 2736, 'ध्यानपूर्वक': 2737, 'सिद्धांत': 2738, 'स्तिथि': 2739, 'मिलाना': 2740, 'प्रदूषित': 2741, 'वातावरण': 2742, 'सिवाय': 2743, 'चलाकर': 2744, 'पहुँचा': 2745, 'पापा-मम्मी': 2746, 'इन्तज़ार': 2747, 'करवाया': 2748, 'मज़बूत': 2749, 'अर्थव्यवस्था': 2750, 'आवश्यक': 2751, 'बॉल': 2752, 'एकसाथ': 2753, 'गर्व': 2754, 'जिसमें': 2755, 'पहुँचे': 2756, 'बाद,': 2757, 'दिखाऊँगा': 2758, 'मतलबी': 2759, 'भावनाओं': 2760, 'पुराना': 2761, 'ढूँढता': 2762, 'गिरा': 2763, 'बनवानी': 2764, 'मोटरसाईकल': 2765, 'गंदे': 2766, 'रही,': 2767, 'उद्योग': 2768, 'अधिकांश': 2769, 'सदस्यों': 2770, 'बिल': 2771, 'पारित': 2772, 'फैलाव': 2773, 'भयानक': 2774, 'फ्रांस': 2775, 'अौर': 2776, 'हिस्सो': 2777, 'पकड़नी': 2778, 'फंस': 2779, 'तर-तर': 2780, 'भीग': 2781, 'बीवा': 2782, 'हूँ,': 2783, 'विशाल': 2784, 'हुक़्म': 2785, 'बिस्टर': 2786, 'लेटा': 2787, 'क़ातिल': 2788, 'हरासत': 2789, 'तुममें': 2790, 'सब्र': 2791, 'बांध': 2792, 'स्थापित': 2793, 'समाचार': 2794, 'मुताबिक,': 2795, '\"कुछ': 2796, 'पाने': 2797, 'खोना': 2798, 'तस्वीरों': 2799, 'गोलियों': 2800, 'निगल': 2801, 'जगे': 2802, 'पीनी': 2803, 'महल': 2804, 'आश्चर्यों': 2805, 'पकड़ीं': 2806, 'इनवेस्टमेंट': 2807, '८': 2808, 'प्रतिशत': 2809, 'चढ़ने': 2810, 'प्रदूषण': 2811, 'प्रयास': 2812, 'पश्चिम': 2813, 'दिशा': 2814, 'लाया': 2815, 'हुई,': 2816, '(डिक्शनरी)': 2817, 'आओगे?\"': 2818, '\"यह': 2819, 'भारतीय': 2820, 'महाराष्ट्र': 2821, 'मातापिता': 2822, 'सुरक्षा': 2823, 'गिनती': 2824, 'नाकामयाब': 2825, 'ज़िंदगी': 2826, 'बीमारों': 2827, 'समर्पित': 2828, 'ग़रीब,': 2829, 'ताकतशाली': 2830, 'अर्थतंत्रों': 2831, 'उड़ातें': 2832, 'वस्तु': 2833, 'सूर्य': 2834, 'प्रभाव': 2835, 'असर': 2836, 'शोक': 2837, 'जानबूझकर': 2838, 'पहचाना': 2839, 'सावधान': 2840, 'जनता': 2841, 'जलने': 2842, 'सुँघाई': 2843, 'नकली': 2844, 'हीरों': 2845, 'डूबने': 2846, 'मंजिल': 2847, 'लिपटी': 2848, 'कोने': 2849, 'खाकर': 2850, 'बड़ाई': 2851, 'मांग': 2852, 'कॉपियाँ': 2853, 'दीं': 2854, 'बकरियों': 2855, 'वेतन': 2856, 'दिया,': 2857, 'पकड़ी': 2858, 'आकार': 2859, 'बढ़ा-चढ़ाकर': 2860, 'भ्रष्टाचार': 2861, 'मुक्त': 2862, 'ऊँगलियाँ': 2863, 'लगेंगे।<eos>': 2864, 'चरित्र': 2865, 'अगला': 2866, 'कम्पनियाँ': 2867, 'कटवाना': 2868, 'घूरने': 2869, 'बजाए': 2870, 'जाओ': 2871, 'कल,': 2872, 'मुट्ठीभर': 2873, 'मूँगफलियाँ': 2874, 'लीं': 2875, 'दिवालिया': 2876, 'निकलने': 2877, 'पहले,': 2878, 'करेगा': 2879, 'ग़लतियों': 2880, 'डरना': 2881, 'निम्न': 2882, 'उपलब्ध': 2883, 'सेवाओं': 2884, 'सोनी': 2885, 'टुकड़ो': 2886, 'कर,': 2887, 'टुकड़ा': 2888, 'मिलती-जुलतीं': 2889, 'निकालने': 2890, 'इनके': 2891, 'अभ': 2892, 'दराज़ें': 2893, 'अठारह': 2894, 'चलानी': 2895, 'लाईसेंस': 2896, 'मदर': 2897, 'कैथोलिक': 2898, 'नन': 2899, 'थीं': 2900, 'करतीं': 2901, 'वाशिंगटन': 2902, 'संयुक्त': 2903, 'राष्ट्रपति': 2904, 'सिस्टर': 2905, 'इनाम': 2906, 'मिले,': 2907, 'विदोश': 2908, 'सूपरमार्केट': 2909, 'रोजाने': 2910, 'यात्रियों': 2911, 'घिनौना': 2912, 'सरकारों': 2913, 'अंदेखा': 2914, 'जाए': 2915, 'ट्रेफ़िक': 2916, 'हादसे': 2917, 'कीड़ों': 2918, 'परेशानी': 2919, 'जिस': 2920, 'दूसरी': 2921, 'अनुवादों': 2922, 'प्रभावित': 2923, '<sos>अंदर': 2924, '<sos>बाहर': 2925, 'जाओ!': 2926, 'करना।': 2927, '<sos>पंछी': 2928, '<sos>शाबाश!': 2929, '<sos>किसे': 2930, 'जाना।': 2931, '<sos>दरवाज़ा': 2932, 'खोलो।': 2933, 'आईए।': 2934, 'थी?': 2935, '<sos>नए': 2936, '<sos>सोच': 2937, 'करेंगे।': 2938, 'आना।': 2939, '<sos>आसपास': 2940, '<sos>बस': 2941, '<sos>कुत्ता': 2942, '<sos>आओ': 2943, 'बैठो।': 2944, 'जानता।': 2945, '<sos>आपसे': 2946, 'रहेंगे।': 2947, '<sos>शुरू': 2948, 'करो!': 2949, 'बताओ।': 2950, '<sos>समुद्र': 2951, 'छोड़ो।': 2952, 'रोया।': 2953, 'होता!': 2954, 'सुनी।': 2955, '<sos>फिर': 2956, '<sos>रेलगाड़ी': 2957, 'मुस्कुराया।': 2958, '<sos>कौआ': 2959, 'गए?': 2960, '<sos>गुलदान': 2961, 'दिया?': 2962, 'होगा?': 2963, 'खींची।': 2964, '<sos>मछलियाँ': 2965, 'दीं।': 2966, '<sos>फ़ोन': 2967, '<sos>ग्यारह': 2968, 'आओगे?': 2969, '<sos>पार्टी': 2970, 'समझो।': 2971, 'रखदो।': 2972, 'मांगी।': 2973, '<sos>स्टेशन': 2974, '<sos>जैसा': 2975, '<sos>अच्छा': 2976, 'माँगो।': 2977, 'दिलाया।': 2978, 'करती।': 2979, '<sos>कुरसियाँ': 2980, '<sos>उसपर': 2981, '<sos>इससे': 2982, '<sos>डब्बा': 2983, 'मोड़ो।': 2984, 'होता।': 2985, 'समझाउँगा।': 2986, '<sos>लोहा': 2987, 'जाएँगे।': 2988, '<sos>मम्मी': 2989, 'दिखाई।': 2990, 'पाएगा।': 2991, '<sos>आपकी': 2992, 'किया?': 2993, '<sos>कपड़े': 2994, 'होगी?': 2995, 'माँगे।': 2996, 'खरीदीं।': 2997, '<sos>मुसलाधार': 2998, '<sos>बत्ती': 2999, 'हँसे।': 3000, 'मनाया।': 3001, '<sos>थोड़ा': 3002, '<sos>फ़्रान्स': 3003, 'समझाया।': 3004, '<sos>मेक्सिको': 3005, 'रहो।': 3006, '<sos>दुकान': 3007, 'चाहेंगे?': 3008, 'बताया।': 3009, '<sos>जहाज़': 3010, 'तो।': 3011, '|': 3012, 'हैं\"': 3013, 'से?': 3014, '<sos>पतंग': 3015, '<sos>थोड़ी': 3016, '<sos>छत': 3017, 'निकले।': 3018, '<sos>ताज़ी': 3019, 'निकली।': 3020, 'करवाया।': 3021, '<sos>सौ': 3022, 'होगे?': 3023, '<sos>लगभग': 3024, '<sos>आखिरकार': 3025, '<sos>हाथी': 3026, '<sos>आठ': 3027, 'खाया।': 3028, 'लगता।': 3029, '<sos>पिछले': 3030, 'लेना।': 3031, '<sos>जंगल': 3032, '<sos>तूफ़ान': 3033, 'जाओगे।': 3034, 'पाए।': 3035, '<sos>गाँव': 3036, 'रखा।': 3037, 'मिलेगा।': 3038, '<sos>कम्पनी': 3039, '<sos>शब्दकोश': 3040, 'बसीं।': 3041, 'आईएगा।': 3042, '<sos>आवाज़': 3043, 'लगादी।': 3044, 'भूलूँगा।': 3045, 'मिली।': 3046, '<sos>टीचर': 3047, '<sos>सरकार': 3048, '<sos>चोर': 3049, 'जाएं।': 3050, '<sos>मतलबी': 3051, '<sos>मातापिता': 3052, 'लगेंगे।': 3053, '<sos>मदर': 3054, 'वाह!<eos>': 3055, 'बचाओ!<eos>': 3056, 'उछलो.<eos>': 3057, 'कूदो.<eos>': 3058, 'छलांग.<eos>': 3059, 'नमस्ते।<eos>': 3060, 'नमस्कार।<eos>': 3061, 'वाह-वाह!<eos>': 3062, 'चियर्स!<eos>': 3063, 'बढ़िया!<eos>': 3064, 'चले': 3065, 'ख़ुदा': 3066, 'हाफ़िज़।<eos>': 3067, 'उत्तम!<eos>': 3068, 'सही!<eos>': 3069, 'स्वागतम्।<eos>': 3070, 'दूंगा।<eos>': 3071, 'चलें!<eos>': 3072, 'ख़ूब!<eos>': 3073, 'खेद': 3074, 'हँसा।<eos>': 3075, 'जाने?<eos>': 3076, 'अद्भुत<eos>': 3077, 'निश्चित': 3078, 'ही<eos>': 3079, 'हिलो': 3080, 'भेजो।<eos>': 3081, 'दो!<eos>': 3082, 'बार।<eos>': 3083, 'चिल्लाओ': 3084, 'मत!<eos>': 3085, 'चिल्लाईए': 3086, 'आऊंगा।<eos>': 3087, 'एसटर': 3088, 'मालूम।<eos>': 3089, 'जाईये।<eos>': 3090, 'अविश्वसनीय!<eos>': 3091, 'मोटे': 3092, 'पीकर': 3093, 'करदो।<eos>': 3094, 'लेलूँगा।<eos>': 3095, 'दिखाओ।<eos>': 3096, 'खोलिए।<eos>': 3097, 'पढ़ें।<eos>': 3098, 'पढ़के': 3099, 'सुनाओ।<eos>': 3100, 'झुकी।<eos>': 3101, 'निकलो!<eos>': 3102, 'नव': 3103, 'शुभकामनाएं!<eos>': 3104, 'बधाईयाँ।<eos>': 3105, 'जाने।<eos>': 3106, 'गर्मियाँ': 3107, 'बुलाएँगे।<eos>': 3108, 'आजाओ।<eos>': 3109, 'बधाई': 3110, 'बनो।<eos>': 3111, 'तुम!<eos>': 3112, 'बदतमीज़!<eos>': 3113, 'पकाया।<eos>': 3114, 'उड़ाएँ!<eos>': 3115, 'नहीं,': 3116, 'खोलो!<eos>': 3117, 'दिया!<eos>': 3118, 'आलूओं': 3119, 'काटो।<eos>': 3120, 'बनाओ।<eos>': 3121, 'मचाओ।<eos>': 3122, 'बस्ता।<eos>': 3123, 'हूँ<eos>': 3124, 'मै': 3125, 'शराबख़ाना': 3126, 'रोई।<eos>': 3127, 'लगी।<eos>': 3128, 'पृथ्वी': 3129, 'सुख': 3130, 'हाँ।': 3131, 'फेंको।<eos>': 3132, 'तेरी': 3133, 'करीं।<eos>': 3134, 'बॅटर': 3135, 'बुलवाई।<eos>': 3136, 'बनाया?<eos>': 3137, 'लाऊँगा।<eos>': 3138, 'ज़बान': 3139, 'सर्दी': 3140, 'बचाली।<eos>': 3141, 'लिंकन': 3142, 'चादरें': 3143, 'इसमें': 3144, 'मई': 3145, 'फेंकिए।<eos>': 3146, 'डालदो।<eos>': 3147, 'लाई।<eos>': 3148, 'जी।<eos>': 3149, 'छोड़दी।<eos>': 3150, 'उड़ाया।<eos>': 3151, 'चिल्लाया।<eos>': 3152, 'भरनी।<eos>': 3153, 'काटोगे।<eos>': 3154, 'पाओ।<eos>': 3155, 'भला।<eos>': 3156, 'भरना।<eos>': 3157, '\"कौन': 3158, 'लोमड़ी': 3159, 'खरगोश': 3160, 'उड़ाओ।<eos>': 3161, 'सीखा।<eos>': 3162, 'रखो!<eos>': 3163, 'न्यू': 3164, 'दिखाया।<eos>': 3165, 'गेट': 3166, 'अच्छा।<eos>': 3167, 'तम्हे': 3168, 'तापमान': 3169, 'हकला': 3170, 'पियो।<eos>': 3171, 'ग्लास': 3172, 'पायी।<eos>': 3173, 'उठा।<eos>': 3174, 'चाहूँगी।<eos>': 3175, 'लेआऊँ?<eos>': 3176, 'खरीदे।<eos>': 3177, 'कोईसा': 3178, 'हुए।<eos>': 3179, 'जीतेंगे।<eos>': 3180, 'करते?<eos>': 3181, 'चुनो।<eos>': 3182, 'मरा।<eos>': 3183, 'सुनेगा।<eos>': 3184, 'यहां,': 3185, 'बैठिये।<eos>': 3186, 'आधा': 3187, 'होगा!<eos>': 3188, 'पी।<eos>': 3189, 'तेरा': 3190, 'बतादेना।<eos>': 3191, 'बसे।<eos>': 3192, 'ठहरिए।<eos>': 3193, 'करदिआ।<eos>': 3194, 'मिले।<eos>': 3195, 'हाँ,': 3196, 'a': 3197, 'पुलीस': 3198, 'हिचकिचाया।<eos>': 3199, 'सिखाया।<eos>': 3200, 'पड़ती।<eos>': 3201, 'दूसरों': 3202, 'स्मॉग': 3203, 'दुश्मन': 3204, 'टहलें।<eos>': 3205, 'न?<eos>': 3206, 'मिलना।<eos>': 3207, 'ईमानदारी': 3208, 'पढ़ूँ।<eos>': 3209, 'बैठा।<eos>': 3210, 'चूहा': 3211, 'लाईं।<eos>': 3212, 'कहेंगे।<eos>': 3213, 'रखना।<eos>': 3214, 'दुल्हन': 3215, 'मारा।<eos>': 3216, 'पेंट': 3217, 'बरसात': 3218, 'टॉम,': 3219, 'प्लीज़।<eos>': 3220, 'चुना।<eos>': 3221, 'चाहिएं।<eos>': 3222, 'पहुँचाई।<eos>': 3223, 'गया?<eos>': 3224, 'लाना।<eos>': 3225, 'बोला।<eos>': 3226, 'रहेंगे?<eos>': 3227, 'मेने': 3228, 'दिए।<eos>': 3229, 'तकरीबन': 3230, 'होंगे?<eos>': 3231, 'सिपाहियों': 3232, 'उतारिए।<eos>': 3233, 'जापानियों': 3234, 'दक्षिण': 3235, 'आते?<eos>': 3236, 'चीनी?<eos>': 3237, 'रेखांकित': 3238, 'सुधारिए।<eos>': 3239, 'झुँको।<eos>': 3240, 'आपने': 3241, 'खींचा।<eos>': 3242, 'ख़रीदीं।<eos>': 3243, 'ज़्यादातर': 3244, 'सिक्कों': 3245, 'समझिए।<eos>': 3246, 'दिखाईए।<eos>': 3247, 'करें।<eos>': 3248, 'बोलो': 3249, 'सेइचो': 3250, 'घूमफिरकर': 3251, 'इसका': 3252, 'चट्टान': 3253, 'घोड़ा': 3254, 'चढ़ा।<eos>': 3255, 'हादसा': 3256, 'हुई?<eos>': 3257, 'बताया?<eos>': 3258, 'तोड़ो।<eos>': 3259, 'आधे': 3260, 'छिपाई।<eos>': 3261, 'देखता।<eos>': 3262, 'भागा।<eos>': 3263, 'खिलाईएगा।<eos>': 3264, 'सोचा।<eos>': 3265, 'रोगी': 3266, 'भरी।<eos>': 3267, '\"अभी': 3268, 'आस्ट्रेलिया': 3269, 'लड़ने-झगड़ने': 3270, 'करलें।<eos>': 3271, 'छोड़ूँ?<eos>': 3272, 'बोलिए।<eos>': 3273, 'पढ़ो।<eos>': 3274, 'आएगी।<eos>': 3275, 'उड़ाई।<eos>': 3276, 'धरती': 3277, 'जाँच-पड़ताल': 3278, 'लीं।<eos>': 3279, 'पहुँचेगा।<eos>': 3280, 'करेगी!<eos>': 3281, 'आएंगे?<eos>': 3282, 'लेलो।<eos>': 3283, 'निकाला।<eos>': 3284, 'ऑस्ट्रेलिया': 3285, 'निभाओ।<eos>': 3286, 'संभवतः': 3287, 'देदीजिए।<eos>': 3288, 'खरीदा।<eos>': 3289, 'बचाए।<eos>': 3290, 'शब्दकोष': 3291, 'रुकी।<eos>': 3292, 'कूदो।<eos>': 3293, 'पोंछो।<eos>': 3294, '\"चलो': 3295, 'रस्सी': 3296, 'समझाई।<eos>': 3297, 'तोला।<eos>': 3298, 'कहूँ।<eos>': 3299, 'लगेगी।<eos>': 3300, 'अरे': 3301, 'कीजिएगा।<eos>': 3302, 'लौटाए।<eos>': 3303, 'यहां': 3304, 'उतारे।<eos>': 3305, 'सम्मेलन': 3306, 'गोलीबारी': 3307, 'बजा।<eos>': 3308, 'ठहरे।<eos>': 3309, 'आईं।<eos>': 3310, 'इत्तेफ़ाक': 3311, 'मैं।<eos>': 3312, 'फ़ौरन': 3313, 'रखो।<eos>': 3314, 'पहुँचाएगा।<eos>': 3315, 'हवाईजहाज़': 3316, 'फ़्रांस': 3317, 'बाँटा।<eos>': 3318, 'लोगे?<eos>': 3319, 'दरअसल': 3320, 'बर्न': 3321, 'डरो।<eos>': 3322, 'रहता।<eos>': 3323, 'छोड़ी।<eos>': 3324, 'रोका।<eos>': 3325, 'बचाया।<eos>': 3326, 'लगेगी?<eos>': 3327, 'करवाई।<eos>': 3328, 'विदेषी': 3329, 'गड्ढा': 3330, 'बुलाई।<eos>': 3331, 'और-तो-और': 3332, 'उतरेगा।<eos>': 3333, 'होंगीं?<eos>': 3334, 'पहुँचे।<eos>': 3335, 'सुनिए,': 3336, 'ईश्वर': 3337, 'जताई।<eos>': 3338, 'जोड़ा।<eos>': 3339, 'करूँ।<eos>': 3340, 'जाएंगे।<eos>': 3341, 'कॉफ़ी।<eos>': 3342, 'बढ़ी।<eos>': 3343, 'प्लान': 3344, 'भरेगा।<eos>': 3345, 'करेगी?<eos>': 3346, 'पहनोगी?<eos>': 3347, 'वादी': 3348, 'बौद्ध': 3349, 'उसमें': 3350, 'पोंछा।<eos>': 3351, 'दोगे।<eos>': 3352, 'आंकरेज': 3353, 'सोचो': 3354, 'खोदा।<eos>': 3355, 'बाएं': 3356, 'आई?<eos>': 3357, 'डिनर': 3358, 'माँगा।<eos>': 3359, 'ढूँढो।<eos>': 3360, 'बिछाई।<eos>': 3361, 'बुलाया।<eos>': 3362, 'आए।<eos>': 3363, 'देंगे।<eos>': 3364, '\"आप': 3365, 'पूछूँगा।<eos>': 3366, 'चुकताऊँगा।<eos>': 3367, 'पर।<eos>': 3368, 'जानता?<eos>': 3369, 'की?!<eos>': 3370, 'घुसा।<eos>': 3371, 'पड़ीं।<eos>': 3372, 'दोगे?<eos>': 3373, 'मिलीं?<eos>': 3374, 'निभाएगा।<eos>': 3375, 'रहिए।<eos>': 3376, 'लेलिया।<eos>': 3377, 'म्युज़ियम': 3378, 'बिगड़े': 3379, 'मिलेगी।<eos>': 3380, 'पौधे': 3381, 'सुना।<eos>': 3382, 'बेकरी': 3383, 'बूढ़ी': 3384, 'मुस्कुराई।<eos>': 3385, 'ही।\"<eos>': 3386, 'चाहिएँ।<eos>': 3387, 'करूंगी।<eos>': 3388, 'लूँ।<eos>': 3389, 'लगातार': 3390, 'आएँ।<eos>': 3391, 'कुत्ते।<eos>': 3392, 'क़ुतुब': 3393, 'वैसे,': 3394, 'घायल': 3395, 'बधाईंयाँ।<eos>': 3396, 'हाथ<eos>': 3397, 'सके।<eos>': 3398, 'बिताई।<eos>': 3399, 'फ़ोटोकॉपियर': 3400, 'रबड़': 3401, 'होएगी।<eos>': 3402, 'उठी।<eos>': 3403, 'मोर': 3404, 'जागना': 3405, 'मिलेंगीं।<eos>': 3406, 'सूझी?<eos>': 3407, 'कॉपीराईट': 3408, 'जोड़ें।<eos>': 3409, 'छपेगी।<eos>': 3410, 'मुझा': 3411, 'करूँगी।<eos>': 3412, 'एवरेस्ट': 3413, 'डाली।<eos>': 3414, 'क्लासरूम': 3415, 'एयरपोर्ट': 3416, 'फ़ैक्टरी': 3417, 'पुलीसवाले': 3418, 'जाऊँ।<eos>': 3419, 'हिचकिचाएँ।<eos>': 3420, 'बताईये।<eos>': 3421, 'दवा': 3422, 'ही।<eos>': 3423, 'जाओगी।<eos>': 3424, 'लेगा।<eos>': 3425, 'डाँटा।<eos>': 3426, 'रहे।<eos>': 3427, 'कयोंकि': 3428, 'करदी।<eos>': 3429, 'मिली?<eos>': 3430, '\"वे': 3431, 'है।\"<eos>': 3432, 'जाएगा?<eos>': 3433, 'खुलकर': 3434, 'चाहता।<eos>': 3435, 'लगा?<eos>': 3436, 'तैवान': 3437, 'थें।<eos>': 3438, 'देना।<eos>': 3439, 'बाताऊँगा।<eos>': 3440, 'बाताऊँगी।<eos>': 3441, 'डाललो।<eos>': 3442, 'खालूँ।<eos>': 3443, 'मारी।<eos>': 3444, 'पाई।<eos>': 3445, 'आपातकालीन': 3446, 'अंतर्राष्ट्रीय': 3447, 'बैट': 3448, 'अबसे': 3449, 'लूँगा।<eos>': 3450, 'ग़ौर': 3451, 'बाग': 3452, 'भिजवादूँगा।<eos>': 3453, 'हेलमेट': 3454, 'बहतर': 3455, 'एड्स': 3456, 'फ्रेंच': 3457, 'बतादूँगा।<eos>': 3458, 'बहार': 3459, 'हाँ': 3460, 'मरीज़': 3461, 'जाते।<eos>': 3462, 'ले।<eos>': 3463, 'है\"।<eos>': 3464, 'ताज': 3465, 'गईं।<eos>': 3466, 'कोलम्बस': 3467, '१६००': 3468, '\"कब': 3469, 'चलेगा।\"<eos>': 3470, 'मुम्बई': 3471, 'पहनूँ।<eos>': 3472, 'पंद्रह': 3473, 'रहेगा।<eos>': 3474, 'अधिकारियों': 3475, 'मछवारे': 3476, 'पाते।<eos>': 3477, 'पाऊँगा।<eos>': 3478, 'आएगा?<eos>': 3479, 'पढ़लो।<eos>': 3480, 'तम्हें': 3481, 'दीजिएगा।<eos>': 3482, 'पायेंगे।<eos>': 3483, 'करेंगे?<eos>': 3484, 'करदें?<eos>': 3485, 'चोरों': 3486, 'डालीं।<eos>': 3487, 'बनवालिया।<eos>': 3488, 'जार्ज': 3489, 'थे<eos>': 3490, '१९५१': 3491, 'जिन': 3492, 'लोकतंत्र': 3493, 'दें।<eos>': 3494, '<sos>वाह!': 3495, '<sos>बचाओ!': 3496, '<sos>उछलो.': 3497, '<sos>कूदो.': 3498, '<sos>छलांग.': 3499, '<sos>नमस्ते।': 3500, '<sos>नमस्कार।': 3501, '<sos>वाह-वाह!': 3502, '<sos>चियर्स!': 3503, '<sos>समझे': 3504, 'बढ़िया!': 3505, '<sos>चले': 3506, '<sos>ख़ुदा': 3507, 'हाफ़िज़।': 3508, '<sos>उत्तम!': 3509, '<sos>सही!': 3510, '<sos>स्वागतम्।': 3511, '<sos>मौज': 3512, 'दूंगा।': 3513, 'चलें!': 3514, 'ख़ूब!': 3515, '<sos>खेद': 3516, 'हँसा।': 3517, '<sos>ठंड': 3518, '<sos>कौन': 3519, 'जाने?': 3520, '<sos>किसको': 3521, '<sos>अद्भुत': 3522, '<sos>निश्चित': 3523, '<sos>हिलो': 3524, '<sos>आग': 3525, 'भेजो।': 3526, 'दो!': 3527, 'बार।': 3528, '<sos>नया': 3529, '<sos>चिल्लाओ': 3530, 'मत!': 3531, '<sos>चिल्लाईए': 3532, 'आऊंगा।': 3533, '<sos>एसटर': 3534, 'मालूम।': 3535, 'जाईये।': 3536, '<sos>अविश्वसनीय!': 3537, '<sos>थक': 3538, '<sos>मोटे': 3539, '<sos>हार': 3540, '<sos>पीकर': 3541, 'करदो।': 3542, '<sos>मौत': 3543, '<sos>फूल': 3544, 'लेलूँगा।': 3545, 'दिखाओ।': 3546, 'खोलिए।': 3547, 'पढ़ें।': 3548, '<sos>पढ़के': 3549, 'सुनाओ।': 3550, 'झुकी।': 3551, '<sos>बिस्तर': 3552, 'निकलो!': 3553, '<sos>नव': 3554, 'शुभकामनाएं!': 3555, 'बधाईयाँ।': 3556, '<sos>जन्मदिन': 3557, '<sos>भगवान': 3558, 'जाने।': 3559, '<sos>गर्मियाँ': 3560, '<sos>आराम': 3561, 'बुलाएँगे।': 3562, '<sos>मज़ाक': 3563, 'आजाओ।': 3564, '<sos>आ': 3565, '<sos>बधाई': 3566, '<sos>मुबारक': 3567, '<sos>पागल': 3568, 'बनो।': 3569, '<sos>कैसा': 3570, 'तुम!': 3571, '<sos>बदतमीज़!': 3572, 'पकाया।': 3573, '<sos>मुझपर': 3574, 'उड़ाएँ!': 3575, '<sos>नहीं,': 3576, 'खोलो!': 3577, 'दिया!': 3578, '<sos>ऊपर': 3579, '<sos>आलूओं': 3580, 'काटो।': 3581, '<sos>मूँह': 3582, 'बनाओ।': 3583, '<sos>शोर': 3584, 'मचाओ।': 3585, 'बस्ता।': 3586, '<sos>मै': 3587, '<sos>शराबख़ाना': 3588, '<sos>किसकी': 3589, '<sos>पक्षी': 3590, '<sos>चिड़ियाँ': 3591, '<sos>लड़के': 3592, 'रोई।': 3593, '<sos>हाथ': 3594, 'लगी।': 3595, '<sos>पृथ्वी': 3596, '<sos>रेडियो': 3597, '<sos>खुशी': 3598, '<sos>सुख': 3599, '<sos>हाँ।': 3600, '<sos>उम्मीद': 3601, '<sos>पत्थर': 3602, 'फेंको।': 3603, '<sos>तेरी': 3604, 'करीं।': 3605, '<sos>बाद': 3606, '<sos>बॅटर': 3607, '<sos>कितना': 3608, 'बुलवाई।': 3609, 'बनाया?': 3610, 'लाऊँगा।': 3611, '<sos>पेड़': 3612, '<sos>ज़बान': 3613, '<sos>हवाई': 3614, '<sos>सर्दी': 3615, 'बचाली।': 3616, '<sos>रविवार': 3617, '<sos>लिंकन': 3618, '<sos>चादरें': 3619, '<sos>समय': 3620, '<sos>इसमें': 3621, '<sos>निराश': 3622, '<sos>मोटी': 3623, '<sos>घंटी': 3624, '<sos>मई': 3625, '<sos>गेंद': 3626, 'फेंकिए।': 3627, 'डालदो।': 3628, 'लाई।': 3629, 'जी।': 3630, '<sos>कहीं': 3631, '<sos>झील': 3632, 'छोड़दी।': 3633, 'उड़ाया।': 3634, 'चिल्लाया।': 3635, '<sos>लिफ़्ट': 3636, '<sos>जैसी': 3637, 'भरनी।': 3638, 'काटोगे।': 3639, 'पाओ।': 3640, '<sos>कर': 3641, 'भला।': 3642, 'भरना।': 3643, '<sos>\"कौन': 3644, '<sos>लोमड़ी': 3645, '<sos>खरगोश': 3646, '<sos>नाराज़': 3647, '<sos>उनका': 3648, 'उड़ाओ।': 3649, 'सीखा।': 3650, 'रखो!': 3651, '<sos>न्यू': 3652, 'दिखाया।': 3653, '<sos>गेट': 3654, 'अच्छा।': 3655, '<sos>तम्हे': 3656, '<sos>तापमान': 3657, '<sos>हकला': 3658, '<sos>दूध': 3659, '<sos>शराब': 3660, 'पियो।': 3661, '<sos>टिकट': 3662, '<sos>ग्लास': 3663, 'पायी।': 3664, 'उठा।': 3665, 'चाहूँगी।': 3666, '<sos>बारह': 3667, '<sos>छः': 3668, 'लेआऊँ?': 3669, 'खरीदे।': 3670, '<sos>कोईसा': 3671, 'हुए।': 3672, 'जीतेंगे।': 3673, 'करते?': 3674, '<sos>बुरी': 3675, '<sos>चीज़': 3676, 'चुनो।': 3677, '<sos>होमवर्क': 3678, 'मरा।': 3679, 'सुनेगा।': 3680, '<sos>यहां,': 3681, 'बैठिये।': 3682, '<sos>आधा': 3683, 'होगा!': 3684, 'पी।': 3685, '<sos>तेरा': 3686, 'बतादेना।': 3687, 'बसे।': 3688, 'ठहरिए।': 3689, 'करदिआ।': 3690, 'मिले।': 3691, '<sos>टोक्यो': 3692, '<sos>हाँ,': 3693, '<sos>a': 3694, '<sos>पुलीस': 3695, 'हिचकिचाया।': 3696, 'सिखाया।': 3697, '<sos>भूख': 3698, 'पड़ती।': 3699, '<sos>पाँच': 3700, '<sos>नौ': 3701, '<sos>दूसरों': 3702, '<sos>स्मॉग': 3703, '<sos>तोहफ़े': 3704, '<sos>दुश्मन': 3705, '<sos>क़ैदी': 3706, 'टहलें।': 3707, 'न?': 3708, 'मिलना।': 3709, '<sos>ग्रीक': 3710, '<sos>ईमानदारी': 3711, 'पढ़ूँ।': 3712, 'बैठा।': 3713, '<sos>चूहा': 3714, 'लाईं।': 3715, 'कहेंगे।': 3716, 'रखना।': 3717, '<sos>दुल्हन': 3718, 'मारा।': 3719, '<sos>पेंट': 3720, '<sos>बरसात': 3721, '<sos>टॉम,': 3722, 'प्लीज़।': 3723, 'चुना।': 3724, 'चाहिएं।': 3725, 'पहुँचाई।': 3726, '<sos>सारा': 3727, 'गया?': 3728, '<sos>अगली': 3729, 'लाना।': 3730, 'बोला।': 3731, 'रहेंगे?': 3732, '<sos>मेने': 3733, 'दिए।': 3734, '<sos>तकरीबन': 3735, 'होंगे?': 3736, '<sos>जवाब': 3737, '<sos>देखो': 3738, '<sos>सिपाहियों': 3739, '<sos>शांति': 3740, 'उतारिए।': 3741, '<sos>जापानियों': 3742, '<sos>गरम': 3743, '<sos>दक्षिण': 3744, 'आते?': 3745, 'चीनी?': 3746, '<sos>रेखांकित': 3747, 'सुधारिए।': 3748, 'झुँको।': 3749, '<sos>अमेरिका': 3750, '<sos>फ़ुटबॉल': 3751, '<sos>आपने': 3752, 'खींचा।': 3753, 'ख़रीदीं।': 3754, '<sos>छोटी': 3755, '<sos>उससे': 3756, '<sos>नीचे': 3757, '<sos>ज़्यादातर': 3758, '<sos>सिक्कों': 3759, 'समझिए।': 3760, 'दिखाईए।': 3761, '<sos>बोलो': 3762, '<sos>सेइचो': 3763, '<sos>घूमफिरकर': 3764, '<sos>चाय': 3765, '<sos>इसका': 3766, '<sos>इसलिए': 3767, '<sos>इटली': 3768, '<sos>चट्टान': 3769, '<sos>घोड़ा': 3770, '<sos>बंदर': 3771, 'चढ़ा।': 3772, '<sos>आबादी': 3773, '<sos>जनसंख्या': 3774, '<sos>हादसा': 3775, '<sos>घटना': 3776, 'हुई?': 3777, 'बताया?': 3778, 'तोड़ो।': 3779, '<sos>आधे': 3780, 'छिपाई।': 3781, '<sos>फ़िल्म': 3782, 'देखता।': 3783, 'भागा।': 3784, '<sos>इनसान': 3785, '<sos>कुत्ते': 3786, 'खिलाईएगा।': 3787, 'सोचा।': 3788, '<sos>रोगी': 3789, 'भरी।': 3790, '<sos>उनसे': 3791, '<sos>होनी': 3792, '<sos>पत्र': 3793, '<sos>\"अभी': 3794, '<sos>कारोबार': 3795, '<sos>आस्ट्रेलिया': 3796, '<sos>योजना': 3797, '<sos>लड़ने-झगड़ने': 3798, '<sos>इसके': 3799, 'करलें।': 3800, 'छोड़ूँ?': 3801, '<sos>भौतिक': 3802, 'बोलिए।': 3803, '<sos>जितनी': 3804, 'पढ़ो।': 3805, 'आएगी।': 3806, 'उड़ाई।': 3807, '<sos>हिरण': 3808, '<sos>धरती': 3809, '<sos>जाँच-पड़ताल': 3810, 'लीं।': 3811, 'पहुँचेगा।': 3812, '<sos>कमरा': 3813, 'करेगी!': 3814, 'आएंगे?': 3815, 'लेलो।': 3816, '<sos>अचानक': 3817, 'निकाला।': 3818, '<sos>ऑस्ट्रेलिया': 3819, 'निभाओ।': 3820, '<sos>ओसाका': 3821, '<sos>संभवतः': 3822, 'देदीजिए।': 3823, 'खरीदा।': 3824, 'बचाए।': 3825, '<sos>लड़का': 3826, '<sos>घड़ी': 3827, '<sos>शब्दकोष': 3828, '<sos>लोग': 3829, 'रुकी।': 3830, '<sos>ऐसे': 3831, '<sos>करने': 3832, 'कूदो।': 3833, 'पोंछो।': 3834, '<sos>\"चलो': 3835, '<sos>रस्सी': 3836, '<sos>चिंता': 3837, 'समझाई।': 3838, 'तोला।': 3839, 'कहूँ।': 3840, '<sos>लगता': 3841, 'लगेगी।': 3842, '<sos>अरे': 3843, 'कीजिएगा।': 3844, 'लौटाए।': 3845, '<sos>यहां': 3846, '<sos>गर्मी': 3847, 'उतारे।': 3848, '<sos>सम्मेलन': 3849, '<sos>इतिहास': 3850, '<sos>गोलीबारी': 3851, 'बजा।': 3852, 'ठहरे।': 3853, 'आईं।': 3854, '<sos>इत्तेफ़ाक': 3855, '<sos>न': 3856, 'मैं।': 3857, '<sos>फ़ौरन': 3858, '<sos>बेहतर': 3859, 'रखो।': 3860, '<sos>धूम्रपान': 3861, 'पहुँचाएगा।': 3862, '<sos>पहाड़': 3863, '<sos>हवाईजहाज़': 3864, '<sos>फ़्रांस': 3865, 'बाँटा।': 3866, 'लोगे?': 3867, '<sos>दरअसल': 3868, '<sos>बर्न': 3869, '<sos>ग़लतियाँ': 3870, 'डरो।': 3871, 'रहता।': 3872, 'छोड़ी।': 3873, 'रोका।': 3874, 'बचाया।': 3875, '<sos>मछली': 3876, 'लगेगी?': 3877, 'करवाई।': 3878, '<sos>विदेषी': 3879, '<sos>गड्ढा': 3880, '<sos>शेर': 3881, '<sos>समस्या': 3882, '<sos>उन्हे': 3883, 'बुलाई।': 3884, '<sos>और-तो-और': 3885, 'उतरेगा।': 3886, 'होंगीं?': 3887, '<sos>लकड़ी': 3888, 'पहुँचे।': 3889, '<sos>सुनिए,': 3890, '<sos>ईश्वर': 3891, 'जताई।': 3892, 'जोड़ा।': 3893, 'करूँ।': 3894, 'जाएंगे।': 3895, 'कॉफ़ी।': 3896, '<sos>सितारे': 3897, '<sos>बिल्ली': 3898, 'बढ़ी।': 3899, '<sos>क़ानून': 3900, '<sos>प्लान': 3901, 'भरेगा।': 3902, '<sos>क्योटो': 3903, 'करेगी?': 3904, 'पहनोगी?': 3905, '<sos>वादी': 3906, '<sos>बौद्ध': 3907, '<sos>मक्खन': 3908, '<sos>उसमें': 3909, 'पोंछा।': 3910, 'दोगे।': 3911, '<sos>आंकरेज': 3912, '<sos>सोचो': 3913, '<sos>लाल': 3914, 'खोदा।': 3915, '<sos>बाएं': 3916, 'आई?': 3917, '<sos>डिनर': 3918, 'माँगा।': 3919, 'ढूँढो।': 3920, 'बिछाई।': 3921, 'बुलाया।': 3922, '<sos>चाहे': 3923, '<sos>शक': 3924, 'आए।': 3925, 'देंगे।': 3926, '<sos>\"आप': 3927, 'पूछूँगा।': 3928, 'चुकताऊँगा।': 3929, 'पर।': 3930, '<sos>बोलने': 3931, '<sos>बत्तियाँ': 3932, '<sos>काम': 3933, 'जानता?': 3934, '<sos>कर्मचारियों': 3935, 'की?!': 3936, 'घुसा।': 3937, 'पड़ीं।': 3938, 'दोगे?': 3939, 'मिलीं?': 3940, 'निभाएगा।': 3941, '<sos>दिन': 3942, 'रहिए।': 3943, '<sos>विज्ञान': 3944, '<sos>ज़ुकाम': 3945, 'लेलिया।': 3946, '<sos>म्युज़ियम': 3947, '<sos>बिगड़े': 3948, '<sos>उनको': 3949, 'मिलेगी।': 3950, '<sos>पौधे': 3951, 'सुना।': 3952, '<sos>ख़रीदो': 3953, '<sos>एसी': 3954, '<sos>बेकरी': 3955, '<sos>म्युज़ियम': 3956, '<sos>बूढ़ी': 3957, 'मुस्कुराई।': 3958, 'ही।\"': 3959, '<sos>अफ़्रीका': 3960, '<sos>कैंसर': 3961, 'चाहिएँ।': 3962, 'करूंगी।': 3963, 'लूँ।': 3964, '<sos>लगातार': 3965, '<sos>कि': 3966, 'आएँ।': 3967, '<sos>कहने': 3968, '<sos>कहना': 3969, '<sos>डब्बे': 3970, 'कुत्ते।': 3971, '<sos>जापानी': 3972, '<sos>क़ुतुब': 3973, '<sos>वैसे,': 3974, '<sos>घायल': 3975, '<sos>निर्णय': 3976, 'बधाईंयाँ।': 3977, 'सके।': 3978, 'बिताई।': 3979, '<sos>फ़ोटोकॉपियर': 3980, '<sos>रबड़': 3981, 'होएगी।': 3982, 'उठी।': 3983, '<sos>मोर': 3984, '<sos>जागना': 3985, 'मिलेंगीं।': 3986, '<sos>जाने': 3987, 'सूझी?': 3988, '<sos>कॉपीराईट': 3989, 'जोड़ें।': 3990, 'छपेगी।': 3991, '<sos>मुझा': 3992, 'करूँगी।': 3993, '<sos>एवरेस्ट': 3994, 'डाली।': 3995, '<sos>क्लासरूम': 3996, '<sos>एयरपोर्ट': 3997, '<sos>फ़ैक्टरी': 3998, '<sos>पुलीसवाले': 3999, '<sos>सही': 4000, 'जाऊँ।': 4001, 'हिचकिचाएँ।': 4002, 'बताईये।': 4003, '<sos>दवा': 4004, '<sos>बर्दाश्त': 4005, '<sos>जल्दबाज़ी': 4006, 'ही।': 4007, 'जाओगी।': 4008, 'लेगा।': 4009, 'डाँटा।': 4010, 'रहे।': 4011, '<sos>कयोंकि': 4012, '<sos>हज़ारों': 4013, 'करदी।': 4014, '<sos>अम्रीका': 4015, 'मिली?': 4016, '<sos>\"वे': 4017, 'है।\"': 4018, 'जाएगा?': 4019, '<sos>खुलकर': 4020, 'चाहता।': 4021, 'लगा?': 4022, '<sos>तैवान': 4023, '<sos>इतने': 4024, 'थें।': 4025, 'देना।': 4026, 'बाताऊँगा।': 4027, 'बाताऊँगी।': 4028, 'डाललो।': 4029, '<sos>इंग्लैंड': 4030, 'खालूँ।': 4031, '<sos>पिताजी': 4032, 'मारी।': 4033, '<sos>इतना': 4034, 'पाई।': 4035, '<sos>आपातकालीन': 4036, '<sos>अस्पताल': 4037, '<sos>अंतर्राष्ट्रीय': 4038, '<sos>बैट': 4039, '<sos>अबसे': 4040, 'लूँगा।': 4041, '<sos>ग़ौर': 4042, '<sos>बाग': 4043, 'भिजवादूँगा।': 4044, '<sos>हेलमेट': 4045, '<sos>शायद': 4046, '<sos>बहतर': 4047, '<sos>समिति': 4048, '<sos>एड्स': 4049, '<sos>फ्रेंच': 4050, 'बतादूँगा।': 4051, '<sos>बहार': 4052, '<sos>हाँ': 4053, '<sos>मरीज़': 4054, 'जाते।': 4055, 'ले।': 4056, '<sos>तुमको': 4057, 'है\"।': 4058, '<sos>ताज': 4059, 'गईं।': 4060, '<sos>इंग्लैड': 4061, '<sos>कोलम्बस': 4062, '<sos>१६००': 4063, '<sos>\"कब': 4064, 'चलेगा।\"': 4065, '<sos>मुम्बई': 4066, 'पहनूँ।': 4067, '<sos>पंद्रह': 4068, '<sos>विष्व': 4069, 'रहेगा।': 4070, '<sos>अधिकारियों': 4071, '<sos>असली': 4072, '<sos>खेत': 4073, '<sos>मछवारे': 4074, '<sos>नई': 4075, 'पाते।': 4076, '<sos>परसों': 4077, 'पाऊँगा।': 4078, 'आएगा?': 4079, '<sos>हमको': 4080, 'पढ़लो।': 4081, '<sos>तम्हें': 4082, 'दीजिएगा।': 4083, 'पायेंगे।': 4084, 'करेंगे?': 4085, '<sos>जुड़वा': 4086, 'करदें?': 4087, '<sos>चोरों': 4088, 'डालीं।': 4089, 'बनवालिया।': 4090, '<sos>जार्ज': 4091, '<sos>१९५१': 4092, '<sos>जिन': 4093, '<sos>लोकतंत्र': 4094, 'दें।': 4095}\n"
     ]
    }
   ],
   "source": [
    "# get the word to index mapping for output/translated language\n",
    "word2idx_outputs = tokenizer_outputs.word_index\n",
    "print('Found %s unique output tokens.' %len(word2idx_outputs))\n",
    "\n",
    "print(word2idx_outputs)"
   ]
  },
  {
   "cell_type": "code",
   "execution_count": 11,
   "metadata": {},
   "outputs": [
    {
     "name": "stdout",
     "output_type": "stream",
     "text": [
      "num_words_output: 4096\n",
      "Maximum length of target/translated text is: 25\n"
     ]
    }
   ],
   "source": [
    "# store number of output words for later. remember to add 1 since indexing starts at 1\n",
    "num_words_output = len(word2idx_outputs) + 1\n",
    "print('num_words_output:', num_words_output)\n",
    "\n",
    "# determine the maximum length output sequence\n",
    "max_len_target = max(len(s) for s in target_sequences)\n",
    "print ('Maximum length of target/translated text is:', max_len_target)"
   ]
  },
  {
   "cell_type": "markdown",
   "metadata": {},
   "source": [
    "### Pad Sequences"
   ]
  },
  {
   "cell_type": "code",
   "execution_count": 12,
   "metadata": {
    "scrolled": true
   },
   "outputs": [
    {
     "name": "stdout",
     "output_type": "stream",
     "text": [
      "encoder_inputs.shape: (2808, 22)\n",
      "encoder_inputs[0]: [   0    0    0    0    0    0    0    0    0    0    0    0    0    0\n",
      "    0    0    0    0    0    0    0 1274]\n"
     ]
    }
   ],
   "source": [
    "encoder_inputs = pad_sequences(input_sequences, maxlen=max_len_input)\n",
    "print('encoder_inputs.shape:', encoder_inputs.shape)\n",
    "print('encoder_inputs[0]:', encoder_inputs[0])"
   ]
  },
  {
   "cell_type": "code",
   "execution_count": 13,
   "metadata": {},
   "outputs": [
    {
     "name": "stdout",
     "output_type": "stream",
     "text": [
      "decoder_inputs.shape: (2808, 25)\n",
      "decoder_inputs[0]: [3495    0    0    0    0    0    0    0    0    0    0    0    0    0\n",
      "    0    0    0    0    0    0    0    0    0    0    0]\n"
     ]
    }
   ],
   "source": [
    "decoder_inputs = pad_sequences(target_sequences_input, maxlen=max_len_target, padding='post')\n",
    "# 26 is the maximum length of the sentence in the translated data in the training set\n",
    "print('decoder_inputs.shape:', decoder_inputs.shape)\n",
    "print('decoder_inputs[0]:', decoder_inputs[0])"
   ]
  },
  {
   "cell_type": "code",
   "execution_count": 14,
   "metadata": {},
   "outputs": [
    {
     "name": "stdout",
     "output_type": "stream",
     "text": [
      "decoder_targets.shape: (2808, 25)\n",
      "decoder_targets[0]: [3055    0    0    0    0    0    0    0    0    0    0    0    0    0\n",
      "    0    0    0    0    0    0    0    0    0    0    0]\n"
     ]
    }
   ],
   "source": [
    "decoder_targets = pad_sequences(target_sequences, maxlen=max_len_target, padding='post')\n",
    "print('decoder_targets.shape:', decoder_targets.shape)\n",
    "print('decoder_targets[0]:', decoder_targets[0])"
   ]
  },
  {
   "cell_type": "markdown",
   "metadata": {},
   "source": [
    "### Load pre-trained word vectors - Embeddings"
   ]
  },
  {
   "cell_type": "code",
   "execution_count": 15,
   "metadata": {},
   "outputs": [
    {
     "name": "stdout",
     "output_type": "stream",
     "text": [
      "Loading word vectors\n",
      "Found 400000 word vectors.\n",
      "Embedding dimensions:  (100,)\n"
     ]
    }
   ],
   "source": [
    "print('Loading word vectors')\n",
    "word2vec = {}\n",
    "# Load word vector of 100 dimensions.\n",
    "with open (os.path.join('Embeddings/glove.6B/glove.6B.%sd.txt' %EMBEDDING_DIM)) as f:\n",
    "    for line in f:\n",
    "        # split at spaces\n",
    "        values = line.split()\n",
    "        word = values[0]\n",
    "        #np.asarray Converts the input to an array.\n",
    "        vec = np.asarray(values[1:], dtype='float32')\n",
    "        word2vec[word] = vec\n",
    "        \n",
    "print('Found %s word vectors.' %len(word2vec))\n",
    "print('Embedding dimensions: ', word2vec['the'].shape)"
   ]
  },
  {
   "cell_type": "markdown",
   "metadata": {},
   "source": [
    "### Prepare Embedding matrix"
   ]
  },
  {
   "cell_type": "code",
   "execution_count": 16,
   "metadata": {},
   "outputs": [
    {
     "name": "stdout",
     "output_type": "stream",
     "text": [
      "Filling pre-trained embeddings\n",
      "num_words: 2389\n",
      "Shape of Embeddings matrix:  (2389, 100)\n"
     ]
    }
   ],
   "source": [
    "print('Filling pre-trained embeddings')\n",
    "# MAX_NUM_WORDS = 20000\n",
    "num_words = min(MAX_NUM_WORDS, len(word2idx_inputs) + 1)\n",
    "embedding_matrix = np.zeros((num_words, EMBEDDING_DIM))\n",
    "for word, i in word2idx_inputs.items():\n",
    "    if i < MAX_NUM_WORDS:\n",
    "        embedding_vector = word2vec.get(word)\n",
    "        if embedding_vector is not None:\n",
    "            # words not foun20000d in the embedding index will all be zero\n",
    "            embedding_matrix[i] = embedding_vector\n",
    "\n",
    "print('num_words:', num_words)\n",
    "# 2389 words each of 100 dimensions\n",
    "print('Shape of Embeddings matrix: ', embedding_matrix.shape)"
   ]
  },
  {
   "cell_type": "markdown",
   "metadata": {},
   "source": [
    "### Embedding layer"
   ]
  },
  {
   "cell_type": "code",
   "execution_count": 17,
   "metadata": {},
   "outputs": [
    {
     "name": "stderr",
     "output_type": "stream",
     "text": [
      "W0923 13:45:07.222262 139879995160384 deprecation_wrapper.py:119] From /home/agoel/anaconda3/envs/ML/lib/python3.7/site-packages/keras/backend/tensorflow_backend.py:74: The name tf.get_default_graph is deprecated. Please use tf.compat.v1.get_default_graph instead.\n",
      "\n"
     ]
    }
   ],
   "source": [
    "embedding_layer = Embedding(num_words, \n",
    "                           EMBEDDING_DIM,\n",
    "                           weights = [embedding_matrix],\n",
    "                           input_length = max_len_input,\n",
    "                           #trainable=true\n",
    "                           )"
   ]
  },
  {
   "cell_type": "code",
   "execution_count": 18,
   "metadata": {},
   "outputs": [],
   "source": [
    "# create targets, since we cannot use sparse\n",
    "# categorical cross entropy when we have sequences\n",
    "decoder_targets_one_hot = np.zeros(\n",
    "  (\n",
    "    len(input_texts),\n",
    "    max_len_target,\n",
    "    num_words_output\n",
    "  ),\n",
    "  dtype='float32'\n",
    ")\n",
    "\n",
    "# assign the values\n",
    "for i, d in enumerate(decoder_targets):\n",
    "    for t, word in enumerate(d):\n",
    "        decoder_targets_one_hot[i, t, word] = 1"
   ]
  },
  {
   "cell_type": "markdown",
   "metadata": {},
   "source": [
    "### Build Encoder-decoder LSTM model"
   ]
  },
  {
   "cell_type": "code",
   "execution_count": 19,
   "metadata": {},
   "outputs": [
    {
     "name": "stderr",
     "output_type": "stream",
     "text": [
      "W0923 13:45:07.573874 139879995160384 deprecation.py:506] From /home/agoel/anaconda3/envs/ML/lib/python3.7/site-packages/keras/backend/tensorflow_backend.py:3445: calling dropout (from tensorflow.python.ops.nn_ops) with keep_prob is deprecated and will be removed in a future version.\n",
      "Instructions for updating:\n",
      "Please use `rate` instead of `keep_prob`. Rate should be set to `rate = 1 - keep_prob`.\n"
     ]
    },
    {
     "name": "stdout",
     "output_type": "stream",
     "text": [
      "num_words_output: 4096\n"
     ]
    }
   ],
   "source": [
    "encoder_inputs_placeholder = Input(shape=(max_len_input, ))\n",
    "x = embedding_layer(encoder_inputs_placeholder)\n",
    "\n",
    "encoder_lstm = LSTM(\n",
    "    LATENT_DIM,\n",
    "    return_state=True,\n",
    "    dropout=0.5\n",
    ")\n",
    "\n",
    "encoder_outputs, h, c = encoder_lstm(x)\n",
    "\n",
    "# keep only the states to pass into decoder\n",
    "encoder_states = [h,c]\n",
    "\n",
    "# setup the decoder, using [h,c] as initial state\n",
    "decoder_inputs_placeholder = Input(shape=(max_len_target, ))\n",
    "\n",
    "# this word embedding will not use pre-trained vectors although we could\n",
    "decoder_embedding_layer = Embedding(num_words_output, LATENT_DIM)\n",
    "decoder_inputs_x = decoder_embedding_layer(decoder_inputs_placeholder)\n",
    "\n",
    "decoder_lstm = LSTM(\n",
    "        LATENT_DIM, \n",
    "        return_sequences=True,\n",
    "        return_state=True,\n",
    "        dropout = 0.5\n",
    "    )\n",
    "\n",
    "decoder_outputs, _, _ = decoder_lstm(\n",
    "                          decoder_inputs_x,\n",
    "                          initial_state=encoder_states\n",
    "                        )\n",
    "\n",
    "print('num_words_output:', num_words_output)\n",
    "\n",
    "# Final dense layers\n",
    "decoder_dense  = Dense(num_words_output, activation='softmax')\n",
    "decoder_outputs = decoder_dense(decoder_outputs)\n",
    "\n",
    "# Create the model object\n",
    "model = Model([encoder_inputs_placeholder, decoder_inputs_placeholder], decoder_outputs)"
   ]
  },
  {
   "cell_type": "markdown",
   "metadata": {},
   "source": [
    "### Compile the model"
   ]
  },
  {
   "cell_type": "code",
   "execution_count": 20,
   "metadata": {},
   "outputs": [
    {
     "name": "stderr",
     "output_type": "stream",
     "text": [
      "W0923 13:45:08.169140 139879995160384 deprecation_wrapper.py:119] From /home/agoel/anaconda3/envs/ML/lib/python3.7/site-packages/keras/optimizers.py:790: The name tf.train.Optimizer is deprecated. Please use tf.compat.v1.train.Optimizer instead.\n",
      "\n"
     ]
    }
   ],
   "source": [
    "model.compile(\n",
    "        optimizer = 'rmsprop',\n",
    "        loss='categorical_crossentropy',\n",
    "        metrics=['acc'])"
   ]
  },
  {
   "cell_type": "markdown",
   "metadata": {},
   "source": [
    "### Training Model"
   ]
  },
  {
   "cell_type": "code",
   "execution_count": 21,
   "metadata": {},
   "outputs": [
    {
     "name": "stderr",
     "output_type": "stream",
     "text": [
      "W0923 13:45:08.307160 139879995160384 deprecation.py:323] From /home/agoel/anaconda3/envs/ML/lib/python3.7/site-packages/tensorflow/python/ops/math_grad.py:1250: add_dispatch_support.<locals>.wrapper (from tensorflow.python.ops.array_ops) is deprecated and will be removed in a future version.\n",
      "Instructions for updating:\n",
      "Use tf.where in 2.0, which has the same broadcast rule as np.where\n"
     ]
    },
    {
     "name": "stdout",
     "output_type": "stream",
     "text": [
      "Train on 2246 samples, validate on 562 samples\n",
      "Epoch 1/4\n",
      "2246/2246 [==============================] - 23s 10ms/step - loss: 2.4872 - acc: 0.7395 - val_loss: 2.8392 - val_acc: 0.6073\n",
      "Epoch 2/4\n",
      "2246/2246 [==============================] - 18s 8ms/step - loss: 1.5847 - acc: 0.7647 - val_loss: 2.7734 - val_acc: 0.6093\n",
      "Epoch 3/4\n",
      "2246/2246 [==============================] - 21s 9ms/step - loss: 1.4707 - acc: 0.7696 - val_loss: 2.7273 - val_acc: 0.6215\n",
      "Epoch 4/4\n",
      "2246/2246 [==============================] - 18s 8ms/step - loss: 1.3834 - acc: 0.7802 - val_loss: 2.5859 - val_acc: 0.6400\n"
     ]
    }
   ],
   "source": [
    "history = model.fit(\n",
    "    [encoder_inputs, decoder_inputs], decoder_targets_one_hot,\n",
    "    batch_size=BATCH_SIZE,\n",
    "    epochs=EPOCHS,\n",
    "    validation_split=0.2\n",
    ")"
   ]
  },
  {
   "cell_type": "markdown",
   "metadata": {},
   "source": [
    "### Visualize accuracy and loss curves"
   ]
  },
  {
   "cell_type": "code",
   "execution_count": 22,
   "metadata": {},
   "outputs": [
    {
     "data": {
      "image/png": "[encoded data removed]",
      "text/plain": [
       "<Figure size 432x288 with 1 Axes>"
      ]
     },
     "metadata": {
      "needs_background": "light"
     },
     "output_type": "display_data"
    },
    {
     "data": {
      "image/png": "[encoded data removed]",
      "text/plain": [
       "<Figure size 432x288 with 1 Axes>"
      ]
     },
     "metadata": {
      "needs_background": "light"
     },
     "output_type": "display_data"
    },
    {
     "data": {
      "text/plain": [
       "<Figure size 432x288 with 0 Axes>"
      ]
     },
     "metadata": {},
     "output_type": "display_data"
    }
   ],
   "source": [
    "acc = history.history['acc']\n",
    "val_acc = history.history['val_acc']\n",
    "loss = history.history['loss']\n",
    "val_loss = history.history['val_loss']\n",
    "\n",
    "epochs = range(len(acc))\n",
    "\n",
    "plt.plot(epochs, acc, 'ro', label='Training acc')\n",
    "plt.plot(epochs, val_acc, 'b', label='Validation acc')\n",
    "plt.xlabel('epochs')\n",
    "plt.ylabel('accuracy')\n",
    "plt.legend()\n",
    "plt.savefig('static/acc_machine_translation_lstm.png')\n",
    "plt.show()\n",
    "plt.clf()\n",
    "\n",
    "plt.plot(epochs, loss, 'ro', label='Training loss')\n",
    "plt.plot(epochs, val_loss, 'b', label='Validation loss')\n",
    "plt.xlabel('epochs')\n",
    "plt.ylabel('loss')\n",
    "plt.legend()\n",
    "plt.savefig('static/loss_machine_translation_lstm.png')\n",
    "plt.show()\n",
    "plt.clf()"
   ]
  },
  {
   "cell_type": "markdown",
   "metadata": {},
   "source": [
    "### Make predictions"
   ]
  },
  {
   "cell_type": "code",
   "execution_count": 23,
   "metadata": {},
   "outputs": [],
   "source": [
    "# create another model that can take in the RNN state and previous word as input and accept a T=1 sequence.\n",
    "\n",
    "# The encoder will be stand-alone\n",
    "# From this we will get our initial decoder hidden state\n",
    "encoder_model = Model(encoder_inputs_placeholder, encoder_states)\n",
    "\n",
    "decoder_state_input_h = Input(shape=(LATENT_DIM,))\n",
    "decoder_state_input_c = Input(shape=(LATENT_DIM,))\n",
    "decoder_states_inputs = [decoder_state_input_h, decoder_state_input_c]\n",
    "# decoder_states_inputs = [decoder_state_input_h] # gru\n",
    "\n",
    "decoder_inputs_single = Input(shape=(1,))\n",
    "decoder_inputs_single_x = decoder_embedding_layer(decoder_inputs_single)\n",
    "\n",
    "# this time, we want to keep the states too, to be output\n",
    "# by our sampling model\n",
    "decoder_outputs, h, c = decoder_lstm(\n",
    "  decoder_inputs_single_x,\n",
    "  initial_state=decoder_states_inputs\n",
    ")\n",
    "# decoder_outputs, state_h = decoder_lstm(\n",
    "#   decoder_inputs_single_x,\n",
    "#   initial_state=decoder_states_inputs\n",
    "# ) #gru\n",
    "decoder_states = [h, c]\n",
    "# decoder_states = [h] # gru\n",
    "decoder_outputs = decoder_dense(decoder_outputs)\n",
    "\n",
    "# The sampling model\n",
    "# inputs: y(t-1), h(t-1), c(t-1)\n",
    "# outputs: y(t), h(t), c(t)\n",
    "decoder_model = Model(\n",
    "  [decoder_inputs_single] + decoder_states_inputs, \n",
    "  [decoder_outputs] + decoder_states\n",
    ")\n",
    "\n",
    "# map indexes back into real words\n",
    "# so we can view the results\n",
    "idx2word_eng = {v:k for k, v in word2idx_inputs.items()}\n",
    "idx2word_trans = {v:k for k, v in word2idx_outputs.items()}"
   ]
  },
  {
   "cell_type": "code",
   "execution_count": 24,
   "metadata": {},
   "outputs": [],
   "source": [
    "def decode_sequence(input_seq):\n",
    "  # Encode the input as state vectors.\n",
    "  states_value = encoder_model.predict(input_seq)\n",
    "\n",
    "  # Generate empty target sequence of length 1.\n",
    "  target_seq = np.zeros((1, 1))\n",
    "\n",
    "  # Populate the first character of target sequence with the start character.\n",
    "  # NOTE: tokenizer lower-cases all words\n",
    "  target_seq[0, 0] = word2idx_outputs['<sos>']\n",
    "\n",
    "  # if we get this we break\n",
    "  eos = word2idx_outputs['<eos>']\n",
    "\n",
    "  # Create the translation\n",
    "  output_sentence = []\n",
    "  for _ in range(max_len_target):\n",
    "    output_tokens, h, c = decoder_model.predict(\n",
    "      [target_seq] + states_value\n",
    "    )\n",
    "    # output_tokens, h = decoder_model.predict(\n",
    "    #     [target_seq] + states_value\n",
    "    # ) # gru\n",
    "\n",
    "    # Get next word\n",
    "    idx = np.argmax(output_tokens[0, 0, :])\n",
    "\n",
    "    # End sentence of EOS\n",
    "    if eos == idx:\n",
    "      break\n",
    "\n",
    "    word = ''\n",
    "    if idx > 0:\n",
    "      word = idx2word_trans[idx]\n",
    "      output_sentence.append(word)\n",
    "\n",
    "    # Update the decoder input\n",
    "    # which is just the word just generated\n",
    "    target_seq[0, 0] = idx\n",
    "\n",
    "    # Update states\n",
    "    states_value = [h, c]\n",
    "    # states_value = [h] # gru\n",
    "\n",
    "  return ' '.join(output_sentence)\n"
   ]
  },
  {
   "cell_type": "code",
   "execution_count": 25,
   "metadata": {},
   "outputs": [
    {
     "ename": "KeyError",
     "evalue": "'<sos>'",
     "output_type": "error",
     "traceback": [
      "\u001b[0;31m---------------------------------------------------------------------------\u001b[0m",
      "\u001b[0;31mKeyError\u001b[0m                                  Traceback (most recent call last)",
      "\u001b[0;32m<ipython-input-25-79595d630dd6>\u001b[0m in \u001b[0;36m<module>\u001b[0;34m\u001b[0m\n\u001b[1;32m      3\u001b[0m   \u001b[0mi\u001b[0m \u001b[0;34m=\u001b[0m \u001b[0mnp\u001b[0m\u001b[0;34m.\u001b[0m\u001b[0mrandom\u001b[0m\u001b[0;34m.\u001b[0m\u001b[0mchoice\u001b[0m\u001b[0;34m(\u001b[0m\u001b[0mlen\u001b[0m\u001b[0;34m(\u001b[0m\u001b[0minput_texts\u001b[0m\u001b[0;34m)\u001b[0m\u001b[0;34m)\u001b[0m\u001b[0;34m\u001b[0m\u001b[0;34m\u001b[0m\u001b[0m\n\u001b[1;32m      4\u001b[0m   \u001b[0minput_seq\u001b[0m \u001b[0;34m=\u001b[0m \u001b[0mencoder_inputs\u001b[0m\u001b[0;34m[\u001b[0m\u001b[0mi\u001b[0m\u001b[0;34m:\u001b[0m\u001b[0mi\u001b[0m\u001b[0;34m+\u001b[0m\u001b[0;36m1\u001b[0m\u001b[0;34m]\u001b[0m\u001b[0;34m\u001b[0m\u001b[0;34m\u001b[0m\u001b[0m\n\u001b[0;32m----> 5\u001b[0;31m   \u001b[0mtranslation\u001b[0m \u001b[0;34m=\u001b[0m \u001b[0mdecode_sequence\u001b[0m\u001b[0;34m(\u001b[0m\u001b[0minput_seq\u001b[0m\u001b[0;34m)\u001b[0m\u001b[0;34m\u001b[0m\u001b[0;34m\u001b[0m\u001b[0m\n\u001b[0m\u001b[1;32m      6\u001b[0m   \u001b[0mprint\u001b[0m\u001b[0;34m(\u001b[0m\u001b[0;34m'-'\u001b[0m\u001b[0;34m)\u001b[0m\u001b[0;34m\u001b[0m\u001b[0;34m\u001b[0m\u001b[0m\n\u001b[1;32m      7\u001b[0m   \u001b[0mprint\u001b[0m\u001b[0;34m(\u001b[0m\u001b[0;34m'Input:'\u001b[0m\u001b[0;34m,\u001b[0m \u001b[0minput_texts\u001b[0m\u001b[0;34m[\u001b[0m\u001b[0mi\u001b[0m\u001b[0;34m]\u001b[0m\u001b[0;34m)\u001b[0m\u001b[0;34m\u001b[0m\u001b[0;34m\u001b[0m\u001b[0m\n",
      "\u001b[0;32m<ipython-input-24-0ded02218400>\u001b[0m in \u001b[0;36mdecode_sequence\u001b[0;34m(input_seq)\u001b[0m\n\u001b[1;32m      8\u001b[0m   \u001b[0;31m# Populate the first character of target sequence with the start character.\u001b[0m\u001b[0;34m\u001b[0m\u001b[0;34m\u001b[0m\u001b[0;34m\u001b[0m\u001b[0m\n\u001b[1;32m      9\u001b[0m   \u001b[0;31m# NOTE: tokenizer lower-cases all words\u001b[0m\u001b[0;34m\u001b[0m\u001b[0;34m\u001b[0m\u001b[0;34m\u001b[0m\u001b[0m\n\u001b[0;32m---> 10\u001b[0;31m   \u001b[0mtarget_seq\u001b[0m\u001b[0;34m[\u001b[0m\u001b[0;36m0\u001b[0m\u001b[0;34m,\u001b[0m \u001b[0;36m0\u001b[0m\u001b[0;34m]\u001b[0m \u001b[0;34m=\u001b[0m \u001b[0mword2idx_outputs\u001b[0m\u001b[0;34m[\u001b[0m\u001b[0;34m'<sos>'\u001b[0m\u001b[0;34m]\u001b[0m\u001b[0;34m\u001b[0m\u001b[0;34m\u001b[0m\u001b[0m\n\u001b[0m\u001b[1;32m     11\u001b[0m \u001b[0;34m\u001b[0m\u001b[0m\n\u001b[1;32m     12\u001b[0m   \u001b[0;31m# if we get this we break\u001b[0m\u001b[0;34m\u001b[0m\u001b[0;34m\u001b[0m\u001b[0;34m\u001b[0m\u001b[0m\n",
      "\u001b[0;31mKeyError\u001b[0m: '<sos>'"
     ]
    }
   ],
   "source": [
    "while True:\n",
    "  # Do some test translations\n",
    "  i = np.random.choice(len(input_texts))\n",
    "  input_seq = encoder_inputs[i:i+1]\n",
    "  translation = decode_sequence(input_seq)\n",
    "  print('-')\n",
    "  print('Input:', input_texts[i])\n",
    "  print('Translation:', translation)\n",
    "\n",
    "  ans = input(\"Continue? [Y/n]\")\n",
    "  if ans and ans.lower().startswith('n'):\n",
    "    break"
   ]
  }
 ],
 "metadata": {
  "kernelspec": {
   "display_name": "Python 3",
   "language": "python",
   "name": "python3"
  },
  "language_info": {
   "codemirror_mode": {
    "name": "ipython",
    "version": 3
   },
   "file_extension": ".py",
   "mimetype": "text/x-python",
   "name": "python",
   "nbconvert_exporter": "python",
   "pygments_lexer": "ipython3",
   "version": "3.7.3"
  }
 },
 "nbformat": 4,
 "nbformat_minor": 2
}
