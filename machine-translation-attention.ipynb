{
 "cells": [
  {
   "cell_type": "markdown",
   "metadata": {},
   "source": [
    "## Machine translation using Attention architecture\n",
    "\n",
    "This notebook demonstrate the machine translation from english to hindi language using encoder-decoder architecture using attention architecture. Though the same model can be used for translating input into any other language"
   ]
  },
  {
   "cell_type": "markdown",
   "metadata": {},
   "source": [
    "### Pre-requisites\n",
    "\n",
    "- Download the data: http://www.manythings.org/anki/\n",
    "- Download the word vectors: http://nlp.stanford.edu/data/glove.6B.zip"
   ]
  },
  {
   "cell_type": "code",
   "execution_count": 1,
   "metadata": {},
   "outputs": [
    {
     "name": "stderr",
     "output_type": "stream",
     "text": [
      "Using TensorFlow backend.\n"
     ]
    }
   ],
   "source": [
    "import os, sys\n",
    "import random\n",
    "from keras.models import Model\n",
    "from keras.layers import Input, LSTM, GRU, Dense, Embedding, Bidirectional, RepeatVector\n",
    "from keras.layers import Activation, Concatenate, Dot, Lambda\n",
    "from keras.preprocessing.text import Tokenizer\n",
    "from keras.preprocessing.sequence import pad_sequences\n",
    "from keras.utils import to_categorical\n",
    "import numpy as np\n",
    "import matplotlib.pyplot as plt\n",
    "import keras.backend as K\n",
    "import tensorflow as tf"
   ]
  },
  {
   "cell_type": "code",
   "execution_count": 2,
   "metadata": {},
   "outputs": [],
   "source": [
    "np.random.seed(1)\n",
    "random.seed(1)\n",
    "tf.set_random_seed(1)"
   ]
  },
  {
   "cell_type": "code",
   "execution_count": 3,
   "metadata": {},
   "outputs": [],
   "source": [
    "def softmax_over_time(x):\n",
    "    assert(K.ndim(x) > 2)\n",
    "    e = K.exp(x- K.max(x, axis=1, keepdims=True))\n",
    "    s = K.sum(e, axis=1, keepdims=True)\n",
    "    return e/s"
   ]
  },
  {
   "cell_type": "code",
   "execution_count": 4,
   "metadata": {},
   "outputs": [
    {
     "name": "stderr",
     "output_type": "stream",
     "text": [
      "WARNING: Logging before flag parsing goes to stderr.\n",
      "W0924 10:00:07.183930 140482400499520 deprecation_wrapper.py:119] From /home/agoel/anaconda3/envs/ML/lib/python3.7/site-packages/keras/backend/tensorflow_backend.py:174: The name tf.get_default_session is deprecated. Please use tf.compat.v1.get_default_session instead.\n",
      "\n",
      "W0924 10:00:07.185532 140482400499520 deprecation_wrapper.py:119] From /home/agoel/anaconda3/envs/ML/lib/python3.7/site-packages/keras/backend/tensorflow_backend.py:181: The name tf.ConfigProto is deprecated. Please use tf.compat.v1.ConfigProto instead.\n",
      "\n",
      "W0924 10:00:07.186332 140482400499520 deprecation_wrapper.py:119] From /home/agoel/anaconda3/envs/ML/lib/python3.7/site-packages/keras/backend/tensorflow_backend.py:186: The name tf.Session is deprecated. Please use tf.compat.v1.Session instead.\n",
      "\n",
      "W0924 10:00:07.197932 140482400499520 deprecation_wrapper.py:119] From /home/agoel/anaconda3/envs/ML/lib/python3.7/site-packages/keras/backend/tensorflow_backend.py:190: The name tf.global_variables is deprecated. Please use tf.compat.v1.global_variables instead.\n",
      "\n"
     ]
    }
   ],
   "source": [
    "if len(K.tensorflow_backend._get_available_gpus()) > 0:\n",
    "    from keras.layers import CuDNNLSTM as LSTM\n",
    "    from keras.layers import CuDNNGRU as GRU"
   ]
  },
  {
   "cell_type": "code",
   "execution_count": 5,
   "metadata": {},
   "outputs": [],
   "source": [
    "# Configuration\n",
    "\n",
    "BATCH_SIZE=64              # Batch size for training.\n",
    "EPOCHS = 50                # Number of epochs to train for.\n",
    "LATENT_DIM = 256           # Latent dimensionality of the encoding space.\n",
    "LATENT_DIM_DECODER = 256   # Latent dimensionaliuty for the decoder\n",
    "NUM_SAMPLES = 10000        # Number of samples to train on\n",
    "MAX_SEQUENCE_LENGTH = 100\n",
    "MAX_NUM_WORDS = 20000\n",
    "EMBEDDING_DIM = 100"
   ]
  },
  {
   "cell_type": "code",
   "execution_count": 6,
   "metadata": {},
   "outputs": [],
   "source": [
    "# Where we will store the data\n",
    "input_texts = []          # sentence in original language\n",
    "target_texts = []         # sentence in target language\n",
    "target_texts_inputs = []  # sentence in target language offset by 1"
   ]
  },
  {
   "cell_type": "markdown",
   "metadata": {},
   "source": [
    "### Prepare training data"
   ]
  },
  {
   "cell_type": "code",
   "execution_count": 7,
   "metadata": {},
   "outputs": [
    {
     "name": "stdout",
     "output_type": "stream",
     "text": [
      "Number of samples: 2808\n"
     ]
    }
   ],
   "source": [
    "t = 0\n",
    "for line in open('data/hin-eng/hin.txt'):\n",
    "    # only keep a limited number of samples.\n",
    "    t += 1\n",
    "    if t > NUM_SAMPLES:\n",
    "        break\n",
    "        \n",
    "    # input and target are separated by tab\n",
    "    if '\\t' not in line:\n",
    "        continue\n",
    "        \n",
    "    # split up the input and translation\n",
    "    input_text, translation = line.rstrip().split('\\t')\n",
    "    \n",
    "    # make the target input and output using teacher forcing\n",
    "    target_text = translation + ' <eos>'\n",
    "    target_text_input = '<sos> ' + translation\n",
    "    \n",
    "    input_texts.append(input_text)\n",
    "    target_texts.append(target_text)\n",
    "    target_texts_inputs.append(target_text_input)\n",
    "    \n",
    "print(\"Number of samples:\", len(input_texts))"
   ]
  },
  {
   "cell_type": "markdown",
   "metadata": {},
   "source": [
    "### Tokenize the inputs (Convert the sentences (string) into integers)"
   ]
  },
  {
   "cell_type": "code",
   "execution_count": 8,
   "metadata": {},
   "outputs": [],
   "source": [
    "tokenizer_inputs = Tokenizer(num_words = MAX_NUM_WORDS)\n",
    "tokenizer_inputs.fit_on_texts(input_texts)\n",
    "input_sequences = tokenizer_inputs.texts_to_sequences(input_texts)"
   ]
  },
  {
   "cell_type": "markdown",
   "metadata": {},
   "source": [
    "### Word to integer mapping for input text"
   ]
  },
  {
   "cell_type": "code",
   "execution_count": 9,
   "metadata": {},
   "outputs": [
    {
     "name": "stdout",
     "output_type": "stream",
     "text": [
      "Found 2388 unique input tokens.\n",
      "i: 2\n",
      "to: 3\n",
      "you: 4\n",
      "is: 5\n",
      "a: 6\n",
      "he: 7\n",
      "of: 8\n",
      "in: 9\n",
      "my: 10\n"
     ]
    }
   ],
   "source": [
    "# get the word to index/integer mapping for input language\n",
    "word2idx_inputs = tokenizer_inputs.word_index\n",
    "print('Found {} unique input tokens.'.format(len(word2idx_inputs)))\n",
    "\n",
    "for x in list(word2idx_inputs)[1:10]:\n",
    "    print('{}: {}'.format(x, word2idx_inputs[x]))"
   ]
  },
  {
   "cell_type": "code",
   "execution_count": 10,
   "metadata": {},
   "outputs": [
    {
     "name": "stdout",
     "output_type": "stream",
     "text": [
      "max_len_input: 22\n"
     ]
    }
   ],
   "source": [
    "# Determine maximum length input sequence\n",
    "max_len_input = max(len(s) for s in input_sequences)\n",
    "\n",
    "print('max_len_input:', max_len_input)"
   ]
  },
  {
   "cell_type": "markdown",
   "metadata": {},
   "source": [
    "### Tokenize the output (Convert the sentences (string) into integers)"
   ]
  },
  {
   "cell_type": "code",
   "execution_count": 11,
   "metadata": {},
   "outputs": [],
   "source": [
    "# We don't filter out special characters, otherwise <eos> and <sos> won't appear.\n",
    "tokenizer_outputs = Tokenizer(num_words=MAX_NUM_WORDS, filters='')\n",
    "# This is an inefficient way as we are tokenizing it on the same data (target_texts and target_texts_input)\n",
    "# just offset by <sos> and <eos>word2idx_outputs\n",
    "tokenizer_outputs.fit_on_texts(target_texts + target_texts_inputs)\n",
    "\n",
    "target_sequences = tokenizer_outputs.texts_to_sequences(target_texts)\n",
    "target_sequences_input = tokenizer_outputs.texts_to_sequences(target_texts_inputs)"
   ]
  },
  {
   "cell_type": "markdown",
   "metadata": {},
   "source": [
    "### Word to integer mapping for output texts"
   ]
  },
  {
   "cell_type": "code",
   "execution_count": 12,
   "metadata": {},
   "outputs": [
    {
     "name": "stdout",
     "output_type": "stream",
     "text": [
      "Found 3138 unique output tokens.\n",
      "<sos>: 2\n",
      "है।: 3\n",
      "में: 4\n",
      "नहीं: 5\n",
      "मैं: 6\n",
      "वह: 7\n",
      "से: 8\n",
      "के: 9\n",
      "मुझे: 10\n"
     ]
    }
   ],
   "source": [
    "# get the word to index mapping for output/translated language\n",
    "word2idx_outputs = tokenizer_outputs.word_index\n",
    "print('Found %s unique output tokens.' %len(word2idx_outputs))\n",
    "\n",
    "for x in list(word2idx_outputs)[1:10]:\n",
    "    print('{}: {}'.format(x, word2idx_outputs[x]))"
   ]
  },
  {
   "cell_type": "code",
   "execution_count": 13,
   "metadata": {},
   "outputs": [
    {
     "name": "stdout",
     "output_type": "stream",
     "text": [
      "num_words_output: 3139\n",
      "Maximum length of target/translated text is: 26\n"
     ]
    }
   ],
   "source": [
    "# store number of output words for later. remember to add 1 since indexing starts at 1\n",
    "num_words_output = len(word2idx_outputs) + 1\n",
    "print('num_words_output:', num_words_output)\n",
    "\n",
    "# determine the maximum length output sequence\n",
    "max_len_target = max(len(s) for s in target_sequences)\n",
    "print ('Maximum length of target/translated text is:', max_len_target)"
   ]
  },
  {
   "cell_type": "markdown",
   "metadata": {},
   "source": [
    "### Pad Sequences"
   ]
  },
  {
   "cell_type": "code",
   "execution_count": 14,
   "metadata": {
    "scrolled": true
   },
   "outputs": [
    {
     "name": "stdout",
     "output_type": "stream",
     "text": [
      "encoder_inputs.shape: (2808, 22)\n",
      "encoder_inputs[0]: [   0    0    0    0    0    0    0    0    0    0    0    0    0    0\n",
      "    0    0    0    0    0    0    0 1274]\n"
     ]
    }
   ],
   "source": [
    "encoder_inputs = pad_sequences(input_sequences, maxlen=max_len_input)\n",
    "print('encoder_inputs.shape:', encoder_inputs.shape)\n",
    "print('encoder_inputs[0]:', encoder_inputs[0])"
   ]
  },
  {
   "cell_type": "code",
   "execution_count": 15,
   "metadata": {},
   "outputs": [
    {
     "name": "stdout",
     "output_type": "stream",
     "text": [
      "decoder_inputs.shape: (2808, 26)\n",
      "decoder_inputs[0]: [   2 1486    0    0    0    0    0    0    0    0    0    0    0    0\n",
      "    0    0    0    0    0    0    0    0    0    0    0    0]\n"
     ]
    }
   ],
   "source": [
    "decoder_inputs = pad_sequences(target_sequences_input, maxlen=max_len_target, padding='post')\n",
    "# 26 is the maximum length of the sentence in the translated data in the training set\n",
    "print('decoder_inputs.shape:', decoder_inputs.shape)\n",
    "print('decoder_inputs[0]:', decoder_inputs[0])"
   ]
  },
  {
   "cell_type": "code",
   "execution_count": 16,
   "metadata": {},
   "outputs": [
    {
     "name": "stdout",
     "output_type": "stream",
     "text": [
      "decoder_targets.shape: (2808, 26)\n",
      "decoder_targets[0]: [1486    1    0    0    0    0    0    0    0    0    0    0    0    0\n",
      "    0    0    0    0    0    0    0    0    0    0    0    0]\n"
     ]
    }
   ],
   "source": [
    "decoder_targets = pad_sequences(target_sequences, maxlen=max_len_target, padding='post')\n",
    "print('decoder_targets.shape:', decoder_targets.shape)\n",
    "print('decoder_targets[0]:', decoder_targets[0])"
   ]
  },
  {
   "cell_type": "markdown",
   "metadata": {},
   "source": [
    "### Load pre-trained word vectors - Embeddings"
   ]
  },
  {
   "cell_type": "code",
   "execution_count": 17,
   "metadata": {},
   "outputs": [
    {
     "name": "stdout",
     "output_type": "stream",
     "text": [
      "Loading word vectors\n",
      "Found 400000 word vectors.\n",
      "Embedding dimensions:  (100,)\n"
     ]
    }
   ],
   "source": [
    "print('Loading word vectors')\n",
    "word2vec = {}\n",
    "# Load word vector of 100 dimensions.\n",
    "with open (os.path.join('Embeddings/glove.6B/glove.6B.%sd.txt' %EMBEDDING_DIM)) as f:\n",
    "    for line in f:\n",
    "        # split at spaces\n",
    "        values = line.split()\n",
    "        word = values[0]\n",
    "        #np.asarray Converts the input to an array.\n",
    "        vec = np.asarray(values[1:], dtype='float32')\n",
    "        word2vec[word] = vec\n",
    "        \n",
    "print('Found %s word vectors.' %len(word2vec))\n",
    "print('Embedding dimensions: ', word2vec['the'].shape)"
   ]
  },
  {
   "cell_type": "markdown",
   "metadata": {},
   "source": [
    "### Prepare Embedding matrix"
   ]
  },
  {
   "cell_type": "code",
   "execution_count": 18,
   "metadata": {},
   "outputs": [
    {
     "name": "stdout",
     "output_type": "stream",
     "text": [
      "Filling pre-trained embeddings\n",
      "num_words: 2389\n",
      "Shape of Embeddings matrix:  (2389, 100)\n"
     ]
    }
   ],
   "source": [
    "print('Filling pre-trained embeddings')\n",
    "# MAX_NUM_WORDS = 20000\n",
    "num_words = min(MAX_NUM_WORDS, len(word2idx_inputs) + 1)\n",
    "embedding_matrix = np.zeros((num_words, EMBEDDING_DIM))\n",
    "for word, i in word2idx_inputs.items():\n",
    "    if i < MAX_NUM_WORDS:\n",
    "        embedding_vector = word2vec.get(word)\n",
    "        if embedding_vector is not None:\n",
    "            # words not foun20000d in the embedding index will all be zero\n",
    "            embedding_matrix[i] = embedding_vector\n",
    "\n",
    "print('num_words:', num_words)\n",
    "# 2389 words each of 100 dimensions\n",
    "print('Shape of Embeddings matrix: ', embedding_matrix.shape)"
   ]
  },
  {
   "cell_type": "markdown",
   "metadata": {},
   "source": [
    "### Embedding layer"
   ]
  },
  {
   "cell_type": "code",
   "execution_count": 19,
   "metadata": {},
   "outputs": [
    {
     "name": "stderr",
     "output_type": "stream",
     "text": [
      "W0924 10:00:17.899603 140482400499520 deprecation_wrapper.py:119] From /home/agoel/anaconda3/envs/ML/lib/python3.7/site-packages/keras/backend/tensorflow_backend.py:74: The name tf.get_default_graph is deprecated. Please use tf.compat.v1.get_default_graph instead.\n",
      "\n"
     ]
    }
   ],
   "source": [
    "embedding_layer = Embedding(num_words, \n",
    "                           EMBEDDING_DIM,\n",
    "                           weights = [embedding_matrix],\n",
    "                           input_length = max_len_input,\n",
    "                           #trainable=true\n",
    "                           )"
   ]
  },
  {
   "cell_type": "code",
   "execution_count": 20,
   "metadata": {},
   "outputs": [],
   "source": [
    "# create targets, since we cannot use sparse\n",
    "# categorical cross entropy when we have sequences\n",
    "decoder_targets_one_hot = np.zeros(\n",
    "  (\n",
    "    len(input_texts),\n",
    "    max_len_target,\n",
    "    num_words_output\n",
    "  ),\n",
    "  dtype='float32'\n",
    ")\n",
    "\n",
    "# assign the values\n",
    "for i, d in enumerate(decoder_targets):\n",
    "    for t, word in enumerate(d):\n",
    "        decoder_targets_one_hot[i, t, word] = 1"
   ]
  },
  {
   "cell_type": "markdown",
   "metadata": {},
   "source": [
    "### Build encoder-decoder LSTM with Attention model"
   ]
  },
  {
   "cell_type": "code",
   "execution_count": 21,
   "metadata": {},
   "outputs": [
    {
     "name": "stderr",
     "output_type": "stream",
     "text": [
      "W0924 10:00:18.324268 140482400499520 deprecation.py:506] From /home/agoel/anaconda3/envs/ML/lib/python3.7/site-packages/keras/backend/tensorflow_backend.py:3445: calling dropout (from tensorflow.python.ops.nn_ops) with keep_prob is deprecated and will be removed in a future version.\n",
      "Instructions for updating:\n",
      "Please use `rate` instead of `keep_prob`. Rate should be set to `rate = 1 - keep_prob`.\n"
     ]
    }
   ],
   "source": [
    "encoder_inputs_placeholder = Input(shape=(max_len_input, ))\n",
    "x = embedding_layer(encoder_inputs_placeholder)\n",
    "\n",
    "# Bidirectional LSTM\n",
    "encoder_lstm = Bidirectional(LSTM(\n",
    "    LATENT_DIM,\n",
    "    return_sequences=True,\n",
    "    dropout=0.5\n",
    "))\n",
    "\n",
    "encoder_outputs = encoder_lstm(x)\n",
    "\n",
    "# setup the decoder, using [h,c] as initial state\n",
    "decoder_inputs_placeholder = Input(shape=(max_len_target, ))\n",
    "\n",
    "# this word embedding will not use pre-trained vectors although we could\n",
    "decoder_embedding_layer = Embedding(num_words_output, EMBEDDING_DIM)\n",
    "decoder_inputs_x = decoder_embedding_layer(decoder_inputs_placeholder)"
   ]
  },
  {
   "cell_type": "markdown",
   "metadata": {},
   "source": [
    "### Attention"
   ]
  },
  {
   "cell_type": "code",
   "execution_count": 22,
   "metadata": {},
   "outputs": [],
   "source": [
    "# Attention layer needs to be global because they will be repeated Ty times at the decoder\n",
    "\n",
    "attn_repeat_layer = RepeatVector(max_len_input)\n",
    "attn_concat_layer = Concatenate(axis=-1)\n",
    "attn_dense1 = Dense(10, activation = 'tanh')\n",
    "attn_dense2 = Dense(1, activation = softmax_over_time)\n",
    "attn_dot = Dot(axes=1) # to perform the weighted sum of alpha[t] * h[t]"
   ]
  },
  {
   "cell_type": "code",
   "execution_count": 23,
   "metadata": {},
   "outputs": [],
   "source": [
    "def one_step_attention(h, st_1):\n",
    "    st_1 = attn_repeat_layer(st_1)\n",
    "    \n",
    "    x = attn_concat_layer([h, st_1])\n",
    "    \n",
    "    # Neural net first dense layer\n",
    "    x = attn_dense1(x)\n",
    "    \n",
    "    # Neural net second layer with special softmax over time\n",
    "    alphas = attn_dense2(x)\n",
    "    \n",
    "    context = attn_dot([alphas, h])\n",
    "    \n",
    "    return context"
   ]
  },
  {
   "cell_type": "code",
   "execution_count": 24,
   "metadata": {},
   "outputs": [],
   "source": [
    "decoder_lstm = LSTM(\n",
    "        LATENT_DIM_DECODER, \n",
    "        return_state=True,\n",
    "        dropout = 0.5\n",
    "    )\n",
    "\n",
    "decoder_dense = Dense(num_words_output, activation = 'softmax')\n",
    "\n",
    "initial_s = Input(shape=(LATENT_DIM_DECODER, ), name='s0')\n",
    "initial_c = Input(shape=(LATENT_DIM_DECODER, ), name='c0')\n",
    "context_last_word_concat_layer = Concatenate(axis=2)\n",
    "\n",
    "# unlike encoder-decoder without Attention model, we don't get the output all in one step\n",
    "# Instead we need to do Ty steps and in each of those steps, we need to consider all Tx h's\n",
    "\n",
    "# s,c will be re-assigned in each iteration of the loop.\n",
    "s = initial_s\n",
    "c = initial_c\n",
    "\n",
    "# Collect output in a list at first\n",
    "outputs = []\n",
    "\n",
    "for t in range (max_len_target): #Ty times\n",
    "    \n",
    "    # get the context using attention\n",
    "    context = one_step_attention(encoder_outputs, s)\n",
    "    \n",
    "    # We need a different layer for each time step\n",
    "    selector = Lambda(lambda x: x[:, t:t+1])\n",
    "    xt = selector(decoder_inputs_x)\n",
    "    \n",
    "    # Combine\n",
    "    decoder_lstm_input = context_last_word_concat_layer([context, xt])\n",
    "    \n",
    "    # pass the combined [context, last word] into LSTM along with [s, c].\n",
    "    # get the new [s, c] and output\n",
    "    o, s, c = decoder_lstm(decoder_lstm_input, initial_state=[s, c])\n",
    "    \n",
    "    # final desnse layer to get next word prediction\n",
    "    decoder_outputs = decoder_dense(o)\n",
    "    outputs.append(decoder_outputs)"
   ]
  },
  {
   "cell_type": "code",
   "execution_count": 25,
   "metadata": {},
   "outputs": [
    {
     "name": "stdout",
     "output_type": "stream",
     "text": [
      "x.shape: (26, ?, 3139)\n",
      "x.shape after permute_dimension: (?, 26, 3139)\n",
      "x.shape: (26, ?, 3139)\n",
      "x.shape after permute_dimension: (?, 26, 3139)\n"
     ]
    }
   ],
   "source": [
    "# 'outputs' is now a list of length Ty\n",
    "def stack_and_transpose(x):\n",
    "    # x is a list of length T, each element is a batch_size * output_vocab_size tensor\n",
    "    x = K.stack(x) # T * batch_size * output_vocab_size tensor\n",
    "    print('x.shape:', x.shape)\n",
    "    x = K.permute_dimensions(x, pattern=(1, 0, 2))  # batch_size * T * outputz_vocab_size tensor\n",
    "    print('x.shape after permute_dimension:', x.shape)\n",
    "    return x\n",
    "\n",
    "# Make it a layer\n",
    "stacker = Lambda(stack_and_transpose)\n",
    "outputs = stacker(outputs)\n",
    "\n",
    "# Create the model object\n",
    "model = Model(\n",
    "          inputs = [\n",
    "               encoder_inputs_placeholder, \n",
    "               decoder_inputs_placeholder,\n",
    "               initial_s,\n",
    "               initial_c\n",
    "          ],\n",
    "          outputs = outputs)"
   ]
  },
  {
   "cell_type": "markdown",
   "metadata": {},
   "source": [
    "### Compile the model"
   ]
  },
  {
   "cell_type": "code",
   "execution_count": 26,
   "metadata": {},
   "outputs": [
    {
     "name": "stderr",
     "output_type": "stream",
     "text": [
      "W0924 10:00:26.797118 140482400499520 deprecation_wrapper.py:119] From /home/agoel/anaconda3/envs/ML/lib/python3.7/site-packages/keras/optimizers.py:790: The name tf.train.Optimizer is deprecated. Please use tf.compat.v1.train.Optimizer instead.\n",
      "\n"
     ]
    }
   ],
   "source": [
    "model.compile(\n",
    "        optimizer = 'rmsprop',\n",
    "        loss='categorical_crossentropy',\n",
    "        metrics=['acc'])"
   ]
  },
  {
   "cell_type": "markdown",
   "metadata": {},
   "source": [
    "### Training Model"
   ]
  },
  {
   "cell_type": "code",
   "execution_count": 27,
   "metadata": {},
   "outputs": [
    {
     "name": "stdout",
     "output_type": "stream",
     "text": [
      "NUM_SAMPLES: 10000, LATENT_DIM_DECODER: 256\n",
      "encoder_inputs.shape: (2808, 22), decoder_inputs.shape:(2808, 26)\n"
     ]
    },
    {
     "name": "stderr",
     "output_type": "stream",
     "text": [
      "W0924 10:00:29.283782 140482400499520 deprecation.py:323] From /home/agoel/anaconda3/envs/ML/lib/python3.7/site-packages/tensorflow/python/ops/math_grad.py:1250: add_dispatch_support.<locals>.wrapper (from tensorflow.python.ops.array_ops) is deprecated and will be removed in a future version.\n",
      "Instructions for updating:\n",
      "Use tf.where in 2.0, which has the same broadcast rule as np.where\n"
     ]
    },
    {
     "name": "stdout",
     "output_type": "stream",
     "text": [
      "Train on 2246 samples, validate on 562 samples\n",
      "Epoch 1/50\n",
      "2246/2246 [==============================] - 86s 38ms/step - loss: 2.4828 - acc: 0.7097 - val_loss: 2.9204 - val_acc: 0.5831\n",
      "Epoch 2/50\n",
      "2246/2246 [==============================] - 33s 15ms/step - loss: 1.7254 - acc: 0.7386 - val_loss: 2.7962 - val_acc: 0.6064\n",
      "Epoch 3/50\n",
      "2246/2246 [==============================] - 32s 14ms/step - loss: 1.5715 - acc: 0.7528 - val_loss: 2.7619 - val_acc: 0.6224\n",
      "Epoch 4/50\n",
      "2246/2246 [==============================] - 32s 14ms/step - loss: 1.4804 - acc: 0.7700 - val_loss: 2.6959 - val_acc: 0.6245\n",
      "Epoch 5/50\n",
      "2246/2246 [==============================] - 36s 16ms/step - loss: 1.4275 - acc: 0.7761 - val_loss: 2.7027 - val_acc: 0.6277\n",
      "Epoch 6/50\n",
      "2246/2246 [==============================] - 37s 16ms/step - loss: 1.3752 - acc: 0.7804 - val_loss: 2.6864 - val_acc: 0.6324\n",
      "Epoch 7/50\n",
      "2246/2246 [==============================] - 36s 16ms/step - loss: 1.3266 - acc: 0.7859 - val_loss: 2.6997 - val_acc: 0.6333\n",
      "Epoch 8/50\n",
      "2246/2246 [==============================] - 35s 16ms/step - loss: 1.2783 - acc: 0.7899 - val_loss: 2.6241 - val_acc: 0.6410\n",
      "Epoch 9/50\n",
      "2246/2246 [==============================] - 35s 16ms/step - loss: 1.2329 - acc: 0.7945 - val_loss: 2.6613 - val_acc: 0.6384\n",
      "Epoch 10/50\n",
      "2246/2246 [==============================] - 36s 16ms/step - loss: 1.1957 - acc: 0.7960 - val_loss: 2.6410 - val_acc: 0.6373\n",
      "Epoch 11/50\n",
      "2246/2246 [==============================] - 35s 16ms/step - loss: 1.1645 - acc: 0.7976 - val_loss: 2.6799 - val_acc: 0.6398\n",
      "Epoch 12/50\n",
      "2246/2246 [==============================] - 34s 15ms/step - loss: 1.1306 - acc: 0.7995 - val_loss: 2.6092 - val_acc: 0.6437\n",
      "Epoch 13/50\n",
      "2246/2246 [==============================] - 34s 15ms/step - loss: 1.1003 - acc: 0.8025 - val_loss: 2.5628 - val_acc: 0.6435\n",
      "Epoch 14/50\n",
      "2246/2246 [==============================] - 35s 15ms/step - loss: 1.0685 - acc: 0.8042 - val_loss: 2.5667 - val_acc: 0.6469\n",
      "Epoch 15/50\n",
      "2246/2246 [==============================] - 36s 16ms/step - loss: 1.0407 - acc: 0.8067 - val_loss: 2.5668 - val_acc: 0.6475\n",
      "Epoch 16/50\n",
      "2246/2246 [==============================] - 35s 16ms/step - loss: 1.0135 - acc: 0.8094 - val_loss: 2.5419 - val_acc: 0.6477\n",
      "Epoch 17/50\n",
      "2246/2246 [==============================] - 36s 16ms/step - loss: 0.9870 - acc: 0.8118 - val_loss: 2.5771 - val_acc: 0.6502\n",
      "Epoch 18/50\n",
      "2246/2246 [==============================] - 35s 16ms/step - loss: 0.9607 - acc: 0.8142 - val_loss: 2.5604 - val_acc: 0.6484\n",
      "Epoch 19/50\n",
      "2246/2246 [==============================] - 35s 16ms/step - loss: 0.9371 - acc: 0.8166 - val_loss: 2.5637 - val_acc: 0.6497\n",
      "Epoch 20/50\n",
      "2246/2246 [==============================] - 37s 16ms/step - loss: 0.9120 - acc: 0.8196 - val_loss: 2.5742 - val_acc: 0.6474\n",
      "Epoch 21/50\n",
      "2246/2246 [==============================] - 35s 16ms/step - loss: 0.8886 - acc: 0.8216 - val_loss: 2.5548 - val_acc: 0.6486\n",
      "Epoch 22/50\n",
      "2246/2246 [==============================] - 35s 16ms/step - loss: 0.8676 - acc: 0.8241 - val_loss: 2.5748 - val_acc: 0.6489\n",
      "Epoch 23/50\n",
      "2246/2246 [==============================] - 36s 16ms/step - loss: 0.8431 - acc: 0.8269 - val_loss: 2.5755 - val_acc: 0.6504\n",
      "Epoch 24/50\n",
      "2246/2246 [==============================] - 36s 16ms/step - loss: 0.8229 - acc: 0.8299 - val_loss: 2.5743 - val_acc: 0.6494\n",
      "Epoch 25/50\n",
      "2246/2246 [==============================] - 36s 16ms/step - loss: 0.8011 - acc: 0.8322 - val_loss: 2.5609 - val_acc: 0.6532\n",
      "Epoch 26/50\n",
      "2246/2246 [==============================] - 35s 16ms/step - loss: 0.7801 - acc: 0.8364 - val_loss: 2.5802 - val_acc: 0.6517\n",
      "Epoch 27/50\n",
      "2246/2246 [==============================] - 35s 16ms/step - loss: 0.7589 - acc: 0.8387 - val_loss: 2.5785 - val_acc: 0.6532\n",
      "Epoch 28/50\n",
      "2246/2246 [==============================] - 35s 16ms/step - loss: 0.7380 - acc: 0.8431 - val_loss: 2.5755 - val_acc: 0.6526\n",
      "Epoch 29/50\n",
      "2246/2246 [==============================] - 35s 16ms/step - loss: 0.7194 - acc: 0.8446 - val_loss: 2.5990 - val_acc: 0.6532\n",
      "Epoch 30/50\n",
      "2246/2246 [==============================] - 35s 16ms/step - loss: 0.6987 - acc: 0.8480 - val_loss: 2.5691 - val_acc: 0.6525\n",
      "Epoch 31/50\n",
      "2246/2246 [==============================] - 35s 16ms/step - loss: 0.6796 - acc: 0.8514 - val_loss: 2.6140 - val_acc: 0.6538\n",
      "Epoch 32/50\n",
      "2246/2246 [==============================] - 35s 16ms/step - loss: 0.6601 - acc: 0.8559 - val_loss: 2.6105 - val_acc: 0.6532\n",
      "Epoch 33/50\n",
      "2246/2246 [==============================] - 35s 15ms/step - loss: 0.6403 - acc: 0.8603 - val_loss: 2.6004 - val_acc: 0.6545\n",
      "Epoch 34/50\n",
      "2246/2246 [==============================] - 37s 16ms/step - loss: 0.6216 - acc: 0.8636 - val_loss: 2.6422 - val_acc: 0.6553\n",
      "Epoch 35/50\n",
      "2246/2246 [==============================] - 35s 16ms/step - loss: 0.6030 - acc: 0.8667 - val_loss: 2.6280 - val_acc: 0.6561\n",
      "Epoch 36/50\n",
      "2246/2246 [==============================] - 39s 17ms/step - loss: 0.5872 - acc: 0.8706 - val_loss: 2.6118 - val_acc: 0.6558\n",
      "Epoch 37/50\n",
      "2246/2246 [==============================] - 36s 16ms/step - loss: 0.5696 - acc: 0.8754 - val_loss: 2.6505 - val_acc: 0.6562\n",
      "Epoch 38/50\n",
      "2246/2246 [==============================] - 36s 16ms/step - loss: 0.5509 - acc: 0.8787 - val_loss: 2.6200 - val_acc: 0.6561\n",
      "Epoch 39/50\n",
      "2246/2246 [==============================] - 35s 16ms/step - loss: 0.5329 - acc: 0.8842 - val_loss: 2.6259 - val_acc: 0.6558\n",
      "Epoch 40/50\n",
      "2246/2246 [==============================] - 36s 16ms/step - loss: 0.5178 - acc: 0.8860 - val_loss: 2.6460 - val_acc: 0.6561\n",
      "Epoch 41/50\n",
      "2246/2246 [==============================] - 35s 16ms/step - loss: 0.5013 - acc: 0.8903 - val_loss: 2.6543 - val_acc: 0.6564\n",
      "Epoch 42/50\n",
      "2246/2246 [==============================] - 36s 16ms/step - loss: 0.4855 - acc: 0.8941 - val_loss: 2.6372 - val_acc: 0.6558\n",
      "Epoch 43/50\n",
      "2246/2246 [==============================] - 40s 18ms/step - loss: 0.4715 - acc: 0.8982 - val_loss: 2.6601 - val_acc: 0.6551\n",
      "Epoch 44/50\n",
      "2246/2246 [==============================] - 36s 16ms/step - loss: 0.4568 - acc: 0.9026 - val_loss: 2.6501 - val_acc: 0.6561\n",
      "Epoch 45/50\n",
      "2246/2246 [==============================] - 36s 16ms/step - loss: 0.4421 - acc: 0.9035 - val_loss: 2.6701 - val_acc: 0.6551\n",
      "Epoch 46/50\n",
      "2246/2246 [==============================] - 35s 15ms/step - loss: 0.4266 - acc: 0.9077 - val_loss: 2.6829 - val_acc: 0.6564\n",
      "Epoch 47/50\n",
      "2246/2246 [==============================] - 35s 15ms/step - loss: 0.4152 - acc: 0.9103 - val_loss: 2.7093 - val_acc: 0.6567\n",
      "Epoch 48/50\n",
      "2246/2246 [==============================] - 34s 15ms/step - loss: 0.4010 - acc: 0.9136 - val_loss: 2.6897 - val_acc: 0.6549\n",
      "Epoch 49/50\n",
      "2246/2246 [==============================] - 34s 15ms/step - loss: 0.3884 - acc: 0.9162 - val_loss: 2.6877 - val_acc: 0.6560\n",
      "Epoch 50/50\n",
      "2246/2246 [==============================] - 35s 15ms/step - loss: 0.3763 - acc: 0.9201 - val_loss: 2.7162 - val_acc: 0.6567\n"
     ]
    }
   ],
   "source": [
    "print('NUM_SAMPLES: {}, LATENT_DIM_DECODER: {}'.format(NUM_SAMPLES, LATENT_DIM_DECODER))\n",
    "print('encoder_inputs.shape: {}, decoder_inputs.shape:{}'.format(encoder_inputs.shape, decoder_inputs.shape))\n",
    "print('decoder_targets_one_hot.shape:', decoder_targets_one_hot.shape)\n",
    "print('batch_size: {}, epochs: {}'.format(BATCH))\n",
    "\n",
    "z = np.zeros((encoder_inputs.shape[0], LATENT_DIM_DECODER)) # initial [s, c]\n",
    "\n",
    "history = model.fit(\n",
    "    [encoder_inputs, decoder_inputs, z, z], decoder_targets_one_hot,\n",
    "    batch_size=BATCH_SIZE,\n",
    "    epochs=EPOCHS,\n",
    "    validation_split=0.2\n",
    ")"
   ]
  },
  {
   "cell_type": "markdown",
   "metadata": {},
   "source": [
    "### Visualize accuracy and loss curves"
   ]
  },
  {
   "cell_type": "code",
   "execution_count": 28,
   "metadata": {},
   "outputs": [
    {
     "data": {
      "image/png": "[encoded data removed]",
      "text/plain": [
       "<Figure size 432x288 with 1 Axes>"
      ]
     },
     "metadata": {
      "needs_background": "light"
     },
     "output_type": "display_data"
    },
    {
     "data": {
      "image/png": "[encoded data removed]",
      "text/plain": [
       "<Figure size 432x288 with 1 Axes>"
      ]
     },
     "metadata": {
      "needs_background": "light"
     },
     "output_type": "display_data"
    },
    {
     "data": {
      "text/plain": [
       "<Figure size 432x288 with 0 Axes>"
      ]
     },
     "metadata": {},
     "output_type": "display_data"
    }
   ],
   "source": [
    "acc = history.history['acc']\n",
    "val_acc = history.history['val_acc']\n",
    "loss = history.history['loss']\n",
    "val_loss = history.history['val_loss']\n",
    "\n",
    "epochs = range(len(acc))\n",
    "\n",
    "plt.plot(epochs, acc, 'ro', label='Training acc')\n",
    "plt.plot(epochs, val_acc, 'b', label='Validation acc')\n",
    "plt.xlabel('epochs')\n",
    "plt.ylabel('accuracy')\n",
    "plt.legend()\n",
    "plt.savefig('static/acc_machine_translation_attention.png')\n",
    "plt.show()\n",
    "plt.clf()\n",
    "\n",
    "plt.plot(epochs, loss, 'ro', label='Training loss')\n",
    "plt.plot(epochs, val_loss, 'b', label='Validation loss')\n",
    "plt.xlabel('epochs')\n",
    "plt.ylabel('loss')\n",
    "plt.legend()\n",
    "plt.savefig('static/loss_machine_translation_attention.png')\n",
    "plt.show()\n",
    "plt.clf()"
   ]
  },
  {
   "cell_type": "markdown",
   "metadata": {},
   "source": [
    "### Make predictions"
   ]
  },
  {
   "cell_type": "code",
   "execution_count": 32,
   "metadata": {},
   "outputs": [],
   "source": [
    "# create another model that can take in the RNN state and previous word as input and accept a T=1 sequence.\n",
    "\n",
    "# The encoder will be stand-alone\n",
    "# From this we will get our initial decoder hidden state\n",
    "encoder_model = Model(encoder_inputs_placeholder, encoder_outputs)\n",
    "\n",
    "\n",
    "encoder_outputs_as_input = Input(shape=(max_len_input, LATENT_DIM * 2, ))\n",
    "decoder_inputs_single = Input(shape=(1,))\n",
    "decoder_inputs_single_x = decoder_embedding_layer(decoder_inputs_single)\n",
    "\n",
    "# no need to loop over attention steps this time because there is only one step\n",
    "context = one_step_attention(encoder_outputs_as_input, initial_s)\n",
    "\n",
    "# combine context with last word\n",
    "decoder_lstm_input = context_last_word_concat_layer([context, decoder_inputs_single_x])\n",
    "\n",
    "# lstm and final dense\n",
    "o, s, c = decoder_lstm(decoder_lstm_input, initial_state=[initial_s, initial_c])\n",
    "decoder_outputs = decoder_dense(o)\n",
    "\n",
    "# create the decoder model object\n",
    "decoder_model = Model(\n",
    "  inputs=[\n",
    "    decoder_inputs_single,\n",
    "    encoder_outputs_as_input,\n",
    "    initial_s, \n",
    "    initial_c\n",
    "  ],\n",
    "  outputs=[decoder_outputs, s, c]\n",
    ")\n",
    "\n",
    "# map indexes back into real words\n",
    "# so we can view the results\n",
    "idx2word_eng = {v:k for k, v in word2idx_inputs.items()}\n",
    "idx2word_trans = {v:k for k, v in word2idx_outputs.items()}"
   ]
  },
  {
   "cell_type": "code",
   "execution_count": 36,
   "metadata": {},
   "outputs": [],
   "source": [
    "def decode_sequence(input_seq):\n",
    "  # Encode the input as state vectors.\n",
    "  enc_out = encoder_model.predict(input_seq)\n",
    "\n",
    "  # Generate empty target sequence of length 1.\n",
    "  target_seq = np.zeros((1, 1))\n",
    "\n",
    "  # Populate the first character of target sequence with the start character.\n",
    "  # NOTE: tokenizer lower-cases all words\n",
    "  target_seq[0, 0] = word2idx_outputs['<sos>']\n",
    "\n",
    "  # if we get this we break\n",
    "  eos = word2idx_outputs['<eos>']\n",
    "\n",
    "  # [s, c] will be updated in each loop iteration\n",
    "  s = np.zeros((1, LATENT_DIM_DECODER))\n",
    "  c = np.zeros((1, LATENT_DIM_DECODER))\n",
    "\n",
    "  # Create the translation\n",
    "  output_sentence = []\n",
    "  for _ in range(max_len_target):\n",
    "    \n",
    "    o, s, c = decoder_model.predict([target_seq, enc_out, s, c])\n",
    " \n",
    "    # output_tokens, h = decoder_model.predict(\n",
    "    #     [target_seq] + states_value\n",
    "    # ) # gru\n",
    "\n",
    "    # Get next word\n",
    "    idx = np.argmax(o.flatten())\n",
    "\n",
    "    # End sentence of EOS\n",
    "    if eos == idx:\n",
    "      break\n",
    "\n",
    "    word = ''\n",
    "    if idx > 0:\n",
    "      word = idx2word_trans[idx]\n",
    "      output_sentence.append(word)\n",
    "\n",
    "    # Update the decoder input\n",
    "    # which is just the word just generated\n",
    "    target_seq[0, 0] = idx\n",
    "\n",
    "  return ' '.join(output_sentence)\n"
   ]
  },
  {
   "cell_type": "code",
   "execution_count": 37,
   "metadata": {},
   "outputs": [
    {
     "name": "stdout",
     "output_type": "stream",
     "text": [
      "-\n",
      "Input: This tie doesn't go with my suit.\n",
      "Predicted Translation: यह टाई मेरे सूट के साथ जचती नहीं है।\n",
      "Actual translation: यह टाई मेरे सूट के साथ जचती नहीं है। <eos>\n",
      "Continue? [Y/n]Y\n",
      "-\n",
      "Input: There is a strange man at the door.\n",
      "Predicted Translation: मेज़ पर एक अजीब सा है।\n",
      "Actual translation: दरवाज़े पर कोई अजीब सा इनसान है। <eos>\n",
      "Continue? [Y/n]Y\n",
      "-\n",
      "Input: Please make yourself at home.\n",
      "Predicted Translation: इसको अपना घर ही समझो।\n",
      "Actual translation: इसको अपना घर ही समझो। <eos>\n",
      "Continue? [Y/n]Y\n",
      "-\n",
      "Input: I am convinced that he did nothing wrong.\n",
      "Predicted Translation: मुझे नहीं पता कि वह कैसे किया कि क्या कर रहा है।\n",
      "Actual translation: मुझे पूरा विश्वास है कि उसने कोई भी ग़लत काम नहीं किया। <eos>\n",
      "Continue? [Y/n]Y\n",
      "-\n",
      "Input: I am sorry if I disturbed you.\n",
      "Predicted Translation: मैं तुम्हें कुछ ठीक से सुन नहीं पा रहा हूँ।\n",
      "Actual translation: माफ़ कीजिएगा अगर मैंने आपको परेशान किया तो। <eos>\n",
      "Continue? [Y/n]Y\n",
      "-\n",
      "Input: Who made this cake?\n",
      "Predicted Translation: यह किताब किसने बनाया है?\n",
      "Actual translation: यह केक किसने बनाया है? <eos>\n",
      "Continue? [Y/n]n\n"
     ]
    }
   ],
   "source": [
    "while True:\n",
    "  # Do some test translations\n",
    "  i = np.random.choice(len(input_texts))\n",
    "  input_seq = encoder_inputs[i:i+1]\n",
    "  translation = decode_sequence(input_seq)\n",
    "  print('-')\n",
    "  print('Input:', input_texts[i])\n",
    "  print('Predicted Translation:', translation)\n",
    "  print('Actual translation:', target_texts[i])\n",
    "    \n",
    "  ans = input(\"Continue? [Y/n]\")\n",
    "  if ans and ans.lower().startswith('n'):\n",
    "    break"
   ]
  }
 ],
 "metadata": {
  "kernelspec": {
   "display_name": "Python 3",
   "language": "python",
   "name": "python3"
  },
  "language_info": {
   "codemirror_mode": {
    "name": "ipython",
    "version": 3
   },
   "file_extension": ".py",
   "mimetype": "text/x-python",
   "name": "python",
   "nbconvert_exporter": "python",
   "pygments_lexer": "ipython3",
   "version": "3.7.3"
  }
 },
 "nbformat": 4,
 "nbformat_minor": 2
}
