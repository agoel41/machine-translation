{
 "cells": [
  {
   "cell_type": "markdown",
   "metadata": {},
   "source": [
    "## Machine translation using LSTM"
   ]
  },
  {
   "cell_type": "markdown",
   "metadata": {},
   "source": [
    "### Pre-requisites\n",
    "\n",
    "- Download the data: http://www.manythings.org/anki/\n",
    "- Download the word vectors: http://nlp.stanford.edu/data/glove.6B.zip"
   ]
  },
  {
   "cell_type": "code",
   "execution_count": 13,
   "metadata": {},
   "outputs": [],
   "source": [
    "import os, sys\n",
    "from keras.models import Model\n",
    "from keras.layers import Input, LSTM, GRU, Dense, Embedding\n",
    "from keras.preprocessing.text import Tokenizer\n",
    "from keras.preprocessing.sequence import pad_sequences\n",
    "from keras.utils import to_categorical\n",
    "import numpy as np\n",
    "import matplotlib.pyplot as plt\n",
    "import keras.backend as K"
   ]
  },
  {
   "cell_type": "code",
   "execution_count": 14,
   "metadata": {},
   "outputs": [],
   "source": [
    "if len(K.tensorflow_backend._get_available_gpus()) > 0:\n",
    "    from keras.layers import CuDNNLSTM as LSTM\n",
    "    from keras.layers import CuDNNGRU as GRU"
   ]
  },
  {
   "cell_type": "code",
   "execution_count": 15,
   "metadata": {},
   "outputs": [],
   "source": [
    "# Configuration\n",
    "\n",
    "BATCH_SIZE=64             # Batch size for training.\n",
    "EPOCHS = 100              # Number of epochs to train for.\n",
    "LATENT_DIM = 256          # Latent dimensionality of the encoding space.\n",
    "NUM_SAMPLES = 10000       # Number of samples to train on\n",
    "MAX_SEQUENCE_LENGTH = 100\n",
    "MAX_NUM_WORDS = 20000\n",
    "EMBEDDING_DIM = 100"
   ]
  },
  {
   "cell_type": "code",
   "execution_count": 16,
   "metadata": {},
   "outputs": [],
   "source": [
    "# Where we will store the data\n",
    "input_texts = []          # sentence in original language\n",
    "target_texts = []         # sentence in target language\n",
    "target_texts_inputs = []  # sentence in target language offset by 1"
   ]
  },
  {
   "cell_type": "markdown",
   "metadata": {},
   "source": [
    "### Prepare training data"
   ]
  },
  {
   "cell_type": "code",
   "execution_count": 17,
   "metadata": {},
   "outputs": [
    {
     "name": "stdout",
     "output_type": "stream",
     "text": [
      "Number of samples: 2808\n"
     ]
    }
   ],
   "source": [
    "t = 0\n",
    "for line in open('data/hin-eng/hin.txt'):\n",
    "    # only keep a limited number of samples.\n",
    "    t += 1\n",
    "    if t > NUM_SAMPLES:\n",
    "        break\n",
    "        \n",
    "    # input and target are separated by tab\n",
    "    if '\\t' not in line:\n",
    "        continue\n",
    "        \n",
    "    # split up the input and translation\n",
    "    input_text, translation = line.rstrip().split('\\t')\n",
    "    \n",
    "    # make the target input and output using teacher forcing\n",
    "    target_text = translation + '<eos>'\n",
    "    target_text_input = '<sos>' + translation\n",
    "    \n",
    "    input_texts.append(input_text)\n",
    "    target_texts.append(target_text)\n",
    "    target_texts_inputs.append(target_text_input)\n",
    "    \n",
    "print(\"Number of samples:\", len(input_texts))"
   ]
  },
  {
   "cell_type": "markdown",
   "metadata": {},
   "source": [
    "### Tokenize the inputs (Convert the sentences (string) into integers)"
   ]
  },
  {
   "cell_type": "code",
   "execution_count": 23,
   "metadata": {},
   "outputs": [],
   "source": [
    "tokenizer_inputs = Tokenizer(num_words = MAX_NUM_WORDS)\n",
    "tokenizer_inputs.fit_on_texts(input_texts)\n",
    "input_sequences = tokenizer_inputs.texts_to_sequences(input_texts)"
   ]
  },
  {
   "cell_type": "markdown",
   "metadata": {},
   "source": [
    "### Word to integer mapping for input text"
   ]
  },
  {
   "cell_type": "code",
   "execution_count": 44,
   "metadata": {},
   "outputs": [
    {
     "name": "stdout",
     "output_type": "stream",
     "text": [
      "Found 2388 unique input tokens.\n",
      "{'the': 1, 'i': 2, 'to': 3, 'you': 4, 'is': 5, 'a': 6, 'he': 7, 'of': 8, 'in': 9, 'my': 10, 'it': 11, 'me': 12, 'this': 13, 'have': 14, 'she': 15, 'for': 16, 'was': 17, 'are': 18, 'do': 19, 'that': 20, 'his': 21, 'your': 22, 'we': 23, 'will': 24, 'on': 25, 'what': 26, \"don't\": 27, 'at': 28, 'him': 29, 'her': 30, 'not': 31, 'like': 32, 'go': 33, 'with': 34, 'be': 35, 'how': 36, 'and': 37, \"i'm\": 38, 'can': 39, 'time': 40, 'has': 41, 'there': 42, 'know': 43, 'all': 44, 'up': 45, 'they': 46, 'come': 47, 'very': 48, 'as': 49, 'had': 50, 'please': 51, 'from': 52, 'want': 53, \"it's\": 54, 'here': 55, 'by': 56, 'out': 57, 'am': 58, 'when': 59, 'did': 60, 'no': 61, 'been': 62, 'get': 63, \"can't\": 64, 'take': 65, 'going': 66, 'an': 67, 'father': 68, 'book': 69, 'if': 70, 'about': 71, 'one': 72, 'india': 73, 'were': 74, 'money': 75, 'would': 76, 'tom': 77, 'day': 78, 'long': 79, 'two': 80, 'tomorrow': 81, 'today': 82, 'where': 83, 'but': 84, 'must': 85, 'make': 86, 'help': 87, \"i'll\": 88, 'us': 89, 'back': 90, 'man': 91, 'live': 92, 'see': 93, 'english': 94, 'good': 95, 'our': 96, 'who': 97, 'home': 98, 'car': 99, 'now': 100, 'work': 101, 'these': 102, 'yesterday': 103, 'too': 104, \"didn't\": 105, 'should': 106, 'so': 107, 'room': 108, 'made': 109, 'many': 110, 'speak': 111, 'never': 112, 'house': 113, 'last': 114, 'every': 115, 'mother': 116, 'went': 117, 'more': 118, 'than': 119, 'much': 120, 'off': 121, 'some': 122, 'nothing': 123, 'again': 124, 'dog': 125, 'think': 126, 'old': 127, 'tell': 128, 'could': 129, 'always': 130, 'people': 131, 'got': 132, 'well': 133, 'down': 134, 'may': 135, 'door': 136, 'them': 137, 'any': 138, 'let': 139, 'call': 140, 'turn': 141, 'train': 142, \"i've\": 143, 'children': 144, 'give': 145, 'put': 146, 'why': 147, 'into': 148, 'school': 149, 'before': 150, 'doctor': 151, 'leave': 152, 'lot': 153, 'next': 154, 'teacher': 155, 'say': 156, 'or': 157, 'tired': 158, 'new': 159, 'happy': 160, 'night': 161, 'ten': 162, 'water': 163, 'away': 164, 'left': 165, 'open': 166, 'read': 167, 'saw': 168, 'believe': 169, 'use': 170, 'keep': 171, 'because': 172, 'their': 173, \"let's\": 174, 'answer': 175, 'once': 176, 'year': 177, 'hard': 178, \"isn't\": 179, 'problem': 180, 'job': 181, 'true': 182, 'does': 183, 'soon': 184, 'few': 185, 'mary': 186, 'years': 187, 'way': 188, 'seen': 189, 'letter': 190, 'both': 191, 'big': 192, 'drive': 193, 'birthday': 194, 'feel': 195, \"that's\": 196, 'cut': 197, 'met': 198, 'watch': 199, 'books': 200, 'tea': 201, \"couldn't\": 202, 'without': 203, 'cannot': 204, 'japan': 205, 'morning': 206, \"what's\": 207, 'came': 208, 'wrong': 209, 'understand': 210, 'everyone': 211, 'yet': 212, 'doing': 213, 'girl': 214, 'other': 215, 'such': 216, 'three': 217, 'afraid': 218, 'times': 219, 'month': 220, 'world': 221, 'love': 222, 'try': 223, \"he's\": 224, 'bed': 225, 'around': 226, 'likes': 227, 'really': 228, 'right': 229, 'after': 230, 'friends': 231, 'lost': 232, 'bought': 233, 'tried': 234, \"i'd\": 235, 'play': 236, 'gave': 237, 'little': 238, 'river': 239, 'five': 240, 'six': 241, 'able': 242, \"won't\": 243, 'said': 244, 'took': 245, 'coming': 246, 'buy': 247, 'stay': 248, 'early': 249, 'running': 250, 'first': 251, 'meet': 252, 'already': 253, 'news': 254, 'wanted': 255, 'box': 256, 'caught': 257, 'looked': 258, 'shoes': 259, 'while': 260, 'week': 261, 'comes': 262, 'station': 263, \"o'clock\": 264, 'own': 265, 'baby': 266, 'better': 267, 'ever': 268, 'between': 269, 'medicine': 270, 'looking': 271, 'usually': 272, 'brother': 273, 'smoking': 274, 'days': 275, 'something': 276, 'fun': 277, 'broke': 278, 'cold': 279, 'knows': 280, 'drink': 281, 'fish': 282, 'study': 283, 'dinner': 284, 'friend': 285, 'eyes': 286, 'bad': 287, 'abroad': 288, 'married': 289, 'small': 290, 'felt': 291, 'ask': 292, 'city': 293, 'health': 294, 'mind': 295, 'just': 296, 'easy': 297, 'walk': 298, 'coffee': 299, 'difficult': 300, 'almost': 301, \"doesn't\": 302, 'used': 303, 'accident': 304, 'sit': 305, 'boy': 306, 'busy': 307, 'town': 308, \"you're\": 309, 'ill': 310, 'stop': 311, 'mine': 312, 'person': 313, 'hurry': 314, 'name': 315, 'sister': 316, 'life': 317, 'poor': 318, 'died': 319, 'ran': 320, 'party': 321, 'asked': 322, 'happened': 323, 'hair': 324, 'told': 325, 'found': 326, 'mistakes': 327, 'enough': 328, 'forget': 329, 'tv': 330, 'wait': 331, 'large': 332, 'eight': 333, 'america': 334, 'afternoon': 335, 'others': 336, 'london': 337, 'talking': 338, 'rain': 339, 'hours': 340, 'parents': 341, 'possible': 342, 'saying': 343, 'forgot': 344, 'fly': 345, 'done': 346, 'fire': 347, 'swim': 348, 'french': 349, 'flowers': 350, \"we're\": 351, 'clean': 352, 'music': 353, 'heard': 354, 'noise': 355, 'crying': 356, 'nice': 357, 'boys': 358, 'talk': 359, 'sure': 360, 'which': 361, 'questions': 362, 'reading': 363, 'write': 364, 'language': 365, 'became': 366, 'each': 367, 'question': 368, 'country': 369, 'king': 370, 'another': 371, 'bus': 372, 'beautiful': 373, 'die': 374, 'someone': 375, 'food': 376, 'police': 377, 'desk': 378, 'sorry': 379, 'things': 380, 'bicycle': 381, 'eat': 382, 'care': 383, 'idea': 384, 'slowly': 385, 'instead': 386, 'written': 387, \"you'll\": 388, 'weather': 389, 'child': 390, 'behind': 391, 'since': 392, 'through': 393, 'difference': 394, 'birds': 395, 'excuse': 396, 'move': 397, 'nobody': 398, 'sick': 399, 'bring': 400, 'free': 401, 'son': 402, 'only': 403, 'look': 404, 'ready': 405, 'story': 406, 'anything': 407, \"haven't\": 408, 'along': 409, 'works': 410, 'address': 411, 'born': 412, 'later': 413, 'yours': 414, 'family': 415, \"she's\": 416, 'power': 417, 'everybody': 418, 'called': 419, 'lives': 420, 'rich': 421, 'kept': 422, 'need': 423, 'waiting': 424, 'sunday': 425, 'rumor': 426, 'size': 427, 'visit': 428, 'alone': 429, 'wherever': 430, 'thing': 431, 'business': 432, 'often': 433, 'playing': 434, 'wish': 435, 'makes': 436, 'tennis': 437, 'homework': 438, 'wife': 439, 'apples': 440, 'learn': 441, 'window': 442, 'picture': 443, 'watching': 444, 'class': 445, 'interesting': 446, 'raining': 447, 'spoken': 448, 'clothes': 449, 'telephone': 450, 'capital': 451, 'anxious': 452, 'find': 453, 'hear': 454, 'finished': 455, 'village': 456, 'longer': 457, 'whether': 458, 'pay': 459, 'hungry': 460, 'dogs': 461, 'phone': 462, 'hot': 463, 'summer': 464, 'bag': 465, 'wash': 466, \"we'll\": 467, 'run': 468, 'guitar': 469, \"where's\": 470, 'began': 471, 'cried': 472, 'getting': 473, 'hands': 474, 'blue': 475, 'matter': 476, 'sleep': 477, 'closed': 478, 'those': 479, 'still': 480, 'television': 481, 'worked': 482, 'looks': 483, 'expensive': 484, 'against': 485, 'war': 486, 'seems': 487, 'taking': 488, 'plan': 489, 'apple': 490, 'quickly': 491, 'dress': 492, 'return': 493, 'disappointed': 494, 'yourself': 495, 'reap': 496, 'sow': 497, 'anyone': 498, 'lose': 499, 'japanese': 500, 'begins': 501, 'arrive': 502, 'easily': 503, 'decided': 504, 'sky': 505, 'fell': 506, 'studying': 507, 'late': 508, 'sugar': 509, 'rains': 510, 'then': 511, 'minutes': 512, 'air': 513, 'canada': 514, 'larger': 515, 'interested': 516, 'standing': 517, 'movie': 518, 'changing': 519, 'suddenly': 520, 'europe': 521, 'cup': 522, 'number': 523, 'office': 524, 'meeting': 525, 'set': 526, 'wants': 527, 'grandmother': 528, 'hobby': 529, 'population': 530, 'ship': 531, 'across': 532, 'kind': 533, 'men': 534, 'plane': 535, 'china': 536, 'finish': 537, 'making': 538, 'whoever': 539, 'hand': 540, 'being': 541, 'mountain': 542, 'hospital': 543, 'languages': 544, 'advice': 545, 'bit': 546, 'machine': 547, 'known': 548, 'necessary': 549, 'different': 550, 'arrested': 551, 'england': 552, 'jump': 553, 'laughed': 554, 'sing': 555, \"who's\": 556, 'stood': 557, 'strong': 558, 'cake': 559, 'attend': 560, 'fat': 561, 'history': 562, 'god': 563, 'over': 564, 'cooked': 565, 'black': 566, 'beauty': 567, 'talks': 568, 'remember': 569, 'april': 570, 'key': 571, 'age': 572, 'whose': 573, 'bank': 574, 'sight': 575, 'truth': 576, 'earth': 577, 'hope': 578, 'mistake': 579, 'dark': 580, 'snow': 581, 'started': 582, 'taxi': 583, 'baseball': 584, 'shirt': 585, 'airport': 586, 'angry': 587, 'agree': 588, 'red': 589, 'broken': 590, 'secret': 591, 'eggs': 592, 'policeman': 593, 'horse': 594, 'swimming': 595, 'close': 596, 'lake': 597, 'knew': 598, 'learned': 599, 'empty': 600, 'woman': 601, 'prefer': 602, 'myself': 603, 'quit': 604, 'rather': 605, '3': 606, 'light': 607, 'milk': 608, 'abandoned': 609, 'tends': 610, 'present': 611, 'chair': 612, 'show': 613, \"hasn't\": 614, 'face': 615, 'four': 616, 'table': 617, \"shouldn't\": 618, 'garden': 619, 'novel': 620, 'stand': 621, 'explain': 622, 'bath': 623, 'tokyo': 624, '5': 625, 'cars': 626, 'rest': 627, 'dollars': 628, 'might': 629, 'shade': 630, '10': 631, 'cats': 632, \"aren't\": 633, 'believes': 634, 'best': 635, 'arrived': 636, 'hardly': 637, 'brought': 638, 'famous': 639, 'great': 640, 'head': 641, 'promise': 642, 'sentences': 643, 'france': 644, 'dream': 645, 'outside': 646, 'speaking': 647, 'africa': 648, 'become': 649, 'result': 650, 'most': 651, 'trip': 652, 'future': 653, 'students': 654, 'surprised': 655, 'sisters': 656, 'sun': 657, 'bigger': 658, 'having': 659, 'paris': 660, 'trouble': 661, 'pictures': 662, 'older': 663, 'stayed': 664, 'doubt': 665, 'covered': 666, 'ordered': 667, 'whole': 668, 'together': 669, 'street': 670, \"there's\": 671, \"wouldn't\": 672, 'uncle': 673, 'amateur': 674, 'cricket': 675, 'player': 676, 'bridge': 677, 'leaving': 678, 'government': 679, 'pass': 680, 'responsible': 681, 'bored': 682, 'wonderful': 683, 'follow': 684, 'shout': 685, 'cat': 686, 'map': 687, 'feet': 688, 'hat': 689, 'husband': 690, 'cook': 691, 'kites': 692, 'teach': 693, 'join': 694, 'rice': 695, 'legs': 696, 'speaks': 697, 'near': 698, 'bird': 699, 'walking': 700, 'turned': 701, 'listen': 702, 'student': 703, 'stolen': 704, 'radio': 705, 'yes': 706, 'admit': 707, 'women': 708, 'sort': 709, 'tall': 710, 'smiled': 711, 'crow': 712, 'win': 713, 'wine': 714, 'working': 715, 'pulled': 716, 'clear': 717, 'trees': 718, 'tax': 719, 'worry': 720, 'success': 721, 'succeed': 722, 'eating': 723, 'meant': 724, 'joke': 725, 'glasses': 726, 'eleven': 727, 'goes': 728, 'accepted': 729, 'offer': 730, 'daughter': 731, 'correct': 732, 'eye': 733, 'ball': 734, 'lived': 735, 'animal': 736, 'fast': 737, 'foot': 738, 'fever': 739, 'wake': 740, '7': 741, 'nine': 742, 'thinking': 743, 'absent': 744, '30': 745, 'shall': 746, 'piano': 747, 'heart': 748, 'showed': 749, 'oil': 750, 'smooth': 751, 'plenty': 752, 'memory': 753, \"you've\": 754, 'glass': 755, 'park': 756, 'arrogant': 757, 'accused': 758, 'important': 759, 'brothers': 760, 'under': 761, 'cancer': 762, 'half': 763, 'anymore': 764, 'forest': 765, 'harder': 766, 'rooms': 767, 'road': 768, 'satisfied': 769, 'neighbors': 770, 'plays': 771, 'burning': 772, 'death': 773, 'sleeping': 774, 'account': 775, 'sold': 776, 'travel': 777, 'towel': 778, 'add': 779, 'm': 780, 'herself': 781, 'thank': 782, 'cry': 783, 'twenty': 784, 'protect': 785, 'favorite': 786, 'smoke': 787, 'officer': 788, 'whatever': 789, 'opinions': 790, 'miles': 791, 'boss': 792, 'place': 793, 'feed': 794, 'word': 795, 'voted': 796, 'order': 797, 'bread': 798, 'explained': 799, 'rule': 800, 'osaka': 801, 'waste': 802, 'voice': 803, 'saved': 804, 'danger': 805, 'store': 806, 'meals': 807, 'words': 808, 'tickets': 809, 'speech': 810, 'game': 811, 'advise': 812, 'pleased': 813, 'allow': 814, 'happen': 815, 'pain': 816, 'italy': 817, 'tree': 818, 'fact': 819, 'butter': 820, 'advantage': 821, 'monday': 822, 'movies': 823, 'traffic': 824, 'mail': 825, 'pieces': 826, 'favor': 827, 'flying': 828, 'kite': 829, 'dangerous': 830, 'due': 831, 'illness': 832, 'interpret': 833, 'poem': 834, 'pick': 835, 'borrow': 836, 'subject': 837, 'lie': 838, 'helped': 839, 'tonight': 840, 'wedding': 841, 'fresh': 842, 'promote': 843, 'buried': 844, 'heat': 845, 'until': 846, 'dictionary': 847, 'trust': 848, 'rules': 849, 'ashamed': 850, 'strange': 851, 'wrote': 852, 'temples': 853, 'fifty': 854, 'end': 855, 'starts': 856, 'extent': 857, 'wind': 858, 'leaves': 859, 'computer': 860, 'short': 861, 'prize': 862, 'thief': 863, 'delhi': 864, 'speed': 865, 'breakfast': 866, 'case': 867, 'living': 868, 'depends': 869, 'teaching': 870, 'destroyed': 871, 'catch': 872, 'chance': 873, 'according': 874, 'front': 875, 'company': 876, 'advised': 877, 'college': 878, 'its': 879, 'passed': 880, 'weeks': 881, 'lights': 882, 'workers': 883, 'museum': 884, 'library': 885, 'answers': 886, 'seven': 887, 'test': 888, 'ought': 889, 'till': 890, 'couple': 891, 'except': 892, 'largest': 893, 'feeling': 894, 'spent': 895, 'teresa': 896, 'hello': 897, 'cheers': 898, 'ok': 899, 'perfect': 900, 'welcome': 901, 'fine': 902, 'math': 903, 'shot': 904, 'touch': 905, 'atheist': 906, 'congratulations': 907, 'miss': 908, 'reads': 909, 'arabic': 910, 'rude': 911, 'lucky': 912, 'cafe': 913, 'fair': 914, 'fault': 915, 'lack': 916, 'top': 917, 'oranges': 918, 'sign': 919, 'betrayed': 920, 'build': 921, 'nests': 922, 'studied': 923, 'headache': 924, 'loved': 925, 'happiness': 926, 'beach': 927, 'throw': 928, 'breathed': 929, 'deeply': 930, 'simple': 931, 'cousin': 932, 'waited': 933, 'pretty': 934, 'guy': 935, 'enjoyed': 936, 'kids': 937, 'vase': 938, 'pen': 939, 'gym': 940, 'state': 941, 'taste': 942, 'continued': 943, 'eaten': 944, 'ticket': 945, 'green': 946, 'forgive': 947, 'pencil': 948, 'sea': 949, 'consciousness': 950, 'decision': 951, 'shut': 952, 'wore': 953, 'haunted': 954, 'sheets': 955, 'burst': 956, 'feels': 957, 'silk': 958, 'hens': 959, 'bell': 960, 'climbed': 961, 'stairs': 962, 'sharp': 963, 'race': 964, 'boston': 965, 'start': 966, 'swollen': 967, 'hated': 968, 'stubborn': 969, 'nearby': 970, 'missed': 971, 'shouted': 972, \"what're\": 973, 'elevator': 974, 'song': 975, 'earns': 976, 'knocked': 977, 'robbed': 978, 'physics': 979, 'wonder': 980, 'stomach': 981, 'york': 982, 'wears': 983, 'ceased': 984, 'glad': 985, 'lion': 986, 'chairs': 987, 'tuesday': 988, 'passport': 989, 'soccer': 990, 'dozen': 991, 'dressed': 992, 'white': 993, 'whichever': 994, 'applies': 995, 'wood': 996, 'cheese': 997, 'thirty': 998, 'fond': 999, 'gun': 1000, 'murder': 1001, 'seat': 1002, 'further': 1003, 'cups': 1004, 'iron': 1005, 'gold': 1006, 'healthy': 1007, 'successful': 1008, 'gathered': 1009, 'amount': 1010, 'import': 1011, 'fairies': 1012, 'moment': 1013, 'taught': 1014, 'walked': 1015, 'witnessed': 1016, 'steal': 1017, 'lately': 1018, 'manager': 1019, 'stopped': 1020, 'hates': 1021, 'bags': 1022, 'missing': 1023, '8': 1024, 'plants': 1025, 'prisoner': 1026, \"father's\": 1027, 'independence': 1028, 'pond': 1029, 'coal': 1030, 'koala': 1031, 'visited': 1032, 'kyoto': 1033, 'says': 1034, 'pencils': 1035, 'cover': 1036, 'sat': 1037, 'mouse': 1038, 'dead': 1039, 'alive': 1040, 'hit': 1041, 'mud': 1042, 'season': 1043, 'celebrated': 1044, 'candidate': 1045, \"we've\": 1046, 'pride': 1047, 'complaining': 1048, 'somewhere': 1049, 'western': 1050, 'german': 1051, 'august': 1052, 'accompanied': 1053, 'useful': 1054, 'spanish': 1055, 'mexico': 1056, 'yen': 1057, 'loves': 1058, 'low': 1059, 'allowed': 1060, 'hundred': 1061, 'real': 1062, 'diamond': 1063, 'brush': 1064, 'teeth': 1065, 'roses': 1066, 'degree': 1067, 'followed': 1068, 'tracks': 1069, 'science': 1070, 'farm': 1071, '00': 1072, 'young': 1073, 'grown': 1074, 'rome': 1075, 'monkey': 1076, 'increasing': 1077, 'send': 1078, \"should've\": 1079, 'taken': 1080, 'rotten': 1081, 'spread': 1082, 'youth': 1083, 'jam': 1084, 'jobs': 1085, 'thought': 1086, 'patient': 1087, 'bound': 1088, 'contains': 1089, \"sister's\": 1090, 'undone': 1091, 'slow': 1092, 'australia': 1093, 'absence': 1094, 'bet': 1095, 'pounds': 1096, 'meal': 1097, 'suitcase': 1098, 'distance': 1099, 'roof': 1100, 'dust': 1101, 'itself': 1102, 'crash': 1103, 'shop': 1104, 'supper': 1105, 'author': 1106, 'listened': 1107, 'struck': 1108, \"world's\": 1109, 'even': 1110, 'everything': 1111, 'vegetables': 1112, 'graveyard': 1113, 'rainy': 1114, 'vain': 1115, 'sinking': 1116, 'high': 1117, 'cross': 1118, 'newspapers': 1119, 'dance': 1120, 'count': 1121, 'stingy': 1122, 'paper': 1123, 'killed': 1124, 'single': 1125, 'lazy': 1126, 'consists': 1127, 'past': 1128, 'reproached': 1129, 'rang': 1130, 'scolded': 1131, 'rid': 1132, 'habit': 1133, 'gets': 1134, 'nerves': 1135, 'hid': 1136, 'among': 1137, 'realized': 1138, 'program': 1139, 'arrogance': 1140, 'fortune': 1141, 'point': 1142, 'proved': 1143, 'laid': 1144, 'prevented': 1145, 'murders': 1146, 'willing': 1147, 'observe': 1148, 'limit': 1149, 'market': 1150, 'tolerate': 1151, 'statement': 1152, 'art': 1153, 'friday': 1154, 'learning': 1155, 'foreign': 1156, 'nowadays': 1157, 'overseas': 1158, 'insecure': 1159, 'animals': 1160, 'asleep': 1161, 'pocket': 1162, 'jungle': 1163, 'storm': 1164, 'proud': 1165, 'themselves': 1166, 'worse': 1167, 'sudden': 1168, 'toilet': 1169, 'sentence': 1170, 'pet': 1171, 'spend': 1172, 'dreamed': 1173, 'twice': 1174, 'vary': 1175, 'stars': 1176, 'law': 1177, 'far': 1178, 'scattered': 1179, 'talked': 1180, 'less': 1181, 'answering': 1182, 'corner': 1183, 'opportunity': 1184, 'current': 1185, 'income': 1186, 'fit': 1187, 'occurred': 1188, 'imitate': 1189, 'education': 1190, 'ride': 1191, 'staying': 1192, 'months': 1193, 'fall': 1194, 'received': 1195, 'wearing': 1196, 'inside': 1197, 'sometimes': 1198, 'hesitation': 1199, 'convinced': 1200, 'doll': 1201, 'gentleman': 1202, 'absolute': 1203, 'shows': 1204, 'common': 1205, 'environment': 1206, 'club': 1207, 'examination': 1208, 'reduce': 1209, 'invited': 1210, 'confident': 1211, 'writing': 1212, 'letters': 1213, 'recognize': 1214, 'caused': 1215, 'earthquake': 1216, 'failed': 1217, 'jumped': 1218, 'locked': 1219, 'conditioner': 1220, 'situation': 1221, '6': 1222, 'himself': 1223, 'precious': 1224, 'least': 1225, 'injured': 1226, 'during': 1227, 'stole': 1228, 'disappointment': 1229, 'cost': 1230, 'respected': 1231, 'tears': 1232, 'supposed': 1233, 'impossible': 1234, 'opinion': 1235, 'lying': 1236, 'certain': 1237, 'misunderstanding': 1238, 'fight': 1239, 'instant': 1240, 'ago': 1241, 'lots': 1242, 'gained': 1243, 'reason': 1244, 'thousands': 1245, 'taiwan': 1246, 'strike': 1247, 'president': 1248, 'sent': 1249, 'translate': 1250, 'quality': 1251, 'seventeen': 1252, 'sad': 1253, 'cities': 1254, 'gut': 1255, 'regard': 1256, 'names': 1257, 'careful': 1258, 'backs': 1259, 'selfish': 1260, 'thinks': 1261, 'feelings': 1262, 'committee': 1263, 'exam': 1264, 'investigate': 1265, 'reach': 1266, 'takes': 1267, 'safety': 1268, 'affected': 1269, 'promised': 1270, 'realize': 1271, 'value': 1272, 'calcutta': 1273, 'wow': 1274, 'awesome': 1275, 'goodbye': 1276, 'full': 1277, 'fantastic': 1278, 'fainted': 1279, 'fear': 1280, 'definitely': 1281, 'burns': 1282, 'easter': 1283, 'starving': 1284, 'snowing': 1285, 'unbelievable': 1286, 'dies': 1287, 'bloom': 1288, 'quick': 1289, 'aloud': 1290, 'bent': 1291, 'beard': 1292, 'actor': 1293, 'needs': 1294, 'kidding': 1295, 'guys': 1296, 'absurd': 1297, 'nauseous': 1298, 'assaulted': 1299, 'anybody': 1300, \"nobody's\": 1301, 'mouth': 1302, \"power's\": 1303, 'startled': 1304, 'climb': 1305, 'potatoes': 1306, 'faces': 1307, 'thirsty': 1308, 'bar': 1309, 'deceive': 1310, 'employs': 1311, 'maid': 1312, 'traitor': 1313, 'sleepy': 1314, 'truly': 1315, 'starting': 1316, \"one's\": 1317, 'rotates': 1318, 'pie': 1319, 'stones': 1320, 'gone': 1321, 'nuts': 1322, '1960': 1323, '1979': 1324, 'handle': 1325, 'toyota': 1326, 'leaped': 1327, 'joy': 1328, 'happily': 1329, 'annoys': 1330, 'batter': 1331, 'flew': 1332, \"mary's\": 1333, 'skating': 1334, 'pumpkin': 1335, 'begin': 1336, 'wheel': 1337, 'lonely': 1338, \"he'll\": 1339, 'singing': 1340, 'hate': 1341, 'risks': 1342, 'marry': 1343, 'ink': 1344, 'tiger': 1345, 'skies': 1346, 'winter': 1347, 'saver': 1348, 'envied': 1349, 'lent': 1350, \"how's\": 1351, 'stranger': 1352, 'counting': 1353, 'expect': 1354, 'vomiting': 1355, 'stomachache': 1356, 'problems': 1357, 'finger': 1358, 'allergic': 1359, 'ringing': 1360, 'charge': 1361, 'victory': 1362, 'lincoln': 1363, '1865': 1364, 'specialty': 1365, 'ablaze': 1366, 'damp': 1367, 'pipe': 1368, 'hers': 1369, 'zoo': 1370, 'contain': 1371, 'prove': 1372, 'camera': 1373, 'lay': 1374, 'rung': 1375, 'deals': 1376, 'furniture': 1377, 'shooter': 1378, 'sixty': 1379, 'sang': 1380, 'dear': 1381, 'won': 1382, 'writes': 1383, 'beautifully': 1384, 'grateful': 1385, 'dove': 1386, 'servant': 1387, 'liked': 1388, 'biology': 1389, 'korea': 1390, 'tiny': 1391, 'toy': 1392, 'deep': 1393, 'disturbing': 1394, 'rested': 1395, 'nonsense': 1396, 'fox': 1397, 'wild': 1398, 'rabbit': 1399, 'ears': 1400, 'color': 1401, 'temper': 1402, 'slap': 1403, 'salary': 1404, 'daughters': 1405, 'tore': 1406, 'apart': 1407, 'understands': 1408, 'pity': 1409, 'cage': 1410, 'seem': 1411, \"wasn't\": 1412, 'fired': 1413, 'bloody': 1414, 'growling': 1415, 'gentle': 1416, 'wealthy': 1417, 'prattles': 1418, 'weird': 1419, 'gate': 1420, 'knife': 1421, 'sooner': 1422, 'thin': 1423, 'tame': 1424, 'engine': 1425, 'temperature': 1426, 'stuttering': 1427, 'spoil': 1428, 'alcohol': 1429, 'sand': 1430, 'catches': 1431, 'colds': 1432, 'smelling': 1433, 'soup': 1434, 'theft': 1435, 'throwing': 1436, 'dentist': 1437, 'drinking': 1438, 'beer': 1439, '12': 1440, 'concern': 1441, 'example': 1442, 'debts': 1443, 'flames': 1444, 'adopted': 1445, 'orphan': 1446, 'plus': 1447, 'round': 1448, 'nationality': 1449, 'pours': 1450, 'travels': 1451, 'choose': 1452, 'ambulance': 1453, 'envelope': 1454, 'leveled': 1455, 'dissatisfied': 1456, 'kilo': 1457, 'beg': 1458, 'differ': 1459, 'jacket': 1460, 'subway': 1461, 'condition': 1462, 'knocking': 1463, 'coughing': 1464, 'refund': 1465, 'page': 1466, 'introduce': 1467, 'obstinate': 1468, 'refused': 1469, 'notice': 1470, 'pulse': 1471, \"food's\": 1472, 'committed': 1473, 'includes': 1474, 'narrow': 1475, 'lacks': 1476, 'courage': 1477, 'line': 1478, 'b': 1479, 'sale': 1480, 'arrest': 1481, 'hammered': 1482, 'hesitated': 1483, 'sentenced': 1484, 'quota': 1485, 'bowls': 1486, 'hunger': 1487, 'drove': 1488, 'farther': 1489, 'glimpse': 1490, 'fixed': 1491, 'facebook': 1492, \"barber's\": 1493, 'smog': 1494, 'causes': 1495, 'snakes': 1496, 'poisonous': 1497, 'enemy': 1498, 'haze': 1499, 'enveloped': 1500, 'abused': 1501, 'released': 1502, 'families': 1503, 'painted': 1504, 'appeared': 1505, 'appointment': 1506, 'fail': 1507, 'watering': 1508, 'greeks': 1509, 'engaged': 1510, 'occasionally': 1511, 'worthless': 1512, 'honesty': 1513, 'policy': 1514, 'usual': 1515, 'decline': 1516, 'john': 1517, 'june': 1518, '4': 1519, '1974': 1520, 'bum': 1521, 'same': 1522, 'aunt': 1523, \"'yes'\": 1524, 'arms': 1525, 'bride': 1526, 'tastes': 1527, 'bitter': 1528, 'clung': 1529, 'exciting': 1530, 'paint': 1531, 'dried': 1532, 'drinkable': 1533, 'monsoon': 1534, 'greek': 1535, 'complete': 1536, 'figured': 1537, 'hurt': 1538, 'soft': 1539, 'drinks': 1540, 'breathe': 1541, 'digging': 1542, 'grave': 1543, 'prefers': 1544, 'repeated': 1545, 'treats': 1546, 'slave': 1547, '21st': 1548, 'cleaned': 1549, 'cycling': 1550, 'crossing': 1551, '1977': 1552, 'insert': 1553, 'metal': 1554, 'million': 1555, 'sheer': 1556, 'expenses': 1557, 'spa': 1558, 'jeans': 1559, 'shrank': 1560, 'also': 1561, 'answered': 1562, 'else': 1563, 'offered': 1564, 'declined': 1565, 'invitation': 1566, 'dialed': 1567, 'purse': 1568, 'bun': 1569, 'soldiers': 1570, 'silent': 1571, 'socks': 1572, 'houses': 1573, 'burned': 1574, 'smelled': 1575, 'tobacco': 1576, 'teachers': 1577, 'ourselves': 1578, 'south': 1579, 'terminal': 1580, 'tidy': 1581, 'chinese': 1582, 'underlined': 1583, 'lean': 1584, 'wall': 1585, 'football': 1586, 'changed': 1587, 'schools': 1588, 'eats': 1589, 'lunch': 1590, 'cafeteria': 1591, 'ear': 1592, 'shirts': 1593, 'washed': 1594, 'wishes': 1595, 'smell': 1596, 'bottles': 1597, \"deer's\": 1598, 'informed': 1599, 'mentioned': 1600, 'dozens': 1601, 'catching': 1602, '11': 1603, 'appears': 1604, 'honest': 1605, 'fate': 1606, 'arguing': 1607, 'collecting': 1608, 'coins': 1609, 'notebook': 1610, 'seicho': 1611, 'matumoto': 1612, '1992': 1613, 'beating': 1614, 'bush': 1615, 'widely': 1616, 'begun': 1617, 'decay': 1618, 'pole': 1619, 'cliff': 1620, 'vertical': 1621, 'crushed': 1622, 'enemies': 1623, 'sail': 1624, 'bombay': 1625, 'resolved': 1626, \"rodica's\": 1627, 'fifth': 1628, 'island': 1629, 'concealed': 1630, 'accustomed': 1631, \"boy's\": 1632, 'costly': 1633, 'purchases': 1634, 'toward': 1635, 'within': 1636, 'disturbed': 1637, 'bear': 1638, 'sundays': 1639, 'reasonable': 1640, 'basketball': 1641, 'escaped': 1642, 'dreams': 1643, 'withered': 1644, 'governed': 1645, 'finland': 1646, 'consider': 1647, 'intelligent': 1648, 'solve': 1649, 'mile': 1650, 'team': 1651, 'ours': 1652, '20': 1653, 'dad': 1654, 'shaving': 1655, 'bathroom': 1656, 'cheaper': 1657, 'fighting': 1658, 'settle': 1659, 'attention': 1660, 'walks': 1661, 'behavior': 1662, 'odd': 1663, 'bone': 1664, 'keys': 1665, 'wallet': 1666, 'motioned': 1667, 'folder': 1668, 'worrying': 1669, 'politics': 1670, 'louder': 1671, 'remove': 1672, 'tries': 1673, 'pack': 1674, 'appearing': 1675, 'warned': 1676, 'string': 1677, 'occurs': 1678, 'frequently': 1679, 'raised': 1680, 'cloud': 1681, 'deer': 1682, 'barking': 1683, 'moves': 1684, 'investigation': 1685, 'hunting': 1686, 'lions': 1687, '200': 1688, 'carried': 1689, 'leather': 1690, 'goods': 1691, 'towels': 1692, '15': 1693, 'church': 1694, 'sixteenth': 1695, 'peace': 1696, 'dine': 1697, 'owe': 1698, 'apology': 1699, 'owner': 1700, 'solved': 1701, 'exports': 1702, 'wool': 1703, 'peasant': 1704, 'stuff': 1705, 'gonna': 1706, 'heavily': 1707, 'properly': 1708, 'perhaps': 1709, 'gazed': 1710, 'apartment': 1711, 'clock': 1712, 'discussing': 1713, 'crows': 1714, 'unless': 1715, 'ocean': 1716, 'hurried': 1717, 'boat': 1718, 'baggage': 1719, 'blame': 1720, 'wipe': 1721, 'conform': 1722, 'similar': 1723, 'rope': 1724, 'thrown': 1725, 'plans': 1726, 'detail': 1727, 'pressed': 1728, 'prompt': 1729, 'reply': 1730, 'bullet': 1731, 'weighed': 1732, 'stone': 1733, 'grandfather': 1734, 'housework': 1735, 'task': 1736, 'sin': 1737, 'anywhere': 1738, 'asking': 1739, 'visiting': 1740, 'oh': 1741, 'gas': 1742, 'billion': 1743, 'quite': 1744, 'accidental': 1745, 'pardon': 1746, 'raise': 1747, 'funds': 1748, 'gladly': 1749, 'proposal': 1750, 'younger': 1751, 'remained': 1752, 'stamps': 1753, 'stripped': 1754, 'conference': 1755, 'aware': 1756, 'shooting': 1757, 'noon': 1758, 'several': 1759, 'flat': 1760, 'planted': 1761, 'cave': 1762, 'tie': 1763, 'suit': 1764, 'hotel': 1765, \"beatles'\": 1766, 'chat': 1767, 'squirrel': 1768, 'branches': 1769, 'fallen': 1770, 'coincidentally': 1771, 'elephants': 1772, 'asia': 1773, 'neither': 1774, 'sadness': 1775, 'smile': 1776, 'pigeons': 1777, 'experiment': 1778, 'cash': 1779, 'fool': 1780, 'ability': 1781, 'adjust': 1782, 'message': 1783, 'ignore': 1784, 'neat': 1785, 'piece': 1786, 'prided': 1787, 'accompany': 1788, 'fewer': 1789, 'rarely': 1790, 'harm': 1791, 'someday': 1792, 'p': 1793, 'exactly': 1794, 'parallel': 1795, 'besides': 1796, 'shared': 1797, 'profit': 1798, 'elephant': 1799, 'dislike': 1800, 'bern': 1801, 'switzerland': 1802, 'classmates': 1803, 'comfort': 1804, 'faults': 1805, 'reverse': 1806, 'neighborhood': 1807, 'sense': 1808, 'rebellion': 1809, 'faster': 1810, 'rescued': 1811, 'sandwiches': 1812, 'remain': 1813, 'naughty': 1814, 'haste': 1815, 'repair': 1816, 'group': 1817, 'actress': 1818, 'dishes': 1819, 'germany': 1820, 'safe': 1821, 'wings': 1822, 'golf': 1823, 'cleared': 1824, 'ghosts': 1825, 'preparing': 1826, 'planting': 1827, 'profession': 1828, 'cradle': 1829, 'holding': 1830, 'hole': 1831, 'deprived': 1832, 'mystery': 1833, 'remains': 1834, 'unsolved': 1835, 'discussed': 1836, 'clever': 1837, 'newspaper': 1838, 'matters': 1839, 'land': 1840, 'moon': 1841, 'eager': 1842, 'wooden': 1843, 'buildings': 1844, 'opening': 1845, 'loyalty': 1846, 'century': 1847, 'laugh': 1848, 'extend': 1849, 'helps': 1850, 'russian': 1851, 'seemed': 1852, 'ignorance': 1853, 'stuck': 1854, 'oxford': 1855, 'university': 1856, 'cemetery': 1857, 'jogging': 1858, 'innocent': 1859, 'complains': 1860, 'daytime': 1861, 'ninth': 1862, 'completely': 1863, 'unfounded': 1864, 'approached': 1865, 'equal': 1866, 'hour': 1867, 'match': 1868, 'brown': 1869, 'agreement': 1870, 'managed': 1871, 'genuine': 1872, 'runs': 1873, 'valley': 1874, 'thick': 1875, 'mist': 1876, 'countryside': 1877, 'quitting': 1878, 'buddhism': 1879, 'beginnings': 1880, 'classical': 1881, 'bones': 1882, 'leg': 1883, 'impatient': 1884, 'gently': 1885, 'shoulder': 1886, 'grows': 1887, 'wiped': 1888, 'sweat': 1889, 'forehead': 1890, 'follows': 1891, 'scale': 1892, 'amazed': 1893, 'scared': 1894, 'anchorage': 1895, 'ache': 1896, 'imagine': 1897, 'earlier': 1898, 'complained': 1899, 'rudeness': 1900, 'prepared': 1901, 'pretending': 1902, \"tom's\": 1903, 'fifteen': 1904, 'dug': 1905, 'treasure': 1906, 'attended': 1907, 'exhibited': 1908, 'remorse': 1909, 'crime': 1910, 'failure': 1911, 'board': 1912, 'childhood': 1913, 'mohan': 1914, 'acquainted': 1915, 'sofa': 1916, 'veracity': 1917, 'unicycle': 1918, 'regret': 1919, 'umbrella': 1920, 'phrase': 1921, 'mom': 1922, 'keeps': 1923, 'peacefully': 1924, 'sickness': 1925, 'sound': 1926, 'beast': 1927, 'patrolling': 1928, 'trying': 1929, 'persuade': 1930, 'charged': 1931, 'directions': 1932, 'cloth': 1933, 'silky': 1934, 'driven': 1935, 'electricity': 1936, 'unused': 1937, 'pink': 1938, 'remote': 1939, 'control': 1940, 'embezzled': 1941, 'employees': 1942, 'stories': 1943, 'cooking': 1944, 'fully': 1945, 'innocence': 1946, 'american': 1947, 'literature': 1948, 'obliged': 1949, 'youngster': 1950, 'pair': 1951, 'scissors': 1952, 'debt': 1953, 'drop': 1954, 'consented': 1955, 'suffers': 1956, 'headaches': 1957, 'miracle': 1958, 'save': 1959, 'reminds': 1960, 'pianist': 1961, 'scar': 1962, 'cheek': 1963, 'completed': 1964, 'proverb': 1965, 'turning': 1966, 'volume': 1967, 'nerve': 1968, 'results': 1969, 'excellent': 1970, 'cows': 1971, 'sacred': 1972, 'entered': 1973, 'hardships': 1974, 'price': 1975, 'wares': 1976, 'poet': 1977, 'destined': 1978, 'adding': 1979, 'salt': 1980, 'concert': 1981, 'pronounce': 1982, 'angels': 1983, \"you'd\": 1984, 'straight': 1985, 'matches': 1986, 'everywhere': 1987, 'forward': 1988, 'named': 1989, 'rainbow': 1990, 'burglar': 1991, 'satisfying': 1992, 'spoiled': 1993, 'prison': 1994, 'film': 1995, 'punished': 1996, 'break': 1997, 'spit': 1998, 'identify': 1999, 'recognized': 2000, 'defeated': 2001, 'opponent': 2002, 'election': 2003, 'expectations': 2004, 'release': 2005, 'prisoners': 2006, 'rely': 2007, 'watched': 2008, 'beginning': 2009, 'materials': 2010, 'acquaintance': 2011, 'woods': 2012, 'strangers': 2013, 'countries': 2014, 'heavy': 2015, 'bakery': 2016, 'cute': 2017, 'lady': 2018, 'granddaughter': 2019, 'calls': 2020, 'drastic': 2021, 'measures': 2022, 'penalty': 2023, 'continent': 2024, 'cured': 2025, 'discovered': 2026, 'brave': 2027, 'act': 2028, 'pickpocketing': 2029, 'breath': 2030, 'operate': 2031, 'erase': 2032, 'wondering': 2033, 'definite': 2034, 'carelessness': 2035, 'qutub': 2036, 'minar': 2037, 'fort': 2038, 'farmer': 2039, 'toudaiji': 2040, 'spending': 2041, 'hokkaido': 2042, 'blanket': 2043, 'growing': 2044, 'poorer': 2045, 'obvious': 2046, 'main': 2047, 'object': 2048, 'chose': 2049, 'climate': 2050, 'congratulate': 2051, 'engagement': 2052, 'possession': 2053, 'respect': 2054, 'vocabulary': 2055, 'amend': 2056, 'constitution': 2057, 'holiday': 2058, 'hold': 2059, 'carries': 2060, 'seeds': 2061, 'distances': 2062, 'clouds': 2063, 'furnished': 2064, 'originally': 2065, 'journey': 2066, 'investigated': 2067, 'angles': 2068, 'photocopier': 2069, \"what'll\": 2070, 'requires': 2071, 'madman': 2072, 'accountable': 2073, 'actions': 2074, 'rubber': 2075, 'bounces': 2076, 'elastic': 2077, 'part': 2078, 'british': 2079, 'citizen': 2080, 'becoming': 2081, 'artist': 2082, 'closing': 2083, 'spends': 2084, 'entirely': 2085, 'heap': 2086, 'theater': 2087, 'woke': 2088, 'middle': 2089, 'reforming': 2090, 'male': 2091, 'peacock': 2092, 'colorful': 2093, 'tail': 2094, 'feathers': 2095, 'leading': 2096, 'cursed': 2097, 'finding': 2098, 'waking': 2099, 'opposite': 2100, 'seats': 2101, 'occur': 2102, 'windows': 2103, 'copyrighted': 2104, 'sources': 2105, 'balance': 2106, 'allowances': 2107, 'oppose': 2108, 'whom': 2109, 'pouring': 2110, 'lift': 2111, 'mt': 2112, 'everest': 2113, 'highest': 2114, 'peak': 2115, 'poured': 2116, 'washing': 2117, 'enter': 2118, 'classroom': 2119, 'careless': 2120, 'driving': 2121, 'factory': 2122, 'cease': 2123, 'operations': 2124, 'alarm': 2125, 'throughout': 2126, 'observed': 2127, 'eventually': 2128, 'fined': 2129, '000': 2130, 'illegal': 2131, 'parking': 2132, 'distinguish': 2133, 'granted': 2134, 'wins': 2135, 'receive': 2136, 'gives': 2137, 'innumerable': 2138, 'contact': 2139, 'alphabet': 2140, 'hang': 2141, 'given': 2142, 'biggest': 2143, 'source': 2144, 'inspiration': 2145, 'hesitate': 2146, 'drug': 2147, 'smuggler': 2148, 'fortunate': 2149, 'loving': 2150, 'presents': 2151, 'switch': 2152, 'member': 2153, 'commit': 2154, 'suicide': 2155, 'upon': 2156, 'weekend': 2157, 'waist': 2158, 'britain': 2159, '1947': 2160, 'located': 2161, 'towns': 2162, 'grapes': 2163, 'sour': 2164, 'booted': 2165, 'foreigners': 2166, 'customers': 2167, 'products': 2168, \"we'd\": 2169, 'independent': 2170, 'softer': 2171, 'report': 2172, 'resting': 2173, 'elected': 2174, 'frankly': 2175, 'reminded': 2176, 'parcel': 2177, 'phrases': 2178, 'ease': 2179, 'searching': 2180, 'exist': 2181, 'immediately': 2182, 'private': 2183, 'acquaintances': 2184, 'reform': 2185, 'laws': 2186, 'above': 2187, 'sixth': 2188, 'floor': 2189, 'superior': 2190, 'popular': 2191, 'exchange': 2192, 'sweater': 2193, 'u': 2194, 's': 2195, 'contracted': 2196, 'malaria': 2197, 'property': 2198, 'slept': 2199, 'thames': 2200, 'distributed': 2201, 'returning': 2202, \"weren't\": 2203, 'swear': 2204, 'decide': 2205, 'freedom': 2206, 'objected': 2207, 'removing': 2208, 'chatting': 2209, 'seventh': 2210, 'noisy': 2211, 'encouraged': 2212, 'fulfill': 2213, 'ambitions': 2214, 'constantly': 2215, 'forgetting': 2216, \"people's\": 2217, 'seldom': 2218, 'theory': 2219, 'comprehend': 2220, 'surprise': 2221, 'emergency': 2222, 'polluted': 2223, 'atmosphere': 2224, 'reached': 2225, 'international': 2226, 'trade': 2227, 'vital': 2228, 'economies': 2229, 'richest': 2230, 'bat': 2231, 'balls': 2232, 'protection': 2233, 'kindness': 2234, 'carefully': 2235, 'dropped': 2236, 'photograph': 2237, 'developed': 2238, 'arrange': 2239, 'motorbike': 2240, 'helmet': 2241, 'dirty': 2242, 'repairing': 2243, 'industry': 2244, 'majority': 2245, 'bill': 2246, 'aids': 2247, 'horrifyingly': 2248, 'parts': 2249, 'shower': 2250, 'drenched': 2251, 'skin': 2252, 'lakes': 2253, 'biwa': 2254, 'beforehand': 2255, 'maybe': 2256, 'unhappy': 2257, 'intend': 2258, 'kill': 2259, 'huge': 2260, 'snake': 2261, 'murdered': 2262, 'entrance': 2263, 'communicate': 2264, 'patience': 2265, 'succeeded': 2266, 'chain': 2267, 'bite': 2268, 'ventured': 2269, 'swallow': 2270, 'tablets': 2271, 'awake': 2272, 'taj': 2273, 'mahal': 2274, 'wonders': 2275, 'voyage': 2276, 'obtained': 2277, 'yield': 2278, 'percent': 2279, 'investment': 2280, 'pollute': 2281, 'conduct': 2282, 'columbus': 2283, 'argued': 2284, 'west': 2285, '1600s': 2286, 'introduced': 2287, 'barely': 2288, 'afford': 2289, 'essential': 2290, 'command': 2291, 'mumbai': 2292, 'indian': 2293, 'maharashtra': 2294, 'fishing': 2295, '100': 2296, 'intends': 2297, 'devote': 2298, 'curing': 2299, 'wear': 2300, 'greatest': 2301, 'economic': 2302, 'powers': 2303, 'fifteenth': 2304, 'calculation': 2305, 'although': 2306, 'twins': 2307, 'interests': 2308, 'paid': 2309, 'dues': 2310, 'deliberately': 2311, 'ignored': 2312, 'seeing': 2313, 'authorities': 2314, 'hiding': 2315, 'facts': 2316, 'public': 2317, 'opened': 2318, 'smelt': 2319, 'imitation': 2320, 'diamonds': 2321, 'sets': 2322, 'destination': 2323, 'blowing': 2324, 'horn': 2325, 'demanded': 2326, 'copies': 2327, 'sheep': 2328, 'field': 2329, 'higher': 2330, 'wars': 2331, 'fisherman': 2332, 'exaggerated': 2333, 'corruption': 2334, 'toes': 2335, 'sticking': 2336, 'cleaning': 2337, 'prepare': 2338, 'resembles': 2339, 'appearance': 2340, 'character': 2341, 'incident': 2342, 'electric': 2343, 'companies': 2344, 'seeking': 2345, 'staring': 2346, 'ceiling': 2347, 'handful': 2348, 'peanuts': 2349, 'firm': 2350, 'bankruptcy': 2351, 'below': 2352, 'access': 2353, 'acknowledgement': 2354, 'services': 2355, 'twin': 2356, 'girls': 2357, 'alike': 2358, 'practice': 2359, 'laying': 2360, 'thieves': 2361, 'drawers': 2362, 'search': 2363, \"driver's\": 2364, 'license': 2365, 'eighteen': 2366, 'catholic': 2367, 'nun': 2368, 'george': 2369, 'washington': 2370, 'unites': 2371, 'states': 2372, '1951': 2373, 'supermarket': 2374, 'daily': 2375, 'passengers': 2376, 'nearest': 2377, 'democracy': 2378, 'worst': 2379, 'form': 2380, 'kid': 2381, 'touching': 2382, 'bugs': 2383, 'bother': 2384, 'translation': 2385, 'translating': 2386, 'translations': 2387, 'influence': 2388}\n"
     ]
    }
   ],
   "source": [
    "word2idx_inputs = tokenizer_inputs.word_index\n",
    "print('Found %s unique input tokens.' %len(word2idx_inputs))\n",
    "print(word2idx_inputs)"
   ]
  },
  {
   "cell_type": "code",
   "execution_count": 64,
   "metadata": {},
   "outputs": [
    {
     "name": "stdout",
     "output_type": "stream",
     "text": [
      "max_len_input: 22\n"
     ]
    }
   ],
   "source": [
    "# Determine maximum length input sequence\n",
    "max_len_input = max(len(s) for s in input_sequences)\n",
    "\n",
    "print('max_len_input:', max_len_input)"
   ]
  },
  {
   "cell_type": "markdown",
   "metadata": {},
   "source": [
    "### Tokenize the output (Convert the sentences (string) into integers)"
   ]
  },
  {
   "cell_type": "code",
   "execution_count": 40,
   "metadata": {},
   "outputs": [],
   "source": [
    "# We don't filter out special characters, otherwise <eos> and <sos> won't appear.\n",
    "tokenizer_outputs = Tokenizer(num_words=MAX_NUM_WORDS)\n",
    "# This is an inefficient way as we are tokenizing it on the same data (target_texts and target_texts_input)\n",
    "# just offset by <sos> and <eos>\n",
    "tokenizer_outputs.fit_on_texts(target_texts + target_texts_inputs)\n",
    "\n",
    "target_sequences = tokenizer_outputs.texts_to_sequences(target_texts)\n",
    "target_sequences_input = tokenizer_outputs.texts_to_sequences(target_texts_inputs)"
   ]
  },
  {
   "cell_type": "markdown",
   "metadata": {},
   "source": [
    "### Word to integer mapping for output texts"
   ]
  },
  {
   "cell_type": "code",
   "execution_count": 52,
   "metadata": {},
   "outputs": [
    {
     "name": "stdout",
     "output_type": "stream",
     "text": [
      "Found 2992 unique output tokens.\n",
      "{'eos': 1, 'sos': 2, 'है।': 3, 'में': 4, 'नहीं': 5, 'मैं': 6, 'वह': 7, 'से': 8, 'के': 9, 'क्या': 10, 'मुझे': 11, 'है': 12, 'को': 13, 'हैं।': 14, 'की': 15, 'हो': 16, 'बहुत': 17, 'का': 18, 'एक': 19, 'पर': 20, 'उसने': 21, 'हूँ।': 22, 'तुम': 23, 'था।': 24, 'यह': 25, 'कर': 26, 'लिए': 27, 'मेरे': 28, 'कि': 29, 'और': 30, 'हैं': 31, 'इस': 32, 'उसे': 33, 'भी': 34, 'अपने': 35, 'मेरी': 36, 'मैंने': 37, 'रहा': 38, 'ने': 39, 'पास': 40, 'तो': 41, 'करने': 42, 'अपनी': 43, 'कल': 44, 'हम': 45, 'गया।': 46, 'ही': 47, 'काम': 48, 'कोई': 49, 'उसके': 50, 'तुम्हारे': 51, 'उसकी': 52, 'उस': 53, 'तुम्हें': 54, 'था': 55, 'साथ': 56, 'घर': 57, 'करना': 58, 'थी।': 59, 'समय': 60, 'मेरा': 61, 'गया': 62, 'सकते': 63, 'आप': 64, 'बात': 65, 'रही': 66, 'पता': 67, 'कुछ': 68, 'यहाँ': 69, 'आज': 70, 'अभी': 71, 'बजे': 72, 'तक': 73, 'तुम्हे': 74, 'उसको': 75, 'चाहिए।': 76, 'लगता': 77, 'किताब': 78, 'दिया।': 79, 'मुझसे': 80, 'पसंद': 81, 'अच्छा': 82, 'थे।': 83, 'कभी': 84, 'मत': 85, 'रहे': 86, 'आ': 87, 'सकता': 88, 'हूँ': 89, 'हुई': 90, 'अपना': 91, 'होता': 92, 'दो': 93, 'टॉम': 94, 'किया।': 95, 'भारत': 96, 'जाने': 97, 'करता': 98, 'वे': 99, 'न': 100, 'हो।': 101, 'पैसे': 102, 'गाड़ी': 103, 'उससे': 104, 'हुआ': 105, 'मदद': 106, 'करते': 107, 'हुए': 108, 'ज़्यादा': 109, 'साल': 110, 'होगा।': 111, 'कहाँ': 112, 'उसका': 113, 'जो': 114, 'पहले': 115, 'होती': 116, 'अंग्रेज़ी': 117, 'सारे': 118, 'जाना': 119, 'किया': 120, 'जा': 121, 'गए': 122, 'तुम्हारी': 123, 'आपको': 124, 'आदमी': 125, 'किसी': 126, 'कम': 127, 'देर': 128, 'गई।': 129, 'बार': 130, 'जब': 131, 'दिन': 132, 'अगर': 133, 'बाहर': 134, 'बड़ा': 135, 'वापस': 136, 'बारे': 137, 'हमारे': 138, 'जल्दी': 139, 'वहाँ': 140, 'सब': 141, 'खाना': 142, 'जाता': 143, 'बंद': 144, 'ये': 145, 'दिया': 146, 'फ़ोन': 147, 'कितने': 148, 'रात': 149, 'दी।': 150, 'तुमने': 151, 'तरह': 152, 'हमेशा': 153, 'हमने': 154, 'करो।': 155, 'सकता।': 156, 'लोग': 157, 'बच्चे': 158, 'चाहता': 159, 'दस': 160, 'छोड़': 161, 'बारिश': 162, 'लोगों': 163, 'ठीक': 164, 'जवाब': 165, 'तुमसे': 166, 'कैसे': 167, 'हर': 168, 'हमे': 169, 'उन्होंने': 170, 'स्कूल': 171, 'पापा': 172, 'आता': 173, 'चला': 174, 'खुश': 175, 'अब': 176, 'थे': 177, 'चल': 178, 'देखा।': 179, 'गए।': 180, 'क्यों': 181, 'तीन': 182, 'डॉक्टर': 183, 'खतम': 184, 'मौसम': 185, 'मुश्किल': 186, 'माँ': 187, 'शुरू': 188, 'पानी': 189, 'देखा': 190, 'अच्छी': 191, 'होने': 192, 'दो।': 193, 'करती': 194, 'हमारी': 195, 'पिता': 196, 'सारी': 197, 'ट्रेन': 198, 'सबसे': 199, 'कोशिश': 200, 'अच्छे': 201, 'कुत्ता': 202, 'गई': 203, 'कमरे': 204, 'दोस्त': 205, 'भाई': 206, 'लिया।': 207, 'थोड़ी': 208, 'करनी': 209, 'थोड़ा': 210, 'या': 211, 'चिट्ठी': 212, 'थक': 213, 'ले': 214, 'साफ़': 215, 'फिरसे': 216, 'बस': 217, 'तुम्हारा': 218, 'नहीं।': 219, 'रहता': 220, 'कब': 221, 'जल्द': 222, 'मन': 223, 'लड़की': 224, 'पाँच': 225, 'जाती': 226, 'चाहते': 227, 'देना': 228, 'बिना': 229, 'सुबह': 230, 'दोनो': 231, 'जन्मदिन': 232, 'यकीन': 233, 'वाला': 234, 'नौकरी': 235, 'टीवी': 236, 'बाद': 237, 'कहा': 238, 'छः': 239, 'करी।': 240, 'जापान': 241, 'माफ़': 242, 'प्यार': 243, 'सभी': 244, 'शहर': 245, 'आपकी': 246, 'पढ़': 247, 'आवाज़': 248, 'रोज़': 249, 'नाम': 250, 'पीछे': 251, 'जाएगा।': 252, 'लिया': 253, 'किताबें': 254, 'दरवाज़े': 255, 'सच': 256, 'हफ़्ते': 257, 'नदी': 258, 'चाय': 259, 'वाले': 260, 'चाहिए': 261, 'महीने': 262, 'खाने': 263, 'वजह': 264, 'सही': 265, 'चुका': 266, 'कौन': 267, 'आने': 268, 'ज़रूरत': 269, 'सोच': 270, 'मुझपर': 271, 'इनसान': 272, 'विदेश': 273, 'पूरी': 274, 'हाथ': 275, 'रहते': 276, 'जानता': 277, 'पिताजी': 278, 'बड़े': 279, 'हुआ।': 280, 'शादी': 281, 'टीचर': 282, 'कपड़े': 283, 'पिछले': 284, 'दे': 285, 'दूसरे': 286, 'होते': 287, 'कमरा': 288, 'देख': 289, 'आपके': 290, 'मेज़': 291, 'इन': 292, 'लगा': 293, 'आमतौर': 294, 'सिगरेट': 295, 'धीरे': 296, 'अगले': 297, 'बच्चों': 298, 'ग़लत': 299, 'कृपया': 300, 'थी': 301, 'चीज़': 302, 'तैयार': 303, 'उम्र': 304, 'लड़के': 305, 'मिलने': 306, 'इंतेज़ार': 307, 'इस्तेमाल': 308, 'चलाना': 309, 'खो': 310, 'मिलना': 311, 'होगा': 312, 'सेव': 313, 'मिला।': 314, 'इतना': 315, 'उनकी': 316, 'काफ़ी': 317, 'कितनी': 318, 'समझ': 319, 'फ़ायदा': 320, 'उनके': 321, 'अंदर': 322, 'जाओ।': 323, 'भूल': 324, 'आग': 325, 'लगी': 326, 'आया।': 327, 'लग': 328, 'हुई।': 329, 'करो': 330, 'बहन': 331, '।': 332, 'आसान': 333, 'जूते': 334, 'जहाँ': 335, 'स्टेशन': 336, 'लगभग': 337, 'आदत': 338, 'पीना': 339, 'ना': 340, 'आठ': 341, 'दोपहर': 342, 'दिनों': 343, 'क्योंकि': 344, 'दुनिया': 345, 'गाँव': 346, 'आपका': 347, 'कीजिए।': 348, 'कैसा': 349, 'कुत्ते': 350, 'पैसों': 351, 'आराम': 352, 'मज़ाक': 353, 'याद': 354, 'खुशी': 355, 'बन': 356, 'उन': 357, 'जैसा': 358, 'पड़ी।': 359, 'कितना': 360, 'हमें': 361, 'आए': 362, 'भरोसा': 363, 'घड़ी': 364, 'सकते।': 365, 'पुलिस': 366, 'होंगे।': 367, 'पार्टी': 368, 'कॉफ़ी': 369, 'सवाल': 370, 'अक्सर': 371, 'मिल': 372, 'सकती।': 373, 'खबर': 374, 'दवाई': 375, 'सो': 376, 'मम्मी': 377, 'लंदन': 378, 'साईकल': 379, 'फ़र्क': 380, 'लगती': 381, 'अकेले': 382, 'सलाह': 383, 'होगी।': 384, 'बता': 385, 'चलो': 386, 'तैरना': 387, 'आपसे': 388, 'करूँगा।': 389, 'भूख': 390, 'बीमार': 391, 'मौत': 392, 'देखने': 393, 'संगीत': 394, 'पढ़ाई': 395, 'शायद': 396, 'आया': 397, 'करी': 398, 'मुलाकात': 399, 'ग़लती': 400, 'चालू': 401, 'ली।': 402, 'विश्वास': 403, 'जितना': 404, 'लम्बा': 405, 'कीजिएगा': 406, 'लेना': 407, 'पेड़': 408, 'डब्बे': 409, 'जान': 410, 'बताया': 411, 'ख़याल': 412, 'पड़ेगी।': 413, 'रखना': 414, 'बाल': 415, 'ऐसी': 416, 'तेज़': 417, 'राजा': 418, 'उन्हें': 419, 'छोटी': 420, 'पुराने': 421, 'मर': 422, 'ढूँढ': 423, 'सैर': 424, 'चाह्ता': 425, 'सफ़र': 426, 'समस्या': 427, 'तस्वीर': 428, 'नई': 429, 'सका।': 430, 'बीच': 431, 'अचानक': 432, 'मानो': 433, 'दूर': 434, 'लिखी': 435, 'देने': 436, 'जाकर': 437, 'कहना': 438, 'बर्दाश्त': 439, 'अलग': 440, 'निकल': 441, 'तू': 442, 'दरवाज़ा': 443, 'इसे': 444, 'मछलियाँ': 445, 'हमारा': 446, 'बिस्तर': 447, 'पैर': 448, 'पतंग': 449, 'शोर': 450, 'फिर': 451, 'कहानी': 452, 'दर्द': 453, 'विद्यार्थी': 454, 'चोरी': 455, 'आँखें': 456, 'आएगा।': 457, 'सकती': 458, 'पैदा': 459, 'परिवार': 460, 'सुंदर': 461, 'आती': 462, 'करके': 463, 'बुरी': 464, 'गर्मी': 465, 'जाए।': 466, 'देखना': 467, 'आसमान': 468, 'लगाकर': 469, 'काट': 470, 'मिला': 471, 'रविवार': 472, 'बज': 473, 'दीजिए।': 474, 'रंग': 475, 'अफ़वाह': 476, 'नाप': 477, 'ज़िन्दगी': 478, 'जानवर': 479, 'भाग': 480, 'खाली': 481, 'सात': 482, 'देश': 483, 'आसानी': 484, 'काश': 485, 'डर': 486, 'चीनी': 487, 'टेनिस': 488, 'दोनों': 489, 'होमवर्क': 490, 'जंगल': 491, 'अध्यापक': 492, 'पीने': 493, 'हवा': 494, 'जाते': 495, 'आना': 496, 'खिड़की': 497, 'दुर्घटना': 498, 'फ़िल्म': 499, 'भूलना।': 500, 'ऐसा': 501, 'पूरे': 502, 'वादा': 503, 'इसके': 504, 'बजाय': 505, 'सड़क': 506, 'बोली': 507, 'बड़ी': 508, 'भाषा': 509, 'राजधानी': 510, 'रहना': 511, 'जैसे': 512, 'इतने': 513, 'ज़िम्मेदार': 514, 'अंतर': 515, 'बच्चा': 516, 'मशीन': 517, 'वैसा': 518, 'लगते': 519, 'आओ।': 520, 'लो।': 521, 'फूल': 522, 'खरीदना': 523, 'आऊँगा।': 524, 'गरम': 525, 'ज़रूरी': 526, 'आई': 527, 'सुनाई': 528, 'गिटार': 529, 'बिजली': 530, 'बारी': 531, 'रहें': 532, 'खराब': 533, 'सच्चाई': 534, 'जानते': 535, 'रहती': 536, 'किसने': 537, 'सा': 538, 'i': 539, 'छोटा': 540, 'जंग': 541, 'चुके': 542, 'कौनसा': 543, 'अमीर': 544, 'पड़ेगा।': 545, 'आओगे': 546, 'पढ़ना': 547, 'बना': 548, 'कामयाब': 549, 'सहमत': 550, 'पीठ': 551, 'फ़ैसला': 552, 'निराश': 553, 'चुकी': 554, 'अफ़सर': 555, 'गरीब': 556, 'हमको': 557, 'विज्ञान': 558, 'लम्बी': 559, 'झील': 560, 'पूरा': 561, 'चहिए।': 562, 'औरत': 563, 'जाऊँगा।': 564, 'साढ़े': 565, 'बजाना': 566, 'वाली': 567, 'अजीब': 568, 'ग़लतियाँ': 569, 'पहुँच': 570, 'बोल': 571, 'खेलना': 572, 'उसपर': 573, 'इससे': 574, 'सामने': 575, 'खड़े': 576, 'लगाया।': 577, 'बीमारी': 578, 'किस': 579, 'कनाडा': 580, 'सीखना': 581, 'डॉलर': 582, 'उठा': 583, 'दिलचस्पी': 584, 'बुराई': 585, 'क्लास': 586, 'दिलचस्प': 587, 'रुक': 588, 'केवल': 589, 'आखिरकार': 590, 'बोलना': 591, 'नम्बर': 592, 'सौ': 593, 'असली': 594, 'सुनकर': 595, 'जाएगी।': 596, 'शौक': 597, 'जहाज़': 598, 'रहने': 599, 'करोगे': 600, 'विषय': 601, 'जितनी': 602, 'चीन': 603, 'स्वास्थ्य': 604, 'पढ़ने': 605, 'पहाड़': 606, 'लिख': 607, 'पाया।': 608, 'अम्रीका': 609, 'देखभाल': 610, 'छोटे': 611, 'पा': 612, 'पहचान': 613, 'तब': 614, 'मज़े': 615, 'पेट': 616, 'चलें': 617, 'मत।': 618, 'खड़ा': 619, 'कैसी': 620, 'फ़्रानसीसी': 621, 'पता।': 622, 'बरफ़': 623, 'गिर': 624, 'मुफ़्त': 625, 'नीचे': 626, 'उड़': 627, 'लड़का': 628, 'कमी': 629, 'इतिहास': 630, 'रहूँगा।': 631, 'भगवान': 632, 'करता।': 633, 'बस्ता': 634, 'पहनी': 635, 'मूँह': 636, 'बक': 637, 'ऊपर': 638, 'लम्बे': 639, 'आस': 640, 'पड़ोस': 641, 'अप्रैल': 642, 'चाबी': 643, 'लगा।': 644, 'बैंक': 645, 'मिलेंगे।': 646, 'सवालों': 647, 'महसूस': 648, 'दिखने': 649, 'खरीदी।': 650, 'जीत': 651, 'चाहूँगा।': 652, 'रही।': 653, 'चिंता': 654, 'की।': 655, 'योजना': 656, 'खा': 657, 'मछली': 658, 'खुला': 659, 'ग्यारह': 660, 'लाल': 661, 'ड्रेस': 662, 'ओर': 663, 'राज़': 664, 'प्रस्ताव': 665, 'स्वीकार': 666, 'सारा': 667, 'आता।': 668, 'नफ़रत': 669, 'कहीं': 670, 'लगाई।': 671, 'परेशान': 672, 'आएगा': 673, 'भला': 674, 'गाना': 675, 'जापानी': 676, 'खुद': 677, 'बत्ती': 678, 'दूध': 679, 'मेहनत': 680, 'तरफ़': 681, 'सके': 682, 'दूँगा।': 683, 'कुरसी': 684, 'आई।': 685, 'डब्बा': 686, 'खोल': 687, 'संतुष्ट': 688, 'उपन्यास': 689, 'जी': 690, 'कप': 691, 'सोने': 692, 'सेहत': 693, 'पत्नी': 694, 'मिनट': 695, 'लेने': 696, 'टोक्यो': 697, 'हाँ': 698, 'कठिन': 699, 'अटैची': 700, 'रो': 701, 'पसंदीता': 702, 'बदलने': 703, 'मील': 704, 'बिलकुल': 705, 'मे': 706, 'शब्द': 707, 'वाक्य': 708, 'हिसाब': 709, 'घंटे': 710, 'यूरोप': 711, 'नियम': 712, 'पार': 713, 'सपना': 714, 'नगर': 715, 'होतीं': 716, 'दुकान': 717, 'हमसे': 718, 'आते': 719, 'चाहती': 720, 'टिकटें': 721, 'अमेरिका': 722, 'अफ़्रीका': 723, 'बेटे': 724, 'पकड़': 725, 'हद': 726, 'इसलिए': 727, 'रवाना': 728, 'इरादा': 729, 'जाऊँगी।': 730, 'लिखा': 731, 'बेहतर': 732, 'बहनें': 733, 'आजकल': 734, 'बेचैन': 735, 'ढूँढने': 736, 'विमान': 737, 'सुन': 738, 'पहली': 739, 'सामान': 740, 'पैरिस': 741, 'कई': 742, 'ख़रीद': 743, 'चोर': 744, 'दोस्तों': 745, 'रह': 746, 'मुताबिक': 747, 'क्रिकेट': 748, 'शौकिया': 749, 'खिलाड़ी': 750, 'कर्मचारियों': 751, 'ब्रिज': 752, 'देते': 753, 'सरकार': 754, 'अनुवाद': 755, 'परीक्षा': 756, 'वाह': 757, 'जाओ': 758, 'भर': 759, 'पंछी': 760, 'बोर': 761, 'ठंड': 762, 'मालूम': 763, 'गाते': 764, 'बैठिए।': 765, 'नया': 766, 'केक': 767, 'मुबारक': 768, 'समझता': 769, 'मान': 770, 'व्यस्थ': 771, 'बिल्ली': 772, 'सकतीं': 773, 'नक्शा': 774, 'गोली': 775, 'नए': 776, 'धोओ।': 777, 'पागल': 778, 'टोपी': 779, 'पति': 780, 'उल्टी': 781, 'नसीब': 782, 'रोना': 783, 'सिखा': 784, 'चावल': 785, 'बोलता': 786, 'कौनसी': 787, 'नीली': 788, 'शादीशुदा': 789, 'रेडियो': 790, 'वो': 791, 'महंगा': 792, 'महंगी': 793, 'रेलगाड़ी': 794, 'कौआ': 795, 'तोड़': 796, 'बनाया': 797, 'पुरानी': 798, 'बताने': 799, 'शराब': 800, 'बेसबॉल': 801, 'लिखना': 802, 'कमीज़': 803, 'टैक्स': 804, 'पेनसिल': 805, 'बोलते': 806, 'समुंदर': 807, 'कामयाबी': 808, 'गुस्सा': 809, 'उधार': 810, 'होना': 811, 'प्रतीक्षा': 812, 'ज़ुकाम': 813, 'पहने': 814, 'भूत': 815, 'लगतीं': 816, 'तेज़ी': 817, 'जाओगे': 818, 'रख': 819, 'अंडे': 820, 'व्यापार': 821, 'थोड़े': 822, 'घोड़े': 823, 'उनका': 824, 'छलाँग': 825, 'इसको': 826, 'गेंद': 827, 'बैठ': 828, 'बताओ': 829, 'छूट': 830, 'उनको': 831, 'जैसी': 832, 'बोलो।': 833, 'लेता': 834, 'खटखटाया।': 835, 'डाला।': 836, 'बुखार': 837, 'उठता': 838, 'नौ': 839, 'ठंडा': 840, 'पियानो': 841, 'तेल': 842, 'उतना': 843, 'निर्णय': 844, 'फ़ुटबॉल': 845, 'इलज़ाम': 846, 'गिलास': 847, 'बजने': 848, 'लकड़ी': 849, 'चार': 850, 'कैंसर': 851, 'मुलाक़ात': 852, 'टैक्सी': 853, 'ध्यान': 854, 'इनकार': 855, 'कीमत': 856, 'किनारे': 857, 'सज़ा': 858, 'गाड़ियाँ': 859, 'दिखाई': 860, 'होती।': 861, 'मुसीबत': 862, 'देखकर': 863, 'छाया': 864, 'धन्यवाद।': 865, 'बनी': 866, 'रोने': 867, 'पड़ा।': 868, 'बीस': 869, 'रक्षा': 870, 'जगह': 871, 'होगी': 872, 'फूलों': 873, 'खाते': 874, 'छोड़ने': 875, 'पड़ता।': 876, 'समान': 877, 'बॉस': 878, 'सर': 879, 'चोट': 880, 'दोगे': 881, 'अगली': 882, 'बर्ताव': 883, 'ओसाका': 884, 'बर्बादी': 885, 'धीमी': 886, 'बचा': 887, 'लिए।': 888, 'मना': 889, 'खेलने': 890, 'चाहेंगे': 891, 'दफ़्तर': 892, 'सुथरा': 893, 'भाषण': 894, 'खेल': 895, 'खूबसूरत': 896, 'नतीजे': 897, 'खेत': 898, 'नानी': 899, 'सीधे': 900, 'इटली': 901, 'अलावा': 902, 'जनसंख्या': 903, 'सी': 904, 'चीज़ें': 905, 'मक्खन': 906, 'उठाया।': 907, 'सोमवार': 908, 'घंटों': 909, 'जाता।': 910, 'सपने': 911, 'डाक': 912, 'मानते': 913, 'उनसे': 914, 'सोते': 915, 'पत्र': 916, 'खड़ी': 917, 'तुमको': 918, 'कविता': 919, 'निकालते': 920, 'छत': 921, 'रहा।': 922, 'सूरज': 923, 'बातचीत': 924, 'विश्व': 925, 'कब्रिस्तान': 926, 'स्टॉप': 927, 'ऐसे': 928, 'देता': 929, 'जल्दबाज़ी': 930, 'अखबार': 931, 'पालन': 932, 'रूप': 933, 'उत्तर': 934, 'कहा।': 935, 'शर्म': 936, 'पचास': 937, 'तस्वीरें': 938, 'अस्पताल': 939, 'कम्प्यूटर': 940, 'इतनी': 941, 'दिल्ली': 942, 'मीटिंग': 943, 'चलती': 944, 'उठते': 945, 'वसीयत': 946, 'जानना': 947, 'हैरान': 948, 'जेब': 949, 'पकड़ा': 950, 'मौके': 951, 'बुलाया': 952, 'कम्पनी': 953, 'कॉलेज': 954, 'जाया': 955, 'चाहे': 956, 'जाए': 957, 'लायक': 958, 'देगी।': 959, 'कहने': 960, 'पाया': 961, 'राज़ी': 962, 'बत्तियाँ': 963, 'पहचानता': 964, 'इंग्लैंड': 965, 'बूढ़ा': 966, 'थीं।': 967, 'जिसे': 968, 'दिख': 969, 'रास्ते': 970, 'पुस्तकालय': 971, 'माता': 972, 'जिससे': 973, 'सोचता': 974, 'पड़ता': 975, 'टेरेसा': 976, 'समझे': 977, 'करना।': 978, 'मौज': 979, 'बेहोश': 980, 'शाबाश': 981, 'किसको': 982, 'किसे': 983, 'पीछा': 984, 'तैर': 985, 'ताकतवर': 986, 'गणित': 987, 'जाना।': 988, 'हार': 989, 'खोलो।': 990, 'आईए।': 991, 'दोबारा': 992, 'दाढ़ी': 993, 'हों': 994, 'चुकीं': 995, 'करेंगे।': 996, 'आना।': 997, 'भागते': 998, 'अरबी': 999, 'बदतमीज़': 1000, 'दौड़ने': 1001, 'काला': 1002, 'कैफ़े': 1003, 'आसपास': 1004, 'हसीना': 1005, 'चिड़ियाँ': 1006, 'चढ़': 1007, 'आओ': 1008, 'बैठो।': 1009, 'लो': 1010, 'जानता।': 1011, 'मिलकर': 1012, 'हस्ताक्षर': 1013, 'धोखा': 1014, 'चिड़िया': 1015, 'किसकी': 1016, 'पक्षी': 1017, 'घोसले': 1018, 'रहेंगे।': 1019, 'नींद': 1020, 'सिरदर्द': 1021, 'बताओ।': 1022, 'समुद्र': 1023, 'तट': 1024, 'कहां': 1025, 'उम्मीद': 1026, 'छोड़ो।': 1027, 'पत्थर': 1028, 'गहरी': 1029, 'साँस': 1030, 'रोया।': 1031, 'मानता': 1032, 'सुनी।': 1033, 'औरतों': 1034, 'रातभर': 1035, 'मुस्कुराया।': 1036, 'चली': 1037, 'सच्ची': 1038, 'गुलदान': 1039, 'कलम': 1040, 'जिमखाने': 1041, 'हालत': 1042, 'स्वाद': 1043, 'समझा': 1044, 'टिकट': 1045, 'खींची।': 1046, 'हरे': 1047, 'वही': 1048, 'हवाई': 1049, 'रहतीं': 1050, 'नाराज़': 1051, 'दीं।': 1052, 'बहाना': 1053, 'तुमपर': 1054, 'लिपटा': 1055, 'रेशम': 1056, 'टूटी': 1057, 'साबित': 1058, 'मोटी': 1059, 'घंटी': 1060, 'पैसा': 1061, 'निशाना': 1062, 'बरस': 1063, 'आभारी': 1064, 'बॉस्टन': 1065, 'दौड़': 1066, 'बेटी': 1067, 'समझो।': 1068, 'सूज': 1069, 'अकेला': 1070, 'डालना': 1071, 'रखदो।': 1072, 'घुसाना': 1073, 'घुसा': 1074, 'मांगी।': 1075, 'ज़िद्दी': 1076, 'चलना': 1077, 'लिफ़्ट': 1078, 'आएँगे': 1079, 'कान': 1080, 'माँगो।': 1081, 'मजबूर': 1082, 'चुरा': 1083, 'भौतिक': 1084, 'दिलाया।': 1085, 'सोकर': 1086, 'अनुपस्थित': 1087, 'काले': 1088, 'पहनती': 1089, 'नर्म': 1090, 'दिल': 1091, 'समाप्त': 1092, 'मुड़कर': 1093, 'करती।': 1094, 'शेर': 1095, 'पालतू': 1096, 'छूने': 1097, 'जाएँगे': 1098, 'याददाश्त': 1099, 'कुरसियाँ': 1100, 'मंगलवार': 1101, 'पासपोर्ट': 1102, 'पार्क': 1103, 'लगाया': 1104, 'बारह': 1105, 'दर्जन': 1106, 'सफ़ेद': 1107, 'हुएँ': 1108, 'लागु': 1109, 'कर्ज़': 1110, 'सुन्दर': 1111, 'मोड़ो।': 1112, 'जरूरी': 1113, 'छुट्टी': 1114, 'बगीचा': 1115, 'शौकीन': 1116, 'बंदूक': 1117, 'कत्ल': 1118, 'होता।': 1119, 'यहां': 1120, 'किलो': 1121, 'समझाउँगा।': 1122, 'पढ़ा': 1123, 'लोहा': 1124, 'बाप': 1125, 'रास्ता': 1126, 'आयात': 1127, 'जाएँगे।': 1128, 'कौनसे': 1129, 'पढ़ते': 1130, 'गिरफ़्तार': 1131, 'परियों': 1132, 'पड़ोसियों': 1133, 'डरता': 1134, 'जल': 1135, 'दी': 1136, 'आँखों': 1137, 'खरीदी': 1138, 'खाता': 1139, 'हाल': 1140, 'बेच': 1141, 'मैनेजर': 1142, 'चाह्ती': 1143, 'तौलिया': 1144, 'चुकें': 1145, 'मिलते': 1146, 'पूछ': 1147, 'बीवी': 1148, 'दिखाई।': 1149, 'सांप': 1150, 'तोहफ़े': 1151, 'पाएगा।': 1152, 'छा': 1153, 'क़ैदी': 1154, 'रिहा': 1155, 'स्वतंत्रता': 1156, 'दुःखी': 1157, 'तालाब': 1158, 'कोयले': 1159, 'आकर': 1160, 'ग्रीक': 1161, 'माँगे।': 1162, 'सगाई': 1163, 'कभार': 1164, 'क्योटो': 1165, 'राय': 1166, 'बेकार': 1167, 'मुकाबले': 1168, 'खरीदीं।': 1169, 'मर्ज़ी': 1170, 'ज़िन्दा': 1171, 'मज़ेदार': 1172, 'मुसलाधार': 1173, 'वर्षा': 1174, 'मशहूर': 1175, 'हँस': 1176, 'कीचड़': 1177, 'रखा': 1178, 'हँसे।': 1179, 'मनाया।': 1180, 'उम्मीदवार': 1181, 'अभिमान': 1182, 'सुनते': 1183, 'शिकायत': 1184, 'गलत': 1185, 'हित': 1186, 'शोक': 1187, 'अच्छाई': 1188, 'फ़्रान्स': 1189, 'पश्चिमी': 1190, 'समझाया।': 1191, 'खेलता': 1192, 'जर्मन': 1193, 'पढ़ी': 1194, 'अगस्त': 1195, 'चलने': 1196, 'सन': 1197, 'मेक्सिको': 1198, 'स्पैनिश': 1199, 'अरब': 1200, 'येन': 1201, 'सरासर': 1202, 'हिला': 1203, 'देखो': 1204, 'धूम्रपान': 1205, 'खतरे': 1206, 'शांति': 1207, 'रहो।': 1208, 'हीरा': 1209, 'दाँतों': 1210, 'शब्दों': 1211, 'अंग्रेजी': 1212, 'गुलाब': 1213, 'बनने': 1214, 'बदबू': 1215, 'करतें': 1216, 'हिरण': 1217, 'बताया।': 1218, 'बहस': 1219, 'करें।': 1220, 'रोम': 1221, 'बंदर': 1222, 'आबादी': 1223, 'बढ़': 1224, 'उतर': 1225, 'घटना': 1226, 'बुलाना': 1227, 'चहिए': 1228, 'बैठा': 1229, 'ब्रेड': 1230, 'तो।': 1231, 'नहीँ': 1232, 'नहाता': 1233, 'फँस': 1234, 'चूर': 1235, 'भविष्य': 1236, 'चौंक': 1237, 'होनी': 1238, 'पूछने': 1239, 'कारोबार': 1240, 'पड़': 1241, 'खतरनाक': 1242, 'मतलब': 1243, 'बाज़ी': 1244, 'वैसे': 1245, 'व्यक्ति': 1246, 'उतार': 1247, 'लेट': 1248, 'शानदार': 1249, 'भोजन': 1250, 'ली': 1251, 'धूल': 1252, 'जारी': 1253, 'निकले।': 1254, 'नज़र': 1255, 'करेगी': 1256, 'लेखक': 1257, 'माँगनी': 1258, 'लेनी': 1259, 'सम्मान': 1260, 'ख़त्म': 1261, 'ताज़ी': 1262, 'सब्ज़ियाँ': 1263, 'बरी': 1264, 'किसान': 1265, 'लगाए': 1266, 'आशा': 1267, 'भारी': 1268, 'मुझको': 1269, 'बुरे': 1270, 'देखते': 1271, 'निकली।': 1272, 'हल्के': 1273, 'डूबते': 1274, 'ऊँचा': 1275, 'नियमों': 1276, 'चलतें': 1277, 'कंजूस': 1278, 'मारा': 1279, 'होकर': 1280, 'आलसी': 1281, 'कॉल': 1282, 'करवाया।': 1283, 'मंदिरों': 1284, 'कष्ट': 1285, 'डाँट': 1286, 'जचती': 1287, 'होगे': 1288, 'गप': 1289, 'देनी': 1290, 'उपयोग': 1291, 'कार्यक्रम': 1292, 'हाथी': 1293, 'दुख': 1294, 'छिपा': 1295, 'भाषाएँ': 1296, 'बनना': 1297, 'तैरकर': 1298, 'नाज़': 1299, 'टाईम': 1300, 'उड़ान': 1301, 'हुईं': 1302, 'सीखने': 1303, 'गति': 1304, 'नाश्ता': 1305, 'फ़िल्में': 1306, 'तोड़ी': 1307, 'पक्का': 1308, 'जीना': 1309, 'गलतियों': 1310, 'खाया।': 1311, 'जायदाद': 1312, 'बाज़ार': 1313, 'लगता।': 1314, 'बयान': 1315, 'शक': 1316, 'सीखी': 1317, 'आर्ट': 1318, 'पंख': 1319, 'निर्भर': 1320, 'तैयारी': 1321, 'लेना।': 1322, 'पढ़ाना': 1323, 'तूफ़ान': 1324, 'नष्ट': 1325, 'प्रश्न': 1326, 'उन्हे': 1327, 'जानने': 1328, 'होंगीं': 1329, 'छोड़ना': 1330, 'सालों': 1331, 'शतक': 1332, 'बच्चें': 1333, 'कह': 1334, 'टॉयलेट': 1335, 'सोचा': 1336, 'जाओगे।': 1337, 'दादी': 1338, 'शिक़ायत': 1339, 'बेटा': 1340, 'सितारे': 1341, 'सलह': 1342, 'क़ानून': 1343, 'पत्तियों': 1344, 'पाए।': 1345, 'सुनने': 1346, 'रखा।': 1347, 'मिलेगा।': 1348, 'वाक्यों': 1349, 'मौका': 1350, 'पड़ी': 1351, 'दिमाग़': 1352, 'नकल': 1353, 'पछतावा': 1354, 'शिक्षा': 1355, 'महीनों': 1356, 'सीख': 1357, 'शब्दकोश': 1358, 'बसीं।': 1359, 'पाल': 1360, 'पोस': 1361, 'उलटी': 1362, 'हिचकिचाहट': 1363, 'बनाने': 1364, 'आईएगा।': 1365, 'हफ़्तों': 1366, 'गुड़िया': 1367, 'बोलने': 1368, 'रहीं': 1369, 'एकदम': 1370, 'भाषाओं': 1371, 'पर्यावरण': 1372, 'आम': 1373, 'कहावत': 1374, 'क्लब': 1375, 'न्योता': 1376, 'डाल': 1377, 'चिट्ठियाँ': 1378, 'पहलू': 1379, 'मिलती': 1380, 'हिरासत': 1381, 'समझने': 1382, 'आगे': 1383, 'भूकम्प': 1384, 'उतारे': 1385, 'लगादी।': 1386, 'अंत': 1387, 'भूलूँगा।': 1388, 'मिली।': 1389, 'ख़रीदो': 1390, 'एसी': 1391, 'म्युज़ियम': 1392, 'उठाने': 1393, 'ही।': 1394, 'इलाज': 1395, 'कीमती': 1396, 'संपत्ति': 1397, 'विदेशी': 1398, 'चाह्ते': 1399, 'जाएगा': 1400, 'बातें': 1401, 'ऐक्सीडेंट': 1402, 'लापरवाही': 1403, 'चुराने': 1404, 'निराशा': 1405, 'इंग्लैड': 1406, 'रोकने': 1407, 'उठना': 1408, 'पहुँचना': 1409, 'नामुमकिन': 1410, 'खर्च': 1411, 'बदल': 1412, 'टेस्ट': 1413, 'खिलाफ़': 1414, 'पर्वत': 1415, 'छोड़े': 1416, 'खोलते': 1417, 'ग़लतफ़ैमी': 1418, 'सम्पर्क': 1419, 'हस्पताल': 1420, 'पहुँचा': 1421, 'जिसके': 1422, 'उनपर': 1423, 'हज़ारों': 1424, 'आज़ादी': 1425, 'हड़ताल': 1426, 'परसों': 1427, 'भेजा': 1428, 'सत्रह': 1429, 'दुखी': 1430, 'खयाल': 1431, 'मिले': 1432, 'विष्व': 1433, 'शहरों': 1434, 'करेंगे': 1435, 'जाएं।': 1436, 'हिफ़ाज़त': 1437, 'उतारने': 1438, 'मतलबी': 1439, 'बढ़ाने': 1440, 'समिति': 1441, 'तर': 1442, 'तहकीकात': 1443, 'राज्य': 1444, 'मातापिता': 1445, 'बाकी': 1446, 'हालांकि': 1447, 'जिसपर': 1448, 'जुड़वा': 1449, 'उनमें': 1450, 'लगेंगे।': 1451, 'पहचानते': 1452, 'मदर': 1453, 'कलकत्ता': 1454, 'बचाओ': 1455, 'उछलो': 1456, 'कूदो': 1457, 'छलांग': 1458, 'नमस्ते।': 1459, 'नमस्कार।': 1460, 'चियर्स': 1461, 'बढ़िया': 1462, 'चले': 1463, 'ख़ुदा': 1464, 'हाफ़िज़।': 1465, 'उत्तम': 1466, 'स्वागत': 1467, 'स्वागतम्।': 1468, 'दूंगा।': 1469, 'उड़ते': 1470, 'ख़ूब': 1471, 'खेद': 1472, 'लेकिन': 1473, 'हँसा।': 1474, 'दीवालिया': 1475, 'अद्भुत': 1476, 'निश्चित': 1477, 'हिलो': 1478, 'जलाती': 1479, 'भेजो।': 1480, 'अंगर': 1481, 'बार।': 1482, 'चिल्लाओ': 1483, 'चिल्लाईए': 1484, 'आऊंगा।': 1485, 'एसटर': 1486, 'हिल': 1487, 'मालूम।': 1488, 'मरा': 1489, 'जाईये।': 1490, 'अविश्वसनीय': 1491, 'मोटे': 1492, 'पीकर': 1493, 'करदो।': 1494, 'खिलते': 1495, 'लेलूँगा।': 1496, 'दिखाओ।': 1497, 'ट्राए': 1498, 'खोलिए।': 1499, 'पढ़ें।': 1500, 'पढ़के': 1501, 'सुनाओ।': 1502, 'झुकी।': 1503, 'सहायता': 1504, 'छूना': 1505, 'निकलो': 1506, 'नव': 1507, 'वर्ष': 1508, 'शुभकामनाएं': 1509, 'बधाईयाँ।': 1510, 'अभिनेता': 1511, 'अनीश्वरवादी': 1512, 'चाल': 1513, 'जाने।': 1514, 'गर्मियाँ': 1515, 'बुलाएँगे।': 1516, 'थके': 1517, 'हारे': 1518, 'पे': 1519, 'आजाओ।': 1520, 'सको': 1521, 'बधाई': 1522, 'बनो।': 1523, 'पकाया।': 1524, 'हमला': 1525, 'रसोइया': 1526, 'बावर्ची': 1527, 'उड़ाएँ': 1528, 'खोलो': 1529, 'बोलती': 1530, 'गलती': 1531, 'डरा': 1532, 'आलूओं': 1533, 'काटो।': 1534, 'बनाओ।': 1535, 'मचाओ।': 1536, 'संत्रे': 1537, 'नारंगी': 1538, 'बस्ता।': 1539, 'प्यास': 1540, 'मै': 1541, 'शराबख़ाना': 1542, 'आँखे': 1543, 'बनातें': 1544, 'बनातीं': 1545, 'थें': 1546, 'धोका': 1547, 'चिल्लाने': 1548, 'नौकरानी': 1549, 'रखता': 1550, 'पड़ा': 1551, 'देशद्रोही': 1552, 'जाचुका': 1553, 'रोई।': 1554, 'सिर': 1555, 'सुनता': 1556, 'दौड़ते': 1557, 'सच्चा': 1558, 'गईं': 1559, 'गाने': 1560, 'लगी।': 1561, 'पृथ्वी': 1562, 'घूमती': 1563, 'प्रयत्न': 1564, 'खुशखबर': 1565, 'सुख': 1566, 'पाय': 1567, 'बनाई': 1568, 'हाँ।': 1569, 'बिज़ी': 1570, 'सोये': 1571, 'फेंको।': 1572, 'तेरी': 1573, 'अकल': 1574, 'घास': 1575, 'चरने': 1576, 'करीं।': 1577, 'रोया': 1578, 'साधा': 1579, 'ज़रूर': 1580, 'चचेरा': 1581, 'ममेरा': 1582, '१९६०': 1583, '१९७९': 1584, 'देखता': 1585, 'दिखता': 1586, 'गिरनी': 1587, 'गो': 1588, 'मजेदार': 1589, 'संभालने': 1590, 'चलते': 1591, 'टोयोटा': 1592, 'उछल': 1593, 'चिढ़': 1594, 'बॅटर': 1595, 'आऊट': 1596, 'ख़िलाफ़': 1597, 'युद्ध': 1598, 'विरोध': 1599, 'स्केटिंग': 1600, 'मज़ा': 1601, 'कद्दू': 1602, 'टेक्सी': 1603, 'बुलवाई।': 1604, 'अकेलापन': 1605, 'थका': 1606, 'हारा': 1607, 'पढ़': 1608, 'गाता': 1609, 'पूछना': 1610, 'जोखिम': 1611, 'खाया': 1612, 'लाता': 1613, 'लाऊँगा।': 1614, 'खेलतें': 1615, 'स्याही': 1616, 'बाघ': 1617, 'जिसकी': 1618, 'ज़बान': 1619, 'सम्भाल': 1620, 'भरना': 1621, 'अड्डा': 1622, 'सर्दी': 1623, 'क्षमा': 1624, 'बचाली।': 1625, 'जलन': 1626, 'अजनबी': 1627, 'आपत्ती': 1628, 'तकलीफ': 1629, 'ऊँगली': 1630, 'बेहोशी': 1631, 'तौर': 1632, 'समझकर': 1633, 'बोला': 1634, 'एलर्जी': 1635, 'चश्मा': 1636, 'चश्मे': 1637, 'लेजाने': 1638, 'लिंकन': 1639, '१८६५': 1640, 'ख़ासियत': 1641, 'चादरें': 1642, 'गीलीं': 1643, 'पाइप': 1644, 'फट': 1645, 'मेरीं': 1646, 'ज़ू': 1647, 'बीतता': 1648, 'वार': 1649, 'इसमें': 1650, 'लौट': 1651, 'मोटा': 1652, 'कैमरा': 1653, 'मुर्गियाँ': 1654, 'देतीं': 1655, 'पुलिसवाला': 1656, 'सीड़ियों': 1657, 'फ़र्निचर': 1658, 'पैसेवाला': 1659, 'साठ': 1660, 'प्रतियोगिता': 1661, 'लिखता': 1662, 'ढंग': 1663, 'डुबकी': 1664, 'नौकर': 1665, 'जीव': 1666, 'हड़बड़ी': 1667, 'कोरिया': 1668, 'मैरी': 1669, 'मई': 1670, 'आँख': 1671, 'फेंकिए।': 1672, 'डालदो।': 1673, 'नन्हा': 1674, 'खिलौना': 1675, 'खरीद': 1676, 'लाई।': 1677, 'जी।': 1678, 'छोड़दी।': 1679, 'उड़ाया।': 1680, 'चिल्लाया।': 1681, 'बकवास': 1682, 'वैसी': 1683, 'भरनी।': 1684, 'बोओगे': 1685, 'काटोगे।': 1686, 'पाओ।': 1687, 'भला।': 1688, 'भरना।': 1689, 'लोमड़ी': 1690, 'जंगली': 1691, 'खरगोश': 1692, 'उड़ाओ।': 1693, 'थप्पड़': 1694, 'शुरु': 1695, 'जीतीं': 1696, 'कमा': 1697, 'बेटियाँ': 1698, 'सीखा।': 1699, 'फाड़': 1700, 'दया': 1701, 'पिंजरा': 1702, 'गस्सा': 1703, 'निकाला': 1704, 'ब्लडी': 1705, 'हवाईअड्डे': 1706, 'रखो': 1707, 'गुड़गुड़ा': 1708, 'न्यू': 1709, 'यॉर्क': 1710, 'छूटता': 1711, 'सफ़ाई': 1712, 'करूँ': 1713, 'जानती': 1714, 'पैसेवाली': 1715, 'पैसेवाले': 1716, 'दिखाया।': 1717, 'पकाया': 1718, 'पका': 1719, 'गेट': 1720, 'चाकू': 1721, 'अच्छा।': 1722, 'प्रसन्न': 1723, 'पतली': 1724, 'इंजन': 1725, 'बैठते': 1726, 'तम्हे': 1727, 'खुलता': 1728, 'तापमान': 1729, 'हकला': 1730, 'रोकना': 1731, 'देखतें': 1732, 'बूंद': 1733, 'पियो।': 1734, 'भूलना': 1735, 'ग्लास': 1736, 'रेत': 1737, 'पायी।': 1738, 'उठा।': 1739, 'सूप': 1740, 'सूँघ': 1741, 'घमण्डी': 1742, 'अहंकारी': 1743, 'अभिमानी': 1744, 'दंत': 1745, 'चिकित्सक': 1746, 'चाहूँगी।': 1747, 'तोहफ़ा': 1748, 'बीयर': 1749, 'यही': 1750, 'टांगें': 1751, 'लम्बीं': 1752, 'लेआऊँ': 1753, 'खरीदे।': 1754, 'उदाहरण': 1755, 'कोईसा': 1756, 'अनाथ': 1757, 'गोद': 1758, 'आमने': 1759, 'हुए।': 1760, 'डरते': 1761, 'इसीलिए': 1762, 'गोल': 1763, 'जीतेंगे।': 1764, 'डालते': 1765, 'किसलिए': 1766, 'राष्ट्रीयता': 1767, 'ज़बरदस्त': 1768, 'करदोगे': 1769, 'फैलती': 1770, 'बनता': 1771, 'चुनो।': 1772, 'ऐमब्यूलेंस': 1773, 'साथतानी': 1774, 'तीस': 1775, 'लिफ़ाफ़े': 1776, 'काटकर': 1777, 'मरा।': 1778, 'सुनेगा।': 1779, 'बैठिये।': 1780, 'आधा': 1781, 'किजिए': 1782, 'बगैर': 1783, 'सहन': 1784, 'जैकेट': 1785, 'मेट्रो': 1786, 'लेकर': 1787, 'पी।': 1788, 'खटखटाने': 1789, 'खाँसी': 1790, 'नहाने': 1791, 'पहला': 1792, 'पृष्ठ': 1793, 'सख्त': 1794, 'तेरा': 1795, 'बतादेना।': 1796, 'बसे।': 1797, 'ठहरिए।': 1798, 'रोते': 1799, 'करदिआ।': 1800, 'नब्ज़': 1801, 'मिले।': 1802, 'शामिल': 1803, 'पतला': 1804, 'बहादुरी': 1805, 'लाईन': 1806, 'लगकर': 1807, 'a': 1808, 'b': 1809, 'पाँचगुना': 1810, 'सस्ते': 1811, 'बिक': 1812, 'पुलीस': 1813, 'अमरीका': 1814, 'ज़ोर': 1815, 'हिचकिचाया।': 1816, 'सबका': 1817, 'उड़ाता': 1818, 'बजाता': 1819, 'सिखाया।': 1820, 'चश्मदीद': 1821, 'गवाह': 1822, 'कोटे': 1823, 'पहुंच': 1824, 'कटोरियाँ': 1825, 'झलक': 1826, 'फ़ेसबुक': 1827, 'नाई': 1828, 'मरने': 1829, 'पल्ले': 1830, 'पड़ती।': 1831, 'लाती': 1832, 'छाँओं': 1833, 'जोड़ना': 1834, 'चंद': 1835, 'दाहिना': 1836, 'बिल्लियों': 1837, 'दूसरों': 1838, 'ग़ायब': 1839, 'स्मॉग': 1840, 'पौधों': 1841, 'ज़हरीले': 1842, 'दुश्मन': 1843, 'धुंध': 1844, 'ताकत': 1845, 'दुरुपयोग': 1846, 'सेब': 1847, 'दिवस': 1848, 'रोक': 1849, 'बसे': 1850, 'पोत': 1851, 'टहलें।': 1852, 'नसीबवाला': 1853, 'करवाना': 1854, 'बनाओगे': 1855, 'आपत्ति': 1856, 'तुरंत': 1857, 'मिलना।': 1858, 'अपौइंटमेंट': 1859, 'क्वाला': 1860, 'कहता': 1861, 'ईमानदारी': 1862, 'सर्वोत्तम': 1863, 'नीति': 1864, 'कहे': 1865, 'पेनसिलें': 1866, 'चलता': 1867, 'कहें': 1868, 'पढ़ूँ।': 1869, 'अस्वीकार': 1870, 'जॉन': 1871, 'बैठा।': 1872, '४': 1873, 'जून': 1874, '१९७४': 1875, 'निकम्मा': 1876, 'बूढ़े': 1877, 'तलाश': 1878, 'चूहा': 1879, 'बुआ': 1880, 'लाईं।': 1881, 'कहेंगे।': 1882, 'खिलाना': 1883, 'लेटी': 1884, 'खेलती': 1885, 'रखना।': 1886, 'सुझाव': 1887, 'दुल्हन': 1888, 'मारा।': 1889, 'कड़वा': 1890, 'जूतों': 1891, 'रोमांचक': 1892, 'पेंट': 1893, 'सूखा': 1894, 'बरसात': 1895, 'पिया': 1896, 'ऋतु': 1897, 'करदो': 1898, 'प्लीज़।': 1899, 'निभाना': 1900, 'चुना।': 1901, 'सम्पूर्ण': 1902, 'चाहिएं।': 1903, 'पहुँचाई।': 1904, 'औरडर': 1905, 'ब्रॅड': 1906, 'चौबीस': 1907, 'लाना।': 1908, 'उड़ना': 1909, 'कोक': 1910, 'सांस': 1911, 'पाता': 1912, 'क़ब्र': 1913, 'खोद': 1914, 'बोला।': 1915, 'ग़ुलाम': 1916, 'वहां': 1917, 'इक्कीस': 1918, 'रहेंगे': 1919, 'निकला': 1920, 'मेने': 1921, 'दिए।': 1922, 'सायकल': 1923, 'जन्म': 1924, '१९७७': 1925, 'उपयोगी': 1926, 'धातु': 1927, 'तकरीबन': 1928, 'होंगे': 1929, 'खर्चे': 1930, 'स्पा': 1931, 'जीन्स': 1932, 'पैंट': 1933, 'धुलाई': 1934, 'सिकुड़': 1935, 'इच्छा': 1936, 'प्रकट': 1937, 'हल्की': 1938, 'आमंत्रण': 1939, 'पर्स': 1940, 'बालों': 1941, 'जूड़े': 1942, 'बाँधती': 1943, 'सिपाहियों': 1944, 'मोज़े': 1945, 'उतारिए।': 1946, 'जलकर': 1947, 'राख': 1948, 'साहब': 1949, 'दूरी': 1950, 'जापानियों': 1951, 'कालीं': 1952, 'तम्बाकू': 1953, 'महक': 1954, 'खुली': 1955, 'मकान': 1956, 'लेते': 1957, 'डालकर': 1958, 'पीते': 1959, 'पड़ोसी': 1960, 'दक्षिण': 1961, 'टर्मिनल': 1962, 'बैठना': 1963, 'ब्रश': 1964, 'रेखांकित': 1965, 'सुधारिए।': 1966, 'बचीं': 1967, 'दीवार': 1968, 'झुँको।': 1969, 'आपने': 1970, 'खिल': 1971, 'बदला': 1972, 'जीने': 1973, 'कैनटीन': 1974, 'लन्च': 1975, 'खींचा।': 1976, 'कमीज़ें': 1977, 'धुलवानीं': 1978, 'अभिलाषा': 1979, 'बोतलें': 1980, 'ख़रीदीं।': 1981, 'पैरों': 1982, 'निशानों': 1983, 'दसियों': 1984, 'ईमानदार': 1985, 'मरना': 1986, 'भाग्य': 1987, 'रहो': 1988, 'ज़्यादातर': 1989, 'आएँ': 1990, 'बोलतीं': 1991, 'सिक्कों': 1992, 'इकट्ठा': 1993, 'समझिए।': 1994, 'कौपी': 1995, 'दिखाईए।': 1996, 'बोलो': 1997, 'सेइचो': 1998, 'मात्सुमोतो': 1999, 'निधन': 2000, '१९९२': 2001, 'घूमफिरकर': 2002, 'उगाई': 2003, 'इसका': 2004, 'सड़ने': 2005, 'खम्बे': 2006, 'भिड़': 2007, 'चट्टान': 2008, 'सीधी': 2009, 'घोड़ा': 2010, 'दुश्मनों': 2011, 'कुचल': 2012, 'चढ़ा।': 2013, 'बमबई': 2014, 'पटरी': 2015, 'त्याग': 2016, 'रोडिका': 2017, 'पाँचवी': 2018, 'प्रेमपूर्वक': 2019, 'हादसा': 2020, 'खाएँगे': 2021, 'देखनी': 2022, 'तोड़ो।': 2023, 'द्वीप': 2024, 'आधे': 2025, 'सड़': 2026, 'छिपाई।': 2027, 'करा': 2028, 'जवान': 2029, 'जवानी': 2030, 'न्यूयॉर्क': 2031, 'कबसे': 2032, 'किता': 2033, 'आएगी': 2034, 'विचार': 2035, 'युक्तियुक्त': 2036, 'ज्यादा': 2037, 'बास्\\u200dकेटबॉल': 2038, 'देखता।': 2039, 'भागा।': 2040, 'सुलाना': 2041, 'ट्राफ़िक': 2042, 'जाम': 2043, 'ट्रैफ़िक': 2044, 'जैम': 2045, 'देखे': 2046, 'खिलाईएगा।': 2047, 'डरती': 2048, 'चीज़': 2049, 'मिनटों': 2050, 'सोचा।': 2051, 'मुरझा': 2052, 'हुकूमत': 2053, 'रोगी': 2054, 'आखरी': 2055, 'भरी।': 2056, 'फ़िनलैंड': 2057, 'टूट': 2058, 'समझदार': 2059, 'सुलझाना': 2060, 'चौड़ी': 2061, 'दीदी': 2062, 'अनहोनी': 2063, 'दल': 2064, 'मंदी': 2065, 'बाथरूम': 2066, 'सस्ता': 2067, 'आस्ट्रेलिया': 2068, 'लड़ने': 2069, 'झगड़ने': 2070, 'हल': 2071, 'उड़ाना': 2072, 'आखें': 2073, 'गोरे': 2074, 'कोआले': 2075, 'अर्थ': 2076, 'अँडे': 2077, 'पाऊंड': 2078, 'चाबियों': 2079, 'बटुए': 2080, 'इशारा': 2081, 'फ़ोल्डर': 2082, 'दयालु': 2083, 'करलें।': 2084, 'राजनीति': 2085, 'छोड़ूँ': 2086, 'ऊँची': 2087, 'बोलिए।': 2088, 'पढ़ो।': 2089, 'आज़माती': 2090, 'पैक': 2091, 'आएगी।': 2092, 'चेतावनी': 2093, 'बैठी': 2094, 'उड़ाई।': 2095, 'उड़ा': 2096, 'भौंकता': 2097, 'धरती': 2098, 'परिक्रमा': 2099, 'जाँच': 2100, 'पड़ताल': 2101, 'शेरों': 2102, 'शिकार': 2103, 'जानें': 2104, 'लें': 2105, 'लीं।': 2106, 'पहुँचेगा।': 2107, 'चमड़े': 2108, 'उत्पाद': 2109, 'बेचती': 2110, 'पंद्राह': 2111, 'तौलिये': 2112, 'चर्च': 2113, 'सोलहवा': 2114, 'तत्पर': 2115, 'कीजिए': 2116, 'आएंगे': 2117, 'लेलो।': 2118, 'माफ़ी': 2119, 'आइडिया': 2120, 'आदर': 2121, 'मालिक': 2122, 'निकाला।': 2123, 'ऑस्ट्रेलिया': 2124, 'ऊन': 2125, 'मात्रा': 2126, 'निर्यात': 2127, 'वैश्विक': 2128, 'समझते': 2129, 'दफ़नाया': 2130, 'उठाती': 2131, 'निभाओ।': 2132, 'बदले': 2133, 'घड़ी': 2134, 'ख़राब': 2135, 'संभवतः': 2136, 'विख्यात': 2137, 'देदीजिए।': 2138, 'खरीदा।': 2139, 'घूरकर': 2140, 'उठकर': 2141, 'फ़्लैट': 2142, 'वक्त': 2143, 'बचाए।': 2144, 'ख़तरनाक': 2145, 'शब्दकोष': 2146, 'कहते': 2147, 'अटक': 2148, 'रुकी।': 2149, 'कूद': 2150, 'कूदो।': 2151, 'कौवे': 2152, 'चढ़ते': 2153, 'नाव': 2154, 'तौलिए': 2155, 'पोंछो।': 2156, 'नाचना': 2157, 'चाहोगी': 2158, 'डान्स': 2159, 'रस्सी': 2160, 'फेंक': 2161, 'विस्तृत': 2162, 'समझाई।': 2163, 'कटवाता': 2164, 'पढ़ता': 2165, 'रखकर': 2166, 'तोला।': 2167, 'नाना': 2168, 'कहूँ।': 2169, 'कामकाज': 2170, 'ख़तम': 2171, 'नहा': 2172, 'प्रेम': 2173, 'झूठ': 2174, 'बुरा': 2175, 'जहां': 2176, 'माँगने': 2177, 'लगेगी।': 2178, 'दवाईयों': 2179, 'अरे': 2180, 'पेट्रोल': 2181, 'कक्षा': 2182, 'कीजिएगा।': 2183, 'जुटाने': 2184, 'लौटाए।': 2185, 'बेची': 2186, 'जातीं': 2187, 'उतारे।': 2188, 'सम्मेलन': 2189, 'गोलीबारी': 2190, 'बजा।': 2191, 'चोटी': 2192, 'चपटी': 2193, 'गुफ़ा': 2194, 'टाई': 2195, 'सूट': 2196, 'होटल': 2197, 'ठहरे।': 2198, 'छूटते': 2199, 'लेंगे': 2200, 'बीटल्स': 2201, 'गा': 2202, 'मारने': 2203, 'झिलता': 2204, 'गिलहरी': 2205, 'डालियों': 2206, 'छुपी': 2207, 'पत्तियाँ': 2208, 'आईं।': 2209, 'इत्तेफ़ाक': 2210, 'एशिया': 2211, 'मैं।': 2212, 'मुस्कुराहट': 2213, 'प्रयोगों': 2214, 'कबूतरों': 2215, 'घंटो': 2216, 'अक्खड़पन': 2217, 'झेला': 2218, 'मूर्ख': 2219, 'योग्यता': 2220, 'खुशकिसमत': 2221, 'सफ़ल': 2222, 'फ़ौरन': 2223, 'प्रथम': 2224, 'पुरस्कार': 2225, 'संदेश': 2226, 'अनदेखा': 2227, 'रखो।': 2228, 'सुंदरता': 2229, 'मुर्गियों': 2230, 'दियें': 2231, 'कपड़ो': 2232, 'हानि': 2233, 'पहुँचाएगा।': 2234, 'बर्फ़': 2235, 'बिछी': 2236, 'हवाईजहाज़': 2237, 'फ़्रांस': 2238, 'महिलाये': 2239, 'क़त्ल': 2240, 'हत्याएँ': 2241, 'मुनाफ़े': 2242, 'बाँटा।': 2243, 'सीमा': 2244, 'सप्ताह': 2245, 'लगीं': 2246, 'लोगे': 2247, 'पढ़ो': 2248, 'रखनी': 2249, 'दरअसल': 2250, 'बर्न': 2251, 'स्विजरलैंड': 2252, 'सकतें': 2253, 'सुनी': 2254, 'डरो।': 2255, 'सहपाठियों': 2256, 'बनाना': 2257, 'बताए': 2258, 'उलटा': 2259, 'बनाए': 2260, 'रहता।': 2261, 'केस': 2262, 'छोड़ी।': 2263, 'विद्रोह': 2264, 'रोका।': 2265, 'भागता': 2266, 'बचाया।': 2267, 'पहुँचने': 2268, 'लगेगी': 2269, 'सैंडविच': 2270, 'बचे': 2271, 'नटखट': 2272, 'उतनी': 2273, 'सीढ़ियों': 2274, 'करवाई।': 2275, 'ग्रुप': 2276, 'संबंध': 2277, 'सुना': 2278, 'मश्हूर': 2279, 'अभिनेत्री': 2280, 'बर्तन': 2281, 'धोने': 2282, 'किताबों': 2283, 'जर्मनी': 2284, 'खरीदकर': 2285, 'मंगवाया': 2286, 'बजा': 2287, 'सुरक्षित': 2288, 'लौटने': 2289, 'करूँगा': 2290, 'उड़कर': 2291, 'शनिवार': 2292, 'गौल्फ़': 2293, 'लगना': 2294, 'विदेषी': 2295, 'प्रेत': 2296, 'दूसरा': 2297, 'पूछा': 2298, 'डाँवाडोल': 2299, 'असुरक्षित': 2300, 'बगीचे': 2301, 'पेशा': 2302, 'पालनी': 2303, 'गड्ढा': 2304, 'फ़ुट': 2305, 'चौड़ा': 2306, 'ताक़त': 2307, 'छीन': 2308, 'रहस्य': 2309, 'तबाह': 2310, 'सरल': 2311, 'अकलमंद': 2312, 'बुलाई।': 2313, 'चाँद': 2314, 'उतरेगा।': 2315, 'लेनीं': 2316, 'इमारतों': 2317, 'वफ़ादारी': 2318, 'लिहाज': 2319, 'उठाना': 2320, 'गवा': 2321, 'फ़्रेंच': 2322, 'ख़तरे': 2323, 'पहुँचे।': 2324, 'सुनिए': 2325, 'ईश्वर': 2326, 'स्वयं': 2327, 'रूसी': 2328, 'अज्ञान': 2329, 'आशंका': 2330, 'जताई।': 2331, 'टूटे': 2332, 'टुकड़ों': 2333, 'जोड़ा।': 2334, 'करूँ।': 2335, 'तरीके': 2336, 'खींज': 2337, 'ऑक्सफ़र्ड': 2338, 'विश्वविद्यालय': 2339, 'जानवरों': 2340, 'खर्चना': 2341, 'लौटकर': 2342, 'निर्दोष': 2343, 'ज़िंदा': 2344, 'जाएंगे।': 2345, 'कॉफ़ी।': 2346, 'दिखते': 2347, 'नौवे': 2348, 'बेबुनयाद': 2349, 'चूहे': 2350, 'बढ़ी।': 2351, 'मनुष्य': 2352, 'प्लान': 2353, 'भरेगा।': 2354, 'बिखेर': 2355, 'मंदिर': 2356, 'ब्राऊन': 2357, 'नाश्ते': 2358, 'पहनोगी': 2359, 'वादी': 2360, 'बहती': 2361, 'गहरा': 2362, 'कोहरा': 2363, 'बौद्ध': 2364, 'धर्म': 2365, 'पनीर': 2366, 'बनते': 2367, 'शास्त्रीय': 2368, 'ला': 2369, 'हड्डी': 2370, 'उसमें': 2371, 'बेसब्री': 2372, 'फटाफट': 2373, 'कंधे': 2374, 'माथे': 2375, 'पसीना': 2376, 'पोंछा।': 2377, 'माईने': 2378, 'पैमाने': 2379, 'डालने': 2380, 'रफ़तार': 2381, 'दोगे।': 2382, 'आंकरेज': 2383, 'युरोप': 2384, 'कमाई': 2385, 'वर्तमान': 2386, 'आमदनी': 2387, 'सोचो': 2388, 'टाइम': 2389, 'असभ्यता': 2390, 'सोना': 2391, '१५': 2392, 'ख़ज़ाना': 2393, 'खोदा।': 2394, 'बाएं': 2395, 'मुड़ो': 2396, 'चिंतित': 2397, 'डिनर': 2398, 'किसके': 2399, 'बच्ची': 2400, 'आयडिया': 2401, 'एहसान': 2402, 'माँगा।': 2403, 'घरवालों': 2404, 'कमाता': 2405, 'जुर्म': 2406, 'चलाने': 2407, 'नाकामयाबी': 2408, 'ख़रीदीं': 2409, 'मोहन': 2410, 'परिचित': 2411, 'सोफ़ा': 2412, 'शक़': 2413, 'युनिसायकल': 2414, 'खरीदने': 2415, 'पिछली': 2416, 'छाते': 2417, 'द्वार': 2418, 'वाक्यांश': 2419, 'ढूँढो।': 2420, 'उड़ाने': 2421, 'चादर': 2422, 'बिछाई।': 2423, 'रखती': 2424, 'अंकल': 2425, 'मामा': 2426, 'चाचा': 2427, 'ताऊजी': 2428, 'बुलाया।': 2429, 'पालने': 2430, 'मुर्झाई': 2431, 'गिरते': 2432, 'लगे': 2433, 'वाईन': 2434, 'चखकर': 2435, 'खिलाने': 2436, 'पहरा': 2437, 'गुंजाईश': 2438, 'मनाने': 2439, 'दिशाओं': 2440, 'फैले': 2441, 'कपड़ा': 2442, 'रेशमी': 2443, 'गला': 2444, 'भागे': 2445, 'आए।': 2446, 'जिनका': 2447, 'पिंक': 2448, 'ऑर्डर': 2449, 'नीले': 2450, 'कोशीश': 2451, 'रिमोट': 2452, 'टी': 2453, 'शर्ट': 2454, 'देंगे।': 2455, 'दफ़तर': 2456, 'गबन': 2457, 'निभता': 2458, 'हे': 2459, 'कहानियाँ': 2460, 'सुनाया': 2461, 'बेगुनाह': 2462, 'अम्रीकी': 2463, 'साहित्य': 2464, 'कैंचियों': 2465, 'पूछूँगा।': 2466, 'लगाऊँगा': 2467, 'दिवाई': 2468, 'चुकताऊँगा।': 2469, 'हूँगा': 2470, 'पर।': 2471, 'चमत्कार': 2472, 'दिलाती': 2473, 'महाशय': 2474, 'माने': 2475, 'पियानिस्ट': 2476, 'झूठी': 2477, 'गाल': 2478, 'निशान': 2479, 'हल्का': 2480, 'समानताएं': 2481, 'भाषाएं': 2482, 'कटाने': 2483, 'जुर्रत': 2484, 'इगज़ैम': 2485, 'रिज़ल्ट': 2486, 'गाय': 2487, 'पूज्य': 2488, 'घुसा।': 2489, 'सहने': 2490, 'पड़े': 2491, 'कीमतें': 2492, 'करनीं': 2493, 'पड़ीं।': 2494, 'महान': 2495, 'कवि': 2496, 'बल्कि': 2497, 'पांव': 2498, 'लतपत': 2499, 'नमक': 2500, 'कॉनसर्ट': 2501, 'मिलीं': 2502, 'निभाएगा।': 2503, 'अक्खड़पन': 2504, 'फ़रिश्तों': 2505, 'ग़रीबी': 2506, 'ढल': 2507, 'रहिए।': 2508, 'सका': 2509, 'पूछते': 2510, 'छोड़नी': 2511, 'इन्द्रधनुष': 2512, 'लेलिया।': 2513, 'म्युज़ियम': 2514, 'बिगड़े': 2515, 'जेल': 2516, 'देखी': 2517, 'खिसक': 2518, 'कानून': 2519, 'तोड़ोगे': 2520, 'मिलेगी।': 2521, 'सुशील': 2522, 'थूकेगा': 2523, 'पौधे': 2524, 'चुनाव': 2525, 'विरोधी': 2526, 'हरा': 2527, 'उम्मीदों': 2528, 'क़ैदियों': 2529, 'आदेश': 2530, 'तोह्फ़ा': 2531, 'पुकारते': 2532, 'सुना।': 2533, 'अच्छेपन': 2534, 'ख़रीदने': 2535, 'अजनबियों': 2536, 'ढूँढना': 2537, 'देशों': 2538, 'जागे': 2539, 'बेकरी': 2540, 'क्यूट': 2541, 'शुक्रवार': 2542, 'बूढ़ी': 2543, 'पोती': 2544, 'मुस्कुराई।': 2545, 'परिस्थिति': 2546, 'कठोर': 2547, 'कदम': 2548, 'हटा': 2549, 'ड्राईव': 2550, 'लेजाओगे': 2551, 'चित': 2552, 'पट': 2553, 'अंधेर': 2554, 'महाद्वीप': 2555, 'भेज': 2556, 'बहादुर': 2557, 'काटते': 2558, 'ताज़ा': 2559, 'जाएगी': 2560, 'तभी': 2561, 'खानी': 2562, 'चाहिएँ।': 2563, 'भुला': 2564, 'यहीं': 2565, 'करूंगी।': 2566, 'लूँ': 2567, 'लूँ।': 2568, 'लगातार': 2569, 'आएँ।': 2570, 'प्रसिद्ध': 2571, 'सड़े': 2572, 'बिल्लियाँ': 2573, 'कुत्ते।': 2574, 'क़ुतुब': 2575, 'मीनार': 2576, 'किला': 2577, 'तोदाइजी': 2578, 'बरबाद': 2579, 'ऐनक': 2580, 'होक्काईदो': 2581, 'घायल': 2582, 'कंबल': 2583, 'ढक': 2584, 'उद्देश्य': 2585, 'परिस्तिथि': 2586, 'बदतर': 2587, 'नीला': 2588, 'दौरान': 2589, 'एकसमान': 2590, 'आदमियों': 2591, 'जिसने': 2592, 'बधाईंयाँ।': 2593, 'दिक्कत': 2594, 'मर्यादा': 2595, 'संविधान': 2596, 'सुधारना': 2597, 'ताला': 2598, 'सके।': 2599, 'आँसुओं': 2600, 'बीजों': 2601, 'लेजाती': 2602, 'बादल': 2603, 'प्लैन': 2604, 'मामले': 2605, 'छानबीन': 2606, 'बिताई।': 2607, 'फ़ोटोकॉपियर': 2608, 'कागज़': 2609, 'किये': 2610, 'धरे': 2611, 'ठहराया': 2612, 'रबड़': 2613, 'उछलती': 2614, 'लचीली': 2615, 'हिस्से': 2616, 'नागरिक': 2617, 'कलाकार': 2618, 'लिखेगा': 2619, 'भेजी': 2620, 'होएगी।': 2621, 'रहोगे': 2622, 'समझाना': 2623, 'पहुँचें': 2624, 'चिल्ला': 2625, 'उठी।': 2626, 'अखबारों': 2627, 'ढेर': 2628, 'सिनेमा': 2629, 'हॉल': 2630, 'आधी': 2631, 'खुल': 2632, 'सुधारने': 2633, 'मोर': 2634, 'पूंछ': 2635, 'बिरंगी': 2636, 'पकड़कर': 2637, 'पकड़ने': 2638, 'गाली': 2639, 'पी': 2640, 'जागना': 2641, 'विलोम': 2642, 'सीटें': 2643, 'मिलेंगीं।': 2644, 'डालोगे': 2645, 'भुजाना': 2646, 'खिड़कियाँ': 2647, 'सूझी': 2648, 'कॉपीराईट': 2649, 'सोत्रों': 2650, 'जोड़ें।': 2651, 'संतुलन': 2652, 'सोचना': 2653, 'जातें': 2654, 'शाम': 2655, 'छपेगी।': 2656, 'मुझा': 2657, 'पहुँचते': 2658, 'करूँगी।': 2659, 'दबाकर': 2660, 'पहुँचाने': 2661, 'एवरेस्ट': 2662, 'शिखर': 2663, 'नें': 2664, 'रखे': 2665, 'कपों': 2666, 'डाली।': 2667, 'वॉशिंग': 2668, 'खराबी': 2669, 'क्लासरूम': 2670, 'घुसते': 2671, 'उतारा': 2672, 'एयरपोर्ट': 2673, 'फ़ैक्टरी': 2674, 'दहशत': 2675, 'फैला': 2676, 'पुलीसवाले': 2677, 'हज़ार': 2678, 'जुर्माना': 2679, 'रेस': 2680, 'जीतेगा': 2681, 'ईनाम': 2682, 'उसी': 2683, 'मगर': 2684, 'झगड़ा': 2685, 'लड़ाई': 2686, 'क': 2687, 'ख': 2688, 'ग': 2689, 'ध': 2690, 'सिखाए': 2691, 'टाँगा': 2692, 'जाऊँ।': 2693, 'बड़े': 2694, 'प्रेरणा': 2695, 'स्रोत': 2696, 'हिचकिचाएँ।': 2697, 'बताईये।': 2698, 'दवा': 2699, 'तस्कर': 2700, 'अड्डे': 2701, 'गिरफ्तार': 2702, 'वालो': 2703, 'जाओगी।': 2704, 'लड़कों': 2705, 'बास्केटबॉल': 2706, 'लौटाना': 2707, 'सदस्य': 2708, 'आत्महत्या': 2709, 'लेगा।': 2710, 'कमर': 2711, 'ब्रिटेन': 2712, '१९४७': 2713, 'प्राप्त': 2714, 'डाँटा।': 2715, 'दिए': 2716, 'कारण': 2717, 'समझना': 2718, 'नगरों': 2719, 'स्थित': 2720, 'सोचने': 2721, 'अंगूर': 2722, 'खट्टे': 2723, 'खाए': 2724, 'रहे।': 2725, 'कयोंकि': 2726, 'निकाल': 2727, 'बैक': 2728, 'ग्राहक': 2729, 'करदी।': 2730, 'प्रॉडक्ट्स': 2731, 'दिखाना': 2732, 'मिली': 2733, 'ताईवान': 2734, 'रिपोर्ट': 2735, 'सौंप': 2736, 'प्रेसीडेंट': 2737, 'चुना': 2738, 'खुलकर': 2739, 'बोलूँ': 2740, 'चाहता।': 2741, 'पार्सल': 2742, 'तैवान': 2743, 'दोस्ती': 2744, 'अड़ियल': 2745, 'वाक्यांशों': 2746, 'रटना': 2747, 'फ़्रांसीसी': 2748, 'बोलनी': 2749, 'जिसका': 2750, 'अस्तित्व': 2751, 'तुरन्त': 2752, 'अनिवार्य': 2753, 'सुधार': 2754, 'पक्ष': 2755, 'छटी': 2756, 'मंज़िल': 2757, 'थें।': 2758, 'लोकप्रिय': 2759, 'स्वेटर': 2760, 'देंगे': 2761, 'लिखकर': 2762, 'देना।': 2763, 'मलेरिया': 2764, 'बाताऊँगा।': 2765, 'बाताऊँगी।': 2766, 'यात्रा': 2767, 'कड़वी': 2768, 'डाललो।': 2769, 'थेम्स': 2770, 'ज़रूरतमंदों': 2771, 'बाँट': 2772, 'लौटाने': 2773, 'कसम': 2774, 'खालूँ।': 2775, 'जाएं': 2776, 'उत्तीर्ण': 2777, 'दोपहरभर': 2778, 'मारी।': 2779, 'सातवाँ': 2780, 'अभिलाषाओं': 2781, 'बढ़ावा': 2782, 'भूलती': 2783, 'ध्यानपूर्वक': 2784, 'सिद्धांत': 2785, 'पाई।': 2786, 'आपातकालीन': 2787, 'स्तिथि': 2788, 'मिलाना': 2789, 'प्रदूषित': 2790, 'वातावरण': 2791, 'सिवाय': 2792, 'चलाकर': 2793, 'इन्तज़ार': 2794, 'करवाया': 2795, 'अंतर्राष्ट्रीय': 2796, 'मज़बूत': 2797, 'अर्थव्यवस्था': 2798, 'आवश्यक': 2799, 'बैट': 2800, 'बॉल': 2801, 'एकसाथ': 2802, 'गर्व': 2803, 'जिसमें': 2804, 'अबसे': 2805, 'पहुँचे': 2806, 'लूँगा।': 2807, 'ग़ौर': 2808, 'दिखाऊँगा': 2809, 'भावनाओं': 2810, 'बाग': 2811, 'पुराना': 2812, 'ढूँढता': 2813, 'गिरा': 2814, 'बनवानी': 2815, 'भिजवादूँगा।': 2816, 'हेलमेट': 2817, 'मोटरसाईकल': 2818, 'बहतर': 2819, 'गंदे': 2820, 'उद्योग': 2821, 'अधिकांश': 2822, 'सदस्यों': 2823, 'बिल': 2824, 'पारित': 2825, 'एड्स': 2826, 'फैलाव': 2827, 'भयानक': 2828, 'फ्रेंच': 2829, 'फ्रांस': 2830, 'अौर': 2831, 'हिस्सो': 2832, 'पकड़नी': 2833, 'फंस': 2834, 'भीग': 2835, 'बीवा': 2836, 'बतादूँगा।': 2837, 'बहार': 2838, 'विशाल': 2839, 'हुक़्म': 2840, 'मरीज़': 2841, 'बिस्टर': 2842, 'लेटा': 2843, 'क़ातिल': 2844, 'हरासत': 2845, 'तुममें': 2846, 'सब्र': 2847, 'जाते।': 2848, 'बांध': 2849, 'ले।': 2850, 'स्थापित': 2851, 'समाचार': 2852, 'पाने': 2853, 'खोना': 2854, 'तस्वीरों': 2855, 'गोलियों': 2856, 'निगल': 2857, 'जगे': 2858, 'पीनी': 2859, 'ताज': 2860, 'महल': 2861, 'आश्चर्यों': 2862, 'पकड़ीं': 2863, 'गईं।': 2864, 'इनवेस्टमेंट': 2865, '८': 2866, 'प्रतिशत': 2867, 'चढ़ने': 2868, 'प्रदूषण': 2869, 'प्रयास': 2870, 'कोलम्बस': 2871, 'पश्चिम': 2872, 'दिशा': 2873, '१६००': 2874, 'लाया': 2875, 'डिक्शनरी': 2876, 'चलेगा।': 2877, 'मुम्बई': 2878, 'भारतीय': 2879, 'महाराष्ट्र': 2880, 'सुरक्षा': 2881, 'गिनती': 2882, 'नाकामयाब': 2883, 'ज़िंदगी': 2884, 'बीमारों': 2885, 'समर्पित': 2886, 'पहनूँ।': 2887, 'ग़रीब': 2888, 'ताकतशाली': 2889, 'अर्थतंत्रों': 2890, 'पंद्रह': 2891, 'उड़ातें': 2892, 'वस्तु': 2893, 'सूर्य': 2894, 'प्रभाव': 2895, 'असर': 2896, 'जानबूझकर': 2897, 'पहचाना': 2898, 'सावधान': 2899, 'रहेगा।': 2900, 'अधिकारियों': 2901, 'जनता': 2902, 'जलने': 2903, 'सुँघाई': 2904, 'नकली': 2905, 'हीरों': 2906, 'डूबने': 2907, 'मंजिल': 2908, 'लिपटी': 2909, 'कोने': 2910, 'खाकर': 2911, 'बड़ाई': 2912, 'मांग': 2913, 'कॉपियाँ': 2914, 'दीं': 2915, 'बकरियों': 2916, 'वेतन': 2917, 'मछवारे': 2918, 'पकड़ी': 2919, 'आकार': 2920, 'बढ़ा': 2921, 'चढ़ाकर': 2922, 'भ्रष्टाचार': 2923, 'मुक्त': 2924, 'ऊँगलियाँ': 2925, 'पाते।': 2926, 'चरित्र': 2927, 'पाऊँगा।': 2928, 'अगला': 2929, 'कम्पनियाँ': 2930, 'कटवाना': 2931, 'घूरने': 2932, 'बजाए': 2933, 'पढ़लो।': 2934, 'तम्हें': 2935, 'मुट्ठीभर': 2936, 'मूँगफलियाँ': 2937, 'लीं': 2938, 'दिवालिया': 2939, 'निकलने': 2940, 'दीजिएगा।': 2941, 'करेगा': 2942, 'पायेंगे।': 2943, 'ग़लतियों': 2944, 'डरना': 2945, 'निम्न': 2946, 'उपलब्ध': 2947, 'सेवाओं': 2948, 'सोनी': 2949, 'टुकड़ो': 2950, 'टुकड़ा': 2951, 'जुलतीं': 2952, 'निकालने': 2953, 'इनके': 2954, 'करदें': 2955, 'अभ': 2956, 'चोरों': 2957, 'दराज़ें': 2958, 'डालीं।': 2959, 'अठारह': 2960, 'चलानी': 2961, 'लाईसेंस': 2962, 'बनवालिया।': 2963, 'कैथोलिक': 2964, 'नन': 2965, 'थीं': 2966, 'करतीं': 2967, 'जार्ज': 2968, 'वाशिंगटन': 2969, 'संयुक्त': 2970, 'राष्ट्रपति': 2971, '१९५१': 2972, 'सिस्टर': 2973, 'इनाम': 2974, 'विदोश': 2975, 'सूपरमार्केट': 2976, 'रोजाने': 2977, 'जिन': 2978, 'यात्रियों': 2979, 'लोकतंत्र': 2980, 'घिनौना': 2981, 'सरकारों': 2982, 'अंदेखा': 2983, 'ट्रेफ़िक': 2984, 'हादसे': 2985, 'कीड़ों': 2986, 'परेशानी': 2987, 'जिस': 2988, 'दूसरी': 2989, 'अनुवादों': 2990, 'प्रभावित': 2991, 'दें।': 2992}\n"
     ]
    }
   ],
   "source": [
    "word2idx_outputs = tokenizer_outputs.word_index\n",
    "print('Found %s unique output tokens.' %len(word2idx_outputs))\n",
    "\n",
    "print(word2idx_outputs)"
   ]
  },
  {
   "cell_type": "code",
   "execution_count": 59,
   "metadata": {},
   "outputs": [
    {
     "name": "stdout",
     "output_type": "stream",
     "text": [
      "num_words_output: 2993\n",
      "Maximum length of target/translated text is: 26\n"
     ]
    }
   ],
   "source": [
    "# store number of output words for later. remember to add 1 since indexing starts at 1\n",
    "num_words_output = len(word2idx_outputs) + 1\n",
    "print('num_words_output:', num_words_output)\n",
    "\n",
    "# determine the maximum length output sequence\n",
    "max_len_target = max(len(s) for s in target_sequences)\n",
    "print ('Maximum length of target/translated text is:', max_len_target)"
   ]
  },
  {
   "cell_type": "markdown",
   "metadata": {},
   "source": [
    "### Pad Sequences"
   ]
  },
  {
   "cell_type": "code",
   "execution_count": 67,
   "metadata": {
    "scrolled": true
   },
   "outputs": [
    {
     "name": "stdout",
     "output_type": "stream",
     "text": [
      "encoder_inputs.shape: (2808, 22)\n",
      "encoder_inputs[0]: [   0    0    0    0    0    0    0    0    0    0    0    0    0    0\n",
      "    0    0    0    0    0    0    0 1274]\n"
     ]
    }
   ],
   "source": [
    "encoder_inputs = pad_sequences(input_sequences, maxlen=max_len_input)\n",
    "print('encoder_inputs.shape:', encoder_inputs.shape)\n",
    "print('encoder_inputs[0]:', encoder_inputs[0])"
   ]
  },
  {
   "cell_type": "code",
   "execution_count": 69,
   "metadata": {},
   "outputs": [
    {
     "name": "stdout",
     "output_type": "stream",
     "text": [
      "decoder_inputs.shape: (2808, 26)\n",
      "decoder_inputs[0]: [  2 757   0   0   0   0   0   0   0   0   0   0   0   0   0   0   0   0\n",
      "   0   0   0   0   0   0   0   0]\n"
     ]
    }
   ],
   "source": [
    "decoder_inputs = pad_sequences(target_sequences_input, maxlen=max_len_target, padding='post')\n",
    "# 26 is the maximum length of the sentence in the translated data in the training set\n",
    "print('decoder_inputs.shape:', decoder_inputs.shape)\n",
    "print('decoder_inputs[0]:', decoder_inputs[0])"
   ]
  },
  {
   "cell_type": "code",
   "execution_count": 91,
   "metadata": {},
   "outputs": [
    {
     "name": "stdout",
     "output_type": "stream",
     "text": [
      "decoder_targets.shape: (2808, 26)\n",
      "decoder_targets[0]: [757   1   0   0   0   0   0   0   0   0   0   0   0   0   0   0   0   0\n",
      "   0   0   0   0   0   0   0   0]\n"
     ]
    }
   ],
   "source": [
    "decoder_targets = pad_sequences(target_sequences, maxlen=max_len_target, padding='post')\n",
    "print('decoder_targets.shape:', decoder_targets.shape)\n",
    "print('decoder_targets[0]:', decoder_targets[0])"
   ]
  },
  {
   "cell_type": "markdown",
   "metadata": {},
   "source": [
    "### Load pre-trained word vectors - Embeddings"
   ]
  },
  {
   "cell_type": "code",
   "execution_count": 74,
   "metadata": {},
   "outputs": [
    {
     "name": "stdout",
     "output_type": "stream",
     "text": [
      "Found 400000 word vectors.\n",
      "Embedding dimensions:  (100,)\n"
     ]
    }
   ],
   "source": [
    "word2vec = {}\n",
    "# Load word vector of 100 dimensions.\n",
    "with open (os.path.join('Embeddings/glove.6B/glove.6B.%sd.txt' %EMBEDDING_DIM)) as f:\n",
    "    for line in f:\n",
    "        # split at spaces\n",
    "        values = line.split()\n",
    "        word = values[0]\n",
    "        #np.asarray Converts the input to an array.\n",
    "        vec = np.asarray(values[1:], dtype='float32')\n",
    "        word2vec[word] = vec\n",
    "        \n",
    "print('Found %s word vectors.' %len(word2vec))\n",
    "print('Embedding dimensions: ', word2vec['the'].shape)"
   ]
  },
  {
   "cell_type": "markdown",
   "metadata": {},
   "source": [
    "### Prepare Embedding matrix"
   ]
  },
  {
   "cell_type": "code",
   "execution_count": 87,
   "metadata": {},
   "outputs": [
    {
     "name": "stdout",
     "output_type": "stream",
     "text": [
      "Filling pre-trained embeddings\n",
      "num_words: 2389\n",
      "Shape of Embeddings matrix:  (2389, 100)\n"
     ]
    }
   ],
   "source": [
    "print('Filling pre-trained embeddings')\n",
    "# MAX_NUM_WORDS = 20000\n",
    "num_words = min(MAX_NUM_WORDS, len(word2idx_inputs) + 1)\n",
    "embedding_matrix = np.zeros((num_words, EMBEDDING_DIM))\n",
    "for word, i in word2idx_inputs.items():\n",
    "    if i < MAX_NUM_WORDS:\n",
    "        embedding_vector = word2vec.get(word)\n",
    "        if embedding_vector is not None:\n",
    "            # words not foun20000d in the embedding index will all be zero\n",
    "            embedding_matrix[i] = embedding_vector\n",
    "\n",
    "print('num_words:', num_words)\n",
    "# 2389 words each of 100 dimensions\n",
    "print('Shape of Embeddings matrix: ', embedding_matrix.shape)"
   ]
  },
  {
   "cell_type": "markdown",
   "metadata": {},
   "source": [
    "### Embedding layer"
   ]
  },
  {
   "cell_type": "code",
   "execution_count": 86,
   "metadata": {},
   "outputs": [],
   "source": [
    "embedding_layer = Embedding(num_words, \n",
    "                           EMBEDDING_DIM,\n",
    "                           weights = [embedding_matrix],\n",
    "                           input_length = max_len_input,\n",
    "                           #trainable=true\n",
    "                           )"
   ]
  },
  {
   "cell_type": "code",
   "execution_count": 92,
   "metadata": {},
   "outputs": [],
   "source": [
    "# create targets, since we cannot use sparse\n",
    "# categorical cross entropy when we have sequences\n",
    "decoder_targets_one_hot = np.zeros(\n",
    "  (\n",
    "    len(input_texts),\n",
    "    max_len_target,\n",
    "    num_words_output\n",
    "  ),\n",
    "  dtype='float32'\n",
    ")\n",
    "\n",
    "# assign the values\n",
    "for i, d in enumerate(decoder_targets):\n",
    "  for t, word in enumerate(d):\n",
    "    decoder_targets_one_hot[i, t, word] = 1"
   ]
  },
  {
   "cell_type": "markdown",
   "metadata": {},
   "source": [
    "### Build Encoder-decoder LSTM model"
   ]
  },
  {
   "cell_type": "code",
   "execution_count": 101,
   "metadata": {},
   "outputs": [
    {
     "name": "stdout",
     "output_type": "stream",
     "text": [
      "num_words_output: 2993\n"
     ]
    }
   ],
   "source": [
    "encoder_inputs_placeholder = Input(shape=(max_len_input, ))\n",
    "x = embedding_layer(encoder_inputs_placeholder)\n",
    "\n",
    "encoder_lstm = LSTM(\n",
    "    LATENT_DIM,\n",
    "    return_state=True,\n",
    "    dropout=0.5\n",
    ")\n",
    "\n",
    "encoder_outputs, h, c = encoder_lstm(x)\n",
    "\n",
    "# keep only the states to pass into decoder\n",
    "encoder_states = [h,c]\n",
    "\n",
    "# setup the decoder, using [h,c] as initial state\n",
    "decoder_inputs_placeholder = Input(shape=(max_len_target, ))\n",
    "\n",
    "# this word embedding will not use pre-trained vectors although we could\n",
    "decoder_embedding_layer = Embedding(num_words_output, LATENT_DIM)\n",
    "decoder_inputs_x = decoder_embedding_layer(decoder_inputs_placeholder)\n",
    "\n",
    "decoder_lstm = LSTM(\n",
    "        LATENT_DIM, \n",
    "        return_sequences=True,\n",
    "        return_state=True,\n",
    "        # dropout = 0.5\n",
    "    )\n",
    "\n",
    "decoder_outputs, _, _ = decoder_lstm(\n",
    "                          decoder_inputs_x,\n",
    "                          initial_state=encoder_states\n",
    "                        )\n",
    "\n",
    "print('num_words_output:', num_words_output)\n",
    "\n",
    "# Final dense layers\n",
    "decoder_dense  = Dense(num_words_output, activation='softmax')\n",
    "decoder_outputs = decoder_dense(decoder_outputs)\n",
    "\n",
    "# Create the model object\n",
    "model = Model([encoder_inputs_placeholder, decoder_inputs_placeholder], decoder_outputs)"
   ]
  },
  {
   "cell_type": "markdown",
   "metadata": {},
   "source": [
    "### Compile the model"
   ]
  },
  {
   "cell_type": "code",
   "execution_count": 102,
   "metadata": {},
   "outputs": [
    {
     "name": "stderr",
     "output_type": "stream",
     "text": [
      "W0923 11:31:13.260341 139675065751360 deprecation_wrapper.py:119] From /home/agoel/anaconda3/envs/ML/lib/python3.7/site-packages/keras/optimizers.py:790: The name tf.train.Optimizer is deprecated. Please use tf.compat.v1.train.Optimizer instead.\n",
      "\n"
     ]
    }
   ],
   "source": [
    "model.compile(\n",
    "        optimizer = 'rmsprop',\n",
    "        loss='categorical_crossentropy',\n",
    "        metrics=['acc'])"
   ]
  },
  {
   "cell_type": "code",
   "execution_count": null,
   "metadata": {},
   "outputs": [],
   "source": [
    "model.fit(\n",
    "    [encoder_inputs, decoder_inputs], decoder_targets_one_hot,\n",
    "    batch_size=BATCH_SIZE,\n",
    "    \n",
    "    \n",
    ")"
   ]
  },
  {
   "cell_type": "markdown",
   "metadata": {},
   "source": [
    "### Training Model"
   ]
  },
  {
   "cell_type": "markdown",
   "metadata": {},
   "source": [
    "### Visualize accuracy and loss curves"
   ]
  },
  {
   "cell_type": "code",
   "execution_count": null,
   "metadata": {},
   "outputs": [],
   "source": []
  },
  {
   "cell_type": "code",
   "execution_count": null,
   "metadata": {},
   "outputs": [],
   "source": []
  }
 ],
 "metadata": {
  "kernelspec": {
   "display_name": "Python 3",
   "language": "python",
   "name": "python3"
  },
  "language_info": {
   "codemirror_mode": {
    "name": "ipython",
    "version": 3
   },
   "file_extension": ".py",
   "mimetype": "text/x-python",
   "name": "python",
   "nbconvert_exporter": "python",
   "pygments_lexer": "ipython3",
   "version": "3.7.3"
  }
 },
 "nbformat": 4,
 "nbformat_minor": 2
}
